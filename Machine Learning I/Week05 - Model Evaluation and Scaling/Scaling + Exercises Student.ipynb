{
 "cells": [
  {
   "cell_type": "markdown",
   "id": "70a26c72",
   "metadata": {},
   "source": [
    "### This notebook is destined to two things: feature scaling, and some miscellaneous exercises\n",
    "\n",
    "* [<b>1. Feature scaling</b>](#1st-bullet)<br>   \n",
    "* [<b>2. Exercises</b>](#2nd-bullet)<br>\n",
    "\n",
    "Before anything else, let's import the libraries needed for today\n",
    "\n"
   ]
  },
  {
   "cell_type": "code",
   "execution_count": 1,
   "id": "84da6e28",
   "metadata": {},
   "outputs": [],
   "source": [
    "import numpy as np\n",
    "import pandas as pd\n",
    "import matplotlib.pyplot as plt\n",
    "import seaborn as sns\n",
    "# data partition\n",
    "from sklearn.model_selection import train_test_split\n",
    "\n",
    "#scaling methods\n",
    "# minmax\n",
    "# standard\n",
    "# robust\n",
    "from sklearn.preprocessing import StandardScaler, MinMaxScaler, RobustScaler\n",
    "\n",
    "# model\n",
    "from sklearn.linear_model import LogisticRegression\n",
    "\n",
    "# metric\n",
    "from sklearn.metrics import f1_score, classification_report\n",
    "\n",
    "import warnings\n",
    "warnings.filterwarnings('ignore')"
   ]
  },
  {
   "cell_type": "markdown",
   "id": "f4e30849",
   "metadata": {},
   "source": [
    "<a class=\"anchor\" id=\"1st-bullet\">\n",
    "    \n",
    "## 1. Feature scaling\n",
    "\n",
    "</a>\n",
    "    \n",
    "Feature Scaling is a technique to standardize the independent features present in the data in a fixed range. It is performed during the data pre-processing to handle highly varying magnitudes or values or units.<br>\n",
    "If feature scaling is not done, then a machine learning algorithm tends to weigh greater values higher and consider smaller values as the lower values, regardless of the unit of the values. The impact of scaling on prediction quality isn't always positive, but it's a very important step to take before feature selection.\n",
    "\n",
    "    \n",
    "\n",
    "\n"
   ]
  },
  {
   "cell_type": "markdown",
   "id": "ff2e7e08",
   "metadata": {},
   "source": [
    "\n",
    "### 1.1. Import the dataset\n",
    "\n",
    "<b>1. Read the dataset from ``Datasets/winequality.csv``. Using the method `head()`, check the first 6 rows of the dataset.</b>"
   ]
  },
  {
   "cell_type": "code",
   "execution_count": 2,
   "id": "8fb00e6b",
   "metadata": {},
   "outputs": [
    {
     "data": {
      "text/html": [
       "<div>\n",
       "<style scoped>\n",
       "    .dataframe tbody tr th:only-of-type {\n",
       "        vertical-align: middle;\n",
       "    }\n",
       "\n",
       "    .dataframe tbody tr th {\n",
       "        vertical-align: top;\n",
       "    }\n",
       "\n",
       "    .dataframe thead th {\n",
       "        text-align: right;\n",
       "    }\n",
       "</style>\n",
       "<table border=\"1\" class=\"dataframe\">\n",
       "  <thead>\n",
       "    <tr style=\"text-align: right;\">\n",
       "      <th></th>\n",
       "      <th>fixed acidity</th>\n",
       "      <th>volatile acidity</th>\n",
       "      <th>citric acid</th>\n",
       "      <th>residual sugar</th>\n",
       "      <th>chlorides</th>\n",
       "      <th>free sulfur dioxide</th>\n",
       "      <th>total sulfur dioxide</th>\n",
       "      <th>density</th>\n",
       "      <th>pH</th>\n",
       "      <th>sulphates</th>\n",
       "      <th>alcohol</th>\n",
       "      <th>quality</th>\n",
       "    </tr>\n",
       "  </thead>\n",
       "  <tbody>\n",
       "    <tr>\n",
       "      <th>0</th>\n",
       "      <td>7.0</td>\n",
       "      <td>0.27</td>\n",
       "      <td>0.36</td>\n",
       "      <td>20.7</td>\n",
       "      <td>0.045</td>\n",
       "      <td>45.0</td>\n",
       "      <td>170.0</td>\n",
       "      <td>1.0010</td>\n",
       "      <td>3.00</td>\n",
       "      <td>0.45</td>\n",
       "      <td>8.8</td>\n",
       "      <td>0</td>\n",
       "    </tr>\n",
       "    <tr>\n",
       "      <th>1</th>\n",
       "      <td>6.3</td>\n",
       "      <td>0.30</td>\n",
       "      <td>0.34</td>\n",
       "      <td>1.6</td>\n",
       "      <td>0.049</td>\n",
       "      <td>14.0</td>\n",
       "      <td>132.0</td>\n",
       "      <td>0.9940</td>\n",
       "      <td>3.30</td>\n",
       "      <td>0.49</td>\n",
       "      <td>9.5</td>\n",
       "      <td>0</td>\n",
       "    </tr>\n",
       "    <tr>\n",
       "      <th>2</th>\n",
       "      <td>8.1</td>\n",
       "      <td>0.28</td>\n",
       "      <td>0.40</td>\n",
       "      <td>6.9</td>\n",
       "      <td>0.050</td>\n",
       "      <td>30.0</td>\n",
       "      <td>97.0</td>\n",
       "      <td>0.9951</td>\n",
       "      <td>3.26</td>\n",
       "      <td>0.44</td>\n",
       "      <td>10.1</td>\n",
       "      <td>0</td>\n",
       "    </tr>\n",
       "    <tr>\n",
       "      <th>3</th>\n",
       "      <td>7.2</td>\n",
       "      <td>0.23</td>\n",
       "      <td>0.32</td>\n",
       "      <td>8.5</td>\n",
       "      <td>0.058</td>\n",
       "      <td>47.0</td>\n",
       "      <td>186.0</td>\n",
       "      <td>0.9956</td>\n",
       "      <td>3.19</td>\n",
       "      <td>0.40</td>\n",
       "      <td>9.9</td>\n",
       "      <td>0</td>\n",
       "    </tr>\n",
       "    <tr>\n",
       "      <th>4</th>\n",
       "      <td>7.2</td>\n",
       "      <td>0.23</td>\n",
       "      <td>0.32</td>\n",
       "      <td>8.5</td>\n",
       "      <td>0.058</td>\n",
       "      <td>47.0</td>\n",
       "      <td>186.0</td>\n",
       "      <td>0.9956</td>\n",
       "      <td>3.19</td>\n",
       "      <td>0.40</td>\n",
       "      <td>9.9</td>\n",
       "      <td>0</td>\n",
       "    </tr>\n",
       "  </tbody>\n",
       "</table>\n",
       "</div>"
      ],
      "text/plain": [
       "   fixed acidity  volatile acidity  citric acid  residual sugar  chlorides  \\\n",
       "0            7.0              0.27         0.36            20.7      0.045   \n",
       "1            6.3              0.30         0.34             1.6      0.049   \n",
       "2            8.1              0.28         0.40             6.9      0.050   \n",
       "3            7.2              0.23         0.32             8.5      0.058   \n",
       "4            7.2              0.23         0.32             8.5      0.058   \n",
       "\n",
       "   free sulfur dioxide  total sulfur dioxide  density    pH  sulphates  \\\n",
       "0                 45.0                 170.0   1.0010  3.00       0.45   \n",
       "1                 14.0                 132.0   0.9940  3.30       0.49   \n",
       "2                 30.0                  97.0   0.9951  3.26       0.44   \n",
       "3                 47.0                 186.0   0.9956  3.19       0.40   \n",
       "4                 47.0                 186.0   0.9956  3.19       0.40   \n",
       "\n",
       "   alcohol  quality  \n",
       "0      8.8        0  \n",
       "1      9.5        0  \n",
       "2     10.1        0  \n",
       "3      9.9        0  \n",
       "4      9.9        0  "
      ]
     },
     "execution_count": 2,
     "metadata": {},
     "output_type": "execute_result"
    }
   ],
   "source": [
    "df = pd.read_csv(\"Datasets/winequality.csv\")\n",
    "df.head()"
   ]
  },
  {
   "cell_type": "markdown",
   "id": "f23615d5",
   "metadata": {},
   "source": [
    "\n",
    "\n",
    "### 1.2. Data pre-processing, data partition and scaling\n",
    "\n",
    "<b>2. Check if you have any missing values in the dataset. You can use the method `info()`from pandas.</b>\n"
   ]
  },
  {
   "cell_type": "code",
   "execution_count": 3,
   "id": "8d86c423",
   "metadata": {},
   "outputs": [
    {
     "name": "stdout",
     "output_type": "stream",
     "text": [
      "<class 'pandas.core.frame.DataFrame'>\n",
      "RangeIndex: 3920 entries, 0 to 3919\n",
      "Data columns (total 12 columns):\n",
      " #   Column                Non-Null Count  Dtype  \n",
      "---  ------                --------------  -----  \n",
      " 0   fixed acidity         3920 non-null   float64\n",
      " 1   volatile acidity      3920 non-null   float64\n",
      " 2   citric acid           3920 non-null   float64\n",
      " 3   residual sugar        3920 non-null   float64\n",
      " 4   chlorides             3920 non-null   float64\n",
      " 5   free sulfur dioxide   3920 non-null   float64\n",
      " 6   total sulfur dioxide  3920 non-null   float64\n",
      " 7   density               3920 non-null   float64\n",
      " 8   pH                    3920 non-null   float64\n",
      " 9   sulphates             3920 non-null   float64\n",
      " 10  alcohol               3920 non-null   float64\n",
      " 11  quality               3920 non-null   int64  \n",
      "dtypes: float64(11), int64(1)\n",
      "memory usage: 367.6 KB\n"
     ]
    }
   ],
   "source": [
    "df.info()"
   ]
  },
  {
   "cell_type": "markdown",
   "id": "73b4c393",
   "metadata": {},
   "source": [
    "<b>3.1 Define the independent variables as `X` and the dependent variable ('quality') as `y`. </b>"
   ]
  },
  {
   "cell_type": "code",
   "execution_count": 4,
   "id": "6d6b3ced-d9be-440b-9cbe-db5c572ba856",
   "metadata": {},
   "outputs": [],
   "source": [
    "X = df.iloc[:, :-1]\n",
    "y = df.quality\n"
   ]
  },
  {
   "cell_type": "code",
   "execution_count": 5,
   "id": "ee113007-0f0a-4743-8d9e-bbcdc9218713",
   "metadata": {},
   "outputs": [
    {
     "data": {
      "text/html": [
       "<div>\n",
       "<style scoped>\n",
       "    .dataframe tbody tr th:only-of-type {\n",
       "        vertical-align: middle;\n",
       "    }\n",
       "\n",
       "    .dataframe tbody tr th {\n",
       "        vertical-align: top;\n",
       "    }\n",
       "\n",
       "    .dataframe thead th {\n",
       "        text-align: right;\n",
       "    }\n",
       "</style>\n",
       "<table border=\"1\" class=\"dataframe\">\n",
       "  <thead>\n",
       "    <tr style=\"text-align: right;\">\n",
       "      <th></th>\n",
       "      <th>fixed acidity</th>\n",
       "      <th>volatile acidity</th>\n",
       "      <th>citric acid</th>\n",
       "      <th>residual sugar</th>\n",
       "      <th>chlorides</th>\n",
       "      <th>free sulfur dioxide</th>\n",
       "      <th>total sulfur dioxide</th>\n",
       "      <th>density</th>\n",
       "      <th>pH</th>\n",
       "      <th>sulphates</th>\n",
       "      <th>alcohol</th>\n",
       "    </tr>\n",
       "  </thead>\n",
       "  <tbody>\n",
       "    <tr>\n",
       "      <th>0</th>\n",
       "      <td>7.0</td>\n",
       "      <td>0.270</td>\n",
       "      <td>0.36</td>\n",
       "      <td>20.7</td>\n",
       "      <td>0.045</td>\n",
       "      <td>45.0</td>\n",
       "      <td>170.0</td>\n",
       "      <td>1.00100</td>\n",
       "      <td>3.00</td>\n",
       "      <td>0.45</td>\n",
       "      <td>8.8</td>\n",
       "    </tr>\n",
       "    <tr>\n",
       "      <th>1</th>\n",
       "      <td>6.3</td>\n",
       "      <td>0.300</td>\n",
       "      <td>0.34</td>\n",
       "      <td>1.6</td>\n",
       "      <td>0.049</td>\n",
       "      <td>14.0</td>\n",
       "      <td>132.0</td>\n",
       "      <td>0.99400</td>\n",
       "      <td>3.30</td>\n",
       "      <td>0.49</td>\n",
       "      <td>9.5</td>\n",
       "    </tr>\n",
       "    <tr>\n",
       "      <th>2</th>\n",
       "      <td>8.1</td>\n",
       "      <td>0.280</td>\n",
       "      <td>0.40</td>\n",
       "      <td>6.9</td>\n",
       "      <td>0.050</td>\n",
       "      <td>30.0</td>\n",
       "      <td>97.0</td>\n",
       "      <td>0.99510</td>\n",
       "      <td>3.26</td>\n",
       "      <td>0.44</td>\n",
       "      <td>10.1</td>\n",
       "    </tr>\n",
       "    <tr>\n",
       "      <th>3</th>\n",
       "      <td>7.2</td>\n",
       "      <td>0.230</td>\n",
       "      <td>0.32</td>\n",
       "      <td>8.5</td>\n",
       "      <td>0.058</td>\n",
       "      <td>47.0</td>\n",
       "      <td>186.0</td>\n",
       "      <td>0.99560</td>\n",
       "      <td>3.19</td>\n",
       "      <td>0.40</td>\n",
       "      <td>9.9</td>\n",
       "    </tr>\n",
       "    <tr>\n",
       "      <th>4</th>\n",
       "      <td>7.2</td>\n",
       "      <td>0.230</td>\n",
       "      <td>0.32</td>\n",
       "      <td>8.5</td>\n",
       "      <td>0.058</td>\n",
       "      <td>47.0</td>\n",
       "      <td>186.0</td>\n",
       "      <td>0.99560</td>\n",
       "      <td>3.19</td>\n",
       "      <td>0.40</td>\n",
       "      <td>9.9</td>\n",
       "    </tr>\n",
       "    <tr>\n",
       "      <th>...</th>\n",
       "      <td>...</td>\n",
       "      <td>...</td>\n",
       "      <td>...</td>\n",
       "      <td>...</td>\n",
       "      <td>...</td>\n",
       "      <td>...</td>\n",
       "      <td>...</td>\n",
       "      <td>...</td>\n",
       "      <td>...</td>\n",
       "      <td>...</td>\n",
       "      <td>...</td>\n",
       "    </tr>\n",
       "    <tr>\n",
       "      <th>3915</th>\n",
       "      <td>4.7</td>\n",
       "      <td>0.455</td>\n",
       "      <td>0.18</td>\n",
       "      <td>1.9</td>\n",
       "      <td>0.036</td>\n",
       "      <td>33.0</td>\n",
       "      <td>106.0</td>\n",
       "      <td>0.98746</td>\n",
       "      <td>3.21</td>\n",
       "      <td>0.83</td>\n",
       "      <td>14.0</td>\n",
       "    </tr>\n",
       "    <tr>\n",
       "      <th>3916</th>\n",
       "      <td>7.1</td>\n",
       "      <td>0.370</td>\n",
       "      <td>0.30</td>\n",
       "      <td>6.2</td>\n",
       "      <td>0.040</td>\n",
       "      <td>49.0</td>\n",
       "      <td>139.0</td>\n",
       "      <td>0.99021</td>\n",
       "      <td>3.17</td>\n",
       "      <td>0.27</td>\n",
       "      <td>13.6</td>\n",
       "    </tr>\n",
       "    <tr>\n",
       "      <th>3917</th>\n",
       "      <td>6.2</td>\n",
       "      <td>0.280</td>\n",
       "      <td>0.51</td>\n",
       "      <td>7.9</td>\n",
       "      <td>0.056</td>\n",
       "      <td>49.0</td>\n",
       "      <td>206.0</td>\n",
       "      <td>0.99560</td>\n",
       "      <td>3.18</td>\n",
       "      <td>0.52</td>\n",
       "      <td>9.4</td>\n",
       "    </tr>\n",
       "    <tr>\n",
       "      <th>3918</th>\n",
       "      <td>6.4</td>\n",
       "      <td>0.350</td>\n",
       "      <td>0.28</td>\n",
       "      <td>1.6</td>\n",
       "      <td>0.037</td>\n",
       "      <td>31.0</td>\n",
       "      <td>113.0</td>\n",
       "      <td>0.98779</td>\n",
       "      <td>3.12</td>\n",
       "      <td>0.40</td>\n",
       "      <td>14.2</td>\n",
       "    </tr>\n",
       "    <tr>\n",
       "      <th>3919</th>\n",
       "      <td>6.6</td>\n",
       "      <td>0.310</td>\n",
       "      <td>0.28</td>\n",
       "      <td>1.4</td>\n",
       "      <td>0.035</td>\n",
       "      <td>28.0</td>\n",
       "      <td>107.0</td>\n",
       "      <td>0.98836</td>\n",
       "      <td>3.00</td>\n",
       "      <td>0.40</td>\n",
       "      <td>13.2</td>\n",
       "    </tr>\n",
       "  </tbody>\n",
       "</table>\n",
       "<p>3920 rows × 11 columns</p>\n",
       "</div>"
      ],
      "text/plain": [
       "      fixed acidity  volatile acidity  citric acid  residual sugar  chlorides  \\\n",
       "0               7.0             0.270         0.36            20.7      0.045   \n",
       "1               6.3             0.300         0.34             1.6      0.049   \n",
       "2               8.1             0.280         0.40             6.9      0.050   \n",
       "3               7.2             0.230         0.32             8.5      0.058   \n",
       "4               7.2             0.230         0.32             8.5      0.058   \n",
       "...             ...               ...          ...             ...        ...   \n",
       "3915            4.7             0.455         0.18             1.9      0.036   \n",
       "3916            7.1             0.370         0.30             6.2      0.040   \n",
       "3917            6.2             0.280         0.51             7.9      0.056   \n",
       "3918            6.4             0.350         0.28             1.6      0.037   \n",
       "3919            6.6             0.310         0.28             1.4      0.035   \n",
       "\n",
       "      free sulfur dioxide  total sulfur dioxide  density    pH  sulphates  \\\n",
       "0                    45.0                 170.0  1.00100  3.00       0.45   \n",
       "1                    14.0                 132.0  0.99400  3.30       0.49   \n",
       "2                    30.0                  97.0  0.99510  3.26       0.44   \n",
       "3                    47.0                 186.0  0.99560  3.19       0.40   \n",
       "4                    47.0                 186.0  0.99560  3.19       0.40   \n",
       "...                   ...                   ...      ...   ...        ...   \n",
       "3915                 33.0                 106.0  0.98746  3.21       0.83   \n",
       "3916                 49.0                 139.0  0.99021  3.17       0.27   \n",
       "3917                 49.0                 206.0  0.99560  3.18       0.52   \n",
       "3918                 31.0                 113.0  0.98779  3.12       0.40   \n",
       "3919                 28.0                 107.0  0.98836  3.00       0.40   \n",
       "\n",
       "      alcohol  \n",
       "0         8.8  \n",
       "1         9.5  \n",
       "2        10.1  \n",
       "3         9.9  \n",
       "4         9.9  \n",
       "...       ...  \n",
       "3915     14.0  \n",
       "3916     13.6  \n",
       "3917      9.4  \n",
       "3918     14.2  \n",
       "3919     13.2  \n",
       "\n",
       "[3920 rows x 11 columns]"
      ]
     },
     "execution_count": 5,
     "metadata": {},
     "output_type": "execute_result"
    }
   ],
   "source": [
    "X"
   ]
  },
  {
   "cell_type": "code",
   "execution_count": 6,
   "id": "a2ccb685-7786-4516-99f3-515008ed2249",
   "metadata": {},
   "outputs": [
    {
     "data": {
      "text/plain": [
       "0       0\n",
       "1       0\n",
       "2       0\n",
       "3       0\n",
       "4       0\n",
       "       ..\n",
       "3915    1\n",
       "3916    0\n",
       "3917    0\n",
       "3918    1\n",
       "3919    0\n",
       "Name: quality, Length: 3920, dtype: int64"
      ]
     },
     "execution_count": 6,
     "metadata": {},
     "output_type": "execute_result"
    }
   ],
   "source": [
    "y"
   ]
  },
  {
   "cell_type": "markdown",
   "id": "75c32a45",
   "metadata": {},
   "source": [
    "<b>4. By using the method `train_test_split()` from sklearn.model_selection, split your dataset into train(70%) and validation(30%).<br></b>\n"
   ]
  },
  {
   "cell_type": "code",
   "execution_count": 7,
   "id": "f2762632",
   "metadata": {},
   "outputs": [],
   "source": [
    "X_train, X_test, y_train, y_test = train_test_split(\n",
    "    X, y, test_size = .30, \n",
    "    random_state=42,\n",
    "    stratify=y, shuffle=True\n",
    ")"
   ]
  },
  {
   "cell_type": "markdown",
   "id": "8fadf14d",
   "metadata": {},
   "source": [
    "\n",
    "### 1.3. Feature scaling\n",
    "\n",
    "\n",
    "We will try three different scalers:\n",
    "* StandardScaler - standardizes each feature by removing the mean and scaling to unit variance\n",
    "* MinMaxScaler - scales each feature to a given range, defaults to [0,1]\n",
    "* RobustScaler - scales each feature by removing the median and scaling according to a range between 2 quantiles that are equally distant from the median. More resistant to outliers<br>\n",
    "\n",
    "All of these scalers were already imported above\n",
    "\n",
    "**Standard Scaler:**\n",
    "$$z=\\frac{x - \\bar{x}}{\\sqrt{var(x)}} = \\frac{x-\\mu}{\\sigma}$$\n",
    " **x** - original sample<br>**z** - scaled sample\n",
    " \n",
    "sklearn documentation: <a href = 'https://scikit-learn.org/stable/modules/generated/sklearn.preprocessing.StandardScaler.html'>sklearn.model_selection.StandardScaler()</a><br><br>\n",
    "<b>5. Use the StandardScaler from sklearn.</b>"
   ]
  },
  {
   "cell_type": "code",
   "execution_count": 8,
   "id": "e30adc02",
   "metadata": {},
   "outputs": [],
   "source": [
    "st_scaler = StandardScaler().fit(X_train)"
   ]
  },
  {
   "cell_type": "code",
   "execution_count": 9,
   "id": "a4d501ea",
   "metadata": {},
   "outputs": [
    {
     "data": {
      "text/html": [
       "<div>\n",
       "<style scoped>\n",
       "    .dataframe tbody tr th:only-of-type {\n",
       "        vertical-align: middle;\n",
       "    }\n",
       "\n",
       "    .dataframe tbody tr th {\n",
       "        vertical-align: top;\n",
       "    }\n",
       "\n",
       "    .dataframe thead th {\n",
       "        text-align: right;\n",
       "    }\n",
       "</style>\n",
       "<table border=\"1\" class=\"dataframe\">\n",
       "  <thead>\n",
       "    <tr style=\"text-align: right;\">\n",
       "      <th></th>\n",
       "      <th>fixed acidity</th>\n",
       "      <th>volatile acidity</th>\n",
       "      <th>citric acid</th>\n",
       "      <th>residual sugar</th>\n",
       "      <th>chlorides</th>\n",
       "      <th>free sulfur dioxide</th>\n",
       "      <th>total sulfur dioxide</th>\n",
       "      <th>density</th>\n",
       "      <th>pH</th>\n",
       "      <th>sulphates</th>\n",
       "      <th>alcohol</th>\n",
       "    </tr>\n",
       "  </thead>\n",
       "  <tbody>\n",
       "    <tr>\n",
       "      <th>3053</th>\n",
       "      <td>0.766370</td>\n",
       "      <td>-1.043375</td>\n",
       "      <td>0.165112</td>\n",
       "      <td>-0.353689</td>\n",
       "      <td>-0.156217</td>\n",
       "      <td>-0.557709</td>\n",
       "      <td>-0.886727</td>\n",
       "      <td>0.027667</td>\n",
       "      <td>-0.671238</td>\n",
       "      <td>-0.158370</td>\n",
       "      <td>-0.781943</td>\n",
       "    </tr>\n",
       "    <tr>\n",
       "      <th>480</th>\n",
       "      <td>-0.303485</td>\n",
       "      <td>1.952252</td>\n",
       "      <td>-0.001090</td>\n",
       "      <td>0.496596</td>\n",
       "      <td>-0.109552</td>\n",
       "      <td>-0.261668</td>\n",
       "      <td>0.749566</td>\n",
       "      <td>0.729478</td>\n",
       "      <td>0.175033</td>\n",
       "      <td>0.957223</td>\n",
       "      <td>-1.027910</td>\n",
       "    </tr>\n",
       "    <tr>\n",
       "      <th>1789</th>\n",
       "      <td>1.004116</td>\n",
       "      <td>-0.743812</td>\n",
       "      <td>-0.832101</td>\n",
       "      <td>-0.914104</td>\n",
       "      <td>-0.902845</td>\n",
       "      <td>-0.557709</td>\n",
       "      <td>1.146951</td>\n",
       "      <td>-1.049761</td>\n",
       "      <td>-0.736335</td>\n",
       "      <td>2.158630</td>\n",
       "      <td>1.349770</td>\n",
       "    </tr>\n",
       "  </tbody>\n",
       "</table>\n",
       "</div>"
      ],
      "text/plain": [
       "      fixed acidity  volatile acidity  citric acid  residual sugar  chlorides  \\\n",
       "3053       0.766370         -1.043375     0.165112       -0.353689  -0.156217   \n",
       "480       -0.303485          1.952252    -0.001090        0.496596  -0.109552   \n",
       "1789       1.004116         -0.743812    -0.832101       -0.914104  -0.902845   \n",
       "\n",
       "      free sulfur dioxide  total sulfur dioxide   density        pH  \\\n",
       "3053            -0.557709             -0.886727  0.027667 -0.671238   \n",
       "480             -0.261668              0.749566  0.729478  0.175033   \n",
       "1789            -0.557709              1.146951 -1.049761 -0.736335   \n",
       "\n",
       "      sulphates   alcohol  \n",
       "3053  -0.158370 -0.781943  \n",
       "480    0.957223 -1.027910  \n",
       "1789   2.158630  1.349770  "
      ]
     },
     "execution_count": 9,
     "metadata": {},
     "output_type": "execute_result"
    }
   ],
   "source": [
    "X_train_scl_st = st_scaler.transform(X_train) # this will return an array\n",
    "# Convert the array to a pandas dataframe\n",
    "X_train_scl_st = pd.DataFrame(X_train_scl_st, columns = X_train.columns).set_index(X_train.index)\n",
    "X_train_scl_st.head(3)"
   ]
  },
  {
   "cell_type": "markdown",
   "id": "403516a0",
   "metadata": {},
   "source": [
    "<b>6. Using the same scaler, scale the numerical validation data.</b>\n"
   ]
  },
  {
   "cell_type": "markdown",
   "id": "d9f558eb-9f2d-419f-8e83-9b0c82fde6f5",
   "metadata": {},
   "source": [
    "Note: The scaling should only consider the training data. In that way, we are going to use the values of the training dataset to scale also the validation dataset."
   ]
  },
  {
   "cell_type": "code",
   "execution_count": 10,
   "id": "88c8fe9a",
   "metadata": {},
   "outputs": [
    {
     "data": {
      "text/html": [
       "<div>\n",
       "<style scoped>\n",
       "    .dataframe tbody tr th:only-of-type {\n",
       "        vertical-align: middle;\n",
       "    }\n",
       "\n",
       "    .dataframe tbody tr th {\n",
       "        vertical-align: top;\n",
       "    }\n",
       "\n",
       "    .dataframe thead th {\n",
       "        text-align: right;\n",
       "    }\n",
       "</style>\n",
       "<table border=\"1\" class=\"dataframe\">\n",
       "  <thead>\n",
       "    <tr style=\"text-align: right;\">\n",
       "      <th></th>\n",
       "      <th>fixed acidity</th>\n",
       "      <th>volatile acidity</th>\n",
       "      <th>citric acid</th>\n",
       "      <th>residual sugar</th>\n",
       "      <th>chlorides</th>\n",
       "      <th>free sulfur dioxide</th>\n",
       "      <th>total sulfur dioxide</th>\n",
       "      <th>density</th>\n",
       "      <th>pH</th>\n",
       "      <th>sulphates</th>\n",
       "      <th>alcohol</th>\n",
       "    </tr>\n",
       "  </thead>\n",
       "  <tbody>\n",
       "    <tr>\n",
       "      <th>808</th>\n",
       "      <td>-1.135595</td>\n",
       "      <td>1.153418</td>\n",
       "      <td>-1.413809</td>\n",
       "      <td>1.095661</td>\n",
       "      <td>0.030441</td>\n",
       "      <td>1.751410</td>\n",
       "      <td>2.479361</td>\n",
       "      <td>1.124864</td>\n",
       "      <td>-0.280651</td>\n",
       "      <td>-0.930703</td>\n",
       "      <td>-1.191888</td>\n",
       "    </tr>\n",
       "    <tr>\n",
       "      <th>2548</th>\n",
       "      <td>-0.778976</td>\n",
       "      <td>-0.144687</td>\n",
       "      <td>0.663719</td>\n",
       "      <td>0.148752</td>\n",
       "      <td>-0.016224</td>\n",
       "      <td>1.573785</td>\n",
       "      <td>1.614463</td>\n",
       "      <td>0.413168</td>\n",
       "      <td>0.044838</td>\n",
       "      <td>0.356519</td>\n",
       "      <td>-0.781943</td>\n",
       "    </tr>\n",
       "    <tr>\n",
       "      <th>3215</th>\n",
       "      <td>0.172006</td>\n",
       "      <td>-1.342937</td>\n",
       "      <td>-0.084191</td>\n",
       "      <td>-1.030052</td>\n",
       "      <td>2.736969</td>\n",
       "      <td>-0.912958</td>\n",
       "      <td>-2.008756</td>\n",
       "      <td>-1.191441</td>\n",
       "      <td>-0.020260</td>\n",
       "      <td>1.300482</td>\n",
       "      <td>0.857837</td>\n",
       "    </tr>\n",
       "  </tbody>\n",
       "</table>\n",
       "</div>"
      ],
      "text/plain": [
       "      fixed acidity  volatile acidity  citric acid  residual sugar  chlorides  \\\n",
       "808       -1.135595          1.153418    -1.413809        1.095661   0.030441   \n",
       "2548      -0.778976         -0.144687     0.663719        0.148752  -0.016224   \n",
       "3215       0.172006         -1.342937    -0.084191       -1.030052   2.736969   \n",
       "\n",
       "      free sulfur dioxide  total sulfur dioxide   density        pH  \\\n",
       "808              1.751410              2.479361  1.124864 -0.280651   \n",
       "2548             1.573785              1.614463  0.413168  0.044838   \n",
       "3215            -0.912958             -2.008756 -1.191441 -0.020260   \n",
       "\n",
       "      sulphates   alcohol  \n",
       "808   -0.930703 -1.191888  \n",
       "2548   0.356519 -0.781943  \n",
       "3215   1.300482  0.857837  "
      ]
     },
     "execution_count": 10,
     "metadata": {},
     "output_type": "execute_result"
    }
   ],
   "source": [
    "X_test_st = st_scaler.transform(X_test)\n",
    "\n",
    "X_test_st = pd.DataFrame(X_test_st, columns = X_test.columns).set_index(X_test.index)\n",
    "X_test_st.head(3)"
   ]
  },
  {
   "cell_type": "markdown",
   "id": "76d94165",
   "metadata": {},
   "source": [
    "**MinMax Scaler:**\n",
    "$$m=\\frac{x - min(x)}{max(x)-min(x)}$$\n",
    " **x** - original sample<br>**m** - scaled sample\n",
    "\n",
    "sklearn documentation: <a href = 'https://scikit-learn.org/stable/modules/generated/sklearn.preprocessing.MinMaxScaler.html'>sklearn.model_selection.MinMaxScaler()</a><br><br>\n",
    "<b>7. Repeat the last two steps, but using the MinMaxScaler with the default range (from 0 to 1).</b>\n"
   ]
  },
  {
   "cell_type": "code",
   "execution_count": 11,
   "id": "fdb86f64",
   "metadata": {},
   "outputs": [],
   "source": [
    "mM_scaler = MinMaxScaler(feature_range=(0,1)).fit(X_train)"
   ]
  },
  {
   "cell_type": "code",
   "execution_count": 12,
   "id": "41d8345e",
   "metadata": {},
   "outputs": [
    {
     "data": {
      "text/html": [
       "<div>\n",
       "<style scoped>\n",
       "    .dataframe tbody tr th:only-of-type {\n",
       "        vertical-align: middle;\n",
       "    }\n",
       "\n",
       "    .dataframe tbody tr th {\n",
       "        vertical-align: top;\n",
       "    }\n",
       "\n",
       "    .dataframe thead th {\n",
       "        text-align: right;\n",
       "    }\n",
       "</style>\n",
       "<table border=\"1\" class=\"dataframe\">\n",
       "  <thead>\n",
       "    <tr style=\"text-align: right;\">\n",
       "      <th></th>\n",
       "      <th>fixed acidity</th>\n",
       "      <th>volatile acidity</th>\n",
       "      <th>citric acid</th>\n",
       "      <th>residual sugar</th>\n",
       "      <th>chlorides</th>\n",
       "      <th>free sulfur dioxide</th>\n",
       "      <th>total sulfur dioxide</th>\n",
       "      <th>density</th>\n",
       "      <th>pH</th>\n",
       "      <th>sulphates</th>\n",
       "      <th>alcohol</th>\n",
       "    </tr>\n",
       "  </thead>\n",
       "  <tbody>\n",
       "    <tr>\n",
       "      <th>3053</th>\n",
       "      <td>0.523077</td>\n",
       "      <td>0.101695</td>\n",
       "      <td>0.36</td>\n",
       "      <td>0.059816</td>\n",
       "      <td>0.097923</td>\n",
       "      <td>0.166090</td>\n",
       "      <td>0.258065</td>\n",
       "      <td>0.133191</td>\n",
       "      <td>0.336364</td>\n",
       "      <td>0.289157</td>\n",
       "      <td>0.241935</td>\n",
       "    </tr>\n",
       "    <tr>\n",
       "      <th>480</th>\n",
       "      <td>0.384615</td>\n",
       "      <td>0.440678</td>\n",
       "      <td>0.34</td>\n",
       "      <td>0.127301</td>\n",
       "      <td>0.100890</td>\n",
       "      <td>0.200692</td>\n",
       "      <td>0.454418</td>\n",
       "      <td>0.174486</td>\n",
       "      <td>0.454545</td>\n",
       "      <td>0.445783</td>\n",
       "      <td>0.193548</td>\n",
       "    </tr>\n",
       "    <tr>\n",
       "      <th>1789</th>\n",
       "      <td>0.553846</td>\n",
       "      <td>0.135593</td>\n",
       "      <td>0.24</td>\n",
       "      <td>0.015337</td>\n",
       "      <td>0.050445</td>\n",
       "      <td>0.166090</td>\n",
       "      <td>0.502104</td>\n",
       "      <td>0.069794</td>\n",
       "      <td>0.327273</td>\n",
       "      <td>0.614458</td>\n",
       "      <td>0.661290</td>\n",
       "    </tr>\n",
       "  </tbody>\n",
       "</table>\n",
       "</div>"
      ],
      "text/plain": [
       "      fixed acidity  volatile acidity  citric acid  residual sugar  chlorides  \\\n",
       "3053       0.523077          0.101695         0.36        0.059816   0.097923   \n",
       "480        0.384615          0.440678         0.34        0.127301   0.100890   \n",
       "1789       0.553846          0.135593         0.24        0.015337   0.050445   \n",
       "\n",
       "      free sulfur dioxide  total sulfur dioxide   density        pH  \\\n",
       "3053             0.166090              0.258065  0.133191  0.336364   \n",
       "480              0.200692              0.454418  0.174486  0.454545   \n",
       "1789             0.166090              0.502104  0.069794  0.327273   \n",
       "\n",
       "      sulphates   alcohol  \n",
       "3053   0.289157  0.241935  \n",
       "480    0.445783  0.193548  \n",
       "1789   0.614458  0.661290  "
      ]
     },
     "execution_count": 12,
     "metadata": {},
     "output_type": "execute_result"
    }
   ],
   "source": [
    "X_train_mMscaled = mM_scaler.transform(X_train)\n",
    "\n",
    "X_train_mMscaled = pd.DataFrame(X_train_mMscaled, columns = X_train.columns).set_index(X_train.index)\n",
    "X_train_mMscaled.head(3)"
   ]
  },
  {
   "cell_type": "code",
   "execution_count": 13,
   "id": "2c170515",
   "metadata": {},
   "outputs": [
    {
     "data": {
      "text/html": [
       "<div>\n",
       "<style scoped>\n",
       "    .dataframe tbody tr th:only-of-type {\n",
       "        vertical-align: middle;\n",
       "    }\n",
       "\n",
       "    .dataframe tbody tr th {\n",
       "        vertical-align: top;\n",
       "    }\n",
       "\n",
       "    .dataframe thead th {\n",
       "        text-align: right;\n",
       "    }\n",
       "</style>\n",
       "<table border=\"1\" class=\"dataframe\">\n",
       "  <thead>\n",
       "    <tr style=\"text-align: right;\">\n",
       "      <th></th>\n",
       "      <th>fixed acidity</th>\n",
       "      <th>volatile acidity</th>\n",
       "      <th>citric acid</th>\n",
       "      <th>residual sugar</th>\n",
       "      <th>chlorides</th>\n",
       "      <th>free sulfur dioxide</th>\n",
       "      <th>total sulfur dioxide</th>\n",
       "      <th>density</th>\n",
       "      <th>pH</th>\n",
       "      <th>sulphates</th>\n",
       "      <th>alcohol</th>\n",
       "    </tr>\n",
       "  </thead>\n",
       "  <tbody>\n",
       "    <tr>\n",
       "      <th>808</th>\n",
       "      <td>0.276923</td>\n",
       "      <td>0.350282</td>\n",
       "      <td>0.17</td>\n",
       "      <td>0.174847</td>\n",
       "      <td>0.109792</td>\n",
       "      <td>0.435986</td>\n",
       "      <td>0.661992</td>\n",
       "      <td>0.197751</td>\n",
       "      <td>0.390909</td>\n",
       "      <td>0.180723</td>\n",
       "      <td>0.161290</td>\n",
       "    </tr>\n",
       "    <tr>\n",
       "      <th>2548</th>\n",
       "      <td>0.323077</td>\n",
       "      <td>0.203390</td>\n",
       "      <td>0.42</td>\n",
       "      <td>0.099693</td>\n",
       "      <td>0.106825</td>\n",
       "      <td>0.415225</td>\n",
       "      <td>0.558205</td>\n",
       "      <td>0.155874</td>\n",
       "      <td>0.436364</td>\n",
       "      <td>0.361446</td>\n",
       "      <td>0.241935</td>\n",
       "    </tr>\n",
       "    <tr>\n",
       "      <th>3215</th>\n",
       "      <td>0.446154</td>\n",
       "      <td>0.067797</td>\n",
       "      <td>0.33</td>\n",
       "      <td>0.006135</td>\n",
       "      <td>0.281899</td>\n",
       "      <td>0.124567</td>\n",
       "      <td>0.123422</td>\n",
       "      <td>0.061458</td>\n",
       "      <td>0.427273</td>\n",
       "      <td>0.493976</td>\n",
       "      <td>0.564516</td>\n",
       "    </tr>\n",
       "    <tr>\n",
       "      <th>384</th>\n",
       "      <td>0.276923</td>\n",
       "      <td>0.316384</td>\n",
       "      <td>0.39</td>\n",
       "      <td>0.039877</td>\n",
       "      <td>0.053412</td>\n",
       "      <td>0.124567</td>\n",
       "      <td>0.322581</td>\n",
       "      <td>0.069794</td>\n",
       "      <td>0.600000</td>\n",
       "      <td>0.192771</td>\n",
       "      <td>0.532258</td>\n",
       "    </tr>\n",
       "    <tr>\n",
       "      <th>140</th>\n",
       "      <td>0.323077</td>\n",
       "      <td>0.259887</td>\n",
       "      <td>0.34</td>\n",
       "      <td>0.024540</td>\n",
       "      <td>0.106825</td>\n",
       "      <td>0.124567</td>\n",
       "      <td>0.187938</td>\n",
       "      <td>0.102753</td>\n",
       "      <td>0.527273</td>\n",
       "      <td>0.240964</td>\n",
       "      <td>0.354839</td>\n",
       "    </tr>\n",
       "  </tbody>\n",
       "</table>\n",
       "</div>"
      ],
      "text/plain": [
       "      fixed acidity  volatile acidity  citric acid  residual sugar  chlorides  \\\n",
       "808        0.276923          0.350282         0.17        0.174847   0.109792   \n",
       "2548       0.323077          0.203390         0.42        0.099693   0.106825   \n",
       "3215       0.446154          0.067797         0.33        0.006135   0.281899   \n",
       "384        0.276923          0.316384         0.39        0.039877   0.053412   \n",
       "140        0.323077          0.259887         0.34        0.024540   0.106825   \n",
       "\n",
       "      free sulfur dioxide  total sulfur dioxide   density        pH  \\\n",
       "808              0.435986              0.661992  0.197751  0.390909   \n",
       "2548             0.415225              0.558205  0.155874  0.436364   \n",
       "3215             0.124567              0.123422  0.061458  0.427273   \n",
       "384              0.124567              0.322581  0.069794  0.600000   \n",
       "140              0.124567              0.187938  0.102753  0.527273   \n",
       "\n",
       "      sulphates   alcohol  \n",
       "808    0.180723  0.161290  \n",
       "2548   0.361446  0.241935  \n",
       "3215   0.493976  0.564516  \n",
       "384    0.192771  0.532258  \n",
       "140    0.240964  0.354839  "
      ]
     },
     "execution_count": 13,
     "metadata": {},
     "output_type": "execute_result"
    }
   ],
   "source": [
    "X_test_mMscaled = mM_scaler.transform(X_test)\n",
    "\n",
    "X_test_mMscaled = pd.DataFrame(X_test_mMscaled, columns = X_test.columns).set_index(X_test.index)\n",
    "X_test_mMscaled.head(5)"
   ]
  },
  {
   "cell_type": "markdown",
   "id": "90f7b848",
   "metadata": {},
   "source": [
    "**Robust Scaler:**\n",
    "$$r=\\frac{x - Q_{1}(x)}{Q_{3}(x)- Q_{1}(x)}$$\n",
    " x - original sample<br>r - scaled sample<br>$Q_{1}$ - 1st quartile<br>$Q_{3}$ - 3rd quartile\n",
    "\n",
    "sklearn documentation: <a href = 'https://scikit-learn.org/stable/modules/generated/sklearn.preprocessing.RobustScaler.html'>sklearn.model_selection.RobustScaler()</a><br><br>\n",
    "<b>8. Repeat steps 5 and 6, but using the RobustScaler with the default quantiles (the quartiles).</b>"
   ]
  },
  {
   "cell_type": "code",
   "execution_count": 14,
   "id": "44d55234",
   "metadata": {},
   "outputs": [],
   "source": [
    "R_scaler = RobustScaler().fit(X_train)"
   ]
  },
  {
   "cell_type": "code",
   "execution_count": 15,
   "id": "ecb73bc2",
   "metadata": {},
   "outputs": [
    {
     "data": {
      "text/html": [
       "<div>\n",
       "<style scoped>\n",
       "    .dataframe tbody tr th:only-of-type {\n",
       "        vertical-align: middle;\n",
       "    }\n",
       "\n",
       "    .dataframe tbody tr th {\n",
       "        vertical-align: top;\n",
       "    }\n",
       "\n",
       "    .dataframe thead th {\n",
       "        text-align: right;\n",
       "    }\n",
       "</style>\n",
       "<table border=\"1\" class=\"dataframe\">\n",
       "  <thead>\n",
       "    <tr style=\"text-align: right;\">\n",
       "      <th></th>\n",
       "      <th>fixed acidity</th>\n",
       "      <th>volatile acidity</th>\n",
       "      <th>citric acid</th>\n",
       "      <th>residual sugar</th>\n",
       "      <th>chlorides</th>\n",
       "      <th>free sulfur dioxide</th>\n",
       "      <th>total sulfur dioxide</th>\n",
       "      <th>density</th>\n",
       "      <th>pH</th>\n",
       "      <th>sulphates</th>\n",
       "      <th>alcohol</th>\n",
       "    </tr>\n",
       "  </thead>\n",
       "  <tbody>\n",
       "    <tr>\n",
       "      <th>3053</th>\n",
       "      <td>0.7</td>\n",
       "      <td>-0.818182</td>\n",
       "      <td>0.307692</td>\n",
       "      <td>-0.061728</td>\n",
       "      <td>-0.071429</td>\n",
       "      <td>-0.347826</td>\n",
       "      <td>-0.566667</td>\n",
       "      <td>0.090447</td>\n",
       "      <td>-0.45</td>\n",
       "      <td>0.000000</td>\n",
       "      <td>-0.421053</td>\n",
       "    </tr>\n",
       "    <tr>\n",
       "      <th>480</th>\n",
       "      <td>-0.2</td>\n",
       "      <td>1.909091</td>\n",
       "      <td>0.153846</td>\n",
       "      <td>0.481481</td>\n",
       "      <td>0.000000</td>\n",
       "      <td>-0.130435</td>\n",
       "      <td>0.600000</td>\n",
       "      <td>0.572075</td>\n",
       "      <td>0.20</td>\n",
       "      <td>1.000000</td>\n",
       "      <td>-0.578947</td>\n",
       "    </tr>\n",
       "    <tr>\n",
       "      <th>1789</th>\n",
       "      <td>0.9</td>\n",
       "      <td>-0.545455</td>\n",
       "      <td>-0.615385</td>\n",
       "      <td>-0.419753</td>\n",
       "      <td>-1.214286</td>\n",
       "      <td>-0.347826</td>\n",
       "      <td>0.883333</td>\n",
       "      <td>-0.648954</td>\n",
       "      <td>-0.50</td>\n",
       "      <td>2.076923</td>\n",
       "      <td>0.947368</td>\n",
       "    </tr>\n",
       "    <tr>\n",
       "      <th>3356</th>\n",
       "      <td>-0.1</td>\n",
       "      <td>-0.545455</td>\n",
       "      <td>-0.307692</td>\n",
       "      <td>0.938272</td>\n",
       "      <td>0.357143</td>\n",
       "      <td>0.869565</td>\n",
       "      <td>0.000000</td>\n",
       "      <td>0.382137</td>\n",
       "      <td>0.05</td>\n",
       "      <td>-0.769231</td>\n",
       "      <td>0.210526</td>\n",
       "    </tr>\n",
       "    <tr>\n",
       "      <th>702</th>\n",
       "      <td>-0.3</td>\n",
       "      <td>1.090909</td>\n",
       "      <td>-1.076923</td>\n",
       "      <td>-0.469136</td>\n",
       "      <td>-0.071429</td>\n",
       "      <td>-0.608696</td>\n",
       "      <td>-0.866667</td>\n",
       "      <td>-0.264556</td>\n",
       "      <td>0.20</td>\n",
       "      <td>-0.153846</td>\n",
       "      <td>-0.105263</td>\n",
       "    </tr>\n",
       "  </tbody>\n",
       "</table>\n",
       "</div>"
      ],
      "text/plain": [
       "      fixed acidity  volatile acidity  citric acid  residual sugar  chlorides  \\\n",
       "3053            0.7         -0.818182     0.307692       -0.061728  -0.071429   \n",
       "480            -0.2          1.909091     0.153846        0.481481   0.000000   \n",
       "1789            0.9         -0.545455    -0.615385       -0.419753  -1.214286   \n",
       "3356           -0.1         -0.545455    -0.307692        0.938272   0.357143   \n",
       "702            -0.3          1.090909    -1.076923       -0.469136  -0.071429   \n",
       "\n",
       "      free sulfur dioxide  total sulfur dioxide   density    pH  sulphates  \\\n",
       "3053            -0.347826             -0.566667  0.090447 -0.45   0.000000   \n",
       "480             -0.130435              0.600000  0.572075  0.20   1.000000   \n",
       "1789            -0.347826              0.883333 -0.648954 -0.50   2.076923   \n",
       "3356             0.869565              0.000000  0.382137  0.05  -0.769231   \n",
       "702             -0.608696             -0.866667 -0.264556  0.20  -0.153846   \n",
       "\n",
       "       alcohol  \n",
       "3053 -0.421053  \n",
       "480  -0.578947  \n",
       "1789  0.947368  \n",
       "3356  0.210526  \n",
       "702  -0.105263  "
      ]
     },
     "execution_count": 15,
     "metadata": {},
     "output_type": "execute_result"
    }
   ],
   "source": [
    "X_train_Rscaled = R_scaler.transform(X_train)\n",
    "X_train_Rscaled = pd.DataFrame(X_train_Rscaled, columns=X_train.columns).set_index(X_train.index)\n",
    "X_train_Rscaled.head(5)\n",
    "\n"
   ]
  },
  {
   "cell_type": "code",
   "execution_count": 16,
   "id": "e3bd9196",
   "metadata": {},
   "outputs": [
    {
     "data": {
      "text/html": [
       "<div>\n",
       "<style scoped>\n",
       "    .dataframe tbody tr th:only-of-type {\n",
       "        vertical-align: middle;\n",
       "    }\n",
       "\n",
       "    .dataframe tbody tr th {\n",
       "        vertical-align: top;\n",
       "    }\n",
       "\n",
       "    .dataframe thead th {\n",
       "        text-align: right;\n",
       "    }\n",
       "</style>\n",
       "<table border=\"1\" class=\"dataframe\">\n",
       "  <thead>\n",
       "    <tr style=\"text-align: right;\">\n",
       "      <th></th>\n",
       "      <th>fixed acidity</th>\n",
       "      <th>volatile acidity</th>\n",
       "      <th>citric acid</th>\n",
       "      <th>residual sugar</th>\n",
       "      <th>chlorides</th>\n",
       "      <th>free sulfur dioxide</th>\n",
       "      <th>total sulfur dioxide</th>\n",
       "      <th>density</th>\n",
       "      <th>pH</th>\n",
       "      <th>sulphates</th>\n",
       "      <th>alcohol</th>\n",
       "    </tr>\n",
       "  </thead>\n",
       "  <tbody>\n",
       "    <tr>\n",
       "      <th>808</th>\n",
       "      <td>-0.9</td>\n",
       "      <td>1.181818</td>\n",
       "      <td>-1.153846</td>\n",
       "      <td>0.864198</td>\n",
       "      <td>0.214286</td>\n",
       "      <td>1.347826</td>\n",
       "      <td>1.833333</td>\n",
       "      <td>0.843414</td>\n",
       "      <td>-0.15</td>\n",
       "      <td>-0.692308</td>\n",
       "      <td>-0.684211</td>\n",
       "    </tr>\n",
       "    <tr>\n",
       "      <th>2548</th>\n",
       "      <td>-0.6</td>\n",
       "      <td>0.000000</td>\n",
       "      <td>0.769231</td>\n",
       "      <td>0.259259</td>\n",
       "      <td>0.142857</td>\n",
       "      <td>1.217391</td>\n",
       "      <td>1.216667</td>\n",
       "      <td>0.355003</td>\n",
       "      <td>0.10</td>\n",
       "      <td>0.461538</td>\n",
       "      <td>-0.421053</td>\n",
       "    </tr>\n",
       "    <tr>\n",
       "      <th>3215</th>\n",
       "      <td>0.2</td>\n",
       "      <td>-1.090909</td>\n",
       "      <td>0.076923</td>\n",
       "      <td>-0.493827</td>\n",
       "      <td>4.357143</td>\n",
       "      <td>-0.608696</td>\n",
       "      <td>-1.366667</td>\n",
       "      <td>-0.746184</td>\n",
       "      <td>0.05</td>\n",
       "      <td>1.307692</td>\n",
       "      <td>0.631579</td>\n",
       "    </tr>\n",
       "    <tr>\n",
       "      <th>384</th>\n",
       "      <td>-0.9</td>\n",
       "      <td>0.909091</td>\n",
       "      <td>0.538462</td>\n",
       "      <td>-0.222222</td>\n",
       "      <td>-1.142857</td>\n",
       "      <td>-0.608696</td>\n",
       "      <td>-0.183333</td>\n",
       "      <td>-0.648954</td>\n",
       "      <td>1.00</td>\n",
       "      <td>-0.615385</td>\n",
       "      <td>0.526316</td>\n",
       "    </tr>\n",
       "    <tr>\n",
       "      <th>140</th>\n",
       "      <td>-0.6</td>\n",
       "      <td>0.454545</td>\n",
       "      <td>0.153846</td>\n",
       "      <td>-0.345679</td>\n",
       "      <td>0.142857</td>\n",
       "      <td>-0.608696</td>\n",
       "      <td>-0.983333</td>\n",
       "      <td>-0.264556</td>\n",
       "      <td>0.60</td>\n",
       "      <td>-0.307692</td>\n",
       "      <td>-0.052632</td>\n",
       "    </tr>\n",
       "  </tbody>\n",
       "</table>\n",
       "</div>"
      ],
      "text/plain": [
       "      fixed acidity  volatile acidity  citric acid  residual sugar  chlorides  \\\n",
       "808            -0.9          1.181818    -1.153846        0.864198   0.214286   \n",
       "2548           -0.6          0.000000     0.769231        0.259259   0.142857   \n",
       "3215            0.2         -1.090909     0.076923       -0.493827   4.357143   \n",
       "384            -0.9          0.909091     0.538462       -0.222222  -1.142857   \n",
       "140            -0.6          0.454545     0.153846       -0.345679   0.142857   \n",
       "\n",
       "      free sulfur dioxide  total sulfur dioxide   density    pH  sulphates  \\\n",
       "808              1.347826              1.833333  0.843414 -0.15  -0.692308   \n",
       "2548             1.217391              1.216667  0.355003  0.10   0.461538   \n",
       "3215            -0.608696             -1.366667 -0.746184  0.05   1.307692   \n",
       "384             -0.608696             -0.183333 -0.648954  1.00  -0.615385   \n",
       "140             -0.608696             -0.983333 -0.264556  0.60  -0.307692   \n",
       "\n",
       "       alcohol  \n",
       "808  -0.684211  \n",
       "2548 -0.421053  \n",
       "3215  0.631579  \n",
       "384   0.526316  \n",
       "140  -0.052632  "
      ]
     },
     "execution_count": 16,
     "metadata": {},
     "output_type": "execute_result"
    }
   ],
   "source": [
    "X_test_Rscaled = R_scaler.transform(X_test)\n",
    "X_test_Rscaled = pd.DataFrame(X_test_Rscaled, columns=X_test.columns).set_index(X_test.index)\n",
    "\n",
    "X_test_Rscaled.head(5)"
   ]
  },
  {
   "cell_type": "markdown",
   "id": "d6bc8367",
   "metadata": {},
   "source": [
    "Now, time to use our scaled data for some practice\n",
    "\n",
    "<a class=\"anchor\" id=\"2nd-bullet\">  \n",
    "    \n",
    "# Exercises\n",
    "</a>"
   ]
  },
  {
   "cell_type": "markdown",
   "id": "1402a074",
   "metadata": {},
   "source": [
    "## 1: Further explore the data\n",
    "\n",
    "Just to get some further insight"
   ]
  },
  {
   "cell_type": "markdown",
   "id": "4e8d6282",
   "metadata": {},
   "source": [
    "<b>1. Get the main descriptive statistics for all the variables in `pData` using the method `.describe()`</b>"
   ]
  },
  {
   "cell_type": "code",
   "execution_count": 17,
   "id": "b0eaaba3",
   "metadata": {},
   "outputs": [
    {
     "data": {
      "text/html": [
       "<div>\n",
       "<style scoped>\n",
       "    .dataframe tbody tr th:only-of-type {\n",
       "        vertical-align: middle;\n",
       "    }\n",
       "\n",
       "    .dataframe tbody tr th {\n",
       "        vertical-align: top;\n",
       "    }\n",
       "\n",
       "    .dataframe thead th {\n",
       "        text-align: right;\n",
       "    }\n",
       "</style>\n",
       "<table border=\"1\" class=\"dataframe\">\n",
       "  <thead>\n",
       "    <tr style=\"text-align: right;\">\n",
       "      <th></th>\n",
       "      <th>fixed acidity</th>\n",
       "      <th>volatile acidity</th>\n",
       "      <th>citric acid</th>\n",
       "      <th>residual sugar</th>\n",
       "      <th>chlorides</th>\n",
       "      <th>free sulfur dioxide</th>\n",
       "      <th>total sulfur dioxide</th>\n",
       "      <th>density</th>\n",
       "      <th>pH</th>\n",
       "      <th>sulphates</th>\n",
       "      <th>alcohol</th>\n",
       "      <th>quality</th>\n",
       "    </tr>\n",
       "  </thead>\n",
       "  <tbody>\n",
       "    <tr>\n",
       "      <th>count</th>\n",
       "      <td>3920.000000</td>\n",
       "      <td>3920.000000</td>\n",
       "      <td>3920.000000</td>\n",
       "      <td>3920.000000</td>\n",
       "      <td>3920.000000</td>\n",
       "      <td>3920.000000</td>\n",
       "      <td>3920.000000</td>\n",
       "      <td>3920.000000</td>\n",
       "      <td>3920.000000</td>\n",
       "      <td>3920.000000</td>\n",
       "      <td>3920.000000</td>\n",
       "      <td>3920.000000</td>\n",
       "    </tr>\n",
       "    <tr>\n",
       "      <th>mean</th>\n",
       "      <td>6.962870</td>\n",
       "      <td>0.275938</td>\n",
       "      <td>0.341370</td>\n",
       "      <td>6.364592</td>\n",
       "      <td>0.045564</td>\n",
       "      <td>35.566709</td>\n",
       "      <td>140.669133</td>\n",
       "      <td>0.994203</td>\n",
       "      <td>3.193077</td>\n",
       "      <td>0.488638</td>\n",
       "      <td>10.458291</td>\n",
       "      <td>0.227041</td>\n",
       "    </tr>\n",
       "    <tr>\n",
       "      <th>std</th>\n",
       "      <td>0.844844</td>\n",
       "      <td>0.100504</td>\n",
       "      <td>0.122957</td>\n",
       "      <td>5.103226</td>\n",
       "      <td>0.021924</td>\n",
       "      <td>16.965426</td>\n",
       "      <td>43.400711</td>\n",
       "      <td>0.002997</td>\n",
       "      <td>0.153216</td>\n",
       "      <td>0.114292</td>\n",
       "      <td>1.216308</td>\n",
       "      <td>0.418973</td>\n",
       "    </tr>\n",
       "    <tr>\n",
       "      <th>min</th>\n",
       "      <td>4.200000</td>\n",
       "      <td>0.080000</td>\n",
       "      <td>0.000000</td>\n",
       "      <td>0.600000</td>\n",
       "      <td>0.009000</td>\n",
       "      <td>2.000000</td>\n",
       "      <td>9.000000</td>\n",
       "      <td>0.987130</td>\n",
       "      <td>2.720000</td>\n",
       "      <td>0.220000</td>\n",
       "      <td>8.000000</td>\n",
       "      <td>0.000000</td>\n",
       "    </tr>\n",
       "    <tr>\n",
       "      <th>25%</th>\n",
       "      <td>6.400000</td>\n",
       "      <td>0.210000</td>\n",
       "      <td>0.270000</td>\n",
       "      <td>1.700000</td>\n",
       "      <td>0.036000</td>\n",
       "      <td>23.000000</td>\n",
       "      <td>109.000000</td>\n",
       "      <td>0.991900</td>\n",
       "      <td>3.090000</td>\n",
       "      <td>0.410000</td>\n",
       "      <td>9.400000</td>\n",
       "      <td>0.000000</td>\n",
       "    </tr>\n",
       "    <tr>\n",
       "      <th>50%</th>\n",
       "      <td>6.900000</td>\n",
       "      <td>0.260000</td>\n",
       "      <td>0.320000</td>\n",
       "      <td>5.100000</td>\n",
       "      <td>0.043000</td>\n",
       "      <td>34.000000</td>\n",
       "      <td>138.000000</td>\n",
       "      <td>0.993900</td>\n",
       "      <td>3.180000</td>\n",
       "      <td>0.470000</td>\n",
       "      <td>10.300000</td>\n",
       "      <td>0.000000</td>\n",
       "    </tr>\n",
       "    <tr>\n",
       "      <th>75%</th>\n",
       "      <td>7.400000</td>\n",
       "      <td>0.320000</td>\n",
       "      <td>0.400000</td>\n",
       "      <td>9.800000</td>\n",
       "      <td>0.050000</td>\n",
       "      <td>46.250000</td>\n",
       "      <td>170.000000</td>\n",
       "      <td>0.996300</td>\n",
       "      <td>3.290000</td>\n",
       "      <td>0.550000</td>\n",
       "      <td>11.300000</td>\n",
       "      <td>0.000000</td>\n",
       "    </tr>\n",
       "    <tr>\n",
       "      <th>max</th>\n",
       "      <td>14.200000</td>\n",
       "      <td>1.005000</td>\n",
       "      <td>1.660000</td>\n",
       "      <td>65.800000</td>\n",
       "      <td>0.346000</td>\n",
       "      <td>146.500000</td>\n",
       "      <td>366.500000</td>\n",
       "      <td>1.038980</td>\n",
       "      <td>3.820000</td>\n",
       "      <td>1.060000</td>\n",
       "      <td>14.200000</td>\n",
       "      <td>1.000000</td>\n",
       "    </tr>\n",
       "  </tbody>\n",
       "</table>\n",
       "</div>"
      ],
      "text/plain": [
       "       fixed acidity  volatile acidity  citric acid  residual sugar  \\\n",
       "count    3920.000000       3920.000000  3920.000000     3920.000000   \n",
       "mean        6.962870          0.275938     0.341370        6.364592   \n",
       "std         0.844844          0.100504     0.122957        5.103226   \n",
       "min         4.200000          0.080000     0.000000        0.600000   \n",
       "25%         6.400000          0.210000     0.270000        1.700000   \n",
       "50%         6.900000          0.260000     0.320000        5.100000   \n",
       "75%         7.400000          0.320000     0.400000        9.800000   \n",
       "max        14.200000          1.005000     1.660000       65.800000   \n",
       "\n",
       "         chlorides  free sulfur dioxide  total sulfur dioxide      density  \\\n",
       "count  3920.000000          3920.000000           3920.000000  3920.000000   \n",
       "mean      0.045564            35.566709            140.669133     0.994203   \n",
       "std       0.021924            16.965426             43.400711     0.002997   \n",
       "min       0.009000             2.000000              9.000000     0.987130   \n",
       "25%       0.036000            23.000000            109.000000     0.991900   \n",
       "50%       0.043000            34.000000            138.000000     0.993900   \n",
       "75%       0.050000            46.250000            170.000000     0.996300   \n",
       "max       0.346000           146.500000            366.500000     1.038980   \n",
       "\n",
       "                pH    sulphates      alcohol      quality  \n",
       "count  3920.000000  3920.000000  3920.000000  3920.000000  \n",
       "mean      3.193077     0.488638    10.458291     0.227041  \n",
       "std       0.153216     0.114292     1.216308     0.418973  \n",
       "min       2.720000     0.220000     8.000000     0.000000  \n",
       "25%       3.090000     0.410000     9.400000     0.000000  \n",
       "50%       3.180000     0.470000    10.300000     0.000000  \n",
       "75%       3.290000     0.550000    11.300000     0.000000  \n",
       "max       3.820000     1.060000    14.200000     1.000000  "
      ]
     },
     "execution_count": 17,
     "metadata": {},
     "output_type": "execute_result"
    }
   ],
   "source": [
    "df.describe()"
   ]
  },
  {
   "cell_type": "markdown",
   "id": "5a306896",
   "metadata": {},
   "source": [
    "<b>2. What is the pearson correlation between all the variables? (HINT: Use the `cor_heatmap` function \n",
    "for a better visualization</b>"
   ]
  },
  {
   "cell_type": "code",
   "execution_count": 18,
   "id": "481a0904",
   "metadata": {},
   "outputs": [
    {
     "data": {
      "text/html": [
       "<div>\n",
       "<style scoped>\n",
       "    .dataframe tbody tr th:only-of-type {\n",
       "        vertical-align: middle;\n",
       "    }\n",
       "\n",
       "    .dataframe tbody tr th {\n",
       "        vertical-align: top;\n",
       "    }\n",
       "\n",
       "    .dataframe thead th {\n",
       "        text-align: right;\n",
       "    }\n",
       "</style>\n",
       "<table border=\"1\" class=\"dataframe\">\n",
       "  <thead>\n",
       "    <tr style=\"text-align: right;\">\n",
       "      <th></th>\n",
       "      <th>fixed acidity</th>\n",
       "      <th>volatile acidity</th>\n",
       "      <th>citric acid</th>\n",
       "      <th>residual sugar</th>\n",
       "      <th>chlorides</th>\n",
       "      <th>free sulfur dioxide</th>\n",
       "      <th>total sulfur dioxide</th>\n",
       "      <th>density</th>\n",
       "      <th>pH</th>\n",
       "      <th>sulphates</th>\n",
       "      <th>alcohol</th>\n",
       "      <th>quality</th>\n",
       "    </tr>\n",
       "  </thead>\n",
       "  <tbody>\n",
       "    <tr>\n",
       "      <th>fixed acidity</th>\n",
       "      <td>1.000000</td>\n",
       "      <td>-0.004668</td>\n",
       "      <td>0.285418</td>\n",
       "      <td>0.080002</td>\n",
       "      <td>0.011897</td>\n",
       "      <td>-0.074494</td>\n",
       "      <td>0.058732</td>\n",
       "      <td>0.235959</td>\n",
       "      <td>-0.439013</td>\n",
       "      <td>-0.020605</td>\n",
       "      <td>-0.079409</td>\n",
       "      <td>-0.106982</td>\n",
       "    </tr>\n",
       "    <tr>\n",
       "      <th>volatile acidity</th>\n",
       "      <td>-0.004668</td>\n",
       "      <td>1.000000</td>\n",
       "      <td>-0.133053</td>\n",
       "      <td>0.091201</td>\n",
       "      <td>0.072918</td>\n",
       "      <td>-0.092879</td>\n",
       "      <td>0.094736</td>\n",
       "      <td>0.061206</td>\n",
       "      <td>-0.067230</td>\n",
       "      <td>-0.049149</td>\n",
       "      <td>0.041156</td>\n",
       "      <td>-0.064078</td>\n",
       "    </tr>\n",
       "    <tr>\n",
       "      <th>citric acid</th>\n",
       "      <td>0.285418</td>\n",
       "      <td>-0.133053</td>\n",
       "      <td>1.000000</td>\n",
       "      <td>0.119747</td>\n",
       "      <td>0.112969</td>\n",
       "      <td>0.084260</td>\n",
       "      <td>0.107559</td>\n",
       "      <td>0.156466</td>\n",
       "      <td>-0.180280</td>\n",
       "      <td>0.053407</td>\n",
       "      <td>-0.070616</td>\n",
       "      <td>-0.049627</td>\n",
       "    </tr>\n",
       "    <tr>\n",
       "      <th>residual sugar</th>\n",
       "      <td>0.080002</td>\n",
       "      <td>0.091201</td>\n",
       "      <td>0.119747</td>\n",
       "      <td>1.000000</td>\n",
       "      <td>0.089920</td>\n",
       "      <td>0.316652</td>\n",
       "      <td>0.416491</td>\n",
       "      <td>0.839491</td>\n",
       "      <td>-0.175295</td>\n",
       "      <td>-0.036448</td>\n",
       "      <td>-0.441026</td>\n",
       "      <td>-0.133411</td>\n",
       "    </tr>\n",
       "    <tr>\n",
       "      <th>chlorides</th>\n",
       "      <td>0.011897</td>\n",
       "      <td>0.072918</td>\n",
       "      <td>0.112969</td>\n",
       "      <td>0.089920</td>\n",
       "      <td>1.000000</td>\n",
       "      <td>0.105401</td>\n",
       "      <td>0.207598</td>\n",
       "      <td>0.261176</td>\n",
       "      <td>-0.071963</td>\n",
       "      <td>0.029251</td>\n",
       "      <td>-0.360103</td>\n",
       "      <td>-0.191561</td>\n",
       "    </tr>\n",
       "    <tr>\n",
       "      <th>free sulfur dioxide</th>\n",
       "      <td>-0.074494</td>\n",
       "      <td>-0.092879</td>\n",
       "      <td>0.084260</td>\n",
       "      <td>0.316652</td>\n",
       "      <td>0.105401</td>\n",
       "      <td>1.000000</td>\n",
       "      <td>0.617411</td>\n",
       "      <td>0.300331</td>\n",
       "      <td>0.001026</td>\n",
       "      <td>0.050434</td>\n",
       "      <td>-0.257539</td>\n",
       "      <td>-0.030671</td>\n",
       "    </tr>\n",
       "    <tr>\n",
       "      <th>total sulfur dioxide</th>\n",
       "      <td>0.058732</td>\n",
       "      <td>0.094736</td>\n",
       "      <td>0.107559</td>\n",
       "      <td>0.416491</td>\n",
       "      <td>0.207598</td>\n",
       "      <td>0.617411</td>\n",
       "      <td>1.000000</td>\n",
       "      <td>0.537642</td>\n",
       "      <td>0.002787</td>\n",
       "      <td>0.146686</td>\n",
       "      <td>-0.457858</td>\n",
       "      <td>-0.182903</td>\n",
       "    </tr>\n",
       "    <tr>\n",
       "      <th>density</th>\n",
       "      <td>0.235959</td>\n",
       "      <td>0.061206</td>\n",
       "      <td>0.156466</td>\n",
       "      <td>0.839491</td>\n",
       "      <td>0.261176</td>\n",
       "      <td>0.300331</td>\n",
       "      <td>0.537642</td>\n",
       "      <td>1.000000</td>\n",
       "      <td>-0.063769</td>\n",
       "      <td>0.083941</td>\n",
       "      <td>-0.768355</td>\n",
       "      <td>-0.317774</td>\n",
       "    </tr>\n",
       "    <tr>\n",
       "      <th>pH</th>\n",
       "      <td>-0.439013</td>\n",
       "      <td>-0.067230</td>\n",
       "      <td>-0.180280</td>\n",
       "      <td>-0.175295</td>\n",
       "      <td>-0.071963</td>\n",
       "      <td>0.001026</td>\n",
       "      <td>0.002787</td>\n",
       "      <td>-0.063769</td>\n",
       "      <td>1.000000</td>\n",
       "      <td>0.184111</td>\n",
       "      <td>0.085847</td>\n",
       "      <td>0.104271</td>\n",
       "    </tr>\n",
       "    <tr>\n",
       "      <th>sulphates</th>\n",
       "      <td>-0.020605</td>\n",
       "      <td>-0.049149</td>\n",
       "      <td>0.053407</td>\n",
       "      <td>-0.036448</td>\n",
       "      <td>0.029251</td>\n",
       "      <td>0.050434</td>\n",
       "      <td>0.146686</td>\n",
       "      <td>0.083941</td>\n",
       "      <td>0.184111</td>\n",
       "      <td>1.000000</td>\n",
       "      <td>-0.035023</td>\n",
       "      <td>0.055005</td>\n",
       "    </tr>\n",
       "    <tr>\n",
       "      <th>alcohol</th>\n",
       "      <td>-0.079409</td>\n",
       "      <td>0.041156</td>\n",
       "      <td>-0.070616</td>\n",
       "      <td>-0.441026</td>\n",
       "      <td>-0.360103</td>\n",
       "      <td>-0.257539</td>\n",
       "      <td>-0.457858</td>\n",
       "      <td>-0.768355</td>\n",
       "      <td>0.085847</td>\n",
       "      <td>-0.035023</td>\n",
       "      <td>1.000000</td>\n",
       "      <td>0.426374</td>\n",
       "    </tr>\n",
       "    <tr>\n",
       "      <th>quality</th>\n",
       "      <td>-0.106982</td>\n",
       "      <td>-0.064078</td>\n",
       "      <td>-0.049627</td>\n",
       "      <td>-0.133411</td>\n",
       "      <td>-0.191561</td>\n",
       "      <td>-0.030671</td>\n",
       "      <td>-0.182903</td>\n",
       "      <td>-0.317774</td>\n",
       "      <td>0.104271</td>\n",
       "      <td>0.055005</td>\n",
       "      <td>0.426374</td>\n",
       "      <td>1.000000</td>\n",
       "    </tr>\n",
       "  </tbody>\n",
       "</table>\n",
       "</div>"
      ],
      "text/plain": [
       "                      fixed acidity  volatile acidity  citric acid  \\\n",
       "fixed acidity              1.000000         -0.004668     0.285418   \n",
       "volatile acidity          -0.004668          1.000000    -0.133053   \n",
       "citric acid                0.285418         -0.133053     1.000000   \n",
       "residual sugar             0.080002          0.091201     0.119747   \n",
       "chlorides                  0.011897          0.072918     0.112969   \n",
       "free sulfur dioxide       -0.074494         -0.092879     0.084260   \n",
       "total sulfur dioxide       0.058732          0.094736     0.107559   \n",
       "density                    0.235959          0.061206     0.156466   \n",
       "pH                        -0.439013         -0.067230    -0.180280   \n",
       "sulphates                 -0.020605         -0.049149     0.053407   \n",
       "alcohol                   -0.079409          0.041156    -0.070616   \n",
       "quality                   -0.106982         -0.064078    -0.049627   \n",
       "\n",
       "                      residual sugar  chlorides  free sulfur dioxide  \\\n",
       "fixed acidity               0.080002   0.011897            -0.074494   \n",
       "volatile acidity            0.091201   0.072918            -0.092879   \n",
       "citric acid                 0.119747   0.112969             0.084260   \n",
       "residual sugar              1.000000   0.089920             0.316652   \n",
       "chlorides                   0.089920   1.000000             0.105401   \n",
       "free sulfur dioxide         0.316652   0.105401             1.000000   \n",
       "total sulfur dioxide        0.416491   0.207598             0.617411   \n",
       "density                     0.839491   0.261176             0.300331   \n",
       "pH                         -0.175295  -0.071963             0.001026   \n",
       "sulphates                  -0.036448   0.029251             0.050434   \n",
       "alcohol                    -0.441026  -0.360103            -0.257539   \n",
       "quality                    -0.133411  -0.191561            -0.030671   \n",
       "\n",
       "                      total sulfur dioxide   density        pH  sulphates  \\\n",
       "fixed acidity                     0.058732  0.235959 -0.439013  -0.020605   \n",
       "volatile acidity                  0.094736  0.061206 -0.067230  -0.049149   \n",
       "citric acid                       0.107559  0.156466 -0.180280   0.053407   \n",
       "residual sugar                    0.416491  0.839491 -0.175295  -0.036448   \n",
       "chlorides                         0.207598  0.261176 -0.071963   0.029251   \n",
       "free sulfur dioxide               0.617411  0.300331  0.001026   0.050434   \n",
       "total sulfur dioxide              1.000000  0.537642  0.002787   0.146686   \n",
       "density                           0.537642  1.000000 -0.063769   0.083941   \n",
       "pH                                0.002787 -0.063769  1.000000   0.184111   \n",
       "sulphates                         0.146686  0.083941  0.184111   1.000000   \n",
       "alcohol                          -0.457858 -0.768355  0.085847  -0.035023   \n",
       "quality                          -0.182903 -0.317774  0.104271   0.055005   \n",
       "\n",
       "                       alcohol   quality  \n",
       "fixed acidity        -0.079409 -0.106982  \n",
       "volatile acidity      0.041156 -0.064078  \n",
       "citric acid          -0.070616 -0.049627  \n",
       "residual sugar       -0.441026 -0.133411  \n",
       "chlorides            -0.360103 -0.191561  \n",
       "free sulfur dioxide  -0.257539 -0.030671  \n",
       "total sulfur dioxide -0.457858 -0.182903  \n",
       "density              -0.768355 -0.317774  \n",
       "pH                    0.085847  0.104271  \n",
       "sulphates            -0.035023  0.055005  \n",
       "alcohol               1.000000  0.426374  \n",
       "quality               0.426374  1.000000  "
      ]
     },
     "execution_count": 18,
     "metadata": {},
     "output_type": "execute_result"
    }
   ],
   "source": [
    "df.corr()"
   ]
  },
  {
   "cell_type": "code",
   "execution_count": 19,
   "id": "818fa1ae",
   "metadata": {},
   "outputs": [],
   "source": [
    "def cor_heatmap(cor):\n",
    "    plt.figure(figsize=(12,10))\n",
    "    sns.heatmap(data = cor, annot = True, cmap = plt.cm.Reds, fmt='.1')\n",
    "    plt.show()"
   ]
  },
  {
   "cell_type": "code",
   "execution_count": 20,
   "id": "ff98bbd2",
   "metadata": {},
   "outputs": [
    {
     "data": {
      "image/png": "[encoded data removed]",
      "text/plain": [
       "<Figure size 1200x1000 with 2 Axes>"
      ]
     },
     "metadata": {},
     "output_type": "display_data"
    }
   ],
   "source": [
    "cor_heatmap(df.corr())"
   ]
  },
  {
   "cell_type": "markdown",
   "id": "6898bc72",
   "metadata": {},
   "source": [
    "## 2. Modelling\n",
    "\n",
    "[Feature scaling](#1st-bullet)"
   ]
  },
  {
   "cell_type": "markdown",
   "id": "8653edc3",
   "metadata": {},
   "source": [
    "With our data prepared, it's time to create our models.<br>\n",
    "\n",
    "Captions:\n",
    "* mm - MinMaxScaler\n",
    "* st - StandardScaler\n",
    "* rb - RobustScaler\n",
    "\n",
    "<b>1. Create an instance of `LogisticRegression()`, and fit it to unscaled training data</b>"
   ]
  },
  {
   "cell_type": "code",
   "execution_count": 21,
   "id": "c643e587",
   "metadata": {},
   "outputs": [],
   "source": [
    "lr = LogisticRegression().fit(X_train,y_train)"
   ]
  },
  {
   "cell_type": "markdown",
   "id": "f453e115",
   "metadata": {},
   "source": [
    "<b>2. For each scaling method seen above, create an instance of `LogisticRegression()`. To each instance fit a differently scaled version of our data, using the method `.fit()` with `X_train_scl_[SCALER NAME]` and `y_train` as parameters. Example: `X_train_scl_mm` is data scaled with the MinMaxScaler</b>"
   ]
  },
  {
   "cell_type": "code",
   "execution_count": 22,
   "id": "0997379b",
   "metadata": {},
   "outputs": [],
   "source": [
    "lr_mm = LogisticRegression().fit(X_train_mMscaled,y_train)"
   ]
  },
  {
   "cell_type": "code",
   "execution_count": 23,
   "id": "f0b47016",
   "metadata": {},
   "outputs": [],
   "source": [
    "lr_st = LogisticRegression().fit(X_train_scl_st,y_train)"
   ]
  },
  {
   "cell_type": "code",
   "execution_count": 24,
   "id": "58728c9a",
   "metadata": {},
   "outputs": [],
   "source": [
    "lr_rb = LogisticRegression().fit(X_train_Rscaled,y_train)"
   ]
  },
  {
   "cell_type": "markdown",
   "id": "d2654955",
   "metadata": {},
   "source": [
    "Note: It's normal for this message to show up when data is fit to a Logistic Regressor"
   ]
  },
  {
   "cell_type": "markdown",
   "id": "ced79770",
   "metadata": {},
   "source": [
    "<b>3. For all models, predict the values of the target in each train dataset using the method `.predict()`. For the models using scaled data with `X_train_sc_[SCALER NAME]` as a parameter, for each of the models defined. Assign those values to the objects `lr_[SCALER NAME]_pred`</b>"
   ]
  },
  {
   "cell_type": "code",
   "execution_count": 25,
   "id": "8ce7c230",
   "metadata": {},
   "outputs": [],
   "source": [
    "lr_pred = lr.predict(X_train)"
   ]
  },
  {
   "cell_type": "code",
   "execution_count": 26,
   "id": "91740fb4",
   "metadata": {},
   "outputs": [],
   "source": [
    "lr_mMscaler_pred = lr_mm.predict(X_train_mMscaled)"
   ]
  },
  {
   "cell_type": "code",
   "execution_count": 27,
   "id": "3ddc29e3",
   "metadata": {},
   "outputs": [],
   "source": [
    "lr_Rscaler_pred = lr_rb.predict(X_train_Rscaled)"
   ]
  },
  {
   "cell_type": "code",
   "execution_count": 93,
   "id": "1e223d1f",
   "metadata": {},
   "outputs": [],
   "source": [
    "lr_st_pred = lr_st.predict(X_train_scl_st)"
   ]
  },
  {
   "cell_type": "markdown",
   "id": "e995eae9",
   "metadata": {},
   "source": [
    "<b>4. Now predict the values of the target in each validation dataset using the method `.predict()`. For the models using scaled data with `X_val_sc_[SCALER NAME]` as a parameter, for each of the models defined. Assign those values to the objects `lr_[SCALER NAME]_pred`</b>"
   ]
  },
  {
   "cell_type": "code",
   "execution_count": 94,
   "id": "6ac9bde5",
   "metadata": {},
   "outputs": [],
   "source": [
    "lr_pred_val = lr.predict(X_test)\n",
    "lr_mMscaler_pred_val = lr_mm.predict(X_test_mMscaled)\n",
    "lr_Rscaler_pred_val = lr_rb.predict(X_test_Rscaled)\n",
    "lr_st_pred_val = lr_st.predict(X_test_st)"
   ]
  },
  {
   "cell_type": "markdown",
   "id": "e3fdb480",
   "metadata": {},
   "source": [
    "## 3. Model Features"
   ]
  },
  {
   "cell_type": "markdown",
   "id": "d27e7be2",
   "metadata": {},
   "source": [
    "<b>1. To check the coefficients calculated by applying the linear regression, call the attribute `coef_` associated to each of your models.</b>"
   ]
  },
  {
   "cell_type": "code",
   "execution_count": 30,
   "id": "8914c56a",
   "metadata": {},
   "outputs": [
    {
     "data": {
      "text/plain": [
       "array([[-0.25935132, -3.36506685, -1.3978094 ,  0.03349404, -0.87871977,\n",
       "         0.01000869, -0.00402569, -3.44741296, -0.08155966,  1.17828934,\n",
       "         0.87502467]])"
      ]
     },
     "execution_count": 30,
     "metadata": {},
     "output_type": "execute_result"
    }
   ],
   "source": [
    "lr.coef_"
   ]
  },
  {
   "cell_type": "code",
   "execution_count": 31,
   "id": "a5dbfe3e",
   "metadata": {},
   "outputs": [
    {
     "data": {
      "text/plain": [
       "array([[-0.32392129, -1.96863973, -0.71937447,  1.52337607, -1.73237429,\n",
       "         1.30773573, -0.89757465, -0.83608704,  1.44494142,  1.18985132,\n",
       "         5.18983641]])"
      ]
     },
     "execution_count": 31,
     "metadata": {},
     "output_type": "execute_result"
    }
   ],
   "source": [
    "lr_mm.coef_"
   ]
  },
  {
   "cell_type": "code",
   "execution_count": 32,
   "id": "2c9eb914",
   "metadata": {},
   "outputs": [
    {
     "data": {
      "text/plain": [
       "array([[ 0.37728366, -0.302719  , -0.1253798 ,  1.39718986, -0.19351532,\n",
       "         0.13306897, -0.0331517 , -1.85724409,  0.55840691,  0.30196412,\n",
       "         0.32689004]])"
      ]
     },
     "execution_count": 32,
     "metadata": {},
     "output_type": "execute_result"
    }
   ],
   "source": [
    "lr_st.coef_"
   ]
  },
  {
   "cell_type": "code",
   "execution_count": 33,
   "id": "f8ba5342-c603-418f-b8ee-bef7e7356c6d",
   "metadata": {},
   "outputs": [
    {
     "data": {
      "text/plain": [
       "array([[ 0.37040902, -0.33335381, -0.13474182,  1.88761633, -0.14024919,\n",
       "         0.19341019, -0.07019067, -2.26757055,  0.65871167,  0.31881349,\n",
       "         0.70834733]])"
      ]
     },
     "execution_count": 33,
     "metadata": {},
     "output_type": "execute_result"
    }
   ],
   "source": [
    "lr_rb.coef_"
   ]
  },
  {
   "cell_type": "markdown",
   "id": "e8f07638",
   "metadata": {},
   "source": [
    "Like in Linear Regression, in order to better understand what is the variable associated to each coefficient, let's convert the result to a DataFrame and define as headers the variables."
   ]
  },
  {
   "cell_type": "markdown",
   "id": "ba58075b",
   "metadata": {},
   "source": [
    "<b>2. Create a dataframe that will contain the values of the coefficients for your default model (the one without scaled data). Use ._coef[0] to get the coefficient array, WITHOUT it being inside another array. Set ``columns = ['base'].`` "
   ]
  },
  {
   "cell_type": "code",
   "execution_count": 34,
   "id": "6a8f43b0",
   "metadata": {
    "scrolled": true
   },
   "outputs": [
    {
     "data": {
      "text/html": [
       "<div>\n",
       "<style scoped>\n",
       "    .dataframe tbody tr th:only-of-type {\n",
       "        vertical-align: middle;\n",
       "    }\n",
       "\n",
       "    .dataframe tbody tr th {\n",
       "        vertical-align: top;\n",
       "    }\n",
       "\n",
       "    .dataframe thead th {\n",
       "        text-align: right;\n",
       "    }\n",
       "</style>\n",
       "<table border=\"1\" class=\"dataframe\">\n",
       "  <thead>\n",
       "    <tr style=\"text-align: right;\">\n",
       "      <th></th>\n",
       "      <th>base</th>\n",
       "    </tr>\n",
       "  </thead>\n",
       "  <tbody>\n",
       "    <tr>\n",
       "      <th>0</th>\n",
       "      <td>-0.259351</td>\n",
       "    </tr>\n",
       "    <tr>\n",
       "      <th>1</th>\n",
       "      <td>-3.365067</td>\n",
       "    </tr>\n",
       "    <tr>\n",
       "      <th>2</th>\n",
       "      <td>-1.397809</td>\n",
       "    </tr>\n",
       "    <tr>\n",
       "      <th>3</th>\n",
       "      <td>0.033494</td>\n",
       "    </tr>\n",
       "    <tr>\n",
       "      <th>4</th>\n",
       "      <td>-0.878720</td>\n",
       "    </tr>\n",
       "    <tr>\n",
       "      <th>5</th>\n",
       "      <td>0.010009</td>\n",
       "    </tr>\n",
       "    <tr>\n",
       "      <th>6</th>\n",
       "      <td>-0.004026</td>\n",
       "    </tr>\n",
       "    <tr>\n",
       "      <th>7</th>\n",
       "      <td>-3.447413</td>\n",
       "    </tr>\n",
       "    <tr>\n",
       "      <th>8</th>\n",
       "      <td>-0.081560</td>\n",
       "    </tr>\n",
       "    <tr>\n",
       "      <th>9</th>\n",
       "      <td>1.178289</td>\n",
       "    </tr>\n",
       "    <tr>\n",
       "      <th>10</th>\n",
       "      <td>0.875025</td>\n",
       "    </tr>\n",
       "  </tbody>\n",
       "</table>\n",
       "</div>"
      ],
      "text/plain": [
       "        base\n",
       "0  -0.259351\n",
       "1  -3.365067\n",
       "2  -1.397809\n",
       "3   0.033494\n",
       "4  -0.878720\n",
       "5   0.010009\n",
       "6  -0.004026\n",
       "7  -3.447413\n",
       "8  -0.081560\n",
       "9   1.178289\n",
       "10  0.875025"
      ]
     },
     "execution_count": 34,
     "metadata": {},
     "output_type": "execute_result"
    }
   ],
   "source": [
    "df_ = pd.DataFrame(lr.coef_[0],columns = ['base'])\n",
    "df_"
   ]
  },
  {
   "cell_type": "markdown",
   "id": "6c5023d9",
   "metadata": {},
   "source": [
    "<b>3. Create a dataframe that will contain the values of the coefficients for your model using MinMax scaling. Use ._coef[0] to get the coefficient array, WITHOUT it being inside another array. Set ``columns = ['MinMax'].`` "
   ]
  },
  {
   "cell_type": "code",
   "execution_count": 35,
   "id": "62f060a9",
   "metadata": {},
   "outputs": [
    {
     "data": {
      "text/html": [
       "<div>\n",
       "<style scoped>\n",
       "    .dataframe tbody tr th:only-of-type {\n",
       "        vertical-align: middle;\n",
       "    }\n",
       "\n",
       "    .dataframe tbody tr th {\n",
       "        vertical-align: top;\n",
       "    }\n",
       "\n",
       "    .dataframe thead th {\n",
       "        text-align: right;\n",
       "    }\n",
       "</style>\n",
       "<table border=\"1\" class=\"dataframe\">\n",
       "  <thead>\n",
       "    <tr style=\"text-align: right;\">\n",
       "      <th></th>\n",
       "      <th>base_mm</th>\n",
       "    </tr>\n",
       "  </thead>\n",
       "  <tbody>\n",
       "    <tr>\n",
       "      <th>0</th>\n",
       "      <td>-0.323921</td>\n",
       "    </tr>\n",
       "    <tr>\n",
       "      <th>1</th>\n",
       "      <td>-1.968640</td>\n",
       "    </tr>\n",
       "    <tr>\n",
       "      <th>2</th>\n",
       "      <td>-0.719374</td>\n",
       "    </tr>\n",
       "    <tr>\n",
       "      <th>3</th>\n",
       "      <td>1.523376</td>\n",
       "    </tr>\n",
       "    <tr>\n",
       "      <th>4</th>\n",
       "      <td>-1.732374</td>\n",
       "    </tr>\n",
       "    <tr>\n",
       "      <th>5</th>\n",
       "      <td>1.307736</td>\n",
       "    </tr>\n",
       "    <tr>\n",
       "      <th>6</th>\n",
       "      <td>-0.897575</td>\n",
       "    </tr>\n",
       "    <tr>\n",
       "      <th>7</th>\n",
       "      <td>-0.836087</td>\n",
       "    </tr>\n",
       "    <tr>\n",
       "      <th>8</th>\n",
       "      <td>1.444941</td>\n",
       "    </tr>\n",
       "    <tr>\n",
       "      <th>9</th>\n",
       "      <td>1.189851</td>\n",
       "    </tr>\n",
       "    <tr>\n",
       "      <th>10</th>\n",
       "      <td>5.189836</td>\n",
       "    </tr>\n",
       "  </tbody>\n",
       "</table>\n",
       "</div>"
      ],
      "text/plain": [
       "     base_mm\n",
       "0  -0.323921\n",
       "1  -1.968640\n",
       "2  -0.719374\n",
       "3   1.523376\n",
       "4  -1.732374\n",
       "5   1.307736\n",
       "6  -0.897575\n",
       "7  -0.836087\n",
       "8   1.444941\n",
       "9   1.189851\n",
       "10  5.189836"
      ]
     },
     "execution_count": 35,
     "metadata": {},
     "output_type": "execute_result"
    }
   ],
   "source": [
    "df_mm = pd.DataFrame(lr_mm.coef_[0],columns = ['base_mm'])\n",
    "df_mm"
   ]
  },
  {
   "cell_type": "markdown",
   "id": "c9a73d6b",
   "metadata": {},
   "source": [
    "<b>4. Create a dataframe that will contain the values of the coefficients for your model using Standard scaling. Use ._coef[0] to get the coefficient array, WITHOUT it being inside another array. Set ``columns = ['Standard'].`` "
   ]
  },
  {
   "cell_type": "code",
   "execution_count": 36,
   "id": "25b464ba",
   "metadata": {
    "scrolled": true
   },
   "outputs": [
    {
     "data": {
      "text/html": [
       "<div>\n",
       "<style scoped>\n",
       "    .dataframe tbody tr th:only-of-type {\n",
       "        vertical-align: middle;\n",
       "    }\n",
       "\n",
       "    .dataframe tbody tr th {\n",
       "        vertical-align: top;\n",
       "    }\n",
       "\n",
       "    .dataframe thead th {\n",
       "        text-align: right;\n",
       "    }\n",
       "</style>\n",
       "<table border=\"1\" class=\"dataframe\">\n",
       "  <thead>\n",
       "    <tr style=\"text-align: right;\">\n",
       "      <th></th>\n",
       "      <th>base_st</th>\n",
       "    </tr>\n",
       "  </thead>\n",
       "  <tbody>\n",
       "    <tr>\n",
       "      <th>0</th>\n",
       "      <td>0.377284</td>\n",
       "    </tr>\n",
       "    <tr>\n",
       "      <th>1</th>\n",
       "      <td>-0.302719</td>\n",
       "    </tr>\n",
       "    <tr>\n",
       "      <th>2</th>\n",
       "      <td>-0.125380</td>\n",
       "    </tr>\n",
       "    <tr>\n",
       "      <th>3</th>\n",
       "      <td>1.397190</td>\n",
       "    </tr>\n",
       "    <tr>\n",
       "      <th>4</th>\n",
       "      <td>-0.193515</td>\n",
       "    </tr>\n",
       "    <tr>\n",
       "      <th>5</th>\n",
       "      <td>0.133069</td>\n",
       "    </tr>\n",
       "    <tr>\n",
       "      <th>6</th>\n",
       "      <td>-0.033152</td>\n",
       "    </tr>\n",
       "    <tr>\n",
       "      <th>7</th>\n",
       "      <td>-1.857244</td>\n",
       "    </tr>\n",
       "    <tr>\n",
       "      <th>8</th>\n",
       "      <td>0.558407</td>\n",
       "    </tr>\n",
       "    <tr>\n",
       "      <th>9</th>\n",
       "      <td>0.301964</td>\n",
       "    </tr>\n",
       "    <tr>\n",
       "      <th>10</th>\n",
       "      <td>0.326890</td>\n",
       "    </tr>\n",
       "  </tbody>\n",
       "</table>\n",
       "</div>"
      ],
      "text/plain": [
       "     base_st\n",
       "0   0.377284\n",
       "1  -0.302719\n",
       "2  -0.125380\n",
       "3   1.397190\n",
       "4  -0.193515\n",
       "5   0.133069\n",
       "6  -0.033152\n",
       "7  -1.857244\n",
       "8   0.558407\n",
       "9   0.301964\n",
       "10  0.326890"
      ]
     },
     "execution_count": 36,
     "metadata": {},
     "output_type": "execute_result"
    }
   ],
   "source": [
    "df_st = pd.DataFrame(lr_st.coef_[0],columns = ['base_st'])\n",
    "df_st"
   ]
  },
  {
   "cell_type": "markdown",
   "id": "de991ae6",
   "metadata": {},
   "source": [
    "<b>5. Create a dataframe that will contain the values of the coefficients for your model using 'Robust'. But use ._coef[0] to get the coefficient array, WITHOUT it being inside another array. Set ``columns = ['Robust'].`` "
   ]
  },
  {
   "cell_type": "code",
   "execution_count": 37,
   "id": "54643027",
   "metadata": {},
   "outputs": [
    {
     "data": {
      "text/html": [
       "<div>\n",
       "<style scoped>\n",
       "    .dataframe tbody tr th:only-of-type {\n",
       "        vertical-align: middle;\n",
       "    }\n",
       "\n",
       "    .dataframe tbody tr th {\n",
       "        vertical-align: top;\n",
       "    }\n",
       "\n",
       "    .dataframe thead th {\n",
       "        text-align: right;\n",
       "    }\n",
       "</style>\n",
       "<table border=\"1\" class=\"dataframe\">\n",
       "  <thead>\n",
       "    <tr style=\"text-align: right;\">\n",
       "      <th></th>\n",
       "      <th>base_rb</th>\n",
       "    </tr>\n",
       "  </thead>\n",
       "  <tbody>\n",
       "    <tr>\n",
       "      <th>0</th>\n",
       "      <td>0.370409</td>\n",
       "    </tr>\n",
       "    <tr>\n",
       "      <th>1</th>\n",
       "      <td>-0.333354</td>\n",
       "    </tr>\n",
       "    <tr>\n",
       "      <th>2</th>\n",
       "      <td>-0.134742</td>\n",
       "    </tr>\n",
       "    <tr>\n",
       "      <th>3</th>\n",
       "      <td>1.887616</td>\n",
       "    </tr>\n",
       "    <tr>\n",
       "      <th>4</th>\n",
       "      <td>-0.140249</td>\n",
       "    </tr>\n",
       "    <tr>\n",
       "      <th>5</th>\n",
       "      <td>0.193410</td>\n",
       "    </tr>\n",
       "    <tr>\n",
       "      <th>6</th>\n",
       "      <td>-0.070191</td>\n",
       "    </tr>\n",
       "    <tr>\n",
       "      <th>7</th>\n",
       "      <td>-2.267571</td>\n",
       "    </tr>\n",
       "    <tr>\n",
       "      <th>8</th>\n",
       "      <td>0.658712</td>\n",
       "    </tr>\n",
       "    <tr>\n",
       "      <th>9</th>\n",
       "      <td>0.318813</td>\n",
       "    </tr>\n",
       "    <tr>\n",
       "      <th>10</th>\n",
       "      <td>0.708347</td>\n",
       "    </tr>\n",
       "  </tbody>\n",
       "</table>\n",
       "</div>"
      ],
      "text/plain": [
       "     base_rb\n",
       "0   0.370409\n",
       "1  -0.333354\n",
       "2  -0.134742\n",
       "3   1.887616\n",
       "4  -0.140249\n",
       "5   0.193410\n",
       "6  -0.070191\n",
       "7  -2.267571\n",
       "8   0.658712\n",
       "9   0.318813\n",
       "10  0.708347"
      ]
     },
     "execution_count": 37,
     "metadata": {},
     "output_type": "execute_result"
    }
   ],
   "source": [
    "df_rb = pd.DataFrame(lr_rb.coef_[0],columns = ['base_rb'])\n",
    "df_rb"
   ]
  },
  {
   "cell_type": "markdown",
   "id": "5e234956",
   "metadata": {},
   "source": [
    "<b>6. Run the cell below to join the three Dataframes you created using the ``.join()`` method"
   ]
  },
  {
   "cell_type": "code",
   "execution_count": 38,
   "id": "962c6658",
   "metadata": {},
   "outputs": [
    {
     "data": {
      "text/html": [
       "<div>\n",
       "<style scoped>\n",
       "    .dataframe tbody tr th:only-of-type {\n",
       "        vertical-align: middle;\n",
       "    }\n",
       "\n",
       "    .dataframe tbody tr th {\n",
       "        vertical-align: top;\n",
       "    }\n",
       "\n",
       "    .dataframe thead th {\n",
       "        text-align: right;\n",
       "    }\n",
       "</style>\n",
       "<table border=\"1\" class=\"dataframe\">\n",
       "  <thead>\n",
       "    <tr style=\"text-align: right;\">\n",
       "      <th></th>\n",
       "      <th>base</th>\n",
       "      <th>base_mm</th>\n",
       "      <th>base_st</th>\n",
       "      <th>base_rb</th>\n",
       "    </tr>\n",
       "  </thead>\n",
       "  <tbody>\n",
       "    <tr>\n",
       "      <th>0</th>\n",
       "      <td>-0.259351</td>\n",
       "      <td>-0.323921</td>\n",
       "      <td>0.377284</td>\n",
       "      <td>0.370409</td>\n",
       "    </tr>\n",
       "    <tr>\n",
       "      <th>1</th>\n",
       "      <td>-3.365067</td>\n",
       "      <td>-1.968640</td>\n",
       "      <td>-0.302719</td>\n",
       "      <td>-0.333354</td>\n",
       "    </tr>\n",
       "    <tr>\n",
       "      <th>2</th>\n",
       "      <td>-1.397809</td>\n",
       "      <td>-0.719374</td>\n",
       "      <td>-0.125380</td>\n",
       "      <td>-0.134742</td>\n",
       "    </tr>\n",
       "    <tr>\n",
       "      <th>3</th>\n",
       "      <td>0.033494</td>\n",
       "      <td>1.523376</td>\n",
       "      <td>1.397190</td>\n",
       "      <td>1.887616</td>\n",
       "    </tr>\n",
       "    <tr>\n",
       "      <th>4</th>\n",
       "      <td>-0.878720</td>\n",
       "      <td>-1.732374</td>\n",
       "      <td>-0.193515</td>\n",
       "      <td>-0.140249</td>\n",
       "    </tr>\n",
       "    <tr>\n",
       "      <th>5</th>\n",
       "      <td>0.010009</td>\n",
       "      <td>1.307736</td>\n",
       "      <td>0.133069</td>\n",
       "      <td>0.193410</td>\n",
       "    </tr>\n",
       "    <tr>\n",
       "      <th>6</th>\n",
       "      <td>-0.004026</td>\n",
       "      <td>-0.897575</td>\n",
       "      <td>-0.033152</td>\n",
       "      <td>-0.070191</td>\n",
       "    </tr>\n",
       "    <tr>\n",
       "      <th>7</th>\n",
       "      <td>-3.447413</td>\n",
       "      <td>-0.836087</td>\n",
       "      <td>-1.857244</td>\n",
       "      <td>-2.267571</td>\n",
       "    </tr>\n",
       "    <tr>\n",
       "      <th>8</th>\n",
       "      <td>-0.081560</td>\n",
       "      <td>1.444941</td>\n",
       "      <td>0.558407</td>\n",
       "      <td>0.658712</td>\n",
       "    </tr>\n",
       "    <tr>\n",
       "      <th>9</th>\n",
       "      <td>1.178289</td>\n",
       "      <td>1.189851</td>\n",
       "      <td>0.301964</td>\n",
       "      <td>0.318813</td>\n",
       "    </tr>\n",
       "    <tr>\n",
       "      <th>10</th>\n",
       "      <td>0.875025</td>\n",
       "      <td>5.189836</td>\n",
       "      <td>0.326890</td>\n",
       "      <td>0.708347</td>\n",
       "    </tr>\n",
       "  </tbody>\n",
       "</table>\n",
       "</div>"
      ],
      "text/plain": [
       "        base   base_mm   base_st   base_rb\n",
       "0  -0.259351 -0.323921  0.377284  0.370409\n",
       "1  -3.365067 -1.968640 -0.302719 -0.333354\n",
       "2  -1.397809 -0.719374 -0.125380 -0.134742\n",
       "3   0.033494  1.523376  1.397190  1.887616\n",
       "4  -0.878720 -1.732374 -0.193515 -0.140249\n",
       "5   0.010009  1.307736  0.133069  0.193410\n",
       "6  -0.004026 -0.897575 -0.033152 -0.070191\n",
       "7  -3.447413 -0.836087 -1.857244 -2.267571\n",
       "8  -0.081560  1.444941  0.558407  0.658712\n",
       "9   1.178289  1.189851  0.301964  0.318813\n",
       "10  0.875025  5.189836  0.326890  0.708347"
      ]
     },
     "execution_count": 38,
     "metadata": {},
     "output_type": "execute_result"
    }
   ],
   "source": [
    "df2 = df_.join(df_mm).join(df_st).join(df_rb)\n",
    "df2"
   ]
  },
  {
   "cell_type": "markdown",
   "id": "0434c092",
   "metadata": {},
   "source": [
    "<b>7. By using the method `set_index()`, define the index of your composite Dataframe equal to the name of the features (you can get the feature names with `X_train.columns`)"
   ]
  },
  {
   "cell_type": "code",
   "execution_count": 43,
   "id": "7ebab16d",
   "metadata": {},
   "outputs": [
    {
     "data": {
      "text/html": [
       "<div>\n",
       "<style scoped>\n",
       "    .dataframe tbody tr th:only-of-type {\n",
       "        vertical-align: middle;\n",
       "    }\n",
       "\n",
       "    .dataframe tbody tr th {\n",
       "        vertical-align: top;\n",
       "    }\n",
       "\n",
       "    .dataframe thead th {\n",
       "        text-align: right;\n",
       "    }\n",
       "</style>\n",
       "<table border=\"1\" class=\"dataframe\">\n",
       "  <thead>\n",
       "    <tr style=\"text-align: right;\">\n",
       "      <th></th>\n",
       "      <th>base</th>\n",
       "      <th>base_mm</th>\n",
       "      <th>base_st</th>\n",
       "      <th>base_rb</th>\n",
       "    </tr>\n",
       "  </thead>\n",
       "  <tbody>\n",
       "    <tr>\n",
       "      <th>fixed acidity</th>\n",
       "      <td>-0.259351</td>\n",
       "      <td>-0.323921</td>\n",
       "      <td>0.377284</td>\n",
       "      <td>0.370409</td>\n",
       "    </tr>\n",
       "    <tr>\n",
       "      <th>volatile acidity</th>\n",
       "      <td>-3.365067</td>\n",
       "      <td>-1.968640</td>\n",
       "      <td>-0.302719</td>\n",
       "      <td>-0.333354</td>\n",
       "    </tr>\n",
       "    <tr>\n",
       "      <th>citric acid</th>\n",
       "      <td>-1.397809</td>\n",
       "      <td>-0.719374</td>\n",
       "      <td>-0.125380</td>\n",
       "      <td>-0.134742</td>\n",
       "    </tr>\n",
       "    <tr>\n",
       "      <th>residual sugar</th>\n",
       "      <td>0.033494</td>\n",
       "      <td>1.523376</td>\n",
       "      <td>1.397190</td>\n",
       "      <td>1.887616</td>\n",
       "    </tr>\n",
       "    <tr>\n",
       "      <th>chlorides</th>\n",
       "      <td>-0.878720</td>\n",
       "      <td>-1.732374</td>\n",
       "      <td>-0.193515</td>\n",
       "      <td>-0.140249</td>\n",
       "    </tr>\n",
       "    <tr>\n",
       "      <th>free sulfur dioxide</th>\n",
       "      <td>0.010009</td>\n",
       "      <td>1.307736</td>\n",
       "      <td>0.133069</td>\n",
       "      <td>0.193410</td>\n",
       "    </tr>\n",
       "    <tr>\n",
       "      <th>total sulfur dioxide</th>\n",
       "      <td>-0.004026</td>\n",
       "      <td>-0.897575</td>\n",
       "      <td>-0.033152</td>\n",
       "      <td>-0.070191</td>\n",
       "    </tr>\n",
       "    <tr>\n",
       "      <th>density</th>\n",
       "      <td>-3.447413</td>\n",
       "      <td>-0.836087</td>\n",
       "      <td>-1.857244</td>\n",
       "      <td>-2.267571</td>\n",
       "    </tr>\n",
       "    <tr>\n",
       "      <th>pH</th>\n",
       "      <td>-0.081560</td>\n",
       "      <td>1.444941</td>\n",
       "      <td>0.558407</td>\n",
       "      <td>0.658712</td>\n",
       "    </tr>\n",
       "    <tr>\n",
       "      <th>sulphates</th>\n",
       "      <td>1.178289</td>\n",
       "      <td>1.189851</td>\n",
       "      <td>0.301964</td>\n",
       "      <td>0.318813</td>\n",
       "    </tr>\n",
       "    <tr>\n",
       "      <th>alcohol</th>\n",
       "      <td>0.875025</td>\n",
       "      <td>5.189836</td>\n",
       "      <td>0.326890</td>\n",
       "      <td>0.708347</td>\n",
       "    </tr>\n",
       "  </tbody>\n",
       "</table>\n",
       "</div>"
      ],
      "text/plain": [
       "                          base   base_mm   base_st   base_rb\n",
       "fixed acidity        -0.259351 -0.323921  0.377284  0.370409\n",
       "volatile acidity     -3.365067 -1.968640 -0.302719 -0.333354\n",
       "citric acid          -1.397809 -0.719374 -0.125380 -0.134742\n",
       "residual sugar        0.033494  1.523376  1.397190  1.887616\n",
       "chlorides            -0.878720 -1.732374 -0.193515 -0.140249\n",
       "free sulfur dioxide   0.010009  1.307736  0.133069  0.193410\n",
       "total sulfur dioxide -0.004026 -0.897575 -0.033152 -0.070191\n",
       "density              -3.447413 -0.836087 -1.857244 -2.267571\n",
       "pH                   -0.081560  1.444941  0.558407  0.658712\n",
       "sulphates             1.178289  1.189851  0.301964  0.318813\n",
       "alcohol               0.875025  5.189836  0.326890  0.708347"
      ]
     },
     "execution_count": 43,
     "metadata": {},
     "output_type": "execute_result"
    }
   ],
   "source": [
    "df2 = df2.set_index(X_train.columns)\n",
    "df2"
   ]
  },
  {
   "cell_type": "markdown",
   "id": "d62ed8c1",
   "metadata": {},
   "source": [
    "<b>The independent term: </b>``.intercept_``\n",
    "\n"
   ]
  },
  {
   "cell_type": "markdown",
   "id": "39ced16c",
   "metadata": {},
   "source": [
    "<b>8. To obtain the intercept of each regression, call the attribute `intercept_` associated to each of your models"
   ]
  },
  {
   "cell_type": "code",
   "execution_count": 44,
   "id": "a7b21f30",
   "metadata": {},
   "outputs": [
    {
     "data": {
      "text/plain": [
       "array([-4.33837293])"
      ]
     },
     "execution_count": 44,
     "metadata": {},
     "output_type": "execute_result"
    }
   ],
   "source": [
    "lr.intercept_"
   ]
  },
  {
   "cell_type": "code",
   "execution_count": 45,
   "id": "d71991b4",
   "metadata": {},
   "outputs": [
    {
     "data": {
      "text/plain": [
       "array([-3.59144931])"
      ]
     },
     "execution_count": 45,
     "metadata": {},
     "output_type": "execute_result"
    }
   ],
   "source": [
    "lr_mm.intercept_"
   ]
  },
  {
   "cell_type": "code",
   "execution_count": 48,
   "id": "b8d4fdfc",
   "metadata": {},
   "outputs": [
    {
     "data": {
      "text/plain": [
       "array([-1.89178317])"
      ]
     },
     "execution_count": 48,
     "metadata": {},
     "output_type": "execute_result"
    }
   ],
   "source": [
    "lr_rb.intercept_"
   ]
  },
  {
   "cell_type": "code",
   "execution_count": 47,
   "id": "8cad5a70",
   "metadata": {},
   "outputs": [
    {
     "data": {
      "text/plain": [
       "array([-1.66647995])"
      ]
     },
     "execution_count": 47,
     "metadata": {},
     "output_type": "execute_result"
    }
   ],
   "source": [
    "lr_st.intercept_"
   ]
  },
  {
   "cell_type": "markdown",
   "id": "36f8dd78",
   "metadata": {},
   "source": [
    "## 4. Model assessment"
   ]
  },
  {
   "cell_type": "markdown",
   "id": "7a45c6a8",
   "metadata": {},
   "source": [
    "<b>1. Using the method `.score()` check the mean accuracy of all models in the train dataset.</b>"
   ]
  },
  {
   "cell_type": "code",
   "execution_count": 59,
   "id": "8d14d949",
   "metadata": {},
   "outputs": [
    {
     "data": {
      "text/plain": [
       "0.7988338192419825"
      ]
     },
     "execution_count": 59,
     "metadata": {},
     "output_type": "execute_result"
    }
   ],
   "source": [
    "lr.score(X_train, y_train)"
   ]
  },
  {
   "cell_type": "code",
   "execution_count": 67,
   "id": "c9a087c3",
   "metadata": {
    "scrolled": true
   },
   "outputs": [
    {
     "data": {
      "text/plain": [
       "0.8028425655976676"
      ]
     },
     "execution_count": 67,
     "metadata": {},
     "output_type": "execute_result"
    }
   ],
   "source": [
    "lr_mm.score(X_train_mMscaled,y_train)"
   ]
  },
  {
   "cell_type": "code",
   "execution_count": 68,
   "id": "09092590",
   "metadata": {},
   "outputs": [
    {
     "data": {
      "text/plain": [
       "0.8050291545189504"
      ]
     },
     "execution_count": 68,
     "metadata": {},
     "output_type": "execute_result"
    }
   ],
   "source": [
    "lr_rb.score(X_train_Rscaled,y_train)"
   ]
  },
  {
   "cell_type": "code",
   "execution_count": 70,
   "id": "0a4ed782",
   "metadata": {},
   "outputs": [
    {
     "data": {
      "text/plain": [
       "0.8050291545189504"
      ]
     },
     "execution_count": 70,
     "metadata": {},
     "output_type": "execute_result"
    }
   ],
   "source": [
    "lr_st.score(X_train_scl_st,y_train)"
   ]
  },
  {
   "cell_type": "markdown",
   "id": "12a21328",
   "metadata": {},
   "source": [
    "<b>2. Now check the mean accuracy for the validation dataset.</b>"
   ]
  },
  {
   "cell_type": "code",
   "execution_count": 76,
   "id": "419e884a",
   "metadata": {},
   "outputs": [
    {
     "data": {
      "text/plain": [
       "0.8078231292517006"
      ]
     },
     "execution_count": 76,
     "metadata": {},
     "output_type": "execute_result"
    }
   ],
   "source": [
    "lr.score(X_test, y_test)"
   ]
  },
  {
   "cell_type": "code",
   "execution_count": 77,
   "id": "baf337c3",
   "metadata": {},
   "outputs": [
    {
     "data": {
      "text/plain": [
       "0.8095238095238095"
      ]
     },
     "execution_count": 77,
     "metadata": {},
     "output_type": "execute_result"
    }
   ],
   "source": [
    "lr_mm.score(X_test_mMscaled, y_test)"
   ]
  },
  {
   "cell_type": "code",
   "execution_count": 78,
   "id": "33c1d167",
   "metadata": {},
   "outputs": [
    {
     "data": {
      "text/plain": [
       "0.8120748299319728"
      ]
     },
     "execution_count": 78,
     "metadata": {},
     "output_type": "execute_result"
    }
   ],
   "source": [
    "lr_rb.score(X_test_Rscaled, y_test)"
   ]
  },
  {
   "cell_type": "code",
   "execution_count": 79,
   "id": "ef13ea7a",
   "metadata": {},
   "outputs": [
    {
     "data": {
      "text/plain": [
       "0.8120748299319728"
      ]
     },
     "execution_count": 79,
     "metadata": {},
     "output_type": "execute_result"
    }
   ],
   "source": [
    "lr_st.score(X_test_st, y_test)"
   ]
  },
  {
   "cell_type": "markdown",
   "id": "54558e41",
   "metadata": {},
   "source": [
    "\n",
    "\n",
    "For now, time to check the confusion matrix of the model for the training and the validation dataset."
   ]
  },
  {
   "cell_type": "markdown",
   "id": "32ab8102",
   "metadata": {},
   "source": [
    "<b>3. For all models, check the classification reports for the training dataset, passing as parameters the ground truth (`y_train`) and the predicted values (`lr_pred`, `lr_pred_mm`, and so on)</b><br>"
   ]
  },
  {
   "cell_type": "code",
   "execution_count": 88,
   "id": "ae3ddeb7",
   "metadata": {},
   "outputs": [
    {
     "name": "stdout",
     "output_type": "stream",
     "text": [
      "              precision    recall  f1-score   support\n",
      "\n",
      "           0       0.82      0.94      0.88      2121\n",
      "           1       0.61      0.30      0.41       623\n",
      "\n",
      "    accuracy                           0.80      2744\n",
      "   macro avg       0.72      0.62      0.64      2744\n",
      "weighted avg       0.78      0.80      0.77      2744\n",
      "\n"
     ]
    }
   ],
   "source": [
    "print(classification_report(y_train, lr_pred))"
   ]
  },
  {
   "cell_type": "code",
   "execution_count": 89,
   "id": "a64fd062",
   "metadata": {},
   "outputs": [
    {
     "name": "stdout",
     "output_type": "stream",
     "text": [
      "              precision    recall  f1-score   support\n",
      "\n",
      "           0       0.82      0.95      0.88      2121\n",
      "           1       0.64      0.30      0.41       623\n",
      "\n",
      "    accuracy                           0.80      2744\n",
      "   macro avg       0.73      0.62      0.64      2744\n",
      "weighted avg       0.78      0.80      0.77      2744\n",
      "\n"
     ]
    }
   ],
   "source": [
    "print(classification_report(y_train, lr_mMscaler_pred))"
   ]
  },
  {
   "cell_type": "code",
   "execution_count": 96,
   "id": "35ca2635",
   "metadata": {},
   "outputs": [
    {
     "name": "stdout",
     "output_type": "stream",
     "text": [
      "              precision    recall  f1-score   support\n",
      "\n",
      "           0       0.83      0.94      0.88      2121\n",
      "           1       0.63      0.35      0.45       623\n",
      "\n",
      "    accuracy                           0.81      2744\n",
      "   macro avg       0.73      0.64      0.66      2744\n",
      "weighted avg       0.78      0.81      0.78      2744\n",
      "\n"
     ]
    }
   ],
   "source": [
    "print(classification_report(y_train, lr_Rscaler_pred))"
   ]
  },
  {
   "cell_type": "code",
   "execution_count": 95,
   "id": "84cf4eea",
   "metadata": {},
   "outputs": [
    {
     "name": "stdout",
     "output_type": "stream",
     "text": [
      "              precision    recall  f1-score   support\n",
      "\n",
      "           0       0.83      0.94      0.88      2121\n",
      "           1       0.63      0.35      0.45       623\n",
      "\n",
      "    accuracy                           0.81      2744\n",
      "   macro avg       0.73      0.64      0.67      2744\n",
      "weighted avg       0.78      0.81      0.78      2744\n",
      "\n"
     ]
    }
   ],
   "source": [
    "print(classification_report(y_train, lr_st_pred))"
   ]
  },
  {
   "cell_type": "markdown",
   "id": "9f3944c9",
   "metadata": {},
   "source": [
    "<b>4. Do the same for the validation dataset.</b>"
   ]
  },
  {
   "cell_type": "code",
   "execution_count": 101,
   "id": "e091a329",
   "metadata": {},
   "outputs": [
    {
     "name": "stdout",
     "output_type": "stream",
     "text": [
      "              precision    recall  f1-score   support\n",
      "\n",
      "           0       0.83      0.95      0.88       909\n",
      "           1       0.66      0.32      0.43       267\n",
      "\n",
      "    accuracy                           0.81      1176\n",
      "   macro avg       0.74      0.63      0.66      1176\n",
      "weighted avg       0.79      0.81      0.78      1176\n",
      "\n"
     ]
    }
   ],
   "source": [
    "print(classification_report(y_test, lr_pred_val))"
   ]
  },
  {
   "cell_type": "code",
   "execution_count": 102,
   "id": "d8cf8684",
   "metadata": {},
   "outputs": [
    {
     "name": "stdout",
     "output_type": "stream",
     "text": [
      "              precision    recall  f1-score   support\n",
      "\n",
      "           0       0.84      0.94      0.89       909\n",
      "           1       0.65      0.37      0.47       267\n",
      "\n",
      "    accuracy                           0.81      1176\n",
      "   macro avg       0.74      0.65      0.68      1176\n",
      "weighted avg       0.79      0.81      0.79      1176\n",
      "\n"
     ]
    }
   ],
   "source": [
    "print(classification_report(y_test, lr_st_pred_val))"
   ]
  },
  {
   "cell_type": "code",
   "execution_count": 104,
   "id": "6d838fce",
   "metadata": {},
   "outputs": [
    {
     "name": "stdout",
     "output_type": "stream",
     "text": [
      "              precision    recall  f1-score   support\n",
      "\n",
      "           0       0.83      0.94      0.89       909\n",
      "           1       0.66      0.36      0.47       267\n",
      "\n",
      "    accuracy                           0.81      1176\n",
      "   macro avg       0.75      0.65      0.68      1176\n",
      "weighted avg       0.79      0.81      0.79      1176\n",
      "\n"
     ]
    }
   ],
   "source": [
    "print(classification_report(y_test, lr_Rscaler_pred_val))"
   ]
  },
  {
   "cell_type": "code",
   "execution_count": 105,
   "id": "fd49fc1c",
   "metadata": {},
   "outputs": [
    {
     "name": "stdout",
     "output_type": "stream",
     "text": [
      "              precision    recall  f1-score   support\n",
      "\n",
      "           0       0.83      0.95      0.89       909\n",
      "           1       0.67      0.32      0.43       267\n",
      "\n",
      "    accuracy                           0.81      1176\n",
      "   macro avg       0.75      0.64      0.66      1176\n",
      "weighted avg       0.79      0.81      0.78      1176\n",
      "\n"
     ]
    }
   ],
   "source": [
    "print(classification_report(y_test, lr_mMscaler_pred_val))"
   ]
  },
  {
   "cell_type": "markdown",
   "id": "f85a07ce",
   "metadata": {},
   "source": [
    "__Can we improve the results above?__ <br>\n",
    "\n",
    "<br><br><br><br><br><br><br>Let's try with data partitions"
   ]
  },
  {
   "cell_type": "markdown",
   "id": "5a49f58e",
   "metadata": {},
   "source": [
    "## 5. Data partitions\n",
    "\n",
    "Let's try K-Fold and Repeated K-Fold"
   ]
  },
  {
   "cell_type": "markdown",
   "id": "dd415574",
   "metadata": {},
   "source": [
    "<b>1. Import `KFold` and `RepeatedKFold` from `sklearn.model_selection`</b>"
   ]
  },
  {
   "cell_type": "code",
   "execution_count": 106,
   "id": "ee4813ca",
   "metadata": {},
   "outputs": [],
   "source": [
    "from sklearn.model_selection import KFold, RepeatedKFold"
   ]
  },
  {
   "cell_type": "markdown",
   "id": "605cfdcd",
   "metadata": {},
   "source": [
    "<b>2. Create a function named as `run_model_LR` that receives as parameters the dependent variable and the independent variables and returns a fitted Logistic Regression model to the data. </b>"
   ]
  },
  {
   "cell_type": "code",
   "execution_count": 121,
   "id": "23554716",
   "metadata": {},
   "outputs": [],
   "source": [
    "def run_model_LR(X, y):\n",
    "    return LogisticRegression().fit(X,y)"
   ]
  },
  {
   "cell_type": "markdown",
   "id": "a97edcb1",
   "metadata": {},
   "source": [
    "<b>3. Create a function named as `evaluate_model` that receives as parameters the model, the independent variables, the dependent variable, and the model's prevision, and returns the ``score`` method result, and the f1 score.</b>"
   ]
  },
  {
   "cell_type": "code",
   "execution_count": 130,
   "id": "b5575063-60f0-4a81-962d-748b097584f6",
   "metadata": {},
   "outputs": [],
   "source": [
    "import sklearn"
   ]
  },
  {
   "cell_type": "code",
   "execution_count": 131,
   "id": "bb92f1ab",
   "metadata": {},
   "outputs": [],
   "source": [
    "def evaluate_model(model, X, y, prediction):\n",
    "    return [model.score(X, y), sklearn.metrics.f1_score(y, prediction)]"
   ]
  },
  {
   "cell_type": "markdown",
   "id": "2c3f6324",
   "metadata": {},
   "source": [
    "<b>4. Run the cell below to create a function named `avg_scores_LR` that will return the average score value for the train and the test set. This will have as parameters the partition technique you are going to use, your dependent variable and your independent variables.</b>"
   ]
  },
  {
   "cell_type": "code",
   "execution_count": 132,
   "id": "0cd83d99",
   "metadata": {},
   "outputs": [],
   "source": [
    "def avg_scores_LR(method,X,y):\n",
    "    score_train = []\n",
    "    score_test = []\n",
    "    f1_train = []\n",
    "    f1_test = []\n",
    "\n",
    "    for train_index, test_index in method.split(X):\n",
    "        X_train, X_test = X.iloc[train_index], X.iloc[test_index]\n",
    "        y_train, y_test = y.iloc[train_index], y.iloc[test_index]\n",
    "        model = run_model_LR(X_train, y_train)\n",
    "        pred_train = model.predict(X_train)\n",
    "        pred_test = model.predict(X_test)\n",
    "        value_train = evaluate_model(model, X_train, y_train, pred_train)\n",
    "        value_test = evaluate_model(model,X_test,y_test,pred_test)\n",
    "        score_train.append(value_train[0])\n",
    "        score_test.append(value_test[0])\n",
    "        f1_train.append(value_train[1])\n",
    "        f1_test.append(value_test[1])\n",
    "\n",
    "    print('Train score:', np.mean(score_train))\n",
    "    print('Test score:', np.mean(score_test))\n",
    "    \n",
    "    print('Train f1:', np.mean(f1_train))\n",
    "    print('Test f1:', np.mean(f1_test))\n",
    "    "
   ]
  },
  {
   "cell_type": "markdown",
   "id": "841f77f5",
   "metadata": {},
   "source": [
    "<b>5. Create a KFold Instance where the number of splits is 10 (*n_splits*) and name it as `kf`</b>"
   ]
  },
  {
   "cell_type": "code",
   "execution_count": 133,
   "id": "f56f3b1a",
   "metadata": {},
   "outputs": [],
   "source": [
    "kf = KFold(n_splits=10)"
   ]
  },
  {
   "cell_type": "markdown",
   "id": "3194dd60",
   "metadata": {},
   "source": [
    "\n",
    "\n",
    "<b>6. Call the function `avg_scores_LR` and check the average score for the train and the test sets using `kf`</b>\n",
    "\n",
    "\n",
    "\n"
   ]
  },
  {
   "cell_type": "code",
   "execution_count": 134,
   "id": "250464c2",
   "metadata": {},
   "outputs": [
    {
     "name": "stdout",
     "output_type": "stream",
     "text": [
      "Train score: 0.7992346938775511\n",
      "Test score: 0.797704081632653\n",
      "Train f1: 0.4142502483591306\n",
      "Test f1: 0.35786519585487303\n"
     ]
    }
   ],
   "source": [
    "avg_scores_LR(kf, X, y)"
   ]
  },
  {
   "cell_type": "markdown",
   "id": "bd2878e2",
   "metadata": {},
   "source": [
    "<b>7. Create a RepeatedKFold Instance where `n_splits = 7` and `n_repeats = 3` and name it as `rkf`. Then, Call the function `avg_scores_LR` and check the average score for the train and the test sets using `rkf`</b>"
   ]
  },
  {
   "cell_type": "code",
   "execution_count": 139,
   "id": "5516d041",
   "metadata": {},
   "outputs": [],
   "source": [
    "rkf = RepeatedKFold(n_splits = 7, n_repeats=3)"
   ]
  },
  {
   "cell_type": "code",
   "execution_count": 140,
   "id": "6125f1ab-7f4f-49c6-9d86-81ff19170ccc",
   "metadata": {},
   "outputs": [
    {
     "name": "stdout",
     "output_type": "stream",
     "text": [
      "Train score: 0.7997448979591836\n",
      "Test score: 0.796938775510204\n",
      "Train f1: 0.4143300571846926\n",
      "Test f1: 0.4058923985606056\n"
     ]
    }
   ],
   "source": [
    "avg_scores_LR(rkf, X, y)"
   ]
  },
  {
   "cell_type": "markdown",
   "id": "53712678",
   "metadata": {},
   "source": [
    "## 6. Deploy"
   ]
  },
  {
   "cell_type": "markdown",
   "id": "6964735d",
   "metadata": {},
   "source": [
    "What we really want to do is classify the unclassified data. So, after being already satisfied with our model, we can now predict the target to the new dataset."
   ]
  },
  {
   "cell_type": "markdown",
   "id": "5558caba",
   "metadata": {},
   "source": [
    "<b>1. Import the dataset from `Datasets/wq_classify` and save it in a variable</b>"
   ]
  },
  {
   "cell_type": "code",
   "execution_count": 143,
   "id": "c4279f0e",
   "metadata": {},
   "outputs": [
    {
     "data": {
      "text/html": [
       "<div>\n",
       "<style scoped>\n",
       "    .dataframe tbody tr th:only-of-type {\n",
       "        vertical-align: middle;\n",
       "    }\n",
       "\n",
       "    .dataframe tbody tr th {\n",
       "        vertical-align: top;\n",
       "    }\n",
       "\n",
       "    .dataframe thead th {\n",
       "        text-align: right;\n",
       "    }\n",
       "</style>\n",
       "<table border=\"1\" class=\"dataframe\">\n",
       "  <thead>\n",
       "    <tr style=\"text-align: right;\">\n",
       "      <th></th>\n",
       "      <th>fixed acidity</th>\n",
       "      <th>volatile acidity</th>\n",
       "      <th>citric acid</th>\n",
       "      <th>residual sugar</th>\n",
       "      <th>chlorides</th>\n",
       "      <th>free sulfur dioxide</th>\n",
       "      <th>total sulfur dioxide</th>\n",
       "      <th>density</th>\n",
       "      <th>pH</th>\n",
       "      <th>sulphates</th>\n",
       "      <th>alcohol</th>\n",
       "    </tr>\n",
       "  </thead>\n",
       "  <tbody>\n",
       "    <tr>\n",
       "      <th>0</th>\n",
       "      <td>7.4</td>\n",
       "      <td>0.25</td>\n",
       "      <td>0.37</td>\n",
       "      <td>2.6</td>\n",
       "      <td>0.050</td>\n",
       "      <td>24.0</td>\n",
       "      <td>132.0</td>\n",
       "      <td>0.99138</td>\n",
       "      <td>3.04</td>\n",
       "      <td>0.53</td>\n",
       "      <td>11.2</td>\n",
       "    </tr>\n",
       "    <tr>\n",
       "      <th>1</th>\n",
       "      <td>7.3</td>\n",
       "      <td>0.36</td>\n",
       "      <td>0.34</td>\n",
       "      <td>14.8</td>\n",
       "      <td>0.057</td>\n",
       "      <td>46.0</td>\n",
       "      <td>173.0</td>\n",
       "      <td>0.99751</td>\n",
       "      <td>3.14</td>\n",
       "      <td>0.57</td>\n",
       "      <td>10.2</td>\n",
       "    </tr>\n",
       "  </tbody>\n",
       "</table>\n",
       "</div>"
      ],
      "text/plain": [
       "   fixed acidity  volatile acidity  citric acid  residual sugar  chlorides  \\\n",
       "0            7.4              0.25         0.37             2.6      0.050   \n",
       "1            7.3              0.36         0.34            14.8      0.057   \n",
       "\n",
       "   free sulfur dioxide  total sulfur dioxide  density    pH  sulphates  \\\n",
       "0                 24.0                 132.0  0.99138  3.04       0.53   \n",
       "1                 46.0                 173.0  0.99751  3.14       0.57   \n",
       "\n",
       "   alcohol  \n",
       "0     11.2  \n",
       "1     10.2  "
      ]
     },
     "execution_count": 143,
     "metadata": {},
     "output_type": "execute_result"
    }
   ],
   "source": [
    "data = pd.read_csv(\"Datasets/wq_classify.csv\")\n",
    "data.head(2)"
   ]
  },
  {
   "cell_type": "markdown",
   "id": "bb2c14e0",
   "metadata": {},
   "source": [
    "<b>2. Using the `.predict()` method and the model you consider the best (one of `lr`, `lr_mm`, `lr_st`, `lr_rb`), predict the target on the new dataset, and assign each set of values to a variable. Then, assign the variable to a column named `quality_lr`</b>"
   ]
  },
  {
   "cell_type": "code",
   "execution_count": 160,
   "id": "01b5a93c-41ba-4ed4-a96a-c35d7961c933",
   "metadata": {},
   "outputs": [],
   "source": [
    "standardizer = StandardScaler()\n",
    "data_standardized = standardizer.fit_transform(data)\n"
   ]
  },
  {
   "cell_type": "code",
   "execution_count": 161,
   "id": "350d7864",
   "metadata": {},
   "outputs": [
    {
     "data": {
      "text/plain": [
       "array([0, 0, 1, 0, 0, 0, 0, 0, 0, 0, 0, 1, 0, 0, 0, 0, 0, 0, 0, 0, 0, 0,\n",
       "       0, 0, 0, 0, 1, 1, 0, 0, 0, 0, 0, 0, 0, 0, 0, 0, 0, 0, 0, 0, 1, 0,\n",
       "       0, 0, 0, 0, 0, 0, 0, 0, 0, 0, 0, 1, 1, 1, 0, 0, 0, 0, 1, 0, 1, 0,\n",
       "       0, 0, 0, 0, 0, 0, 0, 0, 0, 0, 0, 1, 0, 0, 0, 0, 0, 0, 0, 0, 1, 0,\n",
       "       0, 0, 0, 1, 0, 0, 0, 0, 0, 0, 0, 0, 0, 0, 0, 0, 0, 1, 0, 0, 1, 0,\n",
       "       0, 0, 0, 0, 0, 0, 0, 0, 0, 0, 0, 0, 0, 0, 0, 0, 0, 0, 0, 0, 0, 0,\n",
       "       0, 0, 0, 0, 0, 0, 0, 0, 0, 0, 0, 0, 0, 1, 0, 0, 0, 0, 0, 0, 0, 0,\n",
       "       0, 0, 0, 0, 0, 0, 0, 0, 0, 0, 0, 0, 0, 0, 0, 0, 0, 0, 0, 0, 1, 0,\n",
       "       0, 0, 0, 0, 0, 0, 0, 0, 0, 0, 0, 0, 0, 1, 0, 0, 0, 0, 0, 0, 0, 0,\n",
       "       0, 0, 0, 0, 0, 0, 0, 0, 0, 0, 0, 1, 0, 0, 0, 0, 1, 1, 1, 0, 0, 0,\n",
       "       0, 0, 0, 0, 0, 0, 0, 0, 0, 1, 0, 1, 0, 0, 0, 0, 0, 0, 0, 0, 0, 0,\n",
       "       0, 0, 0, 0, 0, 1, 1, 1, 0, 1, 0, 0, 0, 0, 0, 0, 0, 0, 0, 0, 0, 0,\n",
       "       1, 0, 0, 1, 0, 0, 0, 0, 0, 0, 0, 0, 1, 0, 0, 0, 0, 0, 1, 0, 0, 0,\n",
       "       0, 0, 0, 1, 0, 0, 0, 0, 0, 0, 0, 0, 0, 0, 0, 0, 0, 0, 1, 0, 0, 0,\n",
       "       0, 0, 0, 0, 0, 0, 0, 0, 0, 0, 0, 1, 0, 0, 0, 0, 0, 0, 0, 0, 0, 0,\n",
       "       0, 0, 0, 0, 0, 0, 0, 0, 0, 1, 0, 1, 0, 0, 1, 0, 1, 1, 0, 0, 0, 0,\n",
       "       0, 0, 0, 0, 1, 0, 0, 0, 0, 0, 0, 0, 0, 0, 0, 0, 0, 0, 0, 0, 0, 0,\n",
       "       0, 0, 0, 0, 1, 0, 0, 0, 0, 1, 0, 0, 0, 0, 0, 1, 0, 0, 1, 0, 0, 1,\n",
       "       0, 0, 0, 1, 0, 0, 0, 0, 0, 0, 0, 0, 0, 0, 0, 0, 0, 0, 0, 0, 0, 0,\n",
       "       0, 0, 0, 0, 0, 0, 0, 0, 0, 0, 0, 0, 1, 1, 0, 0, 0, 1, 0, 0, 0, 0,\n",
       "       0, 1, 0, 0, 0, 0, 1, 0, 0, 0, 0, 0, 0, 0, 0, 0, 0, 1, 0, 0, 0, 0,\n",
       "       0, 1, 0, 0, 0, 0, 0, 0, 0, 0, 0, 0, 0, 0, 0, 0, 0, 0, 0, 1, 0, 0,\n",
       "       0, 0, 1, 0, 0, 1, 0, 1, 0, 1, 0, 0, 0, 0, 0, 0, 0, 0, 0, 0, 0, 0,\n",
       "       0, 0, 0, 0, 0, 1, 1, 0, 0, 0, 0, 0, 0, 0, 0, 0, 0, 0, 0, 0, 1, 0,\n",
       "       0, 0, 0, 0, 0, 0, 0, 0, 0, 0, 1, 0, 0, 0, 1, 0, 0, 0, 0, 0, 0, 0,\n",
       "       1, 1, 0, 0, 0, 1, 1, 0, 0, 0, 1, 0, 0, 0, 0, 1, 0, 0, 0, 0, 0, 1,\n",
       "       0, 0, 0, 0, 0, 0, 0, 0, 0, 0, 0, 1, 0, 0, 1, 0, 0, 0, 1, 0, 0, 0,\n",
       "       0, 0, 0, 0, 0, 0, 0, 0, 0, 0, 0, 0, 0, 0, 0, 0, 0, 0, 0, 0, 0, 0,\n",
       "       0, 0, 0, 0, 1, 1, 0, 0, 1, 0, 0, 0, 0, 0, 0, 0, 1, 1, 1, 0, 0, 0,\n",
       "       0, 0, 1, 0, 0, 0, 0, 0, 0, 0, 0, 0, 0, 1, 1, 1, 1, 0, 0, 0, 1, 0,\n",
       "       0, 0, 0, 0, 0, 1, 0, 0, 0, 0, 0, 0, 0, 0, 1, 0, 1, 0, 0, 0, 0, 0,\n",
       "       0, 0, 0, 0, 0, 0, 0, 0, 0, 0, 0, 0, 0, 0, 0, 1, 0, 0, 0, 0, 1, 1,\n",
       "       1, 0, 0, 0, 0, 0, 0, 0, 0, 0, 0, 0, 0, 0, 0, 0, 0, 0, 1, 0, 0, 1,\n",
       "       0, 0, 0, 0, 0, 1, 0, 1, 0, 0, 0, 0, 1, 0, 0, 0, 1, 0, 0, 1, 0, 0,\n",
       "       0, 0, 0, 0, 0, 0, 0, 0, 0, 0, 0, 0, 0, 1, 0, 0, 0, 0, 0, 0, 0, 0,\n",
       "       0, 0, 0, 0, 0, 1, 1, 1, 0, 0, 0, 0, 0, 0, 0, 0, 0, 0, 0, 1, 0, 0,\n",
       "       0, 0, 0, 0, 0, 0, 0, 0, 0, 0, 0, 0, 0, 0, 0, 0, 0, 0, 0, 0, 0, 0,\n",
       "       0, 0, 0, 0, 1, 0, 0, 0, 0, 0, 0, 1, 0, 0, 0, 0, 0, 0, 1, 1, 0, 0,\n",
       "       1, 1, 0, 0, 0, 0, 0, 0, 0, 1, 0, 0, 0, 0, 0, 0, 0, 0, 0, 0, 0, 0,\n",
       "       0, 0, 0, 0, 0, 0, 0, 0, 1, 1, 0, 0, 0, 0, 1, 0, 0, 0, 0, 0, 0, 0,\n",
       "       0, 0, 0, 0, 0, 0, 0, 0, 0, 0, 0, 0, 0, 0, 0, 1, 0, 0, 1, 0, 0, 0,\n",
       "       0, 0, 0, 0, 0, 0, 0, 0, 0, 0, 0, 0, 1, 0, 0, 0, 0, 0, 0, 1, 0, 0,\n",
       "       0, 0, 0, 0, 0, 0, 0, 0, 0, 0, 0, 0, 0, 0, 0, 0, 0, 0, 0, 1, 0, 1,\n",
       "       0, 0, 0, 0, 0, 1, 0, 0, 0, 0, 0, 0, 0, 0, 0, 0, 0, 0, 0, 0, 1, 1,\n",
       "       0, 0, 0, 0, 0, 0, 0, 0, 1, 0], dtype=int64)"
      ]
     },
     "execution_count": 161,
     "metadata": {},
     "output_type": "execute_result"
    }
   ],
   "source": [
    "lr_st.predict(data_standardized)"
   ]
  },
  {
   "cell_type": "code",
   "execution_count": 162,
   "id": "218117ce-3e4b-492c-9b61-ce5bc23285da",
   "metadata": {},
   "outputs": [],
   "source": [
    "data[\"Predicted (SLR)\"] = lr_st.predict(data_standardized)"
   ]
  },
  {
   "cell_type": "markdown",
   "id": "3c42ecfd",
   "metadata": {},
   "source": [
    "<b>3. Check the new dataset.</b>"
   ]
  },
  {
   "cell_type": "code",
   "execution_count": 163,
   "id": "83c806fd",
   "metadata": {},
   "outputs": [
    {
     "data": {
      "text/html": [
       "<div>\n",
       "<style scoped>\n",
       "    .dataframe tbody tr th:only-of-type {\n",
       "        vertical-align: middle;\n",
       "    }\n",
       "\n",
       "    .dataframe tbody tr th {\n",
       "        vertical-align: top;\n",
       "    }\n",
       "\n",
       "    .dataframe thead th {\n",
       "        text-align: right;\n",
       "    }\n",
       "</style>\n",
       "<table border=\"1\" class=\"dataframe\">\n",
       "  <thead>\n",
       "    <tr style=\"text-align: right;\">\n",
       "      <th></th>\n",
       "      <th>fixed acidity</th>\n",
       "      <th>volatile acidity</th>\n",
       "      <th>citric acid</th>\n",
       "      <th>residual sugar</th>\n",
       "      <th>chlorides</th>\n",
       "      <th>free sulfur dioxide</th>\n",
       "      <th>total sulfur dioxide</th>\n",
       "      <th>density</th>\n",
       "      <th>pH</th>\n",
       "      <th>sulphates</th>\n",
       "      <th>alcohol</th>\n",
       "      <th>Predicted (SLR)</th>\n",
       "    </tr>\n",
       "  </thead>\n",
       "  <tbody>\n",
       "    <tr>\n",
       "      <th>0</th>\n",
       "      <td>7.4</td>\n",
       "      <td>0.25</td>\n",
       "      <td>0.37</td>\n",
       "      <td>2.6</td>\n",
       "      <td>0.050</td>\n",
       "      <td>24.0</td>\n",
       "      <td>132.0</td>\n",
       "      <td>0.99138</td>\n",
       "      <td>3.04</td>\n",
       "      <td>0.53</td>\n",
       "      <td>11.2</td>\n",
       "      <td>0</td>\n",
       "    </tr>\n",
       "    <tr>\n",
       "      <th>1</th>\n",
       "      <td>7.3</td>\n",
       "      <td>0.36</td>\n",
       "      <td>0.34</td>\n",
       "      <td>14.8</td>\n",
       "      <td>0.057</td>\n",
       "      <td>46.0</td>\n",
       "      <td>173.0</td>\n",
       "      <td>0.99751</td>\n",
       "      <td>3.14</td>\n",
       "      <td>0.57</td>\n",
       "      <td>10.2</td>\n",
       "      <td>0</td>\n",
       "    </tr>\n",
       "    <tr>\n",
       "      <th>2</th>\n",
       "      <td>6.7</td>\n",
       "      <td>0.31</td>\n",
       "      <td>0.30</td>\n",
       "      <td>2.4</td>\n",
       "      <td>0.038</td>\n",
       "      <td>30.0</td>\n",
       "      <td>83.0</td>\n",
       "      <td>0.98867</td>\n",
       "      <td>3.09</td>\n",
       "      <td>0.36</td>\n",
       "      <td>12.8</td>\n",
       "      <td>1</td>\n",
       "    </tr>\n",
       "    <tr>\n",
       "      <th>3</th>\n",
       "      <td>8.6</td>\n",
       "      <td>0.31</td>\n",
       "      <td>0.30</td>\n",
       "      <td>0.9</td>\n",
       "      <td>0.045</td>\n",
       "      <td>16.0</td>\n",
       "      <td>109.0</td>\n",
       "      <td>0.99249</td>\n",
       "      <td>2.95</td>\n",
       "      <td>0.39</td>\n",
       "      <td>10.1</td>\n",
       "      <td>0</td>\n",
       "    </tr>\n",
       "    <tr>\n",
       "      <th>4</th>\n",
       "      <td>8.6</td>\n",
       "      <td>0.31</td>\n",
       "      <td>0.30</td>\n",
       "      <td>0.9</td>\n",
       "      <td>0.045</td>\n",
       "      <td>16.0</td>\n",
       "      <td>109.0</td>\n",
       "      <td>0.99249</td>\n",
       "      <td>2.95</td>\n",
       "      <td>0.39</td>\n",
       "      <td>10.1</td>\n",
       "      <td>0</td>\n",
       "    </tr>\n",
       "    <tr>\n",
       "      <th>...</th>\n",
       "      <td>...</td>\n",
       "      <td>...</td>\n",
       "      <td>...</td>\n",
       "      <td>...</td>\n",
       "      <td>...</td>\n",
       "      <td>...</td>\n",
       "      <td>...</td>\n",
       "      <td>...</td>\n",
       "      <td>...</td>\n",
       "      <td>...</td>\n",
       "      <td>...</td>\n",
       "      <td>...</td>\n",
       "    </tr>\n",
       "    <tr>\n",
       "      <th>973</th>\n",
       "      <td>6.2</td>\n",
       "      <td>0.21</td>\n",
       "      <td>0.29</td>\n",
       "      <td>1.6</td>\n",
       "      <td>0.039</td>\n",
       "      <td>24.0</td>\n",
       "      <td>92.0</td>\n",
       "      <td>0.99114</td>\n",
       "      <td>3.27</td>\n",
       "      <td>0.50</td>\n",
       "      <td>11.2</td>\n",
       "      <td>0</td>\n",
       "    </tr>\n",
       "    <tr>\n",
       "      <th>974</th>\n",
       "      <td>6.6</td>\n",
       "      <td>0.32</td>\n",
       "      <td>0.36</td>\n",
       "      <td>8.0</td>\n",
       "      <td>0.047</td>\n",
       "      <td>57.0</td>\n",
       "      <td>168.0</td>\n",
       "      <td>0.99490</td>\n",
       "      <td>3.15</td>\n",
       "      <td>0.46</td>\n",
       "      <td>9.6</td>\n",
       "      <td>0</td>\n",
       "    </tr>\n",
       "    <tr>\n",
       "      <th>975</th>\n",
       "      <td>6.5</td>\n",
       "      <td>0.24</td>\n",
       "      <td>0.19</td>\n",
       "      <td>1.2</td>\n",
       "      <td>0.041</td>\n",
       "      <td>30.0</td>\n",
       "      <td>111.0</td>\n",
       "      <td>0.99254</td>\n",
       "      <td>2.99</td>\n",
       "      <td>0.46</td>\n",
       "      <td>9.4</td>\n",
       "      <td>0</td>\n",
       "    </tr>\n",
       "    <tr>\n",
       "      <th>976</th>\n",
       "      <td>5.5</td>\n",
       "      <td>0.29</td>\n",
       "      <td>0.30</td>\n",
       "      <td>1.1</td>\n",
       "      <td>0.022</td>\n",
       "      <td>20.0</td>\n",
       "      <td>110.0</td>\n",
       "      <td>0.98869</td>\n",
       "      <td>3.34</td>\n",
       "      <td>0.38</td>\n",
       "      <td>12.8</td>\n",
       "      <td>1</td>\n",
       "    </tr>\n",
       "    <tr>\n",
       "      <th>977</th>\n",
       "      <td>6.0</td>\n",
       "      <td>0.21</td>\n",
       "      <td>0.38</td>\n",
       "      <td>0.8</td>\n",
       "      <td>0.020</td>\n",
       "      <td>22.0</td>\n",
       "      <td>98.0</td>\n",
       "      <td>0.98941</td>\n",
       "      <td>3.26</td>\n",
       "      <td>0.32</td>\n",
       "      <td>11.8</td>\n",
       "      <td>0</td>\n",
       "    </tr>\n",
       "  </tbody>\n",
       "</table>\n",
       "<p>978 rows × 12 columns</p>\n",
       "</div>"
      ],
      "text/plain": [
       "     fixed acidity  volatile acidity  citric acid  residual sugar  chlorides  \\\n",
       "0              7.4              0.25         0.37             2.6      0.050   \n",
       "1              7.3              0.36         0.34            14.8      0.057   \n",
       "2              6.7              0.31         0.30             2.4      0.038   \n",
       "3              8.6              0.31         0.30             0.9      0.045   \n",
       "4              8.6              0.31         0.30             0.9      0.045   \n",
       "..             ...               ...          ...             ...        ...   \n",
       "973            6.2              0.21         0.29             1.6      0.039   \n",
       "974            6.6              0.32         0.36             8.0      0.047   \n",
       "975            6.5              0.24         0.19             1.2      0.041   \n",
       "976            5.5              0.29         0.30             1.1      0.022   \n",
       "977            6.0              0.21         0.38             0.8      0.020   \n",
       "\n",
       "     free sulfur dioxide  total sulfur dioxide  density    pH  sulphates  \\\n",
       "0                   24.0                 132.0  0.99138  3.04       0.53   \n",
       "1                   46.0                 173.0  0.99751  3.14       0.57   \n",
       "2                   30.0                  83.0  0.98867  3.09       0.36   \n",
       "3                   16.0                 109.0  0.99249  2.95       0.39   \n",
       "4                   16.0                 109.0  0.99249  2.95       0.39   \n",
       "..                   ...                   ...      ...   ...        ...   \n",
       "973                 24.0                  92.0  0.99114  3.27       0.50   \n",
       "974                 57.0                 168.0  0.99490  3.15       0.46   \n",
       "975                 30.0                 111.0  0.99254  2.99       0.46   \n",
       "976                 20.0                 110.0  0.98869  3.34       0.38   \n",
       "977                 22.0                  98.0  0.98941  3.26       0.32   \n",
       "\n",
       "     alcohol  Predicted (SLR)  \n",
       "0       11.2                0  \n",
       "1       10.2                0  \n",
       "2       12.8                1  \n",
       "3       10.1                0  \n",
       "4       10.1                0  \n",
       "..       ...              ...  \n",
       "973     11.2                0  \n",
       "974      9.6                0  \n",
       "975      9.4                0  \n",
       "976     12.8                1  \n",
       "977     11.8                0  \n",
       "\n",
       "[978 rows x 12 columns]"
      ]
     },
     "execution_count": 163,
     "metadata": {},
     "output_type": "execute_result"
    }
   ],
   "source": [
    "data"
   ]
  },
  {
   "cell_type": "markdown",
   "id": "40866036",
   "metadata": {},
   "source": [
    "Now we have already predicted the target for our new dataset!"
   ]
  },
  {
   "cell_type": "markdown",
   "id": "d87e376a",
   "metadata": {},
   "source": [
    "Sources:\n",
    "\n",
    "https://medium.com/@syedar.sohail/outlier-handling-using-robust-scaler-a-python-tutorial-613d174b58eb"
   ]
  }
 ],
 "metadata": {
  "kernelspec": {
   "display_name": "Python 3 (ipykernel)",
   "language": "python",
   "name": "python3"
  },
  "language_info": {
   "codemirror_mode": {
    "name": "ipython",
    "version": 3
   },
   "file_extension": ".py",
   "mimetype": "text/x-python",
   "name": "python",
   "nbconvert_exporter": "python",
   "pygments_lexer": "ipython3",
   "version": "3.12.4"
  }
 },
 "nbformat": 4,
 "nbformat_minor": 5
}
