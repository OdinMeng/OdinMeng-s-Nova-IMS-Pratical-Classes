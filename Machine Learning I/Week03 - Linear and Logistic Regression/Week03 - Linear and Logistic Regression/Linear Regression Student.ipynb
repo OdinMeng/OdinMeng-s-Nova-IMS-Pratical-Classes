{
 "cells": [
  {
   "cell_type": "markdown",
   "metadata": {},
   "source": [
    "# Linear Regression"
   ]
  },
  {
   "cell_type": "code",
   "execution_count": 5,
   "metadata": {},
   "outputs": [],
   "source": [
    "import pandas as pd\n",
    "import matplotlib.pyplot as plt\n",
    "from sklearn.metrics import r2_score"
   ]
  },
  {
   "cell_type": "markdown",
   "metadata": {},
   "source": [
    "You are going to work with the following dataset:"
   ]
  },
  {
   "cell_type": "code",
   "execution_count": 6,
   "metadata": {},
   "outputs": [
    {
     "data": {
      "text/html": [
       "<div>\n",
       "<style scoped>\n",
       "    .dataframe tbody tr th:only-of-type {\n",
       "        vertical-align: middle;\n",
       "    }\n",
       "\n",
       "    .dataframe tbody tr th {\n",
       "        vertical-align: top;\n",
       "    }\n",
       "\n",
       "    .dataframe thead th {\n",
       "        text-align: right;\n",
       "    }\n",
       "</style>\n",
       "<table border=\"1\" class=\"dataframe\">\n",
       "  <thead>\n",
       "    <tr style=\"text-align: right;\">\n",
       "      <th></th>\n",
       "      <th>sugar</th>\n",
       "      <th>heart_rate</th>\n",
       "    </tr>\n",
       "  </thead>\n",
       "  <tbody>\n",
       "    <tr>\n",
       "      <th>0</th>\n",
       "      <td>75</td>\n",
       "      <td>62</td>\n",
       "    </tr>\n",
       "    <tr>\n",
       "      <th>1</th>\n",
       "      <td>100</td>\n",
       "      <td>69</td>\n",
       "    </tr>\n",
       "    <tr>\n",
       "      <th>2</th>\n",
       "      <td>132</td>\n",
       "      <td>79</td>\n",
       "    </tr>\n",
       "    <tr>\n",
       "      <th>3</th>\n",
       "      <td>114</td>\n",
       "      <td>71</td>\n",
       "    </tr>\n",
       "    <tr>\n",
       "      <th>4</th>\n",
       "      <td>99</td>\n",
       "      <td>53</td>\n",
       "    </tr>\n",
       "    <tr>\n",
       "      <th>5</th>\n",
       "      <td>153</td>\n",
       "      <td>84</td>\n",
       "    </tr>\n",
       "  </tbody>\n",
       "</table>\n",
       "</div>"
      ],
      "text/plain": [
       "   sugar  heart_rate\n",
       "0     75          62\n",
       "1    100          69\n",
       "2    132          79\n",
       "3    114          71\n",
       "4     99          53\n",
       "5    153          84"
      ]
     },
     "execution_count": 6,
     "metadata": {},
     "output_type": "execute_result"
    }
   ],
   "source": [
    "heart = pd.DataFrame({'sugar':[75,100,132,114,99,153],'heart_rate':[62,69,79,71,53,84]})\n",
    "heart"
   ]
  },
  {
   "cell_type": "markdown",
   "metadata": {},
   "source": [
    "## Making it by \"hand\""
   ]
  },
  {
   "cell_type": "markdown",
   "metadata": {},
   "source": [
    "First, let's build step by step a simple linear regression. \n",
    "The line fitted to the set of points with the estimation of $\\beta_1$ and $\\beta_0$  by the least squares method is called the least squares line and has the equation:\n",
    "$$ \\hat{y_{i}} =  \\beta_1 \\cdot  x_{i} + \\beta_0 $$\n",
    "Where $\\beta_1$ is estimated by the formula:\n",
    "\n",
    "$$\n",
    "\\hat{\\beta_1} = \\frac{\\sum \\left( x_{i} - \\bar{x} \\right) \\left( y_{i} - \\bar{y} \\right)}{\\sum \\left( x_{i} - \\bar{x} \\right)^{2}}\n",
    "$$\n",
    "\n",
    "And the intercept $\\beta_0$ is estimated by:\n",
    "\n",
    "$$\n",
    "\\hat{\\beta_0} = \\bar{y} - \\hat{\\beta_1} \\bar{x}\n",
    "$$\n",
    "\n",
    "Note that this is a **simple linear regression**, as we have only one explanatory variable.\n"
   ]
  },
  {
   "cell_type": "markdown",
   "metadata": {},
   "source": [
    "### 1. Try to calculate the regression equation associated to the dataset step by step and predict the value for a sugar level of 89\n",
    "- <b>1.1.</b> Calculate the mean of the values in your X and assign it to the object ``mean_sugar``. In the same way, calculate the mean of your target and assign it to the object ``mean_heart_rate``"
   ]
  },
  {
   "cell_type": "code",
   "execution_count": 46,
   "metadata": {},
   "outputs": [
    {
     "name": "stdout",
     "output_type": "stream",
     "text": [
      "Mu_sugar : 112.16666666666667 | Mu_heartrate : 69.66666666666667\n"
     ]
    }
   ],
   "source": [
    "mean_sugar = heart.sugar.mean()\n",
    "mean_heart_rate = heart.heart_rate.mean()\n",
    "\n",
    "\n",
    "print(f\"Mu_sugar : {mean_sugar} | Mu_heartrate : {mean_heart_rate}\")\n"
   ]
  },
  {
   "cell_type": "markdown",
   "metadata": {},
   "source": [
    "- <b>1.2.</b> Create a new column in your dataset 'heart' named as ``xi-x_mean`` that will contain $( x_{i}-\\bar{x})$, with x being the `sugar` variable"
   ]
  },
  {
   "cell_type": "code",
   "execution_count": 25,
   "metadata": {},
   "outputs": [],
   "source": [
    "heart['xi-x_mean'] = heart['sugar'] - mean_sugar"
   ]
  },
  {
   "cell_type": "code",
   "execution_count": 26,
   "metadata": {},
   "outputs": [
    {
     "name": "stdout",
     "output_type": "stream",
     "text": [
      "112.16666666666667\n"
     ]
    },
    {
     "data": {
      "text/html": [
       "<div>\n",
       "<style scoped>\n",
       "    .dataframe tbody tr th:only-of-type {\n",
       "        vertical-align: middle;\n",
       "    }\n",
       "\n",
       "    .dataframe tbody tr th {\n",
       "        vertical-align: top;\n",
       "    }\n",
       "\n",
       "    .dataframe thead th {\n",
       "        text-align: right;\n",
       "    }\n",
       "</style>\n",
       "<table border=\"1\" class=\"dataframe\">\n",
       "  <thead>\n",
       "    <tr style=\"text-align: right;\">\n",
       "      <th></th>\n",
       "      <th>sugar</th>\n",
       "      <th>heart_rate</th>\n",
       "      <th>xi-x_mean</th>\n",
       "      <th>yi-y_mean</th>\n",
       "      <th>square(xi-x_mean)</th>\n",
       "      <th>(xi-x_mean)(yi-y_mean)</th>\n",
       "    </tr>\n",
       "  </thead>\n",
       "  <tbody>\n",
       "    <tr>\n",
       "      <th>0</th>\n",
       "      <td>75</td>\n",
       "      <td>62</td>\n",
       "      <td>-37.166667</td>\n",
       "      <td>-7.666667</td>\n",
       "      <td>1381.361111</td>\n",
       "      <td>284.944444</td>\n",
       "    </tr>\n",
       "    <tr>\n",
       "      <th>4</th>\n",
       "      <td>99</td>\n",
       "      <td>53</td>\n",
       "      <td>-13.166667</td>\n",
       "      <td>-16.666667</td>\n",
       "      <td>173.361111</td>\n",
       "      <td>219.444444</td>\n",
       "    </tr>\n",
       "    <tr>\n",
       "      <th>1</th>\n",
       "      <td>100</td>\n",
       "      <td>69</td>\n",
       "      <td>-12.166667</td>\n",
       "      <td>-0.666667</td>\n",
       "      <td>148.027778</td>\n",
       "      <td>8.111111</td>\n",
       "    </tr>\n",
       "    <tr>\n",
       "      <th>3</th>\n",
       "      <td>114</td>\n",
       "      <td>71</td>\n",
       "      <td>1.833333</td>\n",
       "      <td>1.333333</td>\n",
       "      <td>3.361111</td>\n",
       "      <td>2.444444</td>\n",
       "    </tr>\n",
       "    <tr>\n",
       "      <th>2</th>\n",
       "      <td>132</td>\n",
       "      <td>79</td>\n",
       "      <td>19.833333</td>\n",
       "      <td>9.333333</td>\n",
       "      <td>393.361111</td>\n",
       "      <td>185.111111</td>\n",
       "    </tr>\n",
       "    <tr>\n",
       "      <th>5</th>\n",
       "      <td>153</td>\n",
       "      <td>84</td>\n",
       "      <td>40.833333</td>\n",
       "      <td>14.333333</td>\n",
       "      <td>1667.361111</td>\n",
       "      <td>585.277778</td>\n",
       "    </tr>\n",
       "  </tbody>\n",
       "</table>\n",
       "</div>"
      ],
      "text/plain": [
       "   sugar  heart_rate  xi-x_mean  yi-y_mean  square(xi-x_mean)  \\\n",
       "0     75          62 -37.166667  -7.666667        1381.361111   \n",
       "4     99          53 -13.166667 -16.666667         173.361111   \n",
       "1    100          69 -12.166667  -0.666667         148.027778   \n",
       "3    114          71   1.833333   1.333333           3.361111   \n",
       "2    132          79  19.833333   9.333333         393.361111   \n",
       "5    153          84  40.833333  14.333333        1667.361111   \n",
       "\n",
       "   (xi-x_mean)(yi-y_mean)  \n",
       "0              284.944444  \n",
       "4              219.444444  \n",
       "1                8.111111  \n",
       "3                2.444444  \n",
       "2              185.111111  \n",
       "5              585.277778  "
      ]
     },
     "execution_count": 26,
     "metadata": {},
     "output_type": "execute_result"
    }
   ],
   "source": [
    "print(mean_sugar)\n",
    "heart"
   ]
  },
  {
   "cell_type": "markdown",
   "metadata": {},
   "source": [
    "- <b>1.3.</b> Create a new column in your dataset 'heart' named as ``yi-y_mean`` that will contain $( y_{i}-\\bar{y})$, with y being the `heart_rate` variable"
   ]
  },
  {
   "cell_type": "code",
   "execution_count": 27,
   "metadata": {},
   "outputs": [],
   "source": [
    "heart['yi-y_mean'] = heart['heart_rate'] - mean_heart_rate"
   ]
  },
  {
   "cell_type": "code",
   "execution_count": 28,
   "metadata": {},
   "outputs": [
    {
     "data": {
      "text/html": [
       "<div>\n",
       "<style scoped>\n",
       "    .dataframe tbody tr th:only-of-type {\n",
       "        vertical-align: middle;\n",
       "    }\n",
       "\n",
       "    .dataframe tbody tr th {\n",
       "        vertical-align: top;\n",
       "    }\n",
       "\n",
       "    .dataframe thead th {\n",
       "        text-align: right;\n",
       "    }\n",
       "</style>\n",
       "<table border=\"1\" class=\"dataframe\">\n",
       "  <thead>\n",
       "    <tr style=\"text-align: right;\">\n",
       "      <th></th>\n",
       "      <th>sugar</th>\n",
       "      <th>heart_rate</th>\n",
       "      <th>xi-x_mean</th>\n",
       "      <th>yi-y_mean</th>\n",
       "      <th>square(xi-x_mean)</th>\n",
       "      <th>(xi-x_mean)(yi-y_mean)</th>\n",
       "    </tr>\n",
       "  </thead>\n",
       "  <tbody>\n",
       "    <tr>\n",
       "      <th>0</th>\n",
       "      <td>75</td>\n",
       "      <td>62</td>\n",
       "      <td>-37.166667</td>\n",
       "      <td>-7.666667</td>\n",
       "      <td>1381.361111</td>\n",
       "      <td>284.944444</td>\n",
       "    </tr>\n",
       "    <tr>\n",
       "      <th>4</th>\n",
       "      <td>99</td>\n",
       "      <td>53</td>\n",
       "      <td>-13.166667</td>\n",
       "      <td>-16.666667</td>\n",
       "      <td>173.361111</td>\n",
       "      <td>219.444444</td>\n",
       "    </tr>\n",
       "    <tr>\n",
       "      <th>1</th>\n",
       "      <td>100</td>\n",
       "      <td>69</td>\n",
       "      <td>-12.166667</td>\n",
       "      <td>-0.666667</td>\n",
       "      <td>148.027778</td>\n",
       "      <td>8.111111</td>\n",
       "    </tr>\n",
       "    <tr>\n",
       "      <th>3</th>\n",
       "      <td>114</td>\n",
       "      <td>71</td>\n",
       "      <td>1.833333</td>\n",
       "      <td>1.333333</td>\n",
       "      <td>3.361111</td>\n",
       "      <td>2.444444</td>\n",
       "    </tr>\n",
       "    <tr>\n",
       "      <th>2</th>\n",
       "      <td>132</td>\n",
       "      <td>79</td>\n",
       "      <td>19.833333</td>\n",
       "      <td>9.333333</td>\n",
       "      <td>393.361111</td>\n",
       "      <td>185.111111</td>\n",
       "    </tr>\n",
       "    <tr>\n",
       "      <th>5</th>\n",
       "      <td>153</td>\n",
       "      <td>84</td>\n",
       "      <td>40.833333</td>\n",
       "      <td>14.333333</td>\n",
       "      <td>1667.361111</td>\n",
       "      <td>585.277778</td>\n",
       "    </tr>\n",
       "  </tbody>\n",
       "</table>\n",
       "</div>"
      ],
      "text/plain": [
       "   sugar  heart_rate  xi-x_mean  yi-y_mean  square(xi-x_mean)  \\\n",
       "0     75          62 -37.166667  -7.666667        1381.361111   \n",
       "4     99          53 -13.166667 -16.666667         173.361111   \n",
       "1    100          69 -12.166667  -0.666667         148.027778   \n",
       "3    114          71   1.833333   1.333333           3.361111   \n",
       "2    132          79  19.833333   9.333333         393.361111   \n",
       "5    153          84  40.833333  14.333333        1667.361111   \n",
       "\n",
       "   (xi-x_mean)(yi-y_mean)  \n",
       "0              284.944444  \n",
       "4              219.444444  \n",
       "1                8.111111  \n",
       "3                2.444444  \n",
       "2              185.111111  \n",
       "5              585.277778  "
      ]
     },
     "execution_count": 28,
     "metadata": {},
     "output_type": "execute_result"
    }
   ],
   "source": [
    "heart"
   ]
  },
  {
   "cell_type": "markdown",
   "metadata": {},
   "source": [
    "- <b>1.4.</b> Create a new column in your dataset 'heart' named as ``square(xi-x_mean)`` that will be equal to $(x_{i}-\\bar{x})^{2}$"
   ]
  },
  {
   "cell_type": "code",
   "execution_count": 29,
   "metadata": {},
   "outputs": [
    {
     "data": {
      "text/html": [
       "<div>\n",
       "<style scoped>\n",
       "    .dataframe tbody tr th:only-of-type {\n",
       "        vertical-align: middle;\n",
       "    }\n",
       "\n",
       "    .dataframe tbody tr th {\n",
       "        vertical-align: top;\n",
       "    }\n",
       "\n",
       "    .dataframe thead th {\n",
       "        text-align: right;\n",
       "    }\n",
       "</style>\n",
       "<table border=\"1\" class=\"dataframe\">\n",
       "  <thead>\n",
       "    <tr style=\"text-align: right;\">\n",
       "      <th></th>\n",
       "      <th>sugar</th>\n",
       "      <th>heart_rate</th>\n",
       "      <th>xi-x_mean</th>\n",
       "      <th>yi-y_mean</th>\n",
       "      <th>square(xi-x_mean)</th>\n",
       "      <th>(xi-x_mean)(yi-y_mean)</th>\n",
       "    </tr>\n",
       "  </thead>\n",
       "  <tbody>\n",
       "    <tr>\n",
       "      <th>0</th>\n",
       "      <td>75</td>\n",
       "      <td>62</td>\n",
       "      <td>-37.166667</td>\n",
       "      <td>-7.666667</td>\n",
       "      <td>1381.361111</td>\n",
       "      <td>284.944444</td>\n",
       "    </tr>\n",
       "    <tr>\n",
       "      <th>4</th>\n",
       "      <td>99</td>\n",
       "      <td>53</td>\n",
       "      <td>-13.166667</td>\n",
       "      <td>-16.666667</td>\n",
       "      <td>173.361111</td>\n",
       "      <td>219.444444</td>\n",
       "    </tr>\n",
       "    <tr>\n",
       "      <th>1</th>\n",
       "      <td>100</td>\n",
       "      <td>69</td>\n",
       "      <td>-12.166667</td>\n",
       "      <td>-0.666667</td>\n",
       "      <td>148.027778</td>\n",
       "      <td>8.111111</td>\n",
       "    </tr>\n",
       "    <tr>\n",
       "      <th>3</th>\n",
       "      <td>114</td>\n",
       "      <td>71</td>\n",
       "      <td>1.833333</td>\n",
       "      <td>1.333333</td>\n",
       "      <td>3.361111</td>\n",
       "      <td>2.444444</td>\n",
       "    </tr>\n",
       "    <tr>\n",
       "      <th>2</th>\n",
       "      <td>132</td>\n",
       "      <td>79</td>\n",
       "      <td>19.833333</td>\n",
       "      <td>9.333333</td>\n",
       "      <td>393.361111</td>\n",
       "      <td>185.111111</td>\n",
       "    </tr>\n",
       "    <tr>\n",
       "      <th>5</th>\n",
       "      <td>153</td>\n",
       "      <td>84</td>\n",
       "      <td>40.833333</td>\n",
       "      <td>14.333333</td>\n",
       "      <td>1667.361111</td>\n",
       "      <td>585.277778</td>\n",
       "    </tr>\n",
       "  </tbody>\n",
       "</table>\n",
       "</div>"
      ],
      "text/plain": [
       "   sugar  heart_rate  xi-x_mean  yi-y_mean  square(xi-x_mean)  \\\n",
       "0     75          62 -37.166667  -7.666667        1381.361111   \n",
       "4     99          53 -13.166667 -16.666667         173.361111   \n",
       "1    100          69 -12.166667  -0.666667         148.027778   \n",
       "3    114          71   1.833333   1.333333           3.361111   \n",
       "2    132          79  19.833333   9.333333         393.361111   \n",
       "5    153          84  40.833333  14.333333        1667.361111   \n",
       "\n",
       "   (xi-x_mean)(yi-y_mean)  \n",
       "0              284.944444  \n",
       "4              219.444444  \n",
       "1                8.111111  \n",
       "3                2.444444  \n",
       "2              185.111111  \n",
       "5              585.277778  "
      ]
     },
     "execution_count": 29,
     "metadata": {},
     "output_type": "execute_result"
    }
   ],
   "source": [
    "heart['square(xi-x_mean)'] = heart['xi-x_mean']*heart['xi-x_mean']\n",
    "heart"
   ]
  },
  {
   "cell_type": "markdown",
   "metadata": {},
   "source": [
    "- <b>1.5.</b> Create a new column in your dataset 'heart' named as ``(xi-x_mean)(yi-y_mean)`` that will be equal to $( x_{i}-\\bar{x})( y_{i}-\\bar{y})$"
   ]
  },
  {
   "cell_type": "code",
   "execution_count": 30,
   "metadata": {},
   "outputs": [
    {
     "data": {
      "text/html": [
       "<div>\n",
       "<style scoped>\n",
       "    .dataframe tbody tr th:only-of-type {\n",
       "        vertical-align: middle;\n",
       "    }\n",
       "\n",
       "    .dataframe tbody tr th {\n",
       "        vertical-align: top;\n",
       "    }\n",
       "\n",
       "    .dataframe thead th {\n",
       "        text-align: right;\n",
       "    }\n",
       "</style>\n",
       "<table border=\"1\" class=\"dataframe\">\n",
       "  <thead>\n",
       "    <tr style=\"text-align: right;\">\n",
       "      <th></th>\n",
       "      <th>sugar</th>\n",
       "      <th>heart_rate</th>\n",
       "      <th>xi-x_mean</th>\n",
       "      <th>yi-y_mean</th>\n",
       "      <th>square(xi-x_mean)</th>\n",
       "      <th>(xi-x_mean)(yi-y_mean)</th>\n",
       "    </tr>\n",
       "  </thead>\n",
       "  <tbody>\n",
       "    <tr>\n",
       "      <th>0</th>\n",
       "      <td>75</td>\n",
       "      <td>62</td>\n",
       "      <td>-37.166667</td>\n",
       "      <td>-7.666667</td>\n",
       "      <td>1381.361111</td>\n",
       "      <td>284.944444</td>\n",
       "    </tr>\n",
       "    <tr>\n",
       "      <th>4</th>\n",
       "      <td>99</td>\n",
       "      <td>53</td>\n",
       "      <td>-13.166667</td>\n",
       "      <td>-16.666667</td>\n",
       "      <td>173.361111</td>\n",
       "      <td>219.444444</td>\n",
       "    </tr>\n",
       "    <tr>\n",
       "      <th>1</th>\n",
       "      <td>100</td>\n",
       "      <td>69</td>\n",
       "      <td>-12.166667</td>\n",
       "      <td>-0.666667</td>\n",
       "      <td>148.027778</td>\n",
       "      <td>8.111111</td>\n",
       "    </tr>\n",
       "    <tr>\n",
       "      <th>3</th>\n",
       "      <td>114</td>\n",
       "      <td>71</td>\n",
       "      <td>1.833333</td>\n",
       "      <td>1.333333</td>\n",
       "      <td>3.361111</td>\n",
       "      <td>2.444444</td>\n",
       "    </tr>\n",
       "    <tr>\n",
       "      <th>2</th>\n",
       "      <td>132</td>\n",
       "      <td>79</td>\n",
       "      <td>19.833333</td>\n",
       "      <td>9.333333</td>\n",
       "      <td>393.361111</td>\n",
       "      <td>185.111111</td>\n",
       "    </tr>\n",
       "    <tr>\n",
       "      <th>5</th>\n",
       "      <td>153</td>\n",
       "      <td>84</td>\n",
       "      <td>40.833333</td>\n",
       "      <td>14.333333</td>\n",
       "      <td>1667.361111</td>\n",
       "      <td>585.277778</td>\n",
       "    </tr>\n",
       "  </tbody>\n",
       "</table>\n",
       "</div>"
      ],
      "text/plain": [
       "   sugar  heart_rate  xi-x_mean  yi-y_mean  square(xi-x_mean)  \\\n",
       "0     75          62 -37.166667  -7.666667        1381.361111   \n",
       "4     99          53 -13.166667 -16.666667         173.361111   \n",
       "1    100          69 -12.166667  -0.666667         148.027778   \n",
       "3    114          71   1.833333   1.333333           3.361111   \n",
       "2    132          79  19.833333   9.333333         393.361111   \n",
       "5    153          84  40.833333  14.333333        1667.361111   \n",
       "\n",
       "   (xi-x_mean)(yi-y_mean)  \n",
       "0              284.944444  \n",
       "4              219.444444  \n",
       "1                8.111111  \n",
       "3                2.444444  \n",
       "2              185.111111  \n",
       "5              585.277778  "
      ]
     },
     "execution_count": 30,
     "metadata": {},
     "output_type": "execute_result"
    }
   ],
   "source": [
    "heart['(xi-x_mean)(yi-y_mean)'] = heart['xi-x_mean']*heart['yi-y_mean']\n",
    "heart"
   ]
  },
  {
   "cell_type": "markdown",
   "metadata": {},
   "source": [
    "- <b>1.6.</b> Calculate the coefficient of 'sugar' by using the formula below and assign it to the object ``beta1`` <br> <br>\n",
    "$$\\beta _{1} = \\frac{\\sum \\left ( x_{i}-\\bar{x})( y_{i}-\\bar{y}\\right )}{\\sum ( x_{i}-\\bar{x})^{2}}$$"
   ]
  },
  {
   "cell_type": "code",
   "execution_count": 31,
   "metadata": {},
   "outputs": [
    {
     "data": {
      "text/plain": [
       "0.34122383965311276"
      ]
     },
     "execution_count": 31,
     "metadata": {},
     "output_type": "execute_result"
    }
   ],
   "source": [
    "beta1 = (heart['(xi-x_mean)(yi-y_mean)'].sum())/(heart['square(xi-x_mean)'].sum())\n",
    "beta1"
   ]
  },
  {
   "cell_type": "markdown",
   "metadata": {},
   "source": [
    "- <b>1.7.</b> Calculate the intercept and name it as ``beta0`` by using the formula <br><br>\n",
    "\n",
    "$$\\beta _{0} = \\bar{y} - \\beta _{1}\\bar{x} $$"
   ]
  },
  {
   "cell_type": "markdown",
   "metadata": {},
   "source": [
    "- <b>1.8.</b> Predict the heart_rate of a person with a sugar level of $89$"
   ]
  },
  {
   "cell_type": "code",
   "execution_count": 47,
   "metadata": {},
   "outputs": [],
   "source": [
    "heart_rate_predict = beta0 + beta1 * 89 # Replace 89 with desired value"
   ]
  },
  {
   "cell_type": "code",
   "execution_count": 48,
   "metadata": {},
   "outputs": [
    {
     "data": {
      "text/plain": [
       "61.76164771470289"
      ]
     },
     "execution_count": 48,
     "metadata": {},
     "output_type": "execute_result"
    }
   ],
   "source": [
    "heart_rate_predict"
   ]
  },
  {
   "cell_type": "markdown",
   "metadata": {},
   "source": [
    "### Plot your regression!"
   ]
  },
  {
   "cell_type": "code",
   "execution_count": 53,
   "metadata": {
    "scrolled": true
   },
   "outputs": [
    {
     "data": {
      "image/png": "[encoded data removed]",
      "text/plain": [
       "<Figure size 640x480 with 1 Axes>"
      ]
     },
     "metadata": {},
     "output_type": "display_data"
    }
   ],
   "source": [
    "heart = heart.sort_values(by='sugar')\n",
    "\n",
    "X = heart['sugar']\n",
    "y = heart['heart_rate']\n",
    "predictions = []\n",
    "\n",
    "for value in X:\n",
    "    predictions.append(beta0 + beta1*value)\n",
    "\n",
    "fig = plt.figure()\n",
    "plt.plot(X, y, 'r.', markersize=12)\n",
    "plt.plot(X, predictions, 'y-')\n",
    "plt.show()"
   ]
  },
  {
   "cell_type": "code",
   "execution_count": 57,
   "metadata": {},
   "outputs": [
    {
     "data": {
      "text/plain": [
       "0.6946985880160519"
      ]
     },
     "execution_count": 57,
     "metadata": {},
     "output_type": "execute_result"
    }
   ],
   "source": [
    "r2_score(y,predictions) # basically the variance.... without dividing by n\n",
    "# if closer to 1, it explains the variability better"
   ]
  },
  {
   "cell_type": "markdown",
   "metadata": {},
   "source": [
    "# Now, for the Linear Regression model\n",
    "\n",
    "## 1. Import the remaining needed libraries"
   ]
  },
  {
   "cell_type": "markdown",
   "metadata": {},
   "source": [
    "- numpy as np\n",
    "- LinearRegression from sklearn.linear_model\n",
    "- train_test_split from sklearn.model_selection\n",
    "- r2_score from sklearn.metrics"
   ]
  },
  {
   "cell_type": "code",
   "execution_count": 58,
   "metadata": {},
   "outputs": [],
   "source": [
    "\n",
    "import numpy as np\n",
    "from sklearn.linear_model import LinearRegression\n",
    "from sklearn.model_selection import train_test_split\n"
   ]
  },
  {
   "cell_type": "markdown",
   "metadata": {},
   "source": [
    "## 2. Import the dataset"
   ]
  },
  {
   "cell_type": "markdown",
   "metadata": {},
   "source": [
    "Since we are dealing with linear regression, we are going to work with a dataset where the target is continuous. <br>\n",
    "<b>1. Import the dataset `insurance.csv` using pandas, and assign it to an object named `data`</b>"
   ]
  },
  {
   "cell_type": "code",
   "execution_count": 61,
   "metadata": {},
   "outputs": [
    {
     "data": {
      "text/html": [
       "<div>\n",
       "<style scoped>\n",
       "    .dataframe tbody tr th:only-of-type {\n",
       "        vertical-align: middle;\n",
       "    }\n",
       "\n",
       "    .dataframe tbody tr th {\n",
       "        vertical-align: top;\n",
       "    }\n",
       "\n",
       "    .dataframe thead th {\n",
       "        text-align: right;\n",
       "    }\n",
       "</style>\n",
       "<table border=\"1\" class=\"dataframe\">\n",
       "  <thead>\n",
       "    <tr style=\"text-align: right;\">\n",
       "      <th></th>\n",
       "      <th>age</th>\n",
       "      <th>bmi</th>\n",
       "      <th>children</th>\n",
       "      <th>female</th>\n",
       "      <th>northeast</th>\n",
       "      <th>northwest</th>\n",
       "      <th>southeast</th>\n",
       "      <th>smoker</th>\n",
       "      <th>charges</th>\n",
       "    </tr>\n",
       "  </thead>\n",
       "  <tbody>\n",
       "    <tr>\n",
       "      <th>0</th>\n",
       "      <td>19</td>\n",
       "      <td>27.900</td>\n",
       "      <td>0</td>\n",
       "      <td>1</td>\n",
       "      <td>0</td>\n",
       "      <td>0</td>\n",
       "      <td>0</td>\n",
       "      <td>1</td>\n",
       "      <td>16.884924</td>\n",
       "    </tr>\n",
       "    <tr>\n",
       "      <th>1</th>\n",
       "      <td>18</td>\n",
       "      <td>33.770</td>\n",
       "      <td>1</td>\n",
       "      <td>0</td>\n",
       "      <td>0</td>\n",
       "      <td>0</td>\n",
       "      <td>1</td>\n",
       "      <td>0</td>\n",
       "      <td>1.725552</td>\n",
       "    </tr>\n",
       "    <tr>\n",
       "      <th>2</th>\n",
       "      <td>28</td>\n",
       "      <td>33.000</td>\n",
       "      <td>3</td>\n",
       "      <td>0</td>\n",
       "      <td>0</td>\n",
       "      <td>0</td>\n",
       "      <td>1</td>\n",
       "      <td>0</td>\n",
       "      <td>4.449462</td>\n",
       "    </tr>\n",
       "    <tr>\n",
       "      <th>3</th>\n",
       "      <td>33</td>\n",
       "      <td>22.705</td>\n",
       "      <td>0</td>\n",
       "      <td>0</td>\n",
       "      <td>0</td>\n",
       "      <td>1</td>\n",
       "      <td>0</td>\n",
       "      <td>0</td>\n",
       "      <td>21.984471</td>\n",
       "    </tr>\n",
       "    <tr>\n",
       "      <th>4</th>\n",
       "      <td>32</td>\n",
       "      <td>28.880</td>\n",
       "      <td>0</td>\n",
       "      <td>0</td>\n",
       "      <td>0</td>\n",
       "      <td>1</td>\n",
       "      <td>0</td>\n",
       "      <td>0</td>\n",
       "      <td>3.866855</td>\n",
       "    </tr>\n",
       "  </tbody>\n",
       "</table>\n",
       "</div>"
      ],
      "text/plain": [
       "   age     bmi  children  female  northeast  northwest  southeast  smoker  \\\n",
       "0   19  27.900         0       1          0          0          0       1   \n",
       "1   18  33.770         1       0          0          0          1       0   \n",
       "2   28  33.000         3       0          0          0          1       0   \n",
       "3   33  22.705         0       0          0          1          0       0   \n",
       "4   32  28.880         0       0          0          1          0       0   \n",
       "\n",
       "     charges  \n",
       "0  16.884924  \n",
       "1   1.725552  \n",
       "2   4.449462  \n",
       "3  21.984471  \n",
       "4   3.866855  "
      ]
     },
     "execution_count": 61,
     "metadata": {},
     "output_type": "execute_result"
    }
   ],
   "source": [
    "data = pd.read_csv('datasets/insurance.csv')\n",
    "data.head()\n"
   ]
  },
  {
   "cell_type": "markdown",
   "metadata": {},
   "source": [
    "Variables:<br>\n",
    "\n",
    "`INPUT VARIABLES`: numerical<br>\n",
    "`OUPUT VARIABLE`: numeric (regression) <br>\n",
    "\n",
    "__GOAL__: Predict median value of health bill charges\n",
    "\n",
    "`age` : age <br>\n",
    "`bmi` : body mass index value <br>\n",
    "`children`: number of children<br>\n",
    "`female` : whether the individual is a female or not <br>\n",
    "`northeast`: whether the individual lives in the northeast of the US or not <br>\n",
    "`northwest`: whether the individual lives in the northwest of the US or not <br>\n",
    "`southeast`: whether the individual lives in the southeast of the US or not <br>\n",
    "`smoker`: whether the individual is a smoker or not <br>\n",
    "<b>`charges`: Individual medical costs billed by health insurance (in thousands of dollars)</b> <br>\n",
    "\n",
    "**Rmk.** `northeast`, `northwest`, `southeast` are dummy variables for a `region` variable\n"
   ]
  },
  {
   "cell_type": "markdown",
   "metadata": {},
   "source": [
    "## 3. Explore the dataset"
   ]
  },
  {
   "cell_type": "markdown",
   "metadata": {},
   "source": [
    "The next step is to explore our data: while this is not the focus for this class, we are just going to check if we don't have missing values and what is the type of data that we have."
   ]
  },
  {
   "cell_type": "markdown",
   "metadata": {},
   "source": [
    "<b>3. Call the method `info()` to check for any missing values and non-numeric data types</b>"
   ]
  },
  {
   "cell_type": "code",
   "execution_count": 63,
   "metadata": {
    "scrolled": true
   },
   "outputs": [
    {
     "name": "stdout",
     "output_type": "stream",
     "text": [
      "<class 'pandas.core.frame.DataFrame'>\n",
      "RangeIndex: 1338 entries, 0 to 1337\n",
      "Data columns (total 9 columns):\n",
      " #   Column     Non-Null Count  Dtype  \n",
      "---  ------     --------------  -----  \n",
      " 0   age        1338 non-null   int64  \n",
      " 1   bmi        1338 non-null   float64\n",
      " 2   children   1338 non-null   int64  \n",
      " 3   female     1338 non-null   int64  \n",
      " 4   northeast  1338 non-null   int64  \n",
      " 5   northwest  1338 non-null   int64  \n",
      " 6   southeast  1338 non-null   int64  \n",
      " 7   smoker     1338 non-null   int64  \n",
      " 8   charges    1338 non-null   float64\n",
      "dtypes: float64(2), int64(7)\n",
      "memory usage: 94.2 KB\n"
     ]
    }
   ],
   "source": [
    "data.info()"
   ]
  },
  {
   "cell_type": "markdown",
   "metadata": {},
   "source": [
    "\n",
    "By calling the __info()__ method, we can verify that we don't have missing values and all data is numerical, so there is no need to deal with missing data or create dummies. <br>\n",
    "We are ready to apply linear regression in our dataset! But first, and since we want to evaluate the performance of our model, we need to split our dataset into training and validation. Since we only have 1338 observations, we are not going to create a test dataset."
   ]
  },
  {
   "cell_type": "markdown",
   "metadata": {},
   "source": [
    "## 4. Data partition"
   ]
  },
  {
   "cell_type": "markdown",
   "metadata": {},
   "source": [
    "<b>1. By calling the method `train_test_split()`, split your dataset into train (70%) and validation (30%). Don't forget that you need to define first what are your independent variables and your target/dependent variable.</b> <br>\n",
    "\n",
    "- Define as `X` the independent variables and `y` the dependent variable (last column - 'charges')\n",
    "- Divide the `X` into `X_train` and `X_val`, the `y` into `y_train` and `y_val`, and define the following arguments: `test_size = 0.3`, `random_state = 15` "
   ]
  },
  {
   "cell_type": "code",
   "execution_count": 74,
   "metadata": {},
   "outputs": [],
   "source": [
    "X = data.drop(columns=['charges'])\n",
    "y = data['charges']"
   ]
  },
  {
   "cell_type": "code",
   "execution_count": 76,
   "metadata": {},
   "outputs": [],
   "source": [
    "X_train, X_val, y_train, y_val = train_test_split(X, y, test_size=0.3, random_state=15)\n"
   ]
  },
  {
   "cell_type": "markdown",
   "metadata": {},
   "source": [
    "## 5. Basic linear regression\n",
    "\n",
    "### 5.1. The regression"
   ]
  },
  {
   "cell_type": "markdown",
   "metadata": {},
   "source": [
    "<b>1. Create an instance of LinearRegression named as `lr_basic` with the default parameters.</b>"
   ]
  },
  {
   "cell_type": "code",
   "execution_count": 78,
   "metadata": {},
   "outputs": [],
   "source": [
    "lr_basic = LinearRegression()"
   ]
  },
  {
   "cell_type": "code",
   "execution_count": 77,
   "metadata": {},
   "outputs": [],
   "source": [
    "LinearRegression?"
   ]
  },
  {
   "cell_type": "markdown",
   "metadata": {},
   "source": [
    "\n",
    "sklearn documentation: <a href = 'https://scikit-learn.org/stable/modules/generated/sklearn.linear_model.LinearRegression.html'>sklearn.linear_model.LinearRegression()</a>\n",
    "\n"
   ]
  },
  {
   "cell_type": "markdown",
   "metadata": {},
   "source": [
    "<b>2. Fit your model to your data, and define `X = X_train` and `y = y_train`</b>"
   ]
  },
  {
   "cell_type": "code",
   "execution_count": 85,
   "metadata": {},
   "outputs": [
    {
     "data": {
      "text/html": [
       "<style>#sk-container-id-4 {color: black;}#sk-container-id-4 pre{padding: 0;}#sk-container-id-4 div.sk-toggleable {background-color: white;}#sk-container-id-4 label.sk-toggleable__label {cursor: pointer;display: block;width: 100%;margin-bottom: 0;padding: 0.3em;box-sizing: border-box;text-align: center;}#sk-container-id-4 label.sk-toggleable__label-arrow:before {content: \"▸\";float: left;margin-right: 0.25em;color: #696969;}#sk-container-id-4 label.sk-toggleable__label-arrow:hover:before {color: black;}#sk-container-id-4 div.sk-estimator:hover label.sk-toggleable__label-arrow:before {color: black;}#sk-container-id-4 div.sk-toggleable__content {max-height: 0;max-width: 0;overflow: hidden;text-align: left;background-color: #f0f8ff;}#sk-container-id-4 div.sk-toggleable__content pre {margin: 0.2em;color: black;border-radius: 0.25em;background-color: #f0f8ff;}#sk-container-id-4 input.sk-toggleable__control:checked~div.sk-toggleable__content {max-height: 200px;max-width: 100%;overflow: auto;}#sk-container-id-4 input.sk-toggleable__control:checked~label.sk-toggleable__label-arrow:before {content: \"▾\";}#sk-container-id-4 div.sk-estimator input.sk-toggleable__control:checked~label.sk-toggleable__label {background-color: #d4ebff;}#sk-container-id-4 div.sk-label input.sk-toggleable__control:checked~label.sk-toggleable__label {background-color: #d4ebff;}#sk-container-id-4 input.sk-hidden--visually {border: 0;clip: rect(1px 1px 1px 1px);clip: rect(1px, 1px, 1px, 1px);height: 1px;margin: -1px;overflow: hidden;padding: 0;position: absolute;width: 1px;}#sk-container-id-4 div.sk-estimator {font-family: monospace;background-color: #f0f8ff;border: 1px dotted black;border-radius: 0.25em;box-sizing: border-box;margin-bottom: 0.5em;}#sk-container-id-4 div.sk-estimator:hover {background-color: #d4ebff;}#sk-container-id-4 div.sk-parallel-item::after {content: \"\";width: 100%;border-bottom: 1px solid gray;flex-grow: 1;}#sk-container-id-4 div.sk-label:hover label.sk-toggleable__label {background-color: #d4ebff;}#sk-container-id-4 div.sk-serial::before {content: \"\";position: absolute;border-left: 1px solid gray;box-sizing: border-box;top: 0;bottom: 0;left: 50%;z-index: 0;}#sk-container-id-4 div.sk-serial {display: flex;flex-direction: column;align-items: center;background-color: white;padding-right: 0.2em;padding-left: 0.2em;position: relative;}#sk-container-id-4 div.sk-item {position: relative;z-index: 1;}#sk-container-id-4 div.sk-parallel {display: flex;align-items: stretch;justify-content: center;background-color: white;position: relative;}#sk-container-id-4 div.sk-item::before, #sk-container-id-4 div.sk-parallel-item::before {content: \"\";position: absolute;border-left: 1px solid gray;box-sizing: border-box;top: 0;bottom: 0;left: 50%;z-index: -1;}#sk-container-id-4 div.sk-parallel-item {display: flex;flex-direction: column;z-index: 1;position: relative;background-color: white;}#sk-container-id-4 div.sk-parallel-item:first-child::after {align-self: flex-end;width: 50%;}#sk-container-id-4 div.sk-parallel-item:last-child::after {align-self: flex-start;width: 50%;}#sk-container-id-4 div.sk-parallel-item:only-child::after {width: 0;}#sk-container-id-4 div.sk-dashed-wrapped {border: 1px dashed gray;margin: 0 0.4em 0.5em 0.4em;box-sizing: border-box;padding-bottom: 0.4em;background-color: white;}#sk-container-id-4 div.sk-label label {font-family: monospace;font-weight: bold;display: inline-block;line-height: 1.2em;}#sk-container-id-4 div.sk-label-container {text-align: center;}#sk-container-id-4 div.sk-container {/* jupyter's `normalize.less` sets `[hidden] { display: none; }` but bootstrap.min.css set `[hidden] { display: none !important; }` so we also need the `!important` here to be able to override the default hidden behavior on the sphinx rendered scikit-learn.org. See: https://github.com/scikit-learn/scikit-learn/issues/21755 */display: inline-block !important;position: relative;}#sk-container-id-4 div.sk-text-repr-fallback {display: none;}</style><div id=\"sk-container-id-4\" class=\"sk-top-container\"><div class=\"sk-text-repr-fallback\"><pre>LinearRegression()</pre><b>In a Jupyter environment, please rerun this cell to show the HTML representation or trust the notebook. <br />On GitHub, the HTML representation is unable to render, please try loading this page with nbviewer.org.</b></div><div class=\"sk-container\" hidden><div class=\"sk-item\"><div class=\"sk-estimator sk-toggleable\"><input class=\"sk-toggleable__control sk-hidden--visually\" id=\"sk-estimator-id-4\" type=\"checkbox\" checked><label for=\"sk-estimator-id-4\" class=\"sk-toggleable__label sk-toggleable__label-arrow\">LinearRegression</label><div class=\"sk-toggleable__content\"><pre>LinearRegression()</pre></div></div></div></div></div>"
      ],
      "text/plain": [
       "LinearRegression()"
      ]
     },
     "execution_count": 85,
     "metadata": {},
     "output_type": "execute_result"
    }
   ],
   "source": [
    "lr_basic.fit(X = X_train, y = y_train)\n"
   ]
  },
  {
   "cell_type": "markdown",
   "metadata": {},
   "source": [
    "\n",
    "sklearn documentation: <a href = 'https://scikit-learn.org/stable/modules/generated/sklearn.linear_model.LinearRegression.html'>sklearn.linear_model.LinearRegression().predict(X)</a>\n",
    "\n",
    "\n"
   ]
  },
  {
   "cell_type": "markdown",
   "metadata": {},
   "source": [
    "<b>3. Predict the values for `X_val` by applying the method `predict()` to your model, with `X_val` as the one parameter, saving the predictions in a variable named `pred`,and check your result</b>"
   ]
  },
  {
   "cell_type": "code",
   "execution_count": 81,
   "metadata": {
    "scrolled": true
   },
   "outputs": [],
   "source": [
    "pred = lr_basic.predict(X_val)"
   ]
  },
  {
   "cell_type": "code",
   "execution_count": 82,
   "metadata": {},
   "outputs": [
    {
     "data": {
      "text/plain": [
       "array([ 3.36600797e+01,  2.52052429e+01,  3.76025407e+00,  3.27340896e+00,\n",
       "        2.90949432e+00,  7.92138567e+00,  1.05134142e+00,  3.48537898e+01,\n",
       "        8.51628430e+00,  8.68191909e+00,  3.90697886e+00,  5.98724755e+00,\n",
       "        3.60012668e+01,  3.25761339e+01,  5.49752119e+00,  3.73386850e+01,\n",
       "        2.71429857e+01,  9.37204154e+00,  2.98294809e+01,  8.29514983e+00,\n",
       "        5.50124456e+00,  9.55776255e+00,  3.48329512e+00,  1.84015986e+01,\n",
       "        1.18969066e+01,  8.62624823e+00,  7.57501178e+00,  3.87164835e+01,\n",
       "        3.68236087e+00, -9.12240103e-02,  6.73885570e+00,  9.04645045e+00,\n",
       "        5.58730003e+00,  4.07587832e+01,  7.17941908e+00,  5.57074703e+00,\n",
       "        5.60990839e+00,  3.90563691e+00,  6.33878202e+00,  1.13923435e+01,\n",
       "        7.15032678e+00,  1.06302936e+01,  1.56911249e+01,  2.88543280e+00,\n",
       "        1.09708253e+01,  1.11895487e+01,  1.16802019e+01,  6.40182911e+00,\n",
       "        9.54595386e+00,  2.83622238e+01,  1.47050138e+00,  2.21622063e+00,\n",
       "        9.13646725e+00,  1.01910439e+01,  1.27078417e+01,  2.66755093e+01,\n",
       "        1.10028645e+00,  1.25814127e+01,  5.16403772e+00,  1.54713232e+01,\n",
       "        6.47750800e+00,  3.05097090e+01,  2.49837186e+01,  5.38154260e+00,\n",
       "        3.41308526e+01,  3.67719778e+01,  5.03949403e+00,  1.09835059e+01,\n",
       "        1.15769363e+01,  3.36830021e+01,  1.06094549e+01,  5.22152420e+00,\n",
       "        1.08852891e+01,  1.21911802e+01,  8.54786297e-02,  7.51065799e+00,\n",
       "        3.71447397e+01,  1.35194813e+01,  1.87644609e+01,  9.81402238e+00,\n",
       "        1.26856736e+01,  1.17863156e+01,  3.90264424e+01,  2.44936427e+00,\n",
       "        7.82602875e+00,  2.96627081e+01,  1.60383709e+01,  5.17061130e+00,\n",
       "        1.17000799e+01,  3.79335186e+00,  5.46831582e+00,  6.86480210e+00,\n",
       "        3.94193630e+00,  1.03811617e+01,  9.69094929e+00,  7.80811874e+00,\n",
       "        9.80337108e+00,  1.69304752e+01,  1.30087834e+01,  1.22343149e+01,\n",
       "        1.18165465e+01,  3.37913308e+00,  1.07483643e+01,  7.03493047e+00,\n",
       "        1.43839100e+01,  1.18173587e+01,  1.54728190e+01,  3.18684274e+01,\n",
       "        1.09297258e+01,  2.98463155e+00,  2.68739589e+01,  2.74054939e+01,\n",
       "        3.86140369e+00,  1.18081321e+01,  6.29400642e+00,  5.31977043e+00,\n",
       "        4.14074560e+00,  3.46805005e+00,  4.22860774e+00,  3.52849908e+01,\n",
       "        1.08537154e+01,  1.27512965e+01,  3.78009460e+00,  8.50649736e+00,\n",
       "        1.04590661e+01,  2.91373240e+01,  4.41138788e+00,  1.05820623e+01,\n",
       "        3.49919847e+01,  1.07504937e+01,  1.19729870e+01,  5.75477567e+00,\n",
       "        1.27372393e+01,  1.31739329e+01,  1.47930129e+01,  9.97409476e+00,\n",
       "       -6.63271999e-03,  1.51125005e+01,  6.41151817e+00,  7.87557766e+00,\n",
       "        3.39843039e+01,  1.07284924e+01,  5.25605512e+00,  2.16566093e+00,\n",
       "        1.14620013e+01,  8.86479063e+00,  7.83880127e+00,  1.00341782e+01,\n",
       "        1.70984407e+01,  6.87598562e+00,  9.34963532e+00,  5.12327175e+00,\n",
       "        3.92398627e+01,  9.22726519e+00,  1.32710059e+01,  1.16323259e+01,\n",
       "        8.24670576e+00,  1.04110988e+01,  1.26253461e+01,  6.54044730e-01,\n",
       "        1.27438925e+01,  1.07628052e+01,  4.44690694e+00,  6.92509992e+00,\n",
       "        3.18629050e+01,  1.13411407e+01,  4.08744528e+00,  5.79652492e+00,\n",
       "        3.31357057e+01,  2.73850365e+01,  9.42229408e+00,  1.46250782e+01,\n",
       "        3.05948578e+01,  2.72835236e+01, -1.44929413e+00,  9.31132051e+00,\n",
       "        2.87871127e+01,  1.06244179e+01,  3.38838204e+01,  1.12793707e+01,\n",
       "        3.50511434e+01,  1.32771928e+01,  7.52549504e+00,  1.45517711e+01,\n",
       "        4.00170264e-01,  4.96332499e+00,  6.97202904e+00,  3.20092725e+01,\n",
       "        8.75171582e+00,  4.51969190e+00,  1.58385807e+01,  1.00203243e+01,\n",
       "        1.02008180e+01,  3.73223081e+00,  1.03548629e+01,  3.43654192e+01,\n",
       "        4.22015835e+00,  2.50718364e+01,  9.60934025e+00,  7.08889986e+00,\n",
       "        6.03998700e+00,  3.07845479e+00,  1.41625994e+01,  3.69698804e+01,\n",
       "        1.05658506e+01,  6.90006903e+00,  9.40971970e+00,  3.12674724e+01,\n",
       "        1.19627366e+01,  5.81016805e+00,  8.95600833e+00,  3.68405886e+00,\n",
       "        8.33258825e+00,  3.39781690e+01,  7.29236340e+00,  1.10280398e+01,\n",
       "        7.48437913e+00,  1.86998038e-01,  1.11052125e+01,  2.24335845e+00,\n",
       "        9.26895046e+00,  1.33068910e+01,  8.38381141e+00,  4.02704448e+00,\n",
       "        1.13582500e+01,  1.76592750e+00,  6.67381307e+00,  3.55614371e+01,\n",
       "        3.07468935e+01,  2.76617655e+01,  8.63967169e+00,  7.61010572e+00,\n",
       "        7.62176178e+00,  1.64766954e+00,  8.54887788e-01,  1.43881732e+00,\n",
       "        4.02990137e+00,  3.20589398e+01,  2.36480121e+01, -1.78465261e+00,\n",
       "        2.70382060e+01,  2.42219616e+01,  5.91295704e+00,  5.30551244e+00,\n",
       "        1.31479441e+01,  2.18090600e+00,  3.68486208e-01,  4.84132079e+00,\n",
       "        1.51200852e+01,  9.09623785e+00,  9.69557596e+00,  1.71433235e+01,\n",
       "        1.92655006e+00,  1.13478226e+01,  2.60770782e+01,  6.35403197e+00,\n",
       "        3.05377031e+01,  1.17542273e+01,  4.07379935e+00,  2.37598579e+00,\n",
       "        5.54795814e+00,  3.86601765e+01,  1.40797672e+01,  7.91667508e+00,\n",
       "        6.30526687e+00,  1.52461174e+01,  1.49764868e+00,  1.28055487e+01,\n",
       "        1.48257399e+01,  1.33522957e+01,  2.72118714e+01,  1.43806815e+01,\n",
       "        1.50167000e+01,  3.99794577e+01,  2.09711294e+00,  2.72444889e+00,\n",
       "        3.48165586e+01,  7.30719328e-01,  3.26765542e+01,  1.24100803e+01,\n",
       "        7.02311690e+00,  1.40725560e+01,  1.08607649e+01,  7.90975049e+00,\n",
       "        2.37011105e+01,  3.67351740e+01,  1.21808692e+01,  1.49376413e+01,\n",
       "        1.23089303e+01,  3.46217442e+00,  6.15298260e+00,  3.36014140e+01,\n",
       "        9.33861658e+00,  1.43851039e+01,  1.02087041e+01,  1.11461867e+01,\n",
       "        9.43094761e+00,  1.05664867e+01,  5.75214893e+00,  1.28251076e+01,\n",
       "        4.01197099e+01,  4.89557945e+00,  5.53836475e+00,  7.20856653e+00,\n",
       "        3.98284760e+01,  1.02026425e+01,  1.14353713e+01,  2.61153824e+01,\n",
       "        1.32519577e+01,  2.85057097e+01,  3.26718474e+01,  5.71671182e+00,\n",
       "        2.58866635e+01,  6.42621706e+00,  3.72306634e+01,  1.14032190e+01,\n",
       "        3.33584842e+01, -3.71228594e-02,  1.16132768e+01,  5.27057741e+00,\n",
       "        2.61573361e+01,  3.16046464e+00,  5.99438779e+00,  3.51785265e+01,\n",
       "        9.78920026e-01,  3.12174666e+01,  2.37764025e-01,  1.08846120e+01,\n",
       "        5.59745536e+00,  3.00077456e+01,  3.54909860e+01,  1.17963808e+01,\n",
       "        7.50239452e+00,  3.71992914e+01,  3.71602826e+01,  3.69457437e+01,\n",
       "        4.85040909e+00,  1.02024066e+01,  9.33377174e+00, -1.11761986e+00,\n",
       "        5.40034531e+00,  4.89752249e+00,  7.03981962e+00,  3.79700805e+00,\n",
       "        1.35523593e+01,  3.36343676e+00,  3.73075181e+01,  1.54189205e+01,\n",
       "        3.08470122e+01,  1.49884260e+00,  3.68471302e+01,  9.77150677e+00,\n",
       "        3.38143558e+01,  2.49797276e-01,  2.14667087e+00,  6.99077977e+00,\n",
       "        3.69805310e+01,  3.90655121e+01,  4.73087552e+00,  1.60341060e+01,\n",
       "       -1.12699417e+00,  7.01543020e+00,  4.07341114e+00,  8.40523185e+00,\n",
       "        4.26393298e+00,  3.81846456e+01,  2.07263879e+00,  9.73845090e+00,\n",
       "        7.18260087e+00,  2.96299102e+00,  3.56958345e+01,  9.57746826e+00,\n",
       "        9.31263903e+00,  1.13885525e+00,  1.25615738e+01,  1.46519318e+01,\n",
       "        1.23830938e+01,  1.26675935e+01,  3.31441852e+01,  9.96039166e+00,\n",
       "        1.59260164e+01,  4.60487420e+00,  7.04235842e+00,  5.64010479e+00,\n",
       "        3.19885960e+01,  7.91827032e+00,  1.19795088e+01,  1.28190179e+01,\n",
       "        3.99637519e+01,  2.95978868e+01,  5.79189876e+00,  9.43127418e+00,\n",
       "        2.86181804e+01,  3.93289250e+00,  5.77231462e+00,  1.09707000e+01,\n",
       "        7.16897420e+00,  4.22895178e+00,  6.96254237e+00,  2.90371329e+01,\n",
       "        6.12471472e+00,  3.17864453e+00])"
      ]
     },
     "execution_count": 82,
     "metadata": {},
     "output_type": "execute_result"
    }
   ],
   "source": [
    "pred"
   ]
  },
  {
   "cell_type": "markdown",
   "metadata": {},
   "source": [
    "Those are the predicted values to your validation dataset by applying the model created previously based on train data."
   ]
  },
  {
   "cell_type": "markdown",
   "metadata": {},
   "source": [
    "### 5.2. The attributes\n",
    "Before assessing, we can see the values $\\underline{\\beta}=(\\beta_1, \\ldots, \\beta_n)$.\n",
    "\n",
    "<b>Regression coefficients: </b>``.coef_``\n",
    "\n",
    "\n"
   ]
  },
  {
   "cell_type": "markdown",
   "metadata": {},
   "source": [
    "<b>4. To check the coefficients calculated by applying the linear regression, call the attribute `coef_` associated to your model</b>"
   ]
  },
  {
   "cell_type": "code",
   "execution_count": 86,
   "metadata": {},
   "outputs": [
    {
     "data": {
      "text/plain": [
       "array([ 2.61094980e-01,  3.33516375e-01,  5.35688129e-01,  2.14144396e-02,\n",
       "        9.71511354e-01,  7.16700030e-01, -1.33947397e-01,  2.37547867e+01])"
      ]
     },
     "execution_count": 86,
     "metadata": {},
     "output_type": "execute_result"
    }
   ],
   "source": [
    "lr_basic.coef_"
   ]
  },
  {
   "cell_type": "markdown",
   "metadata": {},
   "source": [
    "The result is an array that shows all the coefficients. In order to better understand what is the variable associated to each coefficient, let's convert the result to a DataFrame and define as headers the variables."
   ]
  },
  {
   "cell_type": "markdown",
   "metadata": {},
   "source": [
    "<b>5. Create a dataframe that will contain the values of the coefficients"
   ]
  },
  {
   "cell_type": "code",
   "execution_count": 87,
   "metadata": {},
   "outputs": [],
   "source": [
    "df = pd.DataFrame(lr_basic.coef_)"
   ]
  },
  {
   "cell_type": "code",
   "execution_count": 88,
   "metadata": {},
   "outputs": [
    {
     "data": {
      "text/html": [
       "<div>\n",
       "<style scoped>\n",
       "    .dataframe tbody tr th:only-of-type {\n",
       "        vertical-align: middle;\n",
       "    }\n",
       "\n",
       "    .dataframe tbody tr th {\n",
       "        vertical-align: top;\n",
       "    }\n",
       "\n",
       "    .dataframe thead th {\n",
       "        text-align: right;\n",
       "    }\n",
       "</style>\n",
       "<table border=\"1\" class=\"dataframe\">\n",
       "  <thead>\n",
       "    <tr style=\"text-align: right;\">\n",
       "      <th></th>\n",
       "      <th>0</th>\n",
       "    </tr>\n",
       "  </thead>\n",
       "  <tbody>\n",
       "    <tr>\n",
       "      <th>0</th>\n",
       "      <td>0.261095</td>\n",
       "    </tr>\n",
       "    <tr>\n",
       "      <th>1</th>\n",
       "      <td>0.333516</td>\n",
       "    </tr>\n",
       "    <tr>\n",
       "      <th>2</th>\n",
       "      <td>0.535688</td>\n",
       "    </tr>\n",
       "    <tr>\n",
       "      <th>3</th>\n",
       "      <td>0.021414</td>\n",
       "    </tr>\n",
       "    <tr>\n",
       "      <th>4</th>\n",
       "      <td>0.971511</td>\n",
       "    </tr>\n",
       "    <tr>\n",
       "      <th>5</th>\n",
       "      <td>0.716700</td>\n",
       "    </tr>\n",
       "    <tr>\n",
       "      <th>6</th>\n",
       "      <td>-0.133947</td>\n",
       "    </tr>\n",
       "    <tr>\n",
       "      <th>7</th>\n",
       "      <td>23.754787</td>\n",
       "    </tr>\n",
       "  </tbody>\n",
       "</table>\n",
       "</div>"
      ],
      "text/plain": [
       "           0\n",
       "0   0.261095\n",
       "1   0.333516\n",
       "2   0.535688\n",
       "3   0.021414\n",
       "4   0.971511\n",
       "5   0.716700\n",
       "6  -0.133947\n",
       "7  23.754787"
      ]
     },
     "execution_count": 88,
     "metadata": {},
     "output_type": "execute_result"
    }
   ],
   "source": [
    "df"
   ]
  },
  {
   "cell_type": "markdown",
   "metadata": {},
   "source": [
    "<b>6. By using the method `set_index()`, define the index of Dataframe equal to the name of the features (you can get the feature names with `X_train.columns`)"
   ]
  },
  {
   "cell_type": "code",
   "execution_count": 96,
   "metadata": {},
   "outputs": [],
   "source": [
    "df = df.set_index(X_train.columns)\n",
    "df.columns = ['beta_i']\n"
   ]
  },
  {
   "cell_type": "code",
   "execution_count": 92,
   "metadata": {},
   "outputs": [
    {
     "data": {
      "text/html": [
       "<div>\n",
       "<style scoped>\n",
       "    .dataframe tbody tr th:only-of-type {\n",
       "        vertical-align: middle;\n",
       "    }\n",
       "\n",
       "    .dataframe tbody tr th {\n",
       "        vertical-align: top;\n",
       "    }\n",
       "\n",
       "    .dataframe thead th {\n",
       "        text-align: right;\n",
       "    }\n",
       "</style>\n",
       "<table border=\"1\" class=\"dataframe\">\n",
       "  <thead>\n",
       "    <tr style=\"text-align: right;\">\n",
       "      <th></th>\n",
       "      <th>beta_i</th>\n",
       "    </tr>\n",
       "  </thead>\n",
       "  <tbody>\n",
       "    <tr>\n",
       "      <th>age</th>\n",
       "      <td>0.261095</td>\n",
       "    </tr>\n",
       "    <tr>\n",
       "      <th>bmi</th>\n",
       "      <td>0.333516</td>\n",
       "    </tr>\n",
       "    <tr>\n",
       "      <th>children</th>\n",
       "      <td>0.535688</td>\n",
       "    </tr>\n",
       "    <tr>\n",
       "      <th>female</th>\n",
       "      <td>0.021414</td>\n",
       "    </tr>\n",
       "    <tr>\n",
       "      <th>northeast</th>\n",
       "      <td>0.971511</td>\n",
       "    </tr>\n",
       "    <tr>\n",
       "      <th>northwest</th>\n",
       "      <td>0.716700</td>\n",
       "    </tr>\n",
       "    <tr>\n",
       "      <th>southeast</th>\n",
       "      <td>-0.133947</td>\n",
       "    </tr>\n",
       "    <tr>\n",
       "      <th>smoker</th>\n",
       "      <td>23.754787</td>\n",
       "    </tr>\n",
       "  </tbody>\n",
       "</table>\n",
       "</div>"
      ],
      "text/plain": [
       "              beta_i\n",
       "age         0.261095\n",
       "bmi         0.333516\n",
       "children    0.535688\n",
       "female      0.021414\n",
       "northeast   0.971511\n",
       "northwest   0.716700\n",
       "southeast  -0.133947\n",
       "smoker     23.754787"
      ]
     },
     "execution_count": 92,
     "metadata": {},
     "output_type": "execute_result"
    }
   ],
   "source": [
    "df"
   ]
  },
  {
   "cell_type": "markdown",
   "metadata": {},
   "source": [
    "<b>The independent term: </b>``.intercept_``\n",
    "\n",
    "\n"
   ]
  },
  {
   "cell_type": "markdown",
   "metadata": {},
   "source": [
    "<b>7. To obtain the intercept of the linear regression, call the attribute `intercept_` associated to your model"
   ]
  },
  {
   "cell_type": "code",
   "execution_count": 93,
   "metadata": {},
   "outputs": [
    {
     "data": {
      "text/plain": [
       "-12.97027625365762"
      ]
     },
     "execution_count": 93,
     "metadata": {},
     "output_type": "execute_result"
    }
   ],
   "source": [
    "# The intercept (often labeled the constant) is the expected mean value of Y when all X=0.\n",
    "lr_basic.intercept_"
   ]
  },
  {
   "cell_type": "markdown",
   "metadata": {},
   "source": [
    "### 5.3. Model Analysis - Dispersion Measures"
   ]
  },
  {
   "cell_type": "markdown",
   "metadata": {},
   "source": [
    "$$\n",
    "SS_{\\text{Total}} = SS_{\\text{Regression}} + SS_{\\text{Error}}\n",
    "$$\n",
    "\n",
    "$$\n",
    "\\sum_{i=1}^{n}({Y_i} - \\bar{Y})^2 = \\sum_{i=1}^{n}(\\hat{Y_i} - \\bar{Y})^2 + \\sum_{i=1}^{n}({Y_i} - \\hat{Y_i})^2\n",
    "$$\n"
   ]
  },
  {
   "cell_type": "markdown",
   "metadata": {},
   "source": [
    "The closer $SS_R$ is to $SS_{Total}$, or equivalently, the smaller $SS_E$ is, the better the regression line will be at explaining the dispersion of the observed pairs around it."
   ]
  },
  {
   "cell_type": "markdown",
   "metadata": {},
   "source": [
    "\n",
    "### 5.4. Test the Significance of the model\n"
   ]
  },
  {
   "cell_type": "markdown",
   "metadata": {},
   "source": [
    "In a simple linear regression we are testing:\n",
    "\n",
    "$H_0: \\beta_1 = 0$ (model is not significant) **vs**  $H_1: \\beta_1 \\neq 0$ (model is significant)\n",
    "- If $\\beta_1=0$, then I am not using the data at all.\n",
    "\n",
    "In a multiple linear regression we are testing:\n",
    "\n",
    "$H_0: \\beta_1 = \\beta_2 = \\beta_3 = \\dots =  0$  **vs**  $\\exists n: \\beta_n \\neq 0$\n",
    "\n",
    "For this purpose, we will conduct an F hypothesis test. It is common to summarize all the information related to the partitioning of squares and the significance test of the model in a table called Analysis of Variance - ANOVA."
   ]
  },
  {
   "cell_type": "markdown",
   "metadata": {},
   "source": [
    "| Source          | Sum of Squares (SS)    | Degrees of Freedom (df)     | Mean Square (MS)       | F-statistic       | p-value  |\n",
    "|:-----------------:|:------------------------:|:-----------------------------:|:------------------------:|:-------------------:|:----------|\n",
    "| Regression      | $SS_{\\text{R}} = \\sum_{i=1}^{n}(\\hat{Y_i}-\\bar{Y})^2 $        | 1                           | $MS_{\\text{R}} = \\frac{SS_R}{1}$      | $F_0 = \\frac{MS_R}{MS_E}$               | $p = P(\\mathcal{F}_{(1,n-2)} > F_0)$      |\n",
    "| Residual (Error)| $SS_{\\text{E}} = \\sum_{i=1}^{n}(\\hat{Y_i}- {Y_i})^2 $        | n-2                         | $MS_{\\text{E}} = \\frac{SS_E}{n-2}$      |                   |          |\n",
    "| Total           | $SS_{\\text{Total}} = \\sum_{i=1}^{n}({Y_i}- \\bar{Y})^2$    | n-1                         |                        |                   |          |\n"
   ]
  },
  {
   "cell_type": "markdown",
   "metadata": {},
   "source": [
    "**Even if a linear model is significant, its 'quality' may be poor in the sense that SSR may fail to explain most of the SST, or equivalently, SSE is very high compared to SSR**. I want to see if the model is still *\"good\"*"
   ]
  },
  {
   "cell_type": "markdown",
   "metadata": {},
   "source": [
    "The library sklearn don't have any option that allows to calculate automatically the standard error associated to each coefficient, the t-value and the p-value. <br>\n",
    "\n",
    "One alternative is to use the library statsmodels. It's not possible to associate it to our resuts from sklearn, but it is possible to create a new regression.\n",
    "\n",
    "**1. Run the cell below to get a full statistical analysis of an OLS (Ordinary Least Squares) regression made with out data**"
   ]
  },
  {
   "cell_type": "code",
   "execution_count": 97,
   "metadata": {},
   "outputs": [
    {
     "name": "stdout",
     "output_type": "stream",
     "text": [
      "                            OLS Regression Results                            \n",
      "==============================================================================\n",
      "Dep. Variable:                charges   R-squared:                       0.751\n",
      "Model:                            OLS   Adj. R-squared:                  0.749\n",
      "Method:                 Least Squares   F-statistic:                     500.8\n",
      "Date:                Tue, 24 Sep 2024   Prob (F-statistic):               0.00\n",
      "Time:                        16:18:43   Log-Likelihood:                -4305.2\n",
      "No. Observations:                1338   AIC:                             8628.\n",
      "Df Residuals:                    1329   BIC:                             8675.\n",
      "Df Model:                           8                                         \n",
      "Covariance Type:            nonrobust                                         \n",
      "==============================================================================\n",
      "                 coef    std err          t      P>|t|      [0.025      0.975]\n",
      "------------------------------------------------------------------------------\n",
      "const        -13.0299      1.033    -12.614      0.000     -15.056     -11.003\n",
      "age            0.2569      0.012     21.587      0.000       0.234       0.280\n",
      "bmi            0.3392      0.029     11.860      0.000       0.283       0.395\n",
      "children       0.4755      0.138      3.451      0.001       0.205       0.746\n",
      "female         0.1313      0.333      0.394      0.693      -0.522       0.784\n",
      "northeast      0.9601      0.478      2.009      0.045       0.022       1.898\n",
      "northwest      0.6071      0.477      1.272      0.204      -0.329       1.543\n",
      "southeast     -0.0750      0.471     -0.159      0.873      -0.998       0.848\n",
      "smoker        23.8485      0.413     57.723      0.000      23.038      24.659\n",
      "==============================================================================\n",
      "Omnibus:                      300.366   Durbin-Watson:                   2.088\n",
      "Prob(Omnibus):                  0.000   Jarque-Bera (JB):              718.887\n",
      "Skew:                           1.211   Prob(JB):                    7.86e-157\n",
      "Kurtosis:                       5.651   Cond. No.                         330.\n",
      "==============================================================================\n",
      "\n",
      "Notes:\n",
      "[1] Standard Errors assume that the covariance matrix of the errors is correctly specified.\n"
     ]
    }
   ],
   "source": [
    "import statsmodels.api as sm\n",
    "from scipy import stats\n",
    "\n",
    "\n",
    "\n",
    "X2 = sm.add_constant(X)\n",
    "est = sm.OLS(y, X2)\n",
    "est2 = est.fit()\n",
    "print(est2.summary())"
   ]
  },
  {
   "cell_type": "markdown",
   "metadata": {},
   "source": [
    "The summary statistic table calls many of the stats outputs the statistics in an pretty format, containing all the needed values to interpret our model: The residuals distribution, the coefficients and the t-value and the p-value for each of them, and also the evaluation of the model using the metrics R-Squared, Adjusted R-Squared and F-statistic. That evaluation, however, is based on the performance of the model in the training dataset. <br>\n",
    "\n",
    "__The p-value__ <br>\n",
    "For each estimated regression coefficient, the p-value provides an estimate of the probability that the true coefficient is zero given the value of the estimate. Small p-values suggest that the true coefficient is very unlikely to be zero, which means that the feature is extremely likely to have relationship with the dependent variable. <br> In this way, we can also check the p-value to understand the feature importance and select the most \"important\" variables to build our final model.\n",
    "\n",
    "\n"
   ]
  },
  {
   "cell_type": "code",
   "execution_count": 38,
   "metadata": {},
   "outputs": [
    {
     "data": {
      "text/plain": [
       "const        1.543153e-34\n",
       "age          7.783217e-89\n",
       "bmi          6.498194e-31\n",
       "children     5.769682e-04\n",
       "female       6.933475e-01\n",
       "northeast    4.476493e-02\n",
       "northwest    2.035333e-01\n",
       "southeast    8.734595e-01\n",
       "smoker       0.000000e+00\n",
       "dtype: float64"
      ]
     },
     "execution_count": 38,
     "metadata": {},
     "output_type": "execute_result"
    }
   ],
   "source": [
    "est2.pvalues"
   ]
  },
  {
   "cell_type": "markdown",
   "metadata": {},
   "source": [
    "Now, let's try changing the model's parameters. In a linear regression there's not much to change, so let's just try a regression without the independent term (the intercept):\n",
    "\n",
    "## 6. Tweaking a linear regression\n",
    "\n",
    "### 6.1. The regression\n",
    "\n",
    "<b>1. Create an instance of LinearRegression named as `lr_noicept`, with `fit_intercept = False`.</b>"
   ]
  },
  {
   "cell_type": "code",
   "execution_count": 39,
   "metadata": {},
   "outputs": [],
   "source": [
    "lr_noicept = #CODE HERE"
   ]
  },
  {
   "cell_type": "markdown",
   "metadata": {},
   "source": [
    "<b>2. Fit your model to your data, and define `X = X_train` and `y = y_train`</b>"
   ]
  },
  {
   "cell_type": "code",
   "execution_count": 40,
   "metadata": {},
   "outputs": [
    {
     "data": {
      "text/html": [
       "<style>#sk-container-id-2 {color: black;background-color: white;}#sk-container-id-2 pre{padding: 0;}#sk-container-id-2 div.sk-toggleable {background-color: white;}#sk-container-id-2 label.sk-toggleable__label {cursor: pointer;display: block;width: 100%;margin-bottom: 0;padding: 0.3em;box-sizing: border-box;text-align: center;}#sk-container-id-2 label.sk-toggleable__label-arrow:before {content: \"▸\";float: left;margin-right: 0.25em;color: #696969;}#sk-container-id-2 label.sk-toggleable__label-arrow:hover:before {color: black;}#sk-container-id-2 div.sk-estimator:hover label.sk-toggleable__label-arrow:before {color: black;}#sk-container-id-2 div.sk-toggleable__content {max-height: 0;max-width: 0;overflow: hidden;text-align: left;background-color: #f0f8ff;}#sk-container-id-2 div.sk-toggleable__content pre {margin: 0.2em;color: black;border-radius: 0.25em;background-color: #f0f8ff;}#sk-container-id-2 input.sk-toggleable__control:checked~div.sk-toggleable__content {max-height: 200px;max-width: 100%;overflow: auto;}#sk-container-id-2 input.sk-toggleable__control:checked~label.sk-toggleable__label-arrow:before {content: \"▾\";}#sk-container-id-2 div.sk-estimator input.sk-toggleable__control:checked~label.sk-toggleable__label {background-color: #d4ebff;}#sk-container-id-2 div.sk-label input.sk-toggleable__control:checked~label.sk-toggleable__label {background-color: #d4ebff;}#sk-container-id-2 input.sk-hidden--visually {border: 0;clip: rect(1px 1px 1px 1px);clip: rect(1px, 1px, 1px, 1px);height: 1px;margin: -1px;overflow: hidden;padding: 0;position: absolute;width: 1px;}#sk-container-id-2 div.sk-estimator {font-family: monospace;background-color: #f0f8ff;border: 1px dotted black;border-radius: 0.25em;box-sizing: border-box;margin-bottom: 0.5em;}#sk-container-id-2 div.sk-estimator:hover {background-color: #d4ebff;}#sk-container-id-2 div.sk-parallel-item::after {content: \"\";width: 100%;border-bottom: 1px solid gray;flex-grow: 1;}#sk-container-id-2 div.sk-label:hover label.sk-toggleable__label {background-color: #d4ebff;}#sk-container-id-2 div.sk-serial::before {content: \"\";position: absolute;border-left: 1px solid gray;box-sizing: border-box;top: 0;bottom: 0;left: 50%;z-index: 0;}#sk-container-id-2 div.sk-serial {display: flex;flex-direction: column;align-items: center;background-color: white;padding-right: 0.2em;padding-left: 0.2em;position: relative;}#sk-container-id-2 div.sk-item {position: relative;z-index: 1;}#sk-container-id-2 div.sk-parallel {display: flex;align-items: stretch;justify-content: center;background-color: white;position: relative;}#sk-container-id-2 div.sk-item::before, #sk-container-id-2 div.sk-parallel-item::before {content: \"\";position: absolute;border-left: 1px solid gray;box-sizing: border-box;top: 0;bottom: 0;left: 50%;z-index: -1;}#sk-container-id-2 div.sk-parallel-item {display: flex;flex-direction: column;z-index: 1;position: relative;background-color: white;}#sk-container-id-2 div.sk-parallel-item:first-child::after {align-self: flex-end;width: 50%;}#sk-container-id-2 div.sk-parallel-item:last-child::after {align-self: flex-start;width: 50%;}#sk-container-id-2 div.sk-parallel-item:only-child::after {width: 0;}#sk-container-id-2 div.sk-dashed-wrapped {border: 1px dashed gray;margin: 0 0.4em 0.5em 0.4em;box-sizing: border-box;padding-bottom: 0.4em;background-color: white;}#sk-container-id-2 div.sk-label label {font-family: monospace;font-weight: bold;display: inline-block;line-height: 1.2em;}#sk-container-id-2 div.sk-label-container {text-align: center;}#sk-container-id-2 div.sk-container {/* jupyter's `normalize.less` sets `[hidden] { display: none; }` but bootstrap.min.css set `[hidden] { display: none !important; }` so we also need the `!important` here to be able to override the default hidden behavior on the sphinx rendered scikit-learn.org. See: https://github.com/scikit-learn/scikit-learn/issues/21755 */display: inline-block !important;position: relative;}#sk-container-id-2 div.sk-text-repr-fallback {display: none;}</style><div id=\"sk-container-id-2\" class=\"sk-top-container\"><div class=\"sk-text-repr-fallback\"><pre>LinearRegression(fit_intercept=False)</pre><b>In a Jupyter environment, please rerun this cell to show the HTML representation or trust the notebook. <br />On GitHub, the HTML representation is unable to render, please try loading this page with nbviewer.org.</b></div><div class=\"sk-container\" hidden><div class=\"sk-item\"><div class=\"sk-estimator sk-toggleable\"><input class=\"sk-toggleable__control sk-hidden--visually\" id=\"sk-estimator-id-2\" type=\"checkbox\" checked><label for=\"sk-estimator-id-2\" class=\"sk-toggleable__label sk-toggleable__label-arrow\">LinearRegression</label><div class=\"sk-toggleable__content\"><pre>LinearRegression(fit_intercept=False)</pre></div></div></div></div></div>"
      ],
      "text/plain": [
       "LinearRegression(fit_intercept=False)"
      ]
     },
     "execution_count": 40,
     "metadata": {},
     "output_type": "execute_result"
    }
   ],
   "source": [
    "lr_noicept.fit(X=X_train,y=y_train)"
   ]
  },
  {
   "cell_type": "markdown",
   "metadata": {},
   "source": [
    "<b>3. Predict the values for `X_val` by applying the method `predict()` to your model and check your result</b>"
   ]
  },
  {
   "cell_type": "code",
   "execution_count": 41,
   "metadata": {
    "scrolled": true
   },
   "outputs": [
    {
     "data": {
      "text/plain": [
       "array([31.63438787, 27.59547866,  5.55458103,  5.61833787,  4.34960075,\n",
       "        8.33089545,  5.78345124, 32.47084405,  9.02701208,  9.02157694,\n",
       "        3.93492169,  7.34920259, 32.23577135, 28.643867  ,  7.01068925,\n",
       "       35.26280765, 31.90256839,  8.59899133, 29.36202891,  9.26617773,\n",
       "        6.64705526, 11.78530435,  5.57379545, 13.63167498, 10.67616968,\n",
       "        8.64272017,  8.70387105, 37.03302264,  5.96623416,  4.43616649,\n",
       "        9.46031587,  7.41787521,  7.58200027, 38.09793358,  7.07515334,\n",
       "        4.68613545,  6.11497066,  4.40964054,  6.16085939,  9.59481872,\n",
       "        8.78338393, 10.19850493, 14.70060446,  4.51664446, 11.27581275,\n",
       "       11.74015163, 11.65966713,  6.62943441,  9.74623614, 31.58107958,\n",
       "        3.6430343 ,  4.839958  ,  9.16839378,  9.05092183, 11.34327256,\n",
       "       27.02992415,  6.11925634, 12.45713937,  4.22716553, 11.76906751,\n",
       "       10.64512354, 30.71270664, 28.35181217,  7.011532  , 33.87906652,\n",
       "       34.62278997,  6.82623318, 10.35346434, 13.31966498, 33.55486308,\n",
       "       11.69986723,  4.81341183, 12.31543792, 11.55569336,  4.91379349,\n",
       "        7.29551283, 35.29917145, 13.74428583, 13.31755442,  8.78947987,\n",
       "       12.39202658, 11.2259366 , 37.837487  ,  3.51780871,  9.76429453,\n",
       "       32.91871419, 12.50298022,  5.95595394, 10.70198332,  6.11416356,\n",
       "        9.22524327,  8.06234184,  6.38126678, 11.11710941, 10.56763676,\n",
       "        7.96836769, 11.73865369, 12.68566604, 10.90278211,  9.76815142,\n",
       "        9.93051513,  4.97726207, 11.24691861,  8.92851653, 11.93069295,\n",
       "       12.98754671, 13.27405656, 31.84803956, 10.40507574,  4.74991986,\n",
       "       29.45272906, 28.93550863,  6.44104454, 10.99605671,  7.69607493,\n",
       "        6.87581659,  6.25166338,  5.23057917,  5.28103233, 36.7314103 ,\n",
       "       11.1194501 , 12.58781928,  3.70951469,  8.52139339,  8.55698383,\n",
       "       30.45375558,  5.16453953,  9.07063429, 33.79052906,  9.50355496,\n",
       "       11.51693896,  4.78223514, 11.91815103, 13.12778435, 12.7984852 ,\n",
       "        9.42712269,  4.61154149, 13.46224725,  8.02472722, 10.28296268,\n",
       "       34.16396756, 11.84918626,  7.71705694,  4.77671475,  9.22669556,\n",
       "        8.23198931,  8.541546  ,  9.53466336, 14.06662223,  9.11590053,\n",
       "        7.56562763,  8.82576255, 35.83299639, 11.00361484, 11.93593249,\n",
       "       12.77496094, 10.05971131, 10.72836442, 11.68782801,  4.60264378,\n",
       "       11.91203385, 11.62663696,  5.46076974,  6.87013684, 30.86395547,\n",
       "        8.98673657,  7.53287715,  5.00032223, 30.70314226, 28.69774778,\n",
       "       11.47680629, 11.33543337, 30.75905098, 28.57691743,  3.16329309,\n",
       "        9.20798023, 27.72199067, 10.42020621, 34.74926833, 11.15290575,\n",
       "       35.31142083, 13.64192412,  7.43886369, 13.40933272,  4.01084678,\n",
       "        6.75446917,  7.21791755, 33.24587768,  9.88418208,  5.04624978,\n",
       "       13.3045275 ,  7.20275516, 11.24794094,  6.02545615, 13.93185865,\n",
       "       33.09692611,  5.63310119, 27.57626002, 10.60059648,  9.30361553,\n",
       "        6.22896579,  4.60381036, 13.37641869, 35.61500116, 10.00950461,\n",
       "        6.85945523, 10.41216294, 31.54011941, 11.67227427,  5.82554123,\n",
       "       11.68421824,  5.87374006,  5.55892049, 32.40381481,  8.05018067,\n",
       "        9.67076415, 10.80244015,  3.68800091, 12.7510623 ,  5.51883199,\n",
       "        9.31114213,  9.46317512, 10.46118394,  6.08019324, 10.91541737,\n",
       "        4.47384005,  7.19556648, 35.29575839, 31.60776989, 27.00149492,\n",
       "        9.13396309,  8.16757989,  9.06509357,  4.39769039,  5.29565758,\n",
       "        3.63846987,  4.4641601 , 32.07529155, 27.00438915,  4.06285329,\n",
       "       27.49278297, 26.44659524,  7.11738456,  6.64200826, 12.30394057,\n",
       "        5.11993103,  4.00628235,  6.39236042, 12.60763599, 12.84595234,\n",
       "       11.12454976, 13.28340958,  4.7268485 , 12.17748304, 27.64015083,\n",
       "        5.31050615, 31.30091741,  8.364206  ,  5.24784623,  4.70080798,\n",
       "        7.45642827, 37.21764202, 13.78643095,  7.57655167,  6.56348589,\n",
       "       14.97751641,  4.062744  , 12.3695242 , 11.60128553, 11.21143441,\n",
       "       27.85882139, 12.77051199, 11.39917201, 35.84875642,  4.63789227,\n",
       "        5.06434211, 34.62275191,  5.50244844, 33.98076257,  9.32171389,\n",
       "        8.08301785, 13.00802994, 11.25995737,  9.35543322, 26.2237921 ,\n",
       "       32.82586299, 11.39911767, 13.77807696, 11.83848859,  5.45228045,\n",
       "        9.13896988, 34.3798306 ,  7.84570132, 11.24882481,  8.47763216,\n",
       "       12.9274751 ,  8.48192939,  9.44602845,  8.45829869, 11.72887182,\n",
       "       36.52331561,  5.82928786,  4.85905611, 10.22544265, 37.20455376,\n",
       "        7.46596475, 11.15782859, 26.54885279, 12.68268599, 29.4581769 ,\n",
       "       31.1946959 ,  5.68526139, 28.6511995 ,  8.53957644, 35.88456973,\n",
       "       13.0077877 , 31.93195987,  3.92510892, 10.5555863 ,  5.83646302,\n",
       "       27.34314312,  4.64331055, 10.06399479, 33.2172167 ,  5.94352819,\n",
       "       31.57148562,  3.17646288, 12.39265932,  7.26518427, 29.83775001,\n",
       "       34.15139793, 11.43945926,  8.88095038, 35.8185603 , 35.53127962,\n",
       "       36.18454406,  7.06482553, 10.09103871, 10.62025688,  4.15894652,\n",
       "        9.14901674,  4.07762013,  5.70535924,  5.65519786, 13.06698213,\n",
       "        5.59273727, 32.65381991, 12.19826966, 32.6298335 ,  3.38087586,\n",
       "       36.40830521, 10.9093777 , 32.88680115,  4.35593763,  4.75855926,\n",
       "        9.53776163, 34.65496524, 37.67260539,  5.82830157, 13.97265239,\n",
       "        4.78759849,  7.66783337,  5.61196068,  9.3206063 ,  5.58004839,\n",
       "       36.71630725,  3.67066532,  7.21631691,  7.92321717,  6.78158603,\n",
       "       33.39266209,  9.50507809, 11.2095742 ,  4.82503604,  8.82153299,\n",
       "       12.66181955, 13.26529058, 11.57544186, 32.38631384, 10.51779721,\n",
       "       12.79119648,  7.09588824,  4.86151893,  7.7080797 , 29.7820927 ,\n",
       "        9.56730122, 11.17191373, 11.12234399, 36.72339591, 31.60959943,\n",
       "        8.17361067, 11.56768493, 29.75109586,  6.2913083 ,  6.94935456,\n",
       "       10.58148855,  9.22241238,  6.37408941,  9.18040764, 31.29400308,\n",
       "        4.04728238,  5.05338427])"
      ]
     },
     "execution_count": 41,
     "metadata": {},
     "output_type": "execute_result"
    }
   ],
   "source": [
    "pred_noicept = lr_noicept.predict(X_val)\n",
    "pred_noicept"
   ]
  },
  {
   "cell_type": "markdown",
   "metadata": {},
   "source": [
    "### 6.2. The attributes\n",
    "\n",
    "<b>4. To check the coefficients calculated by applying the linear regression, call the attribute `coef_` associated to your model</b>"
   ]
  },
  {
   "cell_type": "code",
   "execution_count": 42,
   "metadata": {},
   "outputs": [
    {
     "data": {
      "text/plain": [
       "array([ 0.20812357,  0.04804661,  0.366154  , -0.78516147, -0.84453348,\n",
       "       -1.07449291, -0.79665872, 23.06657323])"
      ]
     },
     "execution_count": 42,
     "metadata": {},
     "output_type": "execute_result"
    }
   ],
   "source": [
    "lr_noicept.coef_"
   ]
  },
  {
   "cell_type": "markdown",
   "metadata": {},
   "source": [
    "<b>5. Create a dataframe that will contain the values of the coefficients"
   ]
  },
  {
   "cell_type": "code",
   "execution_count": 43,
   "metadata": {},
   "outputs": [
    {
     "data": {
      "text/html": [
       "<div>\n",
       "<style scoped>\n",
       "    .dataframe tbody tr th:only-of-type {\n",
       "        vertical-align: middle;\n",
       "    }\n",
       "\n",
       "    .dataframe tbody tr th {\n",
       "        vertical-align: top;\n",
       "    }\n",
       "\n",
       "    .dataframe thead th {\n",
       "        text-align: right;\n",
       "    }\n",
       "</style>\n",
       "<table border=\"1\" class=\"dataframe\">\n",
       "  <thead>\n",
       "    <tr style=\"text-align: right;\">\n",
       "      <th></th>\n",
       "      <th>0</th>\n",
       "    </tr>\n",
       "  </thead>\n",
       "  <tbody>\n",
       "    <tr>\n",
       "      <th>0</th>\n",
       "      <td>0.208124</td>\n",
       "    </tr>\n",
       "    <tr>\n",
       "      <th>1</th>\n",
       "      <td>0.048047</td>\n",
       "    </tr>\n",
       "    <tr>\n",
       "      <th>2</th>\n",
       "      <td>0.366154</td>\n",
       "    </tr>\n",
       "    <tr>\n",
       "      <th>3</th>\n",
       "      <td>-0.785161</td>\n",
       "    </tr>\n",
       "    <tr>\n",
       "      <th>4</th>\n",
       "      <td>-0.844533</td>\n",
       "    </tr>\n",
       "    <tr>\n",
       "      <th>5</th>\n",
       "      <td>-1.074493</td>\n",
       "    </tr>\n",
       "    <tr>\n",
       "      <th>6</th>\n",
       "      <td>-0.796659</td>\n",
       "    </tr>\n",
       "    <tr>\n",
       "      <th>7</th>\n",
       "      <td>23.066573</td>\n",
       "    </tr>\n",
       "  </tbody>\n",
       "</table>\n",
       "</div>"
      ],
      "text/plain": [
       "           0\n",
       "0   0.208124\n",
       "1   0.048047\n",
       "2   0.366154\n",
       "3  -0.785161\n",
       "4  -0.844533\n",
       "5  -1.074493\n",
       "6  -0.796659\n",
       "7  23.066573"
      ]
     },
     "execution_count": 43,
     "metadata": {},
     "output_type": "execute_result"
    }
   ],
   "source": [
    "pd.DataFrame(lr_noicept.coef_)"
   ]
  },
  {
   "cell_type": "markdown",
   "metadata": {},
   "source": [
    "<b>6. By using the method `set_index()`, define the index of Dataframe equal to the name of the variables"
   ]
  },
  {
   "cell_type": "code",
   "execution_count": 44,
   "metadata": {},
   "outputs": [
    {
     "data": {
      "text/html": [
       "<div>\n",
       "<style scoped>\n",
       "    .dataframe tbody tr th:only-of-type {\n",
       "        vertical-align: middle;\n",
       "    }\n",
       "\n",
       "    .dataframe tbody tr th {\n",
       "        vertical-align: top;\n",
       "    }\n",
       "\n",
       "    .dataframe thead th {\n",
       "        text-align: right;\n",
       "    }\n",
       "</style>\n",
       "<table border=\"1\" class=\"dataframe\">\n",
       "  <thead>\n",
       "    <tr style=\"text-align: right;\">\n",
       "      <th></th>\n",
       "      <th>noicept</th>\n",
       "      <th>0</th>\n",
       "    </tr>\n",
       "  </thead>\n",
       "  <tbody>\n",
       "    <tr>\n",
       "      <th>age</th>\n",
       "      <td>0.208124</td>\n",
       "      <td>0.261095</td>\n",
       "    </tr>\n",
       "    <tr>\n",
       "      <th>bmi</th>\n",
       "      <td>0.048047</td>\n",
       "      <td>0.333516</td>\n",
       "    </tr>\n",
       "    <tr>\n",
       "      <th>children</th>\n",
       "      <td>0.366154</td>\n",
       "      <td>0.535688</td>\n",
       "    </tr>\n",
       "    <tr>\n",
       "      <th>female</th>\n",
       "      <td>-0.785161</td>\n",
       "      <td>0.021414</td>\n",
       "    </tr>\n",
       "    <tr>\n",
       "      <th>northeast</th>\n",
       "      <td>-0.844533</td>\n",
       "      <td>0.971511</td>\n",
       "    </tr>\n",
       "    <tr>\n",
       "      <th>northwest</th>\n",
       "      <td>-1.074493</td>\n",
       "      <td>0.716700</td>\n",
       "    </tr>\n",
       "    <tr>\n",
       "      <th>southeast</th>\n",
       "      <td>-0.796659</td>\n",
       "      <td>-0.133947</td>\n",
       "    </tr>\n",
       "    <tr>\n",
       "      <th>smoker</th>\n",
       "      <td>23.066573</td>\n",
       "      <td>23.754787</td>\n",
       "    </tr>\n",
       "  </tbody>\n",
       "</table>\n",
       "</div>"
      ],
      "text/plain": [
       "             noicept          0\n",
       "age         0.208124   0.261095\n",
       "bmi         0.048047   0.333516\n",
       "children    0.366154   0.535688\n",
       "female     -0.785161   0.021414\n",
       "northeast  -0.844533   0.971511\n",
       "northwest  -1.074493   0.716700\n",
       "southeast  -0.796659  -0.133947\n",
       "smoker     23.066573  23.754787"
      ]
     },
     "execution_count": 44,
     "metadata": {},
     "output_type": "execute_result"
    }
   ],
   "source": [
    "pd.DataFrame(lr_noicept.coef_,columns=['noicept']).set_index(X_train.columns).join(df)"
   ]
  },
  {
   "cell_type": "markdown",
   "metadata": {},
   "source": [
    "Finally, time to compare the models:\n",
    "\n",
    "## 7. Evaluation\n",
    "\n",
    "A measure of model quality is the coefficient of __determination__, $R^{2}$\n",
    "\n",
    "$R^{2}$ indicates the proportion of variability in the dependent variable that is explained by the independent variable.\n",
    "\n",
    "$$R^{2} = \\frac{SS_R}{SS_{Total}} = 1 - \\frac{SS_E}{SS_{Total}} =   1-\\frac{\\sum_{i=1}^{n}{(y_{i}-\\hat{y_{i}})^{2}}}{\\sum_{i=1}^{n}{(y_{i}-\\bar{y})^{2}}}$$\n",
    "\n",
    "<b>1. Use the `r2_score` function with `y_val` and your base model's predictions as parameters to get the $R^2$ score for the base model</b>"
   ]
  },
  {
   "cell_type": "code",
   "execution_count": 45,
   "metadata": {
    "scrolled": true
   },
   "outputs": [
    {
     "data": {
      "text/plain": [
       "0.7866474582742321"
      ]
     },
     "execution_count": 45,
     "metadata": {},
     "output_type": "execute_result"
    }
   ],
   "source": [
    "r2_score(y_val,pred)"
   ]
  },
  {
   "cell_type": "markdown",
   "metadata": {},
   "source": [
    "<b>2. Use the `r2_score` function with `y_val` and your no intercept model's predictions as parameters to get the $R^2$ score for the no intercept model</b>"
   ]
  },
  {
   "cell_type": "code",
   "execution_count": 46,
   "metadata": {},
   "outputs": [
    {
     "data": {
      "text/plain": [
       "0.7575999540598752"
      ]
     },
     "execution_count": 46,
     "metadata": {},
     "output_type": "execute_result"
    }
   ],
   "source": [
    "r2_score(y_val,pred_noicept)"
   ]
  }
 ],
 "metadata": {
  "kernelspec": {
   "display_name": "Python 3 (ipykernel)",
   "language": "python",
   "name": "python3"
  },
  "language_info": {
   "codemirror_mode": {
    "name": "ipython",
    "version": 3
   },
   "file_extension": ".py",
   "mimetype": "text/x-python",
   "name": "python",
   "nbconvert_exporter": "python",
   "pygments_lexer": "ipython3",
   "version": "3.11.5"
  },
  "vscode": {
   "interpreter": {
    "hash": "c2e85b6140a684ef1c8cba9f0b90c35f8070bf96af0ec6708f210ef64ba8f2e3"
   }
  }
 },
 "nbformat": 4,
 "nbformat_minor": 4
}
