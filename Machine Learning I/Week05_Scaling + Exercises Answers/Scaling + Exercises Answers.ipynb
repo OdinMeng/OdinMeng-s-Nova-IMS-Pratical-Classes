{
 "cells": [
  {
   "cell_type": "markdown",
   "id": "70a26c72",
   "metadata": {},
   "source": [
    "### This notebook is destined to two things: feature scaling, and some miscellaneous exercises\n",
    "\n",
    "* [<b>1. Feature scaling</b>](#1st-bullet)<br>   \n",
    "* [<b>2. Exercises</b>](#2nd-bullet)<br>\n",
    "\n",
    "Before anything else, let's import the libraries needed for today\n",
    "\n"
   ]
  },
  {
   "cell_type": "code",
   "execution_count": 1,
   "id": "84da6e28",
   "metadata": {},
   "outputs": [],
   "source": [
    "import numpy as np\n",
    "import pandas as pd\n",
    "import matplotlib.pyplot as plt\n",
    "import seaborn as sns\n",
    "# data partition\n",
    "from sklearn.model_selection import train_test_split\n",
    "\n",
    "#scaling methods\n",
    "# minmax\n",
    "# standard\n",
    "# robust\n",
    "from sklearn.preprocessing import StandardScaler, MinMaxScaler, RobustScaler\n",
    "\n",
    "# model\n",
    "from sklearn.linear_model import LogisticRegression\n",
    "\n",
    "# metric\n",
    "from sklearn.metrics import f1_score, classification_report, confusion_matrix\n",
    "\n",
    "import warnings\n",
    "warnings.filterwarnings('ignore')\n"
   ]
  },
  {
   "cell_type": "markdown",
   "id": "f4e30849",
   "metadata": {},
   "source": [
    "<a class=\"anchor\" id=\"1st-bullet\">\n",
    "    \n",
    "## 1. Feature scaling\n",
    "\n",
    "</a>\n",
    "    \n",
    "Feature Scaling is a technique to standardize the independent features present in the data in a fixed range. It is performed during the data pre-processing to handle highly varying magnitudes or values or units.<br>\n",
    "If feature scaling is not done, then a machine learning algorithm tends to weigh greater values higher and consider smaller values as the lower values, regardless of the unit of the values. The impact of scaling on prediction quality isn't always positive, but it's a very important step to take before feature selection.\n",
    "\n",
    "    \n",
    "\n",
    "\n"
   ]
  },
  {
   "cell_type": "markdown",
   "id": "ff2e7e08",
   "metadata": {},
   "source": [
    "\n",
    "### 1.1. Import the dataset\n",
    "\n",
    "<b>1. Read the dataset from ``Datasets/winequality.csv``. Using the method `head()`, check the first 6 rows of the dataset.</b>"
   ]
  },
  {
   "cell_type": "code",
   "execution_count": 2,
   "id": "8fb00e6b",
   "metadata": {},
   "outputs": [
    {
     "data": {
      "text/html": [
       "<div>\n",
       "<style scoped>\n",
       "    .dataframe tbody tr th:only-of-type {\n",
       "        vertical-align: middle;\n",
       "    }\n",
       "\n",
       "    .dataframe tbody tr th {\n",
       "        vertical-align: top;\n",
       "    }\n",
       "\n",
       "    .dataframe thead th {\n",
       "        text-align: right;\n",
       "    }\n",
       "</style>\n",
       "<table border=\"1\" class=\"dataframe\">\n",
       "  <thead>\n",
       "    <tr style=\"text-align: right;\">\n",
       "      <th></th>\n",
       "      <th>fixed acidity</th>\n",
       "      <th>volatile acidity</th>\n",
       "      <th>citric acid</th>\n",
       "      <th>residual sugar</th>\n",
       "      <th>chlorides</th>\n",
       "      <th>free sulfur dioxide</th>\n",
       "      <th>total sulfur dioxide</th>\n",
       "      <th>density</th>\n",
       "      <th>pH</th>\n",
       "      <th>sulphates</th>\n",
       "      <th>alcohol</th>\n",
       "      <th>quality</th>\n",
       "    </tr>\n",
       "  </thead>\n",
       "  <tbody>\n",
       "    <tr>\n",
       "      <th>0</th>\n",
       "      <td>7.0</td>\n",
       "      <td>0.27</td>\n",
       "      <td>0.36</td>\n",
       "      <td>20.7</td>\n",
       "      <td>0.045</td>\n",
       "      <td>45.0</td>\n",
       "      <td>170.0</td>\n",
       "      <td>1.0010</td>\n",
       "      <td>3.00</td>\n",
       "      <td>0.45</td>\n",
       "      <td>8.8</td>\n",
       "      <td>0</td>\n",
       "    </tr>\n",
       "    <tr>\n",
       "      <th>1</th>\n",
       "      <td>6.3</td>\n",
       "      <td>0.30</td>\n",
       "      <td>0.34</td>\n",
       "      <td>1.6</td>\n",
       "      <td>0.049</td>\n",
       "      <td>14.0</td>\n",
       "      <td>132.0</td>\n",
       "      <td>0.9940</td>\n",
       "      <td>3.30</td>\n",
       "      <td>0.49</td>\n",
       "      <td>9.5</td>\n",
       "      <td>0</td>\n",
       "    </tr>\n",
       "    <tr>\n",
       "      <th>2</th>\n",
       "      <td>8.1</td>\n",
       "      <td>0.28</td>\n",
       "      <td>0.40</td>\n",
       "      <td>6.9</td>\n",
       "      <td>0.050</td>\n",
       "      <td>30.0</td>\n",
       "      <td>97.0</td>\n",
       "      <td>0.9951</td>\n",
       "      <td>3.26</td>\n",
       "      <td>0.44</td>\n",
       "      <td>10.1</td>\n",
       "      <td>0</td>\n",
       "    </tr>\n",
       "    <tr>\n",
       "      <th>3</th>\n",
       "      <td>7.2</td>\n",
       "      <td>0.23</td>\n",
       "      <td>0.32</td>\n",
       "      <td>8.5</td>\n",
       "      <td>0.058</td>\n",
       "      <td>47.0</td>\n",
       "      <td>186.0</td>\n",
       "      <td>0.9956</td>\n",
       "      <td>3.19</td>\n",
       "      <td>0.40</td>\n",
       "      <td>9.9</td>\n",
       "      <td>0</td>\n",
       "    </tr>\n",
       "    <tr>\n",
       "      <th>4</th>\n",
       "      <td>7.2</td>\n",
       "      <td>0.23</td>\n",
       "      <td>0.32</td>\n",
       "      <td>8.5</td>\n",
       "      <td>0.058</td>\n",
       "      <td>47.0</td>\n",
       "      <td>186.0</td>\n",
       "      <td>0.9956</td>\n",
       "      <td>3.19</td>\n",
       "      <td>0.40</td>\n",
       "      <td>9.9</td>\n",
       "      <td>0</td>\n",
       "    </tr>\n",
       "    <tr>\n",
       "      <th>5</th>\n",
       "      <td>8.1</td>\n",
       "      <td>0.28</td>\n",
       "      <td>0.40</td>\n",
       "      <td>6.9</td>\n",
       "      <td>0.050</td>\n",
       "      <td>30.0</td>\n",
       "      <td>97.0</td>\n",
       "      <td>0.9951</td>\n",
       "      <td>3.26</td>\n",
       "      <td>0.44</td>\n",
       "      <td>10.1</td>\n",
       "      <td>0</td>\n",
       "    </tr>\n",
       "  </tbody>\n",
       "</table>\n",
       "</div>"
      ],
      "text/plain": [
       "   fixed acidity  volatile acidity  citric acid  residual sugar  chlorides  \\\n",
       "0            7.0              0.27         0.36            20.7      0.045   \n",
       "1            6.3              0.30         0.34             1.6      0.049   \n",
       "2            8.1              0.28         0.40             6.9      0.050   \n",
       "3            7.2              0.23         0.32             8.5      0.058   \n",
       "4            7.2              0.23         0.32             8.5      0.058   \n",
       "5            8.1              0.28         0.40             6.9      0.050   \n",
       "\n",
       "   free sulfur dioxide  total sulfur dioxide  density    pH  sulphates  \\\n",
       "0                 45.0                 170.0   1.0010  3.00       0.45   \n",
       "1                 14.0                 132.0   0.9940  3.30       0.49   \n",
       "2                 30.0                  97.0   0.9951  3.26       0.44   \n",
       "3                 47.0                 186.0   0.9956  3.19       0.40   \n",
       "4                 47.0                 186.0   0.9956  3.19       0.40   \n",
       "5                 30.0                  97.0   0.9951  3.26       0.44   \n",
       "\n",
       "   alcohol  quality  \n",
       "0      8.8        0  \n",
       "1      9.5        0  \n",
       "2     10.1        0  \n",
       "3      9.9        0  \n",
       "4      9.9        0  \n",
       "5     10.1        0  "
      ]
     },
     "execution_count": 2,
     "metadata": {},
     "output_type": "execute_result"
    }
   ],
   "source": [
    "winequality = pd.read_csv('Datasets/winequality.csv')\n",
    "winequality.head(6)"
   ]
  },
  {
   "cell_type": "markdown",
   "id": "f23615d5",
   "metadata": {},
   "source": [
    "\n",
    "\n",
    "### 1.2. Data pre-processing, data partition and scaling\n",
    "\n",
    "<b>2. Check if you have any missing values in the dataset. You can use the method `info()`from pandas.</b>\n"
   ]
  },
  {
   "cell_type": "code",
   "execution_count": 3,
   "id": "8d86c423",
   "metadata": {},
   "outputs": [
    {
     "name": "stdout",
     "output_type": "stream",
     "text": [
      "<class 'pandas.core.frame.DataFrame'>\n",
      "RangeIndex: 3920 entries, 0 to 3919\n",
      "Data columns (total 12 columns):\n",
      " #   Column                Non-Null Count  Dtype  \n",
      "---  ------                --------------  -----  \n",
      " 0   fixed acidity         3920 non-null   float64\n",
      " 1   volatile acidity      3920 non-null   float64\n",
      " 2   citric acid           3920 non-null   float64\n",
      " 3   residual sugar        3920 non-null   float64\n",
      " 4   chlorides             3920 non-null   float64\n",
      " 5   free sulfur dioxide   3920 non-null   float64\n",
      " 6   total sulfur dioxide  3920 non-null   float64\n",
      " 7   density               3920 non-null   float64\n",
      " 8   pH                    3920 non-null   float64\n",
      " 9   sulphates             3920 non-null   float64\n",
      " 10  alcohol               3920 non-null   float64\n",
      " 11  quality               3920 non-null   int64  \n",
      "dtypes: float64(11), int64(1)\n",
      "memory usage: 367.6 KB\n"
     ]
    }
   ],
   "source": [
    "\n",
    "winequality.info()\n"
   ]
  },
  {
   "cell_type": "markdown",
   "id": "73b4c393",
   "metadata": {},
   "source": [
    "<b>3. Define the independent variables as `X` and the dependent variable ('quality') as `y`. </b>"
   ]
  },
  {
   "cell_type": "code",
   "execution_count": 4,
   "id": "7ec41762",
   "metadata": {},
   "outputs": [],
   "source": [
    "X = winequality.drop('quality', axis = 1)\n",
    "y = winequality['quality']"
   ]
  },
  {
   "cell_type": "markdown",
   "id": "75c32a45",
   "metadata": {},
   "source": [
    "<b>4. By using the method `train_test_split()` from sklearn.model_selection, split your dataset into train(70%) and validation(30%).<br></b>\n"
   ]
  },
  {
   "cell_type": "code",
   "execution_count": 5,
   "id": "f2762632",
   "metadata": {},
   "outputs": [],
   "source": [
    "X_train, X_val, y_train, y_val = train_test_split(X,y, test_size = 0.3, random_state = 0, shuffle = True, stratify = y)"
   ]
  },
  {
   "cell_type": "markdown",
   "id": "8fadf14d",
   "metadata": {},
   "source": [
    "\n",
    "### 1.3. Feature scaling\n",
    "\n",
    "\n",
    "We will try three different scalers:\n",
    "* StandardScaler - standardizes each feature by removing the mean and scaling to unit variance\n",
    "* MinMaxScaler - scales each feature to a given range, defaults to [0,1]\n",
    "* RobustScaler - scales each feature by removing the median and scaling according to a range between 2 quantiles that are equally distant from the median. More resistant to outliers<br>\n",
    "\n",
    "All of these scalers were already imported above\n",
    "\n",
    "**Standard Scaler:**\n",
    "$$z=\\frac{x - \\bar{x}}{\\sqrt{var(x)}}$$\n",
    " **x** - original sample<br>**z** - scaled sample\n",
    " \n",
    "sklearn documentation: <a href = 'https://scikit-learn.org/stable/modules/generated/sklearn.preprocessing.StandardScaler.html'>sklearn.model_selection.StandardScaler()</a><br><br>\n",
    "<b>5. Use the StandardScaler from sklearn.</b>\n"
   ]
  },
  {
   "cell_type": "code",
   "execution_count": 6,
   "id": "e30adc02",
   "metadata": {},
   "outputs": [],
   "source": [
    "st_scaler = StandardScaler().fit(X_train)"
   ]
  },
  {
   "cell_type": "code",
   "execution_count": 7,
   "id": "a4d501ea",
   "metadata": {},
   "outputs": [
    {
     "data": {
      "text/html": [
       "<div>\n",
       "<style scoped>\n",
       "    .dataframe tbody tr th:only-of-type {\n",
       "        vertical-align: middle;\n",
       "    }\n",
       "\n",
       "    .dataframe tbody tr th {\n",
       "        vertical-align: top;\n",
       "    }\n",
       "\n",
       "    .dataframe thead th {\n",
       "        text-align: right;\n",
       "    }\n",
       "</style>\n",
       "<table border=\"1\" class=\"dataframe\">\n",
       "  <thead>\n",
       "    <tr style=\"text-align: right;\">\n",
       "      <th></th>\n",
       "      <th>fixed acidity</th>\n",
       "      <th>volatile acidity</th>\n",
       "      <th>citric acid</th>\n",
       "      <th>residual sugar</th>\n",
       "      <th>chlorides</th>\n",
       "      <th>free sulfur dioxide</th>\n",
       "      <th>total sulfur dioxide</th>\n",
       "      <th>density</th>\n",
       "      <th>pH</th>\n",
       "      <th>sulphates</th>\n",
       "      <th>alcohol</th>\n",
       "    </tr>\n",
       "  </thead>\n",
       "  <tbody>\n",
       "    <tr>\n",
       "      <th>592</th>\n",
       "      <td>-0.066448</td>\n",
       "      <td>1.283858</td>\n",
       "      <td>-0.093104</td>\n",
       "      <td>0.747036</td>\n",
       "      <td>-0.111460</td>\n",
       "      <td>-0.430325</td>\n",
       "      <td>0.271077</td>\n",
       "      <td>0.876153</td>\n",
       "      <td>0.040421</td>\n",
       "      <td>0.250325</td>\n",
       "      <td>-0.880988</td>\n",
       "    </tr>\n",
       "    <tr>\n",
       "      <th>1695</th>\n",
       "      <td>0.288745</td>\n",
       "      <td>-0.663737</td>\n",
       "      <td>-0.093104</td>\n",
       "      <td>-0.639963</td>\n",
       "      <td>-0.431813</td>\n",
       "      <td>-0.016565</td>\n",
       "      <td>-0.189966</td>\n",
       "      <td>-0.448800</td>\n",
       "      <td>0.367989</td>\n",
       "      <td>-0.789632</td>\n",
       "      <td>0.435651</td>\n",
       "    </tr>\n",
       "    <tr>\n",
       "      <th>900</th>\n",
       "      <td>-0.421640</td>\n",
       "      <td>-0.761116</td>\n",
       "      <td>0.307457</td>\n",
       "      <td>0.317262</td>\n",
       "      <td>0.300423</td>\n",
       "      <td>-0.312108</td>\n",
       "      <td>0.109712</td>\n",
       "      <td>0.180553</td>\n",
       "      <td>0.826584</td>\n",
       "      <td>0.596977</td>\n",
       "      <td>0.435651</td>\n",
       "    </tr>\n",
       "  </tbody>\n",
       "</table>\n",
       "</div>"
      ],
      "text/plain": [
       "      fixed acidity  volatile acidity  citric acid  residual sugar  chlorides  \\\n",
       "592       -0.066448          1.283858    -0.093104        0.747036  -0.111460   \n",
       "1695       0.288745         -0.663737    -0.093104       -0.639963  -0.431813   \n",
       "900       -0.421640         -0.761116     0.307457        0.317262   0.300423   \n",
       "\n",
       "      free sulfur dioxide  total sulfur dioxide   density        pH  \\\n",
       "592             -0.430325              0.271077  0.876153  0.040421   \n",
       "1695            -0.016565             -0.189966 -0.448800  0.367989   \n",
       "900             -0.312108              0.109712  0.180553  0.826584   \n",
       "\n",
       "      sulphates   alcohol  \n",
       "592    0.250325 -0.880988  \n",
       "1695  -0.789632  0.435651  \n",
       "900    0.596977  0.435651  "
      ]
     },
     "execution_count": 7,
     "metadata": {},
     "output_type": "execute_result"
    }
   ],
   "source": [
    "X_train_scl_st = st_scaler.transform(X_train) # this will return an array\n",
    "# Convert the array to a pandas dataframe\n",
    "X_train_scl_st = pd.DataFrame(X_train_scl_st, columns = X_train.columns).set_index(X_train.index)\n",
    "X_train_scl_st.head(3)"
   ]
  },
  {
   "cell_type": "markdown",
   "id": "403516a0",
   "metadata": {},
   "source": [
    "<b>6. Using the same scaler, scale the numerical validation data.</b>\n"
   ]
  },
  {
   "cell_type": "code",
   "execution_count": 8,
   "id": "88c8fe9a",
   "metadata": {},
   "outputs": [
    {
     "data": {
      "text/html": [
       "<div>\n",
       "<style scoped>\n",
       "    .dataframe tbody tr th:only-of-type {\n",
       "        vertical-align: middle;\n",
       "    }\n",
       "\n",
       "    .dataframe tbody tr th {\n",
       "        vertical-align: top;\n",
       "    }\n",
       "\n",
       "    .dataframe thead th {\n",
       "        text-align: right;\n",
       "    }\n",
       "</style>\n",
       "<table border=\"1\" class=\"dataframe\">\n",
       "  <thead>\n",
       "    <tr style=\"text-align: right;\">\n",
       "      <th></th>\n",
       "      <th>fixed acidity</th>\n",
       "      <th>volatile acidity</th>\n",
       "      <th>citric acid</th>\n",
       "      <th>residual sugar</th>\n",
       "      <th>chlorides</th>\n",
       "      <th>free sulfur dioxide</th>\n",
       "      <th>total sulfur dioxide</th>\n",
       "      <th>density</th>\n",
       "      <th>pH</th>\n",
       "      <th>sulphates</th>\n",
       "      <th>alcohol</th>\n",
       "    </tr>\n",
       "  </thead>\n",
       "  <tbody>\n",
       "    <tr>\n",
       "      <th>2277</th>\n",
       "      <td>0.525539</td>\n",
       "      <td>-1.345395</td>\n",
       "      <td>-0.333441</td>\n",
       "      <td>-0.972061</td>\n",
       "      <td>-0.569107</td>\n",
       "      <td>-0.607651</td>\n",
       "      <td>-1.135106</td>\n",
       "      <td>-0.488549</td>\n",
       "      <td>2.202369</td>\n",
       "      <td>-0.876295</td>\n",
       "      <td>0.106491</td>\n",
       "    </tr>\n",
       "    <tr>\n",
       "      <th>1956</th>\n",
       "      <td>0.288745</td>\n",
       "      <td>-1.248015</td>\n",
       "      <td>-0.093104</td>\n",
       "      <td>-1.011132</td>\n",
       "      <td>-0.843696</td>\n",
       "      <td>-1.139629</td>\n",
       "      <td>-1.780567</td>\n",
       "      <td>-0.150686</td>\n",
       "      <td>1.154152</td>\n",
       "      <td>-0.789632</td>\n",
       "      <td>-0.469539</td>\n",
       "    </tr>\n",
       "    <tr>\n",
       "      <th>2962</th>\n",
       "      <td>-0.066448</td>\n",
       "      <td>0.991719</td>\n",
       "      <td>0.307457</td>\n",
       "      <td>1.333092</td>\n",
       "      <td>3.046308</td>\n",
       "      <td>-1.257846</td>\n",
       "      <td>-1.065949</td>\n",
       "      <td>1.247140</td>\n",
       "      <td>-1.138824</td>\n",
       "      <td>-0.096327</td>\n",
       "      <td>-1.045568</td>\n",
       "    </tr>\n",
       "  </tbody>\n",
       "</table>\n",
       "</div>"
      ],
      "text/plain": [
       "      fixed acidity  volatile acidity  citric acid  residual sugar  chlorides  \\\n",
       "2277       0.525539         -1.345395    -0.333441       -0.972061  -0.569107   \n",
       "1956       0.288745         -1.248015    -0.093104       -1.011132  -0.843696   \n",
       "2962      -0.066448          0.991719     0.307457        1.333092   3.046308   \n",
       "\n",
       "      free sulfur dioxide  total sulfur dioxide   density        pH  \\\n",
       "2277            -0.607651             -1.135106 -0.488549  2.202369   \n",
       "1956            -1.139629             -1.780567 -0.150686  1.154152   \n",
       "2962            -1.257846             -1.065949  1.247140 -1.138824   \n",
       "\n",
       "      sulphates   alcohol  \n",
       "2277  -0.876295  0.106491  \n",
       "1956  -0.789632 -0.469539  \n",
       "2962  -0.096327 -1.045568  "
      ]
     },
     "execution_count": 8,
     "metadata": {},
     "output_type": "execute_result"
    }
   ],
   "source": [
    "X_val_scl_st = st_scaler.transform(X_val)\n",
    "X_val_scl_st = pd.DataFrame(X_val_scl_st, columns = X_val.columns).set_index(X_val.index)\n",
    "X_val_scl_st.head(3)"
   ]
  },
  {
   "cell_type": "markdown",
   "id": "76d94165",
   "metadata": {},
   "source": [
    "Note: In the same way you did for filling the missing values, the scaling should also consider only the training data. In that way, we are going to use the minimum and maximum values of the training dataset for each feature (the StandardScaler use those values to scale the data) to scale also the validation dataset.\n",
    "\n",
    "**MinMax Scaler:**\n",
    "$$m=\\frac{x - min(x)}{max(x)-min(x)}$$\n",
    " **x** - original sample<br>**m** - scaled sample\n",
    "\n",
    "sklearn documentation: <a href = 'https://scikit-learn.org/stable/modules/generated/sklearn.preprocessing.MinMaxScaler.html'>sklearn.model_selection.MinMaxScaler()</a><br><br>\n",
    "<b>7. Repeat the last two steps, but using the MinMaxScaler with the default range (from 0 to 1).</b>\n"
   ]
  },
  {
   "cell_type": "code",
   "execution_count": 9,
   "id": "fdb86f64",
   "metadata": {},
   "outputs": [],
   "source": [
    "mm_scaler = MinMaxScaler().fit(X_train)"
   ]
  },
  {
   "cell_type": "code",
   "execution_count": 10,
   "id": "41d8345e",
   "metadata": {},
   "outputs": [
    {
     "data": {
      "text/html": [
       "<div>\n",
       "<style scoped>\n",
       "    .dataframe tbody tr th:only-of-type {\n",
       "        vertical-align: middle;\n",
       "    }\n",
       "\n",
       "    .dataframe tbody tr th {\n",
       "        vertical-align: top;\n",
       "    }\n",
       "\n",
       "    .dataframe thead th {\n",
       "        text-align: right;\n",
       "    }\n",
       "</style>\n",
       "<table border=\"1\" class=\"dataframe\">\n",
       "  <thead>\n",
       "    <tr style=\"text-align: right;\">\n",
       "      <th></th>\n",
       "      <th>fixed acidity</th>\n",
       "      <th>volatile acidity</th>\n",
       "      <th>citric acid</th>\n",
       "      <th>residual sugar</th>\n",
       "      <th>chlorides</th>\n",
       "      <th>free sulfur dioxide</th>\n",
       "      <th>total sulfur dioxide</th>\n",
       "      <th>density</th>\n",
       "      <th>pH</th>\n",
       "      <th>sulphates</th>\n",
       "      <th>alcohol</th>\n",
       "    </tr>\n",
       "  </thead>\n",
       "  <tbody>\n",
       "    <tr>\n",
       "      <th>592</th>\n",
       "      <td>0.355263</td>\n",
       "      <td>0.356757</td>\n",
       "      <td>0.198795</td>\n",
       "      <td>0.145706</td>\n",
       "      <td>0.100890</td>\n",
       "      <td>0.190476</td>\n",
       "      <td>0.400000</td>\n",
       "      <td>0.185085</td>\n",
       "      <td>0.440367</td>\n",
       "      <td>0.357143</td>\n",
       "      <td>0.225806</td>\n",
       "    </tr>\n",
       "    <tr>\n",
       "      <th>1695</th>\n",
       "      <td>0.394737</td>\n",
       "      <td>0.140541</td>\n",
       "      <td>0.198795</td>\n",
       "      <td>0.036810</td>\n",
       "      <td>0.080119</td>\n",
       "      <td>0.241758</td>\n",
       "      <td>0.344056</td>\n",
       "      <td>0.107805</td>\n",
       "      <td>0.486239</td>\n",
       "      <td>0.214286</td>\n",
       "      <td>0.483871</td>\n",
       "    </tr>\n",
       "    <tr>\n",
       "      <th>900</th>\n",
       "      <td>0.315789</td>\n",
       "      <td>0.129730</td>\n",
       "      <td>0.228916</td>\n",
       "      <td>0.111963</td>\n",
       "      <td>0.127596</td>\n",
       "      <td>0.205128</td>\n",
       "      <td>0.380420</td>\n",
       "      <td>0.144513</td>\n",
       "      <td>0.550459</td>\n",
       "      <td>0.404762</td>\n",
       "      <td>0.483871</td>\n",
       "    </tr>\n",
       "  </tbody>\n",
       "</table>\n",
       "</div>"
      ],
      "text/plain": [
       "      fixed acidity  volatile acidity  citric acid  residual sugar  chlorides  \\\n",
       "592        0.355263          0.356757     0.198795        0.145706   0.100890   \n",
       "1695       0.394737          0.140541     0.198795        0.036810   0.080119   \n",
       "900        0.315789          0.129730     0.228916        0.111963   0.127596   \n",
       "\n",
       "      free sulfur dioxide  total sulfur dioxide   density        pH  \\\n",
       "592              0.190476              0.400000  0.185085  0.440367   \n",
       "1695             0.241758              0.344056  0.107805  0.486239   \n",
       "900              0.205128              0.380420  0.144513  0.550459   \n",
       "\n",
       "      sulphates   alcohol  \n",
       "592    0.357143  0.225806  \n",
       "1695   0.214286  0.483871  \n",
       "900    0.404762  0.483871  "
      ]
     },
     "execution_count": 10,
     "metadata": {},
     "output_type": "execute_result"
    }
   ],
   "source": [
    "\n",
    "X_train_scl_mm = mm_scaler.transform(X_train) # this will return an array\n",
    "# Convert the array to a pandas dataframe\n",
    "X_train_scl_mm = pd.DataFrame(X_train_scl_mm, columns = X_train.columns).set_index(X_train.index)\n",
    "X_train_scl_mm.head(3)"
   ]
  },
  {
   "cell_type": "code",
   "execution_count": 11,
   "id": "2c170515",
   "metadata": {},
   "outputs": [
    {
     "data": {
      "text/html": [
       "<div>\n",
       "<style scoped>\n",
       "    .dataframe tbody tr th:only-of-type {\n",
       "        vertical-align: middle;\n",
       "    }\n",
       "\n",
       "    .dataframe tbody tr th {\n",
       "        vertical-align: top;\n",
       "    }\n",
       "\n",
       "    .dataframe thead th {\n",
       "        text-align: right;\n",
       "    }\n",
       "</style>\n",
       "<table border=\"1\" class=\"dataframe\">\n",
       "  <thead>\n",
       "    <tr style=\"text-align: right;\">\n",
       "      <th></th>\n",
       "      <th>fixed acidity</th>\n",
       "      <th>volatile acidity</th>\n",
       "      <th>citric acid</th>\n",
       "      <th>residual sugar</th>\n",
       "      <th>chlorides</th>\n",
       "      <th>free sulfur dioxide</th>\n",
       "      <th>total sulfur dioxide</th>\n",
       "      <th>density</th>\n",
       "      <th>pH</th>\n",
       "      <th>sulphates</th>\n",
       "      <th>alcohol</th>\n",
       "    </tr>\n",
       "  </thead>\n",
       "  <tbody>\n",
       "    <tr>\n",
       "      <th>2277</th>\n",
       "      <td>0.421053</td>\n",
       "      <td>0.064865</td>\n",
       "      <td>0.180723</td>\n",
       "      <td>0.010736</td>\n",
       "      <td>0.071217</td>\n",
       "      <td>0.168498</td>\n",
       "      <td>0.229371</td>\n",
       "      <td>0.105487</td>\n",
       "      <td>0.743119</td>\n",
       "      <td>0.202381</td>\n",
       "      <td>0.419355</td>\n",
       "    </tr>\n",
       "    <tr>\n",
       "      <th>1956</th>\n",
       "      <td>0.394737</td>\n",
       "      <td>0.075676</td>\n",
       "      <td>0.198795</td>\n",
       "      <td>0.007669</td>\n",
       "      <td>0.053412</td>\n",
       "      <td>0.102564</td>\n",
       "      <td>0.151049</td>\n",
       "      <td>0.125193</td>\n",
       "      <td>0.596330</td>\n",
       "      <td>0.214286</td>\n",
       "      <td>0.306452</td>\n",
       "    </tr>\n",
       "    <tr>\n",
       "      <th>2962</th>\n",
       "      <td>0.355263</td>\n",
       "      <td>0.324324</td>\n",
       "      <td>0.228916</td>\n",
       "      <td>0.191718</td>\n",
       "      <td>0.305638</td>\n",
       "      <td>0.087912</td>\n",
       "      <td>0.237762</td>\n",
       "      <td>0.206723</td>\n",
       "      <td>0.275229</td>\n",
       "      <td>0.309524</td>\n",
       "      <td>0.193548</td>\n",
       "    </tr>\n",
       "  </tbody>\n",
       "</table>\n",
       "</div>"
      ],
      "text/plain": [
       "      fixed acidity  volatile acidity  citric acid  residual sugar  chlorides  \\\n",
       "2277       0.421053          0.064865     0.180723        0.010736   0.071217   \n",
       "1956       0.394737          0.075676     0.198795        0.007669   0.053412   \n",
       "2962       0.355263          0.324324     0.228916        0.191718   0.305638   \n",
       "\n",
       "      free sulfur dioxide  total sulfur dioxide   density        pH  \\\n",
       "2277             0.168498              0.229371  0.105487  0.743119   \n",
       "1956             0.102564              0.151049  0.125193  0.596330   \n",
       "2962             0.087912              0.237762  0.206723  0.275229   \n",
       "\n",
       "      sulphates   alcohol  \n",
       "2277   0.202381  0.419355  \n",
       "1956   0.214286  0.306452  \n",
       "2962   0.309524  0.193548  "
      ]
     },
     "execution_count": 11,
     "metadata": {},
     "output_type": "execute_result"
    }
   ],
   "source": [
    "X_val_scl_mm = mm_scaler.transform(X_val)#CODE HERE\n",
    "X_val_scl_mm = pd.DataFrame(X_val_scl_mm, columns = X_val.columns).set_index(X_val.index)\n",
    "X_val_scl_mm.head(3)"
   ]
  },
  {
   "cell_type": "markdown",
   "id": "90f7b848",
   "metadata": {},
   "source": [
    "**Robust Scaler:**\n",
    "$$r=\\frac{x - Q_{1}(x)}{Q_{3}(x)- Q_{1}(x)}$$\n",
    " x - original sample<br>r - scaled sample<br>$Q_{1}$ - 1st quartile<br>$Q_{3}$ - 3rd quartile\n",
    "\n",
    "sklearn documentation: <a href = 'https://scikit-learn.org/stable/modules/generated/sklearn.preprocessing.RobustScaler.html'>sklearn.model_selection.RobustScaler()</a><br><br>\n",
    "<b>8. Repeat steps 5 and 6, but using the RobustScaler with the default quantiles (the quartiles).</b>"
   ]
  },
  {
   "cell_type": "code",
   "execution_count": 12,
   "id": "44d55234",
   "metadata": {},
   "outputs": [],
   "source": [
    "rb_scaler = RobustScaler().fit(X_train)"
   ]
  },
  {
   "cell_type": "code",
   "execution_count": 13,
   "id": "ecb73bc2",
   "metadata": {},
   "outputs": [
    {
     "data": {
      "text/html": [
       "<div>\n",
       "<style scoped>\n",
       "    .dataframe tbody tr th:only-of-type {\n",
       "        vertical-align: middle;\n",
       "    }\n",
       "\n",
       "    .dataframe tbody tr th {\n",
       "        vertical-align: top;\n",
       "    }\n",
       "\n",
       "    .dataframe thead th {\n",
       "        text-align: right;\n",
       "    }\n",
       "</style>\n",
       "<table border=\"1\" class=\"dataframe\">\n",
       "  <thead>\n",
       "    <tr style=\"text-align: right;\">\n",
       "      <th></th>\n",
       "      <th>fixed acidity</th>\n",
       "      <th>volatile acidity</th>\n",
       "      <th>citric acid</th>\n",
       "      <th>residual sugar</th>\n",
       "      <th>chlorides</th>\n",
       "      <th>free sulfur dioxide</th>\n",
       "      <th>total sulfur dioxide</th>\n",
       "      <th>density</th>\n",
       "      <th>pH</th>\n",
       "      <th>sulphates</th>\n",
       "      <th>alcohol</th>\n",
       "    </tr>\n",
       "  </thead>\n",
       "  <tbody>\n",
       "    <tr>\n",
       "      <th>592</th>\n",
       "      <td>0.0</td>\n",
       "      <td>1.363636</td>\n",
       "      <td>0.076923</td>\n",
       "      <td>0.645570</td>\n",
       "      <td>0.066667</td>\n",
       "      <td>-0.260870</td>\n",
       "      <td>0.266667</td>\n",
       "      <td>0.691244</td>\n",
       "      <td>0.10</td>\n",
       "      <td>0.285714</td>\n",
       "      <td>-0.473684</td>\n",
       "    </tr>\n",
       "    <tr>\n",
       "      <th>1695</th>\n",
       "      <td>0.3</td>\n",
       "      <td>-0.454545</td>\n",
       "      <td>0.076923</td>\n",
       "      <td>-0.253165</td>\n",
       "      <td>-0.400000</td>\n",
       "      <td>0.043478</td>\n",
       "      <td>-0.066667</td>\n",
       "      <td>-0.230415</td>\n",
       "      <td>0.35</td>\n",
       "      <td>-0.571429</td>\n",
       "      <td>0.368421</td>\n",
       "    </tr>\n",
       "    <tr>\n",
       "      <th>900</th>\n",
       "      <td>-0.3</td>\n",
       "      <td>-0.545455</td>\n",
       "      <td>0.461538</td>\n",
       "      <td>0.367089</td>\n",
       "      <td>0.666667</td>\n",
       "      <td>-0.173913</td>\n",
       "      <td>0.150000</td>\n",
       "      <td>0.207373</td>\n",
       "      <td>0.70</td>\n",
       "      <td>0.571429</td>\n",
       "      <td>0.368421</td>\n",
       "    </tr>\n",
       "  </tbody>\n",
       "</table>\n",
       "</div>"
      ],
      "text/plain": [
       "      fixed acidity  volatile acidity  citric acid  residual sugar  chlorides  \\\n",
       "592             0.0          1.363636     0.076923        0.645570   0.066667   \n",
       "1695            0.3         -0.454545     0.076923       -0.253165  -0.400000   \n",
       "900            -0.3         -0.545455     0.461538        0.367089   0.666667   \n",
       "\n",
       "      free sulfur dioxide  total sulfur dioxide   density    pH  sulphates  \\\n",
       "592             -0.260870              0.266667  0.691244  0.10   0.285714   \n",
       "1695             0.043478             -0.066667 -0.230415  0.35  -0.571429   \n",
       "900             -0.173913              0.150000  0.207373  0.70   0.571429   \n",
       "\n",
       "       alcohol  \n",
       "592  -0.473684  \n",
       "1695  0.368421  \n",
       "900   0.368421  "
      ]
     },
     "execution_count": 13,
     "metadata": {},
     "output_type": "execute_result"
    }
   ],
   "source": [
    "\n",
    "X_train_scl_rb = rb_scaler.transform(X_train) # this will return an array\n",
    "# Convert the array to a pandas dataframe\n",
    "X_train_scl_rb = pd.DataFrame(X_train_scl_rb, columns = X_train.columns).set_index(X_train.index)\n",
    "X_train_scl_rb.head(3)"
   ]
  },
  {
   "cell_type": "code",
   "execution_count": 14,
   "id": "e3bd9196",
   "metadata": {},
   "outputs": [
    {
     "data": {
      "text/html": [
       "<div>\n",
       "<style scoped>\n",
       "    .dataframe tbody tr th:only-of-type {\n",
       "        vertical-align: middle;\n",
       "    }\n",
       "\n",
       "    .dataframe tbody tr th {\n",
       "        vertical-align: top;\n",
       "    }\n",
       "\n",
       "    .dataframe thead th {\n",
       "        text-align: right;\n",
       "    }\n",
       "</style>\n",
       "<table border=\"1\" class=\"dataframe\">\n",
       "  <thead>\n",
       "    <tr style=\"text-align: right;\">\n",
       "      <th></th>\n",
       "      <th>fixed acidity</th>\n",
       "      <th>volatile acidity</th>\n",
       "      <th>citric acid</th>\n",
       "      <th>residual sugar</th>\n",
       "      <th>chlorides</th>\n",
       "      <th>free sulfur dioxide</th>\n",
       "      <th>total sulfur dioxide</th>\n",
       "      <th>density</th>\n",
       "      <th>pH</th>\n",
       "      <th>sulphates</th>\n",
       "      <th>alcohol</th>\n",
       "    </tr>\n",
       "  </thead>\n",
       "  <tbody>\n",
       "    <tr>\n",
       "      <th>2277</th>\n",
       "      <td>0.5</td>\n",
       "      <td>-1.090909</td>\n",
       "      <td>-0.153846</td>\n",
       "      <td>-0.468354</td>\n",
       "      <td>-0.600000</td>\n",
       "      <td>-0.391304</td>\n",
       "      <td>-0.750000</td>\n",
       "      <td>-0.258065</td>\n",
       "      <td>1.75</td>\n",
       "      <td>-0.642857</td>\n",
       "      <td>0.157895</td>\n",
       "    </tr>\n",
       "    <tr>\n",
       "      <th>1956</th>\n",
       "      <td>0.3</td>\n",
       "      <td>-1.000000</td>\n",
       "      <td>0.076923</td>\n",
       "      <td>-0.493671</td>\n",
       "      <td>-1.000000</td>\n",
       "      <td>-0.782609</td>\n",
       "      <td>-1.216667</td>\n",
       "      <td>-0.023041</td>\n",
       "      <td>0.95</td>\n",
       "      <td>-0.571429</td>\n",
       "      <td>-0.210526</td>\n",
       "    </tr>\n",
       "    <tr>\n",
       "      <th>2962</th>\n",
       "      <td>0.0</td>\n",
       "      <td>1.090909</td>\n",
       "      <td>0.461538</td>\n",
       "      <td>1.025316</td>\n",
       "      <td>4.666667</td>\n",
       "      <td>-0.869565</td>\n",
       "      <td>-0.700000</td>\n",
       "      <td>0.949309</td>\n",
       "      <td>-0.80</td>\n",
       "      <td>0.000000</td>\n",
       "      <td>-0.578947</td>\n",
       "    </tr>\n",
       "  </tbody>\n",
       "</table>\n",
       "</div>"
      ],
      "text/plain": [
       "      fixed acidity  volatile acidity  citric acid  residual sugar  chlorides  \\\n",
       "2277            0.5         -1.090909    -0.153846       -0.468354  -0.600000   \n",
       "1956            0.3         -1.000000     0.076923       -0.493671  -1.000000   \n",
       "2962            0.0          1.090909     0.461538        1.025316   4.666667   \n",
       "\n",
       "      free sulfur dioxide  total sulfur dioxide   density    pH  sulphates  \\\n",
       "2277            -0.391304             -0.750000 -0.258065  1.75  -0.642857   \n",
       "1956            -0.782609             -1.216667 -0.023041  0.95  -0.571429   \n",
       "2962            -0.869565             -0.700000  0.949309 -0.80   0.000000   \n",
       "\n",
       "       alcohol  \n",
       "2277  0.157895  \n",
       "1956 -0.210526  \n",
       "2962 -0.578947  "
      ]
     },
     "execution_count": 14,
     "metadata": {},
     "output_type": "execute_result"
    }
   ],
   "source": [
    "X_val_scl_rb = rb_scaler.transform(X_val)#CODE HERE\n",
    "X_val_scl_rb = pd.DataFrame(X_val_scl_rb, columns = X_val.columns).set_index(X_val.index)\n",
    "X_val_scl_rb.head(3)"
   ]
  },
  {
   "cell_type": "markdown",
   "id": "d6bc8367",
   "metadata": {},
   "source": [
    "Now, time to use our scaled data for some practice\n",
    "\n",
    "<a class=\"anchor\" id=\"2nd-bullet\">  \n",
    "    \n",
    "# Exercises\n",
    "</a>"
   ]
  },
  {
   "cell_type": "markdown",
   "id": "1402a074",
   "metadata": {},
   "source": [
    "## 1: Further explore the data\n",
    "\n",
    "Just to get some further insight"
   ]
  },
  {
   "cell_type": "markdown",
   "id": "4e8d6282",
   "metadata": {},
   "source": [
    "<b>1. Get the main descriptive statistics for all the variables in `winequality` using the method `.describe()`</b>"
   ]
  },
  {
   "cell_type": "code",
   "execution_count": 15,
   "id": "b0eaaba3",
   "metadata": {},
   "outputs": [
    {
     "data": {
      "text/html": [
       "<div>\n",
       "<style scoped>\n",
       "    .dataframe tbody tr th:only-of-type {\n",
       "        vertical-align: middle;\n",
       "    }\n",
       "\n",
       "    .dataframe tbody tr th {\n",
       "        vertical-align: top;\n",
       "    }\n",
       "\n",
       "    .dataframe thead th {\n",
       "        text-align: right;\n",
       "    }\n",
       "</style>\n",
       "<table border=\"1\" class=\"dataframe\">\n",
       "  <thead>\n",
       "    <tr style=\"text-align: right;\">\n",
       "      <th></th>\n",
       "      <th>fixed acidity</th>\n",
       "      <th>volatile acidity</th>\n",
       "      <th>citric acid</th>\n",
       "      <th>residual sugar</th>\n",
       "      <th>chlorides</th>\n",
       "      <th>free sulfur dioxide</th>\n",
       "      <th>total sulfur dioxide</th>\n",
       "      <th>density</th>\n",
       "      <th>pH</th>\n",
       "      <th>sulphates</th>\n",
       "      <th>alcohol</th>\n",
       "      <th>quality</th>\n",
       "    </tr>\n",
       "  </thead>\n",
       "  <tbody>\n",
       "    <tr>\n",
       "      <th>count</th>\n",
       "      <td>3920.000000</td>\n",
       "      <td>3920.000000</td>\n",
       "      <td>3920.000000</td>\n",
       "      <td>3920.000000</td>\n",
       "      <td>3920.000000</td>\n",
       "      <td>3920.000000</td>\n",
       "      <td>3920.000000</td>\n",
       "      <td>3920.000000</td>\n",
       "      <td>3920.000000</td>\n",
       "      <td>3920.000000</td>\n",
       "      <td>3920.000000</td>\n",
       "      <td>3920.000000</td>\n",
       "    </tr>\n",
       "    <tr>\n",
       "      <th>mean</th>\n",
       "      <td>6.962870</td>\n",
       "      <td>0.275938</td>\n",
       "      <td>0.341370</td>\n",
       "      <td>6.364592</td>\n",
       "      <td>0.045564</td>\n",
       "      <td>35.566709</td>\n",
       "      <td>140.669133</td>\n",
       "      <td>0.994203</td>\n",
       "      <td>3.193077</td>\n",
       "      <td>0.488638</td>\n",
       "      <td>10.458291</td>\n",
       "      <td>0.227041</td>\n",
       "    </tr>\n",
       "    <tr>\n",
       "      <th>std</th>\n",
       "      <td>0.844844</td>\n",
       "      <td>0.100504</td>\n",
       "      <td>0.122957</td>\n",
       "      <td>5.103226</td>\n",
       "      <td>0.021924</td>\n",
       "      <td>16.965426</td>\n",
       "      <td>43.400711</td>\n",
       "      <td>0.002997</td>\n",
       "      <td>0.153216</td>\n",
       "      <td>0.114292</td>\n",
       "      <td>1.216308</td>\n",
       "      <td>0.418973</td>\n",
       "    </tr>\n",
       "    <tr>\n",
       "      <th>min</th>\n",
       "      <td>4.200000</td>\n",
       "      <td>0.080000</td>\n",
       "      <td>0.000000</td>\n",
       "      <td>0.600000</td>\n",
       "      <td>0.009000</td>\n",
       "      <td>2.000000</td>\n",
       "      <td>9.000000</td>\n",
       "      <td>0.987130</td>\n",
       "      <td>2.720000</td>\n",
       "      <td>0.220000</td>\n",
       "      <td>8.000000</td>\n",
       "      <td>0.000000</td>\n",
       "    </tr>\n",
       "    <tr>\n",
       "      <th>25%</th>\n",
       "      <td>6.400000</td>\n",
       "      <td>0.210000</td>\n",
       "      <td>0.270000</td>\n",
       "      <td>1.700000</td>\n",
       "      <td>0.036000</td>\n",
       "      <td>23.000000</td>\n",
       "      <td>109.000000</td>\n",
       "      <td>0.991900</td>\n",
       "      <td>3.090000</td>\n",
       "      <td>0.410000</td>\n",
       "      <td>9.400000</td>\n",
       "      <td>0.000000</td>\n",
       "    </tr>\n",
       "    <tr>\n",
       "      <th>50%</th>\n",
       "      <td>6.900000</td>\n",
       "      <td>0.260000</td>\n",
       "      <td>0.320000</td>\n",
       "      <td>5.100000</td>\n",
       "      <td>0.043000</td>\n",
       "      <td>34.000000</td>\n",
       "      <td>138.000000</td>\n",
       "      <td>0.993900</td>\n",
       "      <td>3.180000</td>\n",
       "      <td>0.470000</td>\n",
       "      <td>10.300000</td>\n",
       "      <td>0.000000</td>\n",
       "    </tr>\n",
       "    <tr>\n",
       "      <th>75%</th>\n",
       "      <td>7.400000</td>\n",
       "      <td>0.320000</td>\n",
       "      <td>0.400000</td>\n",
       "      <td>9.800000</td>\n",
       "      <td>0.050000</td>\n",
       "      <td>46.250000</td>\n",
       "      <td>170.000000</td>\n",
       "      <td>0.996300</td>\n",
       "      <td>3.290000</td>\n",
       "      <td>0.550000</td>\n",
       "      <td>11.300000</td>\n",
       "      <td>0.000000</td>\n",
       "    </tr>\n",
       "    <tr>\n",
       "      <th>max</th>\n",
       "      <td>14.200000</td>\n",
       "      <td>1.005000</td>\n",
       "      <td>1.660000</td>\n",
       "      <td>65.800000</td>\n",
       "      <td>0.346000</td>\n",
       "      <td>146.500000</td>\n",
       "      <td>366.500000</td>\n",
       "      <td>1.038980</td>\n",
       "      <td>3.820000</td>\n",
       "      <td>1.060000</td>\n",
       "      <td>14.200000</td>\n",
       "      <td>1.000000</td>\n",
       "    </tr>\n",
       "  </tbody>\n",
       "</table>\n",
       "</div>"
      ],
      "text/plain": [
       "       fixed acidity  volatile acidity  citric acid  residual sugar  \\\n",
       "count    3920.000000       3920.000000  3920.000000     3920.000000   \n",
       "mean        6.962870          0.275938     0.341370        6.364592   \n",
       "std         0.844844          0.100504     0.122957        5.103226   \n",
       "min         4.200000          0.080000     0.000000        0.600000   \n",
       "25%         6.400000          0.210000     0.270000        1.700000   \n",
       "50%         6.900000          0.260000     0.320000        5.100000   \n",
       "75%         7.400000          0.320000     0.400000        9.800000   \n",
       "max        14.200000          1.005000     1.660000       65.800000   \n",
       "\n",
       "         chlorides  free sulfur dioxide  total sulfur dioxide      density  \\\n",
       "count  3920.000000          3920.000000           3920.000000  3920.000000   \n",
       "mean      0.045564            35.566709            140.669133     0.994203   \n",
       "std       0.021924            16.965426             43.400711     0.002997   \n",
       "min       0.009000             2.000000              9.000000     0.987130   \n",
       "25%       0.036000            23.000000            109.000000     0.991900   \n",
       "50%       0.043000            34.000000            138.000000     0.993900   \n",
       "75%       0.050000            46.250000            170.000000     0.996300   \n",
       "max       0.346000           146.500000            366.500000     1.038980   \n",
       "\n",
       "                pH    sulphates      alcohol      quality  \n",
       "count  3920.000000  3920.000000  3920.000000  3920.000000  \n",
       "mean      3.193077     0.488638    10.458291     0.227041  \n",
       "std       0.153216     0.114292     1.216308     0.418973  \n",
       "min       2.720000     0.220000     8.000000     0.000000  \n",
       "25%       3.090000     0.410000     9.400000     0.000000  \n",
       "50%       3.180000     0.470000    10.300000     0.000000  \n",
       "75%       3.290000     0.550000    11.300000     0.000000  \n",
       "max       3.820000     1.060000    14.200000     1.000000  "
      ]
     },
     "execution_count": 15,
     "metadata": {},
     "output_type": "execute_result"
    }
   ],
   "source": [
    "winequality.describe()"
   ]
  },
  {
   "cell_type": "markdown",
   "id": "5a306896",
   "metadata": {},
   "source": [
    "<b>2. What is the pearson correlation between all the variables? (HINT: Use the `cor_heatmap` function for a better visualization)</b>"
   ]
  },
  {
   "cell_type": "code",
   "execution_count": 16,
   "id": "481a0904",
   "metadata": {},
   "outputs": [],
   "source": [
    "corr = winequality.corr(method = 'pearson')"
   ]
  },
  {
   "cell_type": "code",
   "execution_count": 17,
   "id": "4d6465c4",
   "metadata": {},
   "outputs": [],
   "source": [
    "def cor_heatmap(cor):\n",
    "    plt.figure(figsize=(12,10))\n",
    "    sns.heatmap(data = cor, annot = True, cmap = plt.cm.Reds, fmt='.1')\n",
    "    plt.show()"
   ]
  },
  {
   "cell_type": "code",
   "execution_count": 18,
   "id": "5c9310ae",
   "metadata": {},
   "outputs": [
    {
     "data": {
      "image/png": "[encoded data removed]",
      "text/plain": [
       "<Figure size 1200x1000 with 2 Axes>"
      ]
     },
     "metadata": {},
     "output_type": "display_data"
    }
   ],
   "source": [
    "cor_heatmap(corr)"
   ]
  },
  {
   "cell_type": "markdown",
   "id": "6898bc72",
   "metadata": {},
   "source": [
    "## 2. Modelling\n",
    "\n",
    "[Feature scaling](#1st-bullet)\n",
    " \n"
   ]
  },
  {
   "cell_type": "markdown",
   "id": "8653edc3",
   "metadata": {},
   "source": [
    "With our data prepared, it's time to create our models.<br>\n",
    "\n",
    "Captions:\n",
    "* mm - MinMaxScaler\n",
    "* st - StandardScaler\n",
    "* rb - RobustScaler\n",
    "\n",
    "<b>1. Create an instance of `LogisticRegression()`, and fit it to unscaled training data</b>"
   ]
  },
  {
   "cell_type": "code",
   "execution_count": 19,
   "id": "c643e587",
   "metadata": {},
   "outputs": [],
   "source": [
    "lr = LogisticRegression().fit(X_train,y_train)"
   ]
  },
  {
   "cell_type": "markdown",
   "id": "f453e115",
   "metadata": {},
   "source": [
    "<b>2. For each scaling method seen above, create an instance of `LogisticRegression()`. To each instance fit a differently scaled version of our data, using the method `.fit()` with `X_train_scl_[SCALER NAME]` and `y_train` as parameters. Example: `X_train_scl_mm` is data scaled with the MinMaxScaler</b>"
   ]
  },
  {
   "cell_type": "code",
   "execution_count": 20,
   "id": "0997379b",
   "metadata": {},
   "outputs": [],
   "source": [
    "lr_mm = LogisticRegression().fit(X_train_scl_mm,y_train)"
   ]
  },
  {
   "cell_type": "code",
   "execution_count": 21,
   "id": "f0b47016",
   "metadata": {},
   "outputs": [],
   "source": [
    "lr_st = LogisticRegression().fit(X_train_scl_st,y_train)"
   ]
  },
  {
   "cell_type": "code",
   "execution_count": 22,
   "id": "58728c9a",
   "metadata": {},
   "outputs": [],
   "source": [
    "lr_rb = LogisticRegression().fit(X_train_scl_rb,y_train)"
   ]
  },
  {
   "cell_type": "markdown",
   "id": "d2654955",
   "metadata": {},
   "source": [
    "Note: It's normal for this message to show up when data is fit to a Logistic Regressor"
   ]
  },
  {
   "cell_type": "markdown",
   "id": "ced79770",
   "metadata": {},
   "source": [
    "<b>3. For all models, predict the values of the target in each train dataset using the method `.predict()`. For the models using scaled data with `X_train_sc_[SCALER NAME]` as a parameter, for each of the models defined. Assign those values to the objects `lr_[SCALER NAME]_pred`</b>"
   ]
  },
  {
   "cell_type": "code",
   "execution_count": 23,
   "id": "8ce7c230",
   "metadata": {},
   "outputs": [],
   "source": [
    "lr_pred = lr.predict(X_train)"
   ]
  },
  {
   "cell_type": "code",
   "execution_count": 24,
   "id": "91740fb4",
   "metadata": {},
   "outputs": [],
   "source": [
    "lr_mm_pred = lr_mm.predict(X_train_scl_mm)"
   ]
  },
  {
   "cell_type": "code",
   "execution_count": 25,
   "id": "3ddc29e3",
   "metadata": {},
   "outputs": [],
   "source": [
    "lr_st_pred = lr_st.predict(X_train_scl_st)"
   ]
  },
  {
   "cell_type": "code",
   "execution_count": 26,
   "id": "1e223d1f",
   "metadata": {},
   "outputs": [],
   "source": [
    "lr_rb_pred = lr_rb.predict(X_train_scl_rb)"
   ]
  },
  {
   "cell_type": "markdown",
   "id": "e995eae9",
   "metadata": {},
   "source": [
    "<b>4. Now predict the values of the target in each validation dataset using the method `.predict()`. For the models using scaled data with `X_val_sc_[SCALER NAME]` as a parameter, for each of the models defined. Assign those values to the objects `lr_[SCALER NAME]_pred`</b>"
   ]
  },
  {
   "cell_type": "code",
   "execution_count": 27,
   "id": "6ac9bde5",
   "metadata": {},
   "outputs": [],
   "source": [
    "lr_pred_val = lr.predict(X_val)\n",
    "lr_mm_pred_val = lr_mm.predict(X_val_scl_mm)\n",
    "lr_st_pred_val = lr_st.predict(X_val_scl_st)\n",
    "lr_rb_pred_val = lr_rb.predict(X_val_scl_rb)"
   ]
  },
  {
   "cell_type": "markdown",
   "id": "e3fdb480",
   "metadata": {},
   "source": [
    "## 3. Model Features"
   ]
  },
  {
   "cell_type": "markdown",
   "id": "d27e7be2",
   "metadata": {},
   "source": [
    "<b>1. To check the coefficients calculated by applying the linear regression, call the attribute `coef_` associated to each of your models.</b>"
   ]
  },
  {
   "cell_type": "code",
   "execution_count": 28,
   "id": "c248a4a4",
   "metadata": {},
   "outputs": [
    {
     "data": {
      "text/plain": [
       "array([[-0.30921782, -3.69410134, -0.97104635,  0.04811429, -0.7545257 ,\n",
       "         0.00960344, -0.00432098, -2.69265207, -0.53176356,  1.42993506,\n",
       "         0.85730774]])"
      ]
     },
     "execution_count": 28,
     "metadata": {},
     "output_type": "execute_result"
    }
   ],
   "source": [
    "lr.coef_"
   ]
  },
  {
   "cell_type": "code",
   "execution_count": 29,
   "id": "8914c56a",
   "metadata": {},
   "outputs": [
    {
     "data": {
      "text/plain": [
       "array([[-0.09554197, -2.51851676, -0.71888534,  1.71939684, -1.81770021,\n",
       "         1.57907918, -0.92913992, -0.82715773,  0.97211788,  1.22988098,\n",
       "         5.16226109]])"
      ]
     },
     "execution_count": 29,
     "metadata": {},
     "output_type": "execute_result"
    }
   ],
   "source": [
    "lr_mm.coef_"
   ]
  },
  {
   "cell_type": "code",
   "execution_count": 30,
   "id": "a5dbfe3e",
   "metadata": {},
   "outputs": [
    {
     "data": {
      "text/plain": [
       "array([[ 0.39972814, -0.38812809, -0.10622283,  1.33835973, -0.19558393,\n",
       "         0.18023313, -0.02295015, -1.7487816 ,  0.46481358,  0.29270324,\n",
       "         0.38793947]])"
      ]
     },
     "execution_count": 30,
     "metadata": {},
     "output_type": "execute_result"
    }
   ],
   "source": [
    "lr_st.coef_"
   ]
  },
  {
   "cell_type": "code",
   "execution_count": 31,
   "id": "2c9eb914",
   "metadata": {},
   "outputs": [
    {
     "data": {
      "text/plain": [
       "array([[ 0.40503644, -0.41538355, -0.11156884,  1.80256507, -0.14571688,\n",
       "         0.25805352, -0.05856195, -2.13003581,  0.55011893,  0.33738209,\n",
       "         0.77868296]])"
      ]
     },
     "execution_count": 31,
     "metadata": {},
     "output_type": "execute_result"
    }
   ],
   "source": [
    "lr_rb.coef_"
   ]
  },
  {
   "cell_type": "markdown",
   "id": "e8f07638",
   "metadata": {},
   "source": [
    "Like in Linear Regression, in order to better understand what is the variable associated to each coefficient, let's convert the result to a DataFrame and define as headers the variables."
   ]
  },
  {
   "cell_type": "markdown",
   "id": "ba58075b",
   "metadata": {},
   "source": [
    "<b>2. Create a dataframe that will contain the values of the coefficients for your default model (the one without scaled data). Use ._coef[0] to get the coefficient array, WITHOUT it being inside another array. Set ``columns = ['base'].`` "
   ]
  },
  {
   "cell_type": "code",
   "execution_count": 32,
   "id": "6a8f43b0",
   "metadata": {
    "scrolled": true
   },
   "outputs": [
    {
     "data": {
      "text/html": [
       "<div>\n",
       "<style scoped>\n",
       "    .dataframe tbody tr th:only-of-type {\n",
       "        vertical-align: middle;\n",
       "    }\n",
       "\n",
       "    .dataframe tbody tr th {\n",
       "        vertical-align: top;\n",
       "    }\n",
       "\n",
       "    .dataframe thead th {\n",
       "        text-align: right;\n",
       "    }\n",
       "</style>\n",
       "<table border=\"1\" class=\"dataframe\">\n",
       "  <thead>\n",
       "    <tr style=\"text-align: right;\">\n",
       "      <th></th>\n",
       "      <th>base</th>\n",
       "    </tr>\n",
       "  </thead>\n",
       "  <tbody>\n",
       "    <tr>\n",
       "      <th>0</th>\n",
       "      <td>-0.309218</td>\n",
       "    </tr>\n",
       "    <tr>\n",
       "      <th>1</th>\n",
       "      <td>-3.694101</td>\n",
       "    </tr>\n",
       "    <tr>\n",
       "      <th>2</th>\n",
       "      <td>-0.971046</td>\n",
       "    </tr>\n",
       "    <tr>\n",
       "      <th>3</th>\n",
       "      <td>0.048114</td>\n",
       "    </tr>\n",
       "    <tr>\n",
       "      <th>4</th>\n",
       "      <td>-0.754526</td>\n",
       "    </tr>\n",
       "    <tr>\n",
       "      <th>5</th>\n",
       "      <td>0.009603</td>\n",
       "    </tr>\n",
       "    <tr>\n",
       "      <th>6</th>\n",
       "      <td>-0.004321</td>\n",
       "    </tr>\n",
       "    <tr>\n",
       "      <th>7</th>\n",
       "      <td>-2.692652</td>\n",
       "    </tr>\n",
       "    <tr>\n",
       "      <th>8</th>\n",
       "      <td>-0.531764</td>\n",
       "    </tr>\n",
       "    <tr>\n",
       "      <th>9</th>\n",
       "      <td>1.429935</td>\n",
       "    </tr>\n",
       "    <tr>\n",
       "      <th>10</th>\n",
       "      <td>0.857308</td>\n",
       "    </tr>\n",
       "  </tbody>\n",
       "</table>\n",
       "</div>"
      ],
      "text/plain": [
       "        base\n",
       "0  -0.309218\n",
       "1  -3.694101\n",
       "2  -0.971046\n",
       "3   0.048114\n",
       "4  -0.754526\n",
       "5   0.009603\n",
       "6  -0.004321\n",
       "7  -2.692652\n",
       "8  -0.531764\n",
       "9   1.429935\n",
       "10  0.857308"
      ]
     },
     "execution_count": 32,
     "metadata": {},
     "output_type": "execute_result"
    }
   ],
   "source": [
    "df_ = pd.DataFrame(lr.coef_[0],columns = ['base'])\n",
    "df_"
   ]
  },
  {
   "cell_type": "markdown",
   "id": "6c5023d9",
   "metadata": {},
   "source": [
    "<b>3. Create a dataframe that will contain the values of the coefficients for your model using MinMax scaling. Use ._coef[0] to get the coefficient array, WITHOUT it being inside another array. Set ``columns = ['MinMax'].`` "
   ]
  },
  {
   "cell_type": "code",
   "execution_count": 33,
   "id": "62f060a9",
   "metadata": {},
   "outputs": [
    {
     "data": {
      "text/html": [
       "<div>\n",
       "<style scoped>\n",
       "    .dataframe tbody tr th:only-of-type {\n",
       "        vertical-align: middle;\n",
       "    }\n",
       "\n",
       "    .dataframe tbody tr th {\n",
       "        vertical-align: top;\n",
       "    }\n",
       "\n",
       "    .dataframe thead th {\n",
       "        text-align: right;\n",
       "    }\n",
       "</style>\n",
       "<table border=\"1\" class=\"dataframe\">\n",
       "  <thead>\n",
       "    <tr style=\"text-align: right;\">\n",
       "      <th></th>\n",
       "      <th>MinMax</th>\n",
       "    </tr>\n",
       "  </thead>\n",
       "  <tbody>\n",
       "    <tr>\n",
       "      <th>0</th>\n",
       "      <td>-0.095542</td>\n",
       "    </tr>\n",
       "    <tr>\n",
       "      <th>1</th>\n",
       "      <td>-2.518517</td>\n",
       "    </tr>\n",
       "    <tr>\n",
       "      <th>2</th>\n",
       "      <td>-0.718885</td>\n",
       "    </tr>\n",
       "    <tr>\n",
       "      <th>3</th>\n",
       "      <td>1.719397</td>\n",
       "    </tr>\n",
       "    <tr>\n",
       "      <th>4</th>\n",
       "      <td>-1.817700</td>\n",
       "    </tr>\n",
       "    <tr>\n",
       "      <th>5</th>\n",
       "      <td>1.579079</td>\n",
       "    </tr>\n",
       "    <tr>\n",
       "      <th>6</th>\n",
       "      <td>-0.929140</td>\n",
       "    </tr>\n",
       "    <tr>\n",
       "      <th>7</th>\n",
       "      <td>-0.827158</td>\n",
       "    </tr>\n",
       "    <tr>\n",
       "      <th>8</th>\n",
       "      <td>0.972118</td>\n",
       "    </tr>\n",
       "    <tr>\n",
       "      <th>9</th>\n",
       "      <td>1.229881</td>\n",
       "    </tr>\n",
       "    <tr>\n",
       "      <th>10</th>\n",
       "      <td>5.162261</td>\n",
       "    </tr>\n",
       "  </tbody>\n",
       "</table>\n",
       "</div>"
      ],
      "text/plain": [
       "      MinMax\n",
       "0  -0.095542\n",
       "1  -2.518517\n",
       "2  -0.718885\n",
       "3   1.719397\n",
       "4  -1.817700\n",
       "5   1.579079\n",
       "6  -0.929140\n",
       "7  -0.827158\n",
       "8   0.972118\n",
       "9   1.229881\n",
       "10  5.162261"
      ]
     },
     "execution_count": 33,
     "metadata": {},
     "output_type": "execute_result"
    }
   ],
   "source": [
    "df_mm = pd.DataFrame(lr_mm.coef_[0],columns = ['MinMax'])\n",
    "df_mm"
   ]
  },
  {
   "cell_type": "markdown",
   "id": "c9a73d6b",
   "metadata": {},
   "source": [
    "<b>4. Create a dataframe that will contain the values of the coefficients for your model using Standard scaling. Use ._coef[0] to get the coefficient array, WITHOUT it being inside another array. Set ``columns = ['Standard'].`` "
   ]
  },
  {
   "cell_type": "code",
   "execution_count": 34,
   "id": "25b464ba",
   "metadata": {
    "scrolled": true
   },
   "outputs": [],
   "source": [
    "df_st = pd.DataFrame(lr_st.coef_[0],columns = ['Standard'])"
   ]
  },
  {
   "cell_type": "markdown",
   "id": "de991ae6",
   "metadata": {},
   "source": [
    "<b>5. Create a dataframe that will contain the values of the coefficients for your model using 'Robust'. But use ._coef[0] to get the coefficient array, WITHOUT it being inside another array. Set ``columns = ['Robust'].`` "
   ]
  },
  {
   "cell_type": "code",
   "execution_count": 35,
   "id": "54643027",
   "metadata": {},
   "outputs": [],
   "source": [
    "df_rb = pd.DataFrame(lr_rb.coef_[0],columns = ['Robust'])"
   ]
  },
  {
   "cell_type": "markdown",
   "id": "5e234956",
   "metadata": {},
   "source": [
    "<b>6. Run the cell below to join the three Dataframes you created using the ``.join()`` method"
   ]
  },
  {
   "cell_type": "code",
   "execution_count": 36,
   "id": "962c6658",
   "metadata": {},
   "outputs": [
    {
     "data": {
      "text/html": [
       "<div>\n",
       "<style scoped>\n",
       "    .dataframe tbody tr th:only-of-type {\n",
       "        vertical-align: middle;\n",
       "    }\n",
       "\n",
       "    .dataframe tbody tr th {\n",
       "        vertical-align: top;\n",
       "    }\n",
       "\n",
       "    .dataframe thead th {\n",
       "        text-align: right;\n",
       "    }\n",
       "</style>\n",
       "<table border=\"1\" class=\"dataframe\">\n",
       "  <thead>\n",
       "    <tr style=\"text-align: right;\">\n",
       "      <th></th>\n",
       "      <th>base</th>\n",
       "      <th>MinMax</th>\n",
       "      <th>Standard</th>\n",
       "      <th>Robust</th>\n",
       "    </tr>\n",
       "  </thead>\n",
       "  <tbody>\n",
       "    <tr>\n",
       "      <th>0</th>\n",
       "      <td>-0.309218</td>\n",
       "      <td>-0.095542</td>\n",
       "      <td>0.399728</td>\n",
       "      <td>0.405036</td>\n",
       "    </tr>\n",
       "    <tr>\n",
       "      <th>1</th>\n",
       "      <td>-3.694101</td>\n",
       "      <td>-2.518517</td>\n",
       "      <td>-0.388128</td>\n",
       "      <td>-0.415384</td>\n",
       "    </tr>\n",
       "    <tr>\n",
       "      <th>2</th>\n",
       "      <td>-0.971046</td>\n",
       "      <td>-0.718885</td>\n",
       "      <td>-0.106223</td>\n",
       "      <td>-0.111569</td>\n",
       "    </tr>\n",
       "    <tr>\n",
       "      <th>3</th>\n",
       "      <td>0.048114</td>\n",
       "      <td>1.719397</td>\n",
       "      <td>1.338360</td>\n",
       "      <td>1.802565</td>\n",
       "    </tr>\n",
       "    <tr>\n",
       "      <th>4</th>\n",
       "      <td>-0.754526</td>\n",
       "      <td>-1.817700</td>\n",
       "      <td>-0.195584</td>\n",
       "      <td>-0.145717</td>\n",
       "    </tr>\n",
       "    <tr>\n",
       "      <th>5</th>\n",
       "      <td>0.009603</td>\n",
       "      <td>1.579079</td>\n",
       "      <td>0.180233</td>\n",
       "      <td>0.258054</td>\n",
       "    </tr>\n",
       "    <tr>\n",
       "      <th>6</th>\n",
       "      <td>-0.004321</td>\n",
       "      <td>-0.929140</td>\n",
       "      <td>-0.022950</td>\n",
       "      <td>-0.058562</td>\n",
       "    </tr>\n",
       "    <tr>\n",
       "      <th>7</th>\n",
       "      <td>-2.692652</td>\n",
       "      <td>-0.827158</td>\n",
       "      <td>-1.748782</td>\n",
       "      <td>-2.130036</td>\n",
       "    </tr>\n",
       "    <tr>\n",
       "      <th>8</th>\n",
       "      <td>-0.531764</td>\n",
       "      <td>0.972118</td>\n",
       "      <td>0.464814</td>\n",
       "      <td>0.550119</td>\n",
       "    </tr>\n",
       "    <tr>\n",
       "      <th>9</th>\n",
       "      <td>1.429935</td>\n",
       "      <td>1.229881</td>\n",
       "      <td>0.292703</td>\n",
       "      <td>0.337382</td>\n",
       "    </tr>\n",
       "    <tr>\n",
       "      <th>10</th>\n",
       "      <td>0.857308</td>\n",
       "      <td>5.162261</td>\n",
       "      <td>0.387939</td>\n",
       "      <td>0.778683</td>\n",
       "    </tr>\n",
       "  </tbody>\n",
       "</table>\n",
       "</div>"
      ],
      "text/plain": [
       "        base    MinMax  Standard    Robust\n",
       "0  -0.309218 -0.095542  0.399728  0.405036\n",
       "1  -3.694101 -2.518517 -0.388128 -0.415384\n",
       "2  -0.971046 -0.718885 -0.106223 -0.111569\n",
       "3   0.048114  1.719397  1.338360  1.802565\n",
       "4  -0.754526 -1.817700 -0.195584 -0.145717\n",
       "5   0.009603  1.579079  0.180233  0.258054\n",
       "6  -0.004321 -0.929140 -0.022950 -0.058562\n",
       "7  -2.692652 -0.827158 -1.748782 -2.130036\n",
       "8  -0.531764  0.972118  0.464814  0.550119\n",
       "9   1.429935  1.229881  0.292703  0.337382\n",
       "10  0.857308  5.162261  0.387939  0.778683"
      ]
     },
     "execution_count": 36,
     "metadata": {},
     "output_type": "execute_result"
    }
   ],
   "source": [
    "df = df_.join(df_mm).join(df_st).join(df_rb)\n",
    "df"
   ]
  },
  {
   "cell_type": "markdown",
   "id": "0434c092",
   "metadata": {},
   "source": [
    "<b>7. By using the method `set_index()`, define the index of your composite Dataframe equal to the name of the features (you can get the feature names with `X_train.columns`)"
   ]
  },
  {
   "cell_type": "code",
   "execution_count": 37,
   "id": "7ebab16d",
   "metadata": {},
   "outputs": [
    {
     "data": {
      "text/html": [
       "<div>\n",
       "<style scoped>\n",
       "    .dataframe tbody tr th:only-of-type {\n",
       "        vertical-align: middle;\n",
       "    }\n",
       "\n",
       "    .dataframe tbody tr th {\n",
       "        vertical-align: top;\n",
       "    }\n",
       "\n",
       "    .dataframe thead th {\n",
       "        text-align: right;\n",
       "    }\n",
       "</style>\n",
       "<table border=\"1\" class=\"dataframe\">\n",
       "  <thead>\n",
       "    <tr style=\"text-align: right;\">\n",
       "      <th></th>\n",
       "      <th>base</th>\n",
       "      <th>MinMax</th>\n",
       "      <th>Standard</th>\n",
       "      <th>Robust</th>\n",
       "    </tr>\n",
       "  </thead>\n",
       "  <tbody>\n",
       "    <tr>\n",
       "      <th>fixed acidity</th>\n",
       "      <td>-0.309218</td>\n",
       "      <td>-0.095542</td>\n",
       "      <td>0.399728</td>\n",
       "      <td>0.405036</td>\n",
       "    </tr>\n",
       "    <tr>\n",
       "      <th>volatile acidity</th>\n",
       "      <td>-3.694101</td>\n",
       "      <td>-2.518517</td>\n",
       "      <td>-0.388128</td>\n",
       "      <td>-0.415384</td>\n",
       "    </tr>\n",
       "    <tr>\n",
       "      <th>citric acid</th>\n",
       "      <td>-0.971046</td>\n",
       "      <td>-0.718885</td>\n",
       "      <td>-0.106223</td>\n",
       "      <td>-0.111569</td>\n",
       "    </tr>\n",
       "    <tr>\n",
       "      <th>residual sugar</th>\n",
       "      <td>0.048114</td>\n",
       "      <td>1.719397</td>\n",
       "      <td>1.338360</td>\n",
       "      <td>1.802565</td>\n",
       "    </tr>\n",
       "    <tr>\n",
       "      <th>chlorides</th>\n",
       "      <td>-0.754526</td>\n",
       "      <td>-1.817700</td>\n",
       "      <td>-0.195584</td>\n",
       "      <td>-0.145717</td>\n",
       "    </tr>\n",
       "    <tr>\n",
       "      <th>free sulfur dioxide</th>\n",
       "      <td>0.009603</td>\n",
       "      <td>1.579079</td>\n",
       "      <td>0.180233</td>\n",
       "      <td>0.258054</td>\n",
       "    </tr>\n",
       "    <tr>\n",
       "      <th>total sulfur dioxide</th>\n",
       "      <td>-0.004321</td>\n",
       "      <td>-0.929140</td>\n",
       "      <td>-0.022950</td>\n",
       "      <td>-0.058562</td>\n",
       "    </tr>\n",
       "    <tr>\n",
       "      <th>density</th>\n",
       "      <td>-2.692652</td>\n",
       "      <td>-0.827158</td>\n",
       "      <td>-1.748782</td>\n",
       "      <td>-2.130036</td>\n",
       "    </tr>\n",
       "    <tr>\n",
       "      <th>pH</th>\n",
       "      <td>-0.531764</td>\n",
       "      <td>0.972118</td>\n",
       "      <td>0.464814</td>\n",
       "      <td>0.550119</td>\n",
       "    </tr>\n",
       "    <tr>\n",
       "      <th>sulphates</th>\n",
       "      <td>1.429935</td>\n",
       "      <td>1.229881</td>\n",
       "      <td>0.292703</td>\n",
       "      <td>0.337382</td>\n",
       "    </tr>\n",
       "    <tr>\n",
       "      <th>alcohol</th>\n",
       "      <td>0.857308</td>\n",
       "      <td>5.162261</td>\n",
       "      <td>0.387939</td>\n",
       "      <td>0.778683</td>\n",
       "    </tr>\n",
       "  </tbody>\n",
       "</table>\n",
       "</div>"
      ],
      "text/plain": [
       "                          base    MinMax  Standard    Robust\n",
       "fixed acidity        -0.309218 -0.095542  0.399728  0.405036\n",
       "volatile acidity     -3.694101 -2.518517 -0.388128 -0.415384\n",
       "citric acid          -0.971046 -0.718885 -0.106223 -0.111569\n",
       "residual sugar        0.048114  1.719397  1.338360  1.802565\n",
       "chlorides            -0.754526 -1.817700 -0.195584 -0.145717\n",
       "free sulfur dioxide   0.009603  1.579079  0.180233  0.258054\n",
       "total sulfur dioxide -0.004321 -0.929140 -0.022950 -0.058562\n",
       "density              -2.692652 -0.827158 -1.748782 -2.130036\n",
       "pH                   -0.531764  0.972118  0.464814  0.550119\n",
       "sulphates             1.429935  1.229881  0.292703  0.337382\n",
       "alcohol               0.857308  5.162261  0.387939  0.778683"
      ]
     },
     "execution_count": 37,
     "metadata": {},
     "output_type": "execute_result"
    }
   ],
   "source": [
    "df.set_index(X_train.columns)"
   ]
  },
  {
   "cell_type": "markdown",
   "id": "d62ed8c1",
   "metadata": {},
   "source": [
    "<b>The independent term: </b>``.intercept_``\n",
    "\n"
   ]
  },
  {
   "cell_type": "markdown",
   "id": "39ced16c",
   "metadata": {},
   "source": [
    "<b>8. To obtain the intercept of each regression, call the attribute `intercept_` associated to each of your models"
   ]
  },
  {
   "cell_type": "code",
   "execution_count": 38,
   "id": "a7b21f30",
   "metadata": {},
   "outputs": [
    {
     "data": {
      "text/plain": [
       "array([-3.31753143])"
      ]
     },
     "execution_count": 38,
     "metadata": {},
     "output_type": "execute_result"
    }
   ],
   "source": [
    "lr.intercept_"
   ]
  },
  {
   "cell_type": "code",
   "execution_count": 39,
   "id": "d71991b4",
   "metadata": {},
   "outputs": [
    {
     "data": {
      "text/plain": [
       "array([-3.5729146])"
      ]
     },
     "execution_count": 39,
     "metadata": {},
     "output_type": "execute_result"
    }
   ],
   "source": [
    "lr_mm.intercept_"
   ]
  },
  {
   "cell_type": "code",
   "execution_count": 40,
   "id": "b8d4fdfc",
   "metadata": {},
   "outputs": [
    {
     "data": {
      "text/plain": [
       "array([-1.65977011])"
      ]
     },
     "execution_count": 40,
     "metadata": {},
     "output_type": "execute_result"
    }
   ],
   "source": [
    "lr_st.intercept_"
   ]
  },
  {
   "cell_type": "code",
   "execution_count": 41,
   "id": "8cad5a70",
   "metadata": {},
   "outputs": [
    {
     "data": {
      "text/plain": [
       "array([-1.81610066])"
      ]
     },
     "execution_count": 41,
     "metadata": {},
     "output_type": "execute_result"
    }
   ],
   "source": [
    "lr_rb.intercept_"
   ]
  },
  {
   "cell_type": "markdown",
   "id": "36f8dd78",
   "metadata": {},
   "source": [
    "## 4. Model assessment"
   ]
  },
  {
   "cell_type": "markdown",
   "id": "7a45c6a8",
   "metadata": {},
   "source": [
    "<b>1. Using the method `.score()` check the mean accuracy of all models in the train dataset.</b>"
   ]
  },
  {
   "cell_type": "code",
   "execution_count": 42,
   "id": "8d14d949",
   "metadata": {},
   "outputs": [
    {
     "data": {
      "text/plain": [
       "0.7995626822157434"
      ]
     },
     "execution_count": 42,
     "metadata": {},
     "output_type": "execute_result"
    }
   ],
   "source": [
    "lr.score(X_train,y_train)"
   ]
  },
  {
   "cell_type": "code",
   "execution_count": 43,
   "id": "c9a087c3",
   "metadata": {
    "scrolled": true
   },
   "outputs": [
    {
     "data": {
      "text/plain": [
       "0.8046647230320699"
      ]
     },
     "execution_count": 43,
     "metadata": {},
     "output_type": "execute_result"
    }
   ],
   "source": [
    "lr_mm.score(X_train_scl_mm,y_train)"
   ]
  },
  {
   "cell_type": "code",
   "execution_count": 44,
   "id": "09092590",
   "metadata": {},
   "outputs": [
    {
     "data": {
      "text/plain": [
       "0.8057580174927114"
      ]
     },
     "execution_count": 44,
     "metadata": {},
     "output_type": "execute_result"
    }
   ],
   "source": [
    "lr_st.score(X_train_scl_st,y_train)"
   ]
  },
  {
   "cell_type": "code",
   "execution_count": 45,
   "id": "0a4ed782",
   "metadata": {},
   "outputs": [
    {
     "data": {
      "text/plain": [
       "0.8046647230320699"
      ]
     },
     "execution_count": 45,
     "metadata": {},
     "output_type": "execute_result"
    }
   ],
   "source": [
    "lr_rb.score(X_train_scl_rb,y_train)"
   ]
  },
  {
   "cell_type": "markdown",
   "id": "12a21328",
   "metadata": {},
   "source": [
    "<b>2. Now check the mean accuracy for the validation dataset.</b>"
   ]
  },
  {
   "cell_type": "code",
   "execution_count": 46,
   "id": "419e884a",
   "metadata": {},
   "outputs": [
    {
     "data": {
      "text/plain": [
       "0.8027210884353742"
      ]
     },
     "execution_count": 46,
     "metadata": {},
     "output_type": "execute_result"
    }
   ],
   "source": [
    "lr.score(X_val,y_val)"
   ]
  },
  {
   "cell_type": "code",
   "execution_count": 47,
   "id": "baf337c3",
   "metadata": {},
   "outputs": [
    {
     "data": {
      "text/plain": [
       "0.8010204081632653"
      ]
     },
     "execution_count": 47,
     "metadata": {},
     "output_type": "execute_result"
    }
   ],
   "source": [
    "lr_mm.score(X_val_scl_mm,y_val)"
   ]
  },
  {
   "cell_type": "code",
   "execution_count": 48,
   "id": "33c1d167",
   "metadata": {},
   "outputs": [
    {
     "data": {
      "text/plain": [
       "0.8035714285714286"
      ]
     },
     "execution_count": 48,
     "metadata": {},
     "output_type": "execute_result"
    }
   ],
   "source": [
    "lr_st.score(X_val_scl_st,y_val)"
   ]
  },
  {
   "cell_type": "code",
   "execution_count": 49,
   "id": "ef13ea7a",
   "metadata": {},
   "outputs": [
    {
     "data": {
      "text/plain": [
       "0.8035714285714286"
      ]
     },
     "execution_count": 49,
     "metadata": {},
     "output_type": "execute_result"
    }
   ],
   "source": [
    "lr_rb.score(X_val_scl_rb,y_val)"
   ]
  },
  {
   "cell_type": "markdown",
   "id": "54558e41",
   "metadata": {},
   "source": [
    "Let's check the confusion matrix of the model for the training and the validation dataset."
   ]
  },
  {
   "cell_type": "markdown",
   "id": "a8366c3a",
   "metadata": {},
   "source": [
    "<b>3. For all models, check the confusion matrix for the training dataset, passing as parameters the ground truth (`y_train`) and the predicted values (`lr_pred`, `lr_pred_mm`, and so on)</b><br>\n",
    "<b>Then, present the confusion matrix for the test dataset."
   ]
  },
  {
   "cell_type": "code",
   "execution_count": 50,
   "id": "64798af7",
   "metadata": {},
   "outputs": [],
   "source": [
    "# Compute confusion matrices for Train\n",
    "cm_train = confusion_matrix(y_train,lr_pred)\n",
    "cm_train_st = confusion_matrix(y_train,lr_st_pred)\n",
    "cm_train_mm = confusion_matrix(y_train,lr_mm_pred)\n",
    "cm_train_rb = confusion_matrix(y_train,lr_rb_pred)\n"
   ]
  },
  {
   "cell_type": "code",
   "execution_count": 51,
   "id": "2157b0e3",
   "metadata": {},
   "outputs": [
    {
     "data": {
      "image/png": "[encoded data removed]",
      "text/plain": [
       "<Figure size 300x200 with 2 Axes>"
      ]
     },
     "metadata": {},
     "output_type": "display_data"
    },
    {
     "data": {
      "image/png": "[encoded data removed]",
      "text/plain": [
       "<Figure size 300x200 with 2 Axes>"
      ]
     },
     "metadata": {},
     "output_type": "display_data"
    },
    {
     "data": {
      "image/png": "[encoded data removed]",
      "text/plain": [
       "<Figure size 300x200 with 2 Axes>"
      ]
     },
     "metadata": {},
     "output_type": "display_data"
    },
    {
     "data": {
      "image/png": "[encoded data removed]",
      "text/plain": [
       "<Figure size 300x200 with 2 Axes>"
      ]
     },
     "metadata": {},
     "output_type": "display_data"
    }
   ],
   "source": [
    "\n",
    "# Present the confusion matrices in a heatmap\n",
    "figsize = (3,2)\n",
    "cmap=\"Blues\"\n",
    "\n",
    "plt.figure(figsize=figsize)\n",
    "sns.heatmap(cm_train, annot=True, fmt='d', cmap=cmap)\n",
    "plt.xlabel('Predicted')\n",
    "plt.ylabel('Actual')\n",
    "plt.title('Confusion Matrix (base)')\n",
    "plt.show()\n",
    "\n",
    "plt.figure(figsize=figsize)\n",
    "sns.heatmap(cm_train_st, annot=True, fmt='d', cmap=cmap)\n",
    "plt.xlabel('Predicted')\n",
    "plt.ylabel('Actual')\n",
    "plt.title('Confusion Matrix (Standard)')\n",
    "plt.show()\n",
    "\n",
    "plt.figure(figsize=figsize)\n",
    "sns.heatmap(cm_train_mm, annot=True, fmt='d', cmap=cmap)\n",
    "plt.xlabel('Predicted')\n",
    "plt.ylabel('Actual')\n",
    "plt.title('Confusion Matrix (MinMax)')\n",
    "plt.show()\n",
    "\n",
    "plt.figure(figsize=figsize)\n",
    "sns.heatmap(cm_train_rb, annot=True, fmt='d', cmap=cmap)\n",
    "plt.xlabel('Predicted')\n",
    "plt.ylabel('Actual')\n",
    "plt.title('Confusion Matrix (Robust)')\n",
    "plt.show()\n"
   ]
  },
  {
   "cell_type": "markdown",
   "id": "b2d3744f",
   "metadata": {},
   "source": [
    "Now, present the confusion matrix for the validation data:"
   ]
  },
  {
   "cell_type": "code",
   "execution_count": 52,
   "id": "ce43d756",
   "metadata": {},
   "outputs": [],
   "source": [
    "# Compute confusion matrices for Train\n",
    "cm_val = confusion_matrix(y_val,lr_pred_val)\n",
    "cm_val_st = confusion_matrix(y_val,lr_st_pred_val)\n",
    "cm_val_mm = confusion_matrix(y_val,lr_mm_pred_val)\n",
    "cm_val_rb = confusion_matrix(y_val,lr_rb_pred_val)\n"
   ]
  },
  {
   "cell_type": "code",
   "execution_count": 53,
   "id": "f0888799",
   "metadata": {},
   "outputs": [
    {
     "data": {
      "image/png": "[encoded data removed]",
      "text/plain": [
       "<Figure size 300x200 with 2 Axes>"
      ]
     },
     "metadata": {},
     "output_type": "display_data"
    },
    {
     "data": {
      "image/png": "[encoded data removed]",
      "text/plain": [
       "<Figure size 300x200 with 2 Axes>"
      ]
     },
     "metadata": {},
     "output_type": "display_data"
    },
    {
     "data": {
      "image/png": "[encoded data removed]",
      "text/plain": [
       "<Figure size 300x200 with 2 Axes>"
      ]
     },
     "metadata": {},
     "output_type": "display_data"
    },
    {
     "data": {
      "image/png": "[encoded data removed]",
      "text/plain": [
       "<Figure size 300x200 with 2 Axes>"
      ]
     },
     "metadata": {},
     "output_type": "display_data"
    }
   ],
   "source": [
    "\n",
    "# Present the confusion matrices in a heatmap\n",
    "figsize = (3,2)\n",
    "cmap=\"Blues\"\n",
    "\n",
    "plt.figure(figsize=figsize)\n",
    "sns.heatmap(cm_val, annot=True, fmt='d', cmap=cmap)\n",
    "plt.xlabel('Predicted')\n",
    "plt.ylabel('Actual')\n",
    "plt.title('Confusion Matrix (base) val')\n",
    "plt.show()\n",
    "\n",
    "plt.figure(figsize=figsize)\n",
    "sns.heatmap(cm_val_st, annot=True, fmt='d', cmap=cmap)\n",
    "plt.xlabel('Predicted')\n",
    "plt.ylabel('Actual')\n",
    "plt.title('Confusion Matrix (Standard) val')\n",
    "plt.show()\n",
    "\n",
    "plt.figure(figsize=figsize)\n",
    "sns.heatmap(cm_val_mm, annot=True, fmt='d', cmap=cmap)\n",
    "plt.xlabel('Predicted')\n",
    "plt.ylabel('Actual')\n",
    "plt.title('Confusion Matrix (MinMax) val')\n",
    "plt.show()\n",
    "\n",
    "plt.figure(figsize=figsize)\n",
    "sns.heatmap(cm_val_rb, annot=True, fmt='d', cmap=cmap)\n",
    "plt.xlabel('Predicted')\n",
    "plt.ylabel('Actual')\n",
    "plt.title('Confusion Matrix (Robust) val')\n",
    "plt.show()\n"
   ]
  },
  {
   "cell_type": "markdown",
   "id": "32ab8102",
   "metadata": {},
   "source": [
    "<b>3. For all models, check the classification reports for the training dataset, passing as parameters the ground truth (`y_train`) and the predicted values (`lr_pred`, `lr_pred_mm`, and so on)</b><br>\n",
    "<b>Then, do the same for the validation dataset</b><br>"
   ]
  },
  {
   "cell_type": "code",
   "execution_count": 54,
   "id": "ae3ddeb7",
   "metadata": {},
   "outputs": [
    {
     "name": "stdout",
     "output_type": "stream",
     "text": [
      "              precision    recall  f1-score   support\n",
      "\n",
      "           0       0.82      0.94      0.88      2121\n",
      "           1       0.62      0.30      0.41       623\n",
      "\n",
      "    accuracy                           0.80      2744\n",
      "   macro avg       0.72      0.62      0.64      2744\n",
      "weighted avg       0.78      0.80      0.77      2744\n",
      "\n"
     ]
    }
   ],
   "source": [
    "print(classification_report(y_train,lr_pred))"
   ]
  },
  {
   "cell_type": "code",
   "execution_count": 55,
   "id": "a64fd062",
   "metadata": {},
   "outputs": [
    {
     "name": "stdout",
     "output_type": "stream",
     "text": [
      "              precision    recall  f1-score   support\n",
      "\n",
      "           0       0.82      0.95      0.88      2121\n",
      "           1       0.65      0.30      0.41       623\n",
      "\n",
      "    accuracy                           0.80      2744\n",
      "   macro avg       0.74      0.63      0.65      2744\n",
      "weighted avg       0.78      0.80      0.78      2744\n",
      "\n"
     ]
    }
   ],
   "source": [
    "print(classification_report(y_train,lr_mm_pred))"
   ]
  },
  {
   "cell_type": "code",
   "execution_count": 56,
   "id": "35ca2635",
   "metadata": {},
   "outputs": [
    {
     "name": "stdout",
     "output_type": "stream",
     "text": [
      "              precision    recall  f1-score   support\n",
      "\n",
      "           0       0.83      0.94      0.88      2121\n",
      "           1       0.63      0.35      0.45       623\n",
      "\n",
      "    accuracy                           0.81      2744\n",
      "   macro avg       0.73      0.65      0.67      2744\n",
      "weighted avg       0.79      0.81      0.78      2744\n",
      "\n"
     ]
    }
   ],
   "source": [
    "print(classification_report(y_train,lr_st_pred))"
   ]
  },
  {
   "cell_type": "code",
   "execution_count": 57,
   "id": "84cf4eea",
   "metadata": {},
   "outputs": [
    {
     "name": "stdout",
     "output_type": "stream",
     "text": [
      "              precision    recall  f1-score   support\n",
      "\n",
      "           0       0.83      0.94      0.88      2121\n",
      "           1       0.63      0.35      0.45       623\n",
      "\n",
      "    accuracy                           0.80      2744\n",
      "   macro avg       0.73      0.64      0.66      2744\n",
      "weighted avg       0.78      0.80      0.78      2744\n",
      "\n"
     ]
    }
   ],
   "source": [
    "print(classification_report(y_train,lr_rb_pred))"
   ]
  },
  {
   "cell_type": "markdown",
   "id": "9f3944c9",
   "metadata": {},
   "source": [
    "<b>4. Do the same for the validation dataset.</b>"
   ]
  },
  {
   "cell_type": "code",
   "execution_count": 58,
   "id": "e091a329",
   "metadata": {},
   "outputs": [
    {
     "name": "stdout",
     "output_type": "stream",
     "text": [
      "              precision    recall  f1-score   support\n",
      "\n",
      "           0       0.82      0.95      0.88       909\n",
      "           1       0.65      0.28      0.40       267\n",
      "\n",
      "    accuracy                           0.80      1176\n",
      "   macro avg       0.73      0.62      0.64      1176\n",
      "weighted avg       0.78      0.80      0.77      1176\n",
      "\n"
     ]
    }
   ],
   "source": [
    "print(classification_report(y_val,lr_pred_val))"
   ]
  },
  {
   "cell_type": "code",
   "execution_count": 59,
   "id": "d8cf8684",
   "metadata": {},
   "outputs": [
    {
     "name": "stdout",
     "output_type": "stream",
     "text": [
      "              precision    recall  f1-score   support\n",
      "\n",
      "           0       0.82      0.96      0.88       909\n",
      "           1       0.66      0.26      0.37       267\n",
      "\n",
      "    accuracy                           0.80      1176\n",
      "   macro avg       0.74      0.61      0.63      1176\n",
      "weighted avg       0.78      0.80      0.77      1176\n",
      "\n"
     ]
    }
   ],
   "source": [
    "print(classification_report(y_val,lr_mm_pred_val))"
   ]
  },
  {
   "cell_type": "code",
   "execution_count": 60,
   "id": "6d838fce",
   "metadata": {},
   "outputs": [
    {
     "name": "stdout",
     "output_type": "stream",
     "text": [
      "              precision    recall  f1-score   support\n",
      "\n",
      "           0       0.83      0.94      0.88       909\n",
      "           1       0.63      0.33      0.43       267\n",
      "\n",
      "    accuracy                           0.80      1176\n",
      "   macro avg       0.73      0.64      0.66      1176\n",
      "weighted avg       0.78      0.80      0.78      1176\n",
      "\n"
     ]
    }
   ],
   "source": [
    "print(classification_report(y_val,lr_st_pred_val))"
   ]
  },
  {
   "cell_type": "code",
   "execution_count": 61,
   "id": "fd49fc1c",
   "metadata": {},
   "outputs": [
    {
     "name": "stdout",
     "output_type": "stream",
     "text": [
      "              precision    recall  f1-score   support\n",
      "\n",
      "           0       0.82      0.95      0.88       909\n",
      "           1       0.64      0.31      0.42       267\n",
      "\n",
      "    accuracy                           0.80      1176\n",
      "   macro avg       0.73      0.63      0.65      1176\n",
      "weighted avg       0.78      0.80      0.78      1176\n",
      "\n"
     ]
    }
   ],
   "source": [
    "print(classification_report(y_val,lr_rb_pred_val))"
   ]
  },
  {
   "cell_type": "markdown",
   "id": "f85a07ce",
   "metadata": {},
   "source": [
    "__Can we improve the results above?__ <br>\n",
    "\n",
    "<br><br><br><br><br><br><br>Let's try with data partitions"
   ]
  },
  {
   "cell_type": "markdown",
   "id": "5a49f58e",
   "metadata": {},
   "source": [
    "## 5. Data partitions\n",
    "\n",
    "Let's try K-Fold and Repeated K-Fold"
   ]
  },
  {
   "cell_type": "markdown",
   "id": "dd415574",
   "metadata": {},
   "source": [
    "<b>1. Import `KFold` and `RepeatedKFold` from `sklearn.model_selection`</b>"
   ]
  },
  {
   "cell_type": "code",
   "execution_count": 62,
   "id": "ee4813ca",
   "metadata": {},
   "outputs": [],
   "source": [
    "\n",
    "from sklearn.model_selection import KFold, RepeatedKFold"
   ]
  },
  {
   "cell_type": "markdown",
   "id": "605cfdcd",
   "metadata": {},
   "source": [
    "<b>2. Create a function named as `run_model_LR` that receives as parameters the dependent variable and the independent variables and returns a fitted Logistic Regression model to the data. </b>"
   ]
  },
  {
   "cell_type": "code",
   "execution_count": 63,
   "id": "23554716",
   "metadata": {},
   "outputs": [],
   "source": [
    "\n",
    "def run_model_LR(X,y):\n",
    "    logge = LogisticRegression()\n",
    "    logge.fit(X,y)\n",
    "    return logge"
   ]
  },
  {
   "cell_type": "markdown",
   "id": "a97edcb1",
   "metadata": {},
   "source": [
    "<b>3. Create a function named as `evaluate_model` that receives as parameters the model, the independent variables, the dependent variable, and the model's prevision, and returns the ``score`` method result, and the f1 score.</b>"
   ]
  },
  {
   "cell_type": "code",
   "execution_count": 64,
   "id": "bb92f1ab",
   "metadata": {},
   "outputs": [],
   "source": [
    "def evaluate_model(model,X,y,pred):\n",
    "    return model.score(X,y), f1_score(y,pred)"
   ]
  },
  {
   "cell_type": "markdown",
   "id": "2c3f6324",
   "metadata": {},
   "source": [
    "<b>4. Run the cell below to create a function named `avg_scores_LR` that will return the average score value for the train and the test set. This will have as parameters the partition technique you are going to use, your dependent variable and your independent variables.</b>"
   ]
  },
  {
   "cell_type": "code",
   "execution_count": 65,
   "id": "0cd83d99",
   "metadata": {},
   "outputs": [],
   "source": [
    "def avg_scores_LR(method,X,y):\n",
    "    score_train = []\n",
    "    score_test = []\n",
    "    f1_train = []\n",
    "    f1_test = []\n",
    "    for train_index, test_index in method.split(X):\n",
    "        X_train, X_test = X.iloc[train_index], X.iloc[test_index]\n",
    "        y_train, y_test = y.iloc[train_index], y.iloc[test_index]\n",
    "        model = run_model_LR(X_train, y_train)\n",
    "        pred_train = model.predict(X_train)\n",
    "        pred_test = model.predict(X_test)\n",
    "        value_train = evaluate_model(model, X_train, y_train, pred_train)\n",
    "        value_test = evaluate_model(model,X_test,y_test,pred_test)\n",
    "        score_train.append(value_train[0])\n",
    "        score_test.append(value_test[0])\n",
    "        f1_train.append(value_train[1])\n",
    "        f1_test.append(value_test[1])\n",
    "\n",
    "    print('Train score:', np.mean(score_train))\n",
    "    print('Test score:', np.mean(score_test))\n",
    "    \n",
    "    print('Train f1:', np.mean(f1_train))\n",
    "    print('Test f1:', np.mean(f1_test))\n",
    "    "
   ]
  },
  {
   "cell_type": "markdown",
   "id": "841f77f5",
   "metadata": {},
   "source": [
    "<b>5. Create a KFold Instance where the number of splits is 10 (*n_splits*) and name it as `kf`</b>"
   ]
  },
  {
   "cell_type": "code",
   "execution_count": 66,
   "id": "f56f3b1a",
   "metadata": {},
   "outputs": [],
   "source": [
    "kf = KFold(n_splits = 10)"
   ]
  },
  {
   "cell_type": "markdown",
   "id": "3194dd60",
   "metadata": {},
   "source": [
    "\n",
    "\n",
    "<b>6. Call the function `avg_scores_LR` and check the average score for the train and the test sets using `kf`</b>\n",
    "\n",
    "\n",
    "\n"
   ]
  },
  {
   "cell_type": "code",
   "execution_count": 67,
   "id": "250464c2",
   "metadata": {},
   "outputs": [
    {
     "name": "stdout",
     "output_type": "stream",
     "text": [
      "Train score: 0.7992346938775511\n",
      "Test score: 0.797704081632653\n",
      "Train f1: 0.4142502483591306\n",
      "Test f1: 0.35786519585487303\n"
     ]
    }
   ],
   "source": [
    "avg_scores_LR(kf, X,y)"
   ]
  },
  {
   "cell_type": "markdown",
   "id": "bd2878e2",
   "metadata": {},
   "source": [
    "<b>7. Create a RepeatedKFold Instance where `n_splits = 7` and `n_repeats = 3` and name it as `rkf`. Then, Call the function `avg_scores_LR` and check the average score for the train and the test sets using `rkf`</b>"
   ]
  },
  {
   "cell_type": "code",
   "execution_count": 68,
   "id": "5516d041",
   "metadata": {},
   "outputs": [
    {
     "name": "stdout",
     "output_type": "stream",
     "text": [
      "Train score: 0.7997448979591837\n",
      "Test score: 0.7983843537414966\n",
      "Train f1: 0.41596359255660853\n",
      "Test f1: 0.4094887112672797\n"
     ]
    }
   ],
   "source": [
    "rkf = RepeatedKFold(n_splits = 7, n_repeats = 3)\n",
    "avg_scores_LR(rkf, X,y)"
   ]
  },
  {
   "cell_type": "markdown",
   "id": "53712678",
   "metadata": {},
   "source": [
    "## 6. Deploy"
   ]
  },
  {
   "cell_type": "markdown",
   "id": "6964735d",
   "metadata": {},
   "source": [
    "What we really want to do is classify the unclassified data. So, after being already satisfied with our model, we can now predict the target to the new dataset."
   ]
  },
  {
   "cell_type": "markdown",
   "id": "5558caba",
   "metadata": {},
   "source": [
    "<b>1. Import the dataset from `Datasets/wq_classify` and save it in a variable</b>"
   ]
  },
  {
   "cell_type": "code",
   "execution_count": 69,
   "id": "c4279f0e",
   "metadata": {},
   "outputs": [],
   "source": [
    "wq_classify = pd.read_csv('Datasets/wq_classify.csv')"
   ]
  },
  {
   "cell_type": "markdown",
   "id": "bb2c14e0",
   "metadata": {},
   "source": [
    "<b>2. Using the `.predict()` method and the model you consider the best (one of `lr`, `lr_mm`, `lr_st`, `lr_rb`), predict the target on the new dataset, and assign each set of values to a variable. Then, assign the variable to a column named `quality_lr`</b>"
   ]
  },
  {
   "cell_type": "code",
   "execution_count": 70,
   "id": "8da4ad49",
   "metadata": {},
   "outputs": [],
   "source": [
    "quality_lr = lr_rb.predict(wq_classify)"
   ]
  },
  {
   "cell_type": "code",
   "execution_count": 71,
   "id": "350d7864",
   "metadata": {},
   "outputs": [],
   "source": [
    "wq_classify['quality'] = quality_lr"
   ]
  },
  {
   "cell_type": "markdown",
   "id": "3c42ecfd",
   "metadata": {},
   "source": [
    "<b>3. Check the new dataset.</b>"
   ]
  },
  {
   "cell_type": "code",
   "execution_count": 72,
   "id": "83c806fd",
   "metadata": {},
   "outputs": [
    {
     "data": {
      "text/html": [
       "<div>\n",
       "<style scoped>\n",
       "    .dataframe tbody tr th:only-of-type {\n",
       "        vertical-align: middle;\n",
       "    }\n",
       "\n",
       "    .dataframe tbody tr th {\n",
       "        vertical-align: top;\n",
       "    }\n",
       "\n",
       "    .dataframe thead th {\n",
       "        text-align: right;\n",
       "    }\n",
       "</style>\n",
       "<table border=\"1\" class=\"dataframe\">\n",
       "  <thead>\n",
       "    <tr style=\"text-align: right;\">\n",
       "      <th></th>\n",
       "      <th>fixed acidity</th>\n",
       "      <th>volatile acidity</th>\n",
       "      <th>citric acid</th>\n",
       "      <th>residual sugar</th>\n",
       "      <th>chlorides</th>\n",
       "      <th>free sulfur dioxide</th>\n",
       "      <th>total sulfur dioxide</th>\n",
       "      <th>density</th>\n",
       "      <th>pH</th>\n",
       "      <th>sulphates</th>\n",
       "      <th>alcohol</th>\n",
       "      <th>quality</th>\n",
       "    </tr>\n",
       "  </thead>\n",
       "  <tbody>\n",
       "    <tr>\n",
       "      <th>0</th>\n",
       "      <td>7.4</td>\n",
       "      <td>0.25</td>\n",
       "      <td>0.37</td>\n",
       "      <td>2.6</td>\n",
       "      <td>0.050</td>\n",
       "      <td>24.0</td>\n",
       "      <td>132.0</td>\n",
       "      <td>0.99138</td>\n",
       "      <td>3.04</td>\n",
       "      <td>0.53</td>\n",
       "      <td>11.2</td>\n",
       "      <td>1</td>\n",
       "    </tr>\n",
       "    <tr>\n",
       "      <th>1</th>\n",
       "      <td>7.3</td>\n",
       "      <td>0.36</td>\n",
       "      <td>0.34</td>\n",
       "      <td>14.8</td>\n",
       "      <td>0.057</td>\n",
       "      <td>46.0</td>\n",
       "      <td>173.0</td>\n",
       "      <td>0.99751</td>\n",
       "      <td>3.14</td>\n",
       "      <td>0.57</td>\n",
       "      <td>10.2</td>\n",
       "      <td>1</td>\n",
       "    </tr>\n",
       "    <tr>\n",
       "      <th>2</th>\n",
       "      <td>6.7</td>\n",
       "      <td>0.31</td>\n",
       "      <td>0.30</td>\n",
       "      <td>2.4</td>\n",
       "      <td>0.038</td>\n",
       "      <td>30.0</td>\n",
       "      <td>83.0</td>\n",
       "      <td>0.98867</td>\n",
       "      <td>3.09</td>\n",
       "      <td>0.36</td>\n",
       "      <td>12.8</td>\n",
       "      <td>1</td>\n",
       "    </tr>\n",
       "    <tr>\n",
       "      <th>3</th>\n",
       "      <td>8.6</td>\n",
       "      <td>0.31</td>\n",
       "      <td>0.30</td>\n",
       "      <td>0.9</td>\n",
       "      <td>0.045</td>\n",
       "      <td>16.0</td>\n",
       "      <td>109.0</td>\n",
       "      <td>0.99249</td>\n",
       "      <td>2.95</td>\n",
       "      <td>0.39</td>\n",
       "      <td>10.1</td>\n",
       "      <td>1</td>\n",
       "    </tr>\n",
       "    <tr>\n",
       "      <th>4</th>\n",
       "      <td>8.6</td>\n",
       "      <td>0.31</td>\n",
       "      <td>0.30</td>\n",
       "      <td>0.9</td>\n",
       "      <td>0.045</td>\n",
       "      <td>16.0</td>\n",
       "      <td>109.0</td>\n",
       "      <td>0.99249</td>\n",
       "      <td>2.95</td>\n",
       "      <td>0.39</td>\n",
       "      <td>10.1</td>\n",
       "      <td>1</td>\n",
       "    </tr>\n",
       "  </tbody>\n",
       "</table>\n",
       "</div>"
      ],
      "text/plain": [
       "   fixed acidity  volatile acidity  citric acid  residual sugar  chlorides  \\\n",
       "0            7.4              0.25         0.37             2.6      0.050   \n",
       "1            7.3              0.36         0.34            14.8      0.057   \n",
       "2            6.7              0.31         0.30             2.4      0.038   \n",
       "3            8.6              0.31         0.30             0.9      0.045   \n",
       "4            8.6              0.31         0.30             0.9      0.045   \n",
       "\n",
       "   free sulfur dioxide  total sulfur dioxide  density    pH  sulphates  \\\n",
       "0                 24.0                 132.0  0.99138  3.04       0.53   \n",
       "1                 46.0                 173.0  0.99751  3.14       0.57   \n",
       "2                 30.0                  83.0  0.98867  3.09       0.36   \n",
       "3                 16.0                 109.0  0.99249  2.95       0.39   \n",
       "4                 16.0                 109.0  0.99249  2.95       0.39   \n",
       "\n",
       "   alcohol  quality  \n",
       "0     11.2        1  \n",
       "1     10.2        1  \n",
       "2     12.8        1  \n",
       "3     10.1        1  \n",
       "4     10.1        1  "
      ]
     },
     "execution_count": 72,
     "metadata": {},
     "output_type": "execute_result"
    }
   ],
   "source": [
    "wq_classify.head() "
   ]
  },
  {
   "cell_type": "markdown",
   "id": "40866036",
   "metadata": {},
   "source": [
    "Now we have already predicted the target for our new dataset!"
   ]
  },
  {
   "cell_type": "markdown",
   "id": "497a64b9",
   "metadata": {},
   "source": [
    "Sources:\n",
    "\n",
    "https://medium.com/@syedar.sohail/outlier-handling-using-robust-scaler-a-python-tutorial-613d174b58eb"
   ]
  }
 ],
 "metadata": {
  "kernelspec": {
   "display_name": "Python 3 (ipykernel)",
   "language": "python",
   "name": "python3"
  },
  "language_info": {
   "codemirror_mode": {
    "name": "ipython",
    "version": 3
   },
   "file_extension": ".py",
   "mimetype": "text/x-python",
   "name": "python",
   "nbconvert_exporter": "python",
   "pygments_lexer": "ipython3",
   "version": "3.12.5"
  }
 },
 "nbformat": 4,
 "nbformat_minor": 5
}
