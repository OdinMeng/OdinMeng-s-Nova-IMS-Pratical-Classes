{
 "cells": [
  {
   "cell_type": "markdown",
   "metadata": {},
   "source": [
    "<font color='red'>This LAB notebook will be considered for INDIVIDUAL evaluation </font> (remember that only the best 5 will be used for grade)!\n",
    "<br><br>Rules:\n",
    " - You must register your presence (moodle QR code); <br>\n",
    " - The notebooks should be developed using JUPYTER\\*; <br>\n",
    " - You are allowed to use Pyhton documentation and class resources (no ChatGPT, Co-Pilot, or other code \"friend\"!!); <br>\n",
    " - The notebook must be submitted with the cells already executed and with outputs visible. <br>\n",
    " - We should be able to run the notebook from start to finish without errors. <br>\n",
    " - You are only allowed to use the packages already imported on the notebook. You can, however, import specific functions from these packages.<br> \n",
    "    \n",
    "\\* If you decide to use other software and the notebook has any issue to run on JUPYTER it can't be evaluated\n",
    "\n",
    "By the end of this class, your submission should contain a zipfile named *Studentnumber*_PDS_L04.zip to Moodle containing:\n",
    "\n",
    "1. Your solved notebook named *Yourstudentnumber*_PDS_L04.ipynb\n",
    "\n",
    "2. The data you imported\n",
    "\n",
    "3. The data you exported\n",
    "\n",
    "Please make sure that the notebook is fully run sequentially from start to end and that it gives no errors when running. Cells with errors should either be commented or deleted. Failing to meet this will result in a penalty.\n",
    "\n",
    "#### GOOD LUCK!"
   ]
  },
  {
   "cell_type": "code",
   "execution_count": 1,
   "metadata": {},
   "outputs": [],
   "source": [
    "import pandas as pd\n",
    "import numpy as np"
   ]
  },
  {
   "cell_type": "markdown",
   "metadata": {},
   "source": [
    " **Exercise 1:** Import and Join data (5P) <br>\n",
    " If you notice you waste too much time on 1.1 and 1.2 you can uncomment the following cell that will provide you with the data to continue with the other exercises. <br> Logicially you won't get the points for the data you load in that way."
   ]
  },
  {
   "cell_type": "code",
   "execution_count": null,
   "metadata": {},
   "outputs": [],
   "source": [
    "# #Emergency load in\n",
    "# salaries = pd.read_excel('import/salaries.xlsx', sheet_name='salaries_emergency', index_col='Name', dtype={'Salary': np.float64})\n",
    "# people = pd.read_excel('import/salaries.xlsx', sheet_name='people_emergency', index_col='Name', dtype={'Age': np.float64})"
   ]
  },
  {
   "cell_type": "markdown",
   "metadata": {},
   "source": [
    "**1.1** (1 P) Load the dataset people.csv in the variable people. You will have to specify some loading parameters and/or format the data after loading to make it look like the template shown in this markdown.<br>\n",
    "Compare using the .head()-method and .shape-method, we expect the following: <br>\n",
    "![alt text](people.jpg \"Title\")\n"
   ]
  },
  {
   "cell_type": "code",
   "execution_count": 2,
   "metadata": {},
   "outputs": [
    {
     "name": "stdout",
     "output_type": "stream",
     "text": [
      "(21, 2)\n"
     ]
    },
    {
     "data": {
      "text/html": [
       "<div>\n",
       "<style scoped>\n",
       "    .dataframe tbody tr th:only-of-type {\n",
       "        vertical-align: middle;\n",
       "    }\n",
       "\n",
       "    .dataframe tbody tr th {\n",
       "        vertical-align: top;\n",
       "    }\n",
       "\n",
       "    .dataframe thead th {\n",
       "        text-align: right;\n",
       "    }\n",
       "</style>\n",
       "<table border=\"1\" class=\"dataframe\">\n",
       "  <thead>\n",
       "    <tr style=\"text-align: right;\">\n",
       "      <th></th>\n",
       "      <th>Gender</th>\n",
       "      <th>Age</th>\n",
       "    </tr>\n",
       "    <tr>\n",
       "      <th>Name</th>\n",
       "      <th></th>\n",
       "      <th></th>\n",
       "    </tr>\n",
       "  </thead>\n",
       "  <tbody>\n",
       "    <tr>\n",
       "      <th>Miguel</th>\n",
       "      <td>M</td>\n",
       "      <td>30.0</td>\n",
       "    </tr>\n",
       "    <tr>\n",
       "      <th>Maria</th>\n",
       "      <td>F</td>\n",
       "      <td>20.0</td>\n",
       "    </tr>\n",
       "    <tr>\n",
       "      <th>Diego</th>\n",
       "      <td>M</td>\n",
       "      <td>40.0</td>\n",
       "    </tr>\n",
       "    <tr>\n",
       "      <th>Marco</th>\n",
       "      <td>M</td>\n",
       "      <td>60.0</td>\n",
       "    </tr>\n",
       "    <tr>\n",
       "      <th>Mateo</th>\n",
       "      <td>M</td>\n",
       "      <td>40.0</td>\n",
       "    </tr>\n",
       "  </tbody>\n",
       "</table>\n",
       "</div>"
      ],
      "text/plain": [
       "       Gender   Age\n",
       "Name               \n",
       "Miguel      M  30.0\n",
       "Maria       F  20.0\n",
       "Diego       M  40.0\n",
       "Marco       M  60.0\n",
       "Mateo       M  40.0"
      ]
     },
     "metadata": {},
     "output_type": "display_data"
    }
   ],
   "source": [
    "#1.1\n",
    "people_raw = pd.read_csv(\"import/people.csv\", sep=\";\") # Read\n",
    "people_raw = people_raw.iloc[1:] # Remove empty row by excluding it\n",
    "people_raw = people_raw.set_index(people_raw[\"Name\"]).drop(columns=\"Name\") # Replace index\n",
    "\n",
    "people = people_raw.copy()\n",
    "# == ANSWER ==\n",
    "print(people.shape)\n",
    "display(people.head())"
   ]
  },
  {
   "cell_type": "markdown",
   "metadata": {},
   "source": [
    "**1.2** (2 P) Load the dataset salaries.xlsx from the salaries sheet in the variable salaries. You will have to specify some loading parameters and/or format the data after loading to make it look like the template shown in this markdown.<br>\n",
    "Compare using the .head()-method and .shape-method, we expect the following: <br>\n",
    "![alt text](salaries.jpg \"Title\")"
   ]
  },
  {
   "cell_type": "code",
   "execution_count": 3,
   "metadata": {},
   "outputs": [
    {
     "name": "stdout",
     "output_type": "stream",
     "text": [
      "(22, 2)\n"
     ]
    },
    {
     "data": {
      "text/html": [
       "<div>\n",
       "<style scoped>\n",
       "    .dataframe tbody tr th:only-of-type {\n",
       "        vertical-align: middle;\n",
       "    }\n",
       "\n",
       "    .dataframe tbody tr th {\n",
       "        vertical-align: top;\n",
       "    }\n",
       "\n",
       "    .dataframe thead th {\n",
       "        text-align: right;\n",
       "    }\n",
       "</style>\n",
       "<table border=\"1\" class=\"dataframe\">\n",
       "  <thead>\n",
       "    <tr style=\"text-align: right;\">\n",
       "      <th></th>\n",
       "      <th>Country</th>\n",
       "      <th>Salary</th>\n",
       "    </tr>\n",
       "    <tr>\n",
       "      <th>Name</th>\n",
       "      <th></th>\n",
       "      <th></th>\n",
       "    </tr>\n",
       "  </thead>\n",
       "  <tbody>\n",
       "    <tr>\n",
       "      <th>Miguel</th>\n",
       "      <td>Portugal</td>\n",
       "      <td>20000</td>\n",
       "    </tr>\n",
       "    <tr>\n",
       "      <th>Maria</th>\n",
       "      <td>Portugal</td>\n",
       "      <td>22000</td>\n",
       "    </tr>\n",
       "    <tr>\n",
       "      <th>Diego</th>\n",
       "      <td>Spain</td>\n",
       "      <td>30000</td>\n",
       "    </tr>\n",
       "    <tr>\n",
       "      <th>Marco</th>\n",
       "      <td>Italy</td>\n",
       "      <td>29000</td>\n",
       "    </tr>\n",
       "    <tr>\n",
       "      <th>Gabriela</th>\n",
       "      <td>Portugal</td>\n",
       "      <td>12000</td>\n",
       "    </tr>\n",
       "  </tbody>\n",
       "</table>\n",
       "</div>"
      ],
      "text/plain": [
       "0          Country Salary\n",
       "Name                     \n",
       "Miguel    Portugal  20000\n",
       "Maria     Portugal  22000\n",
       "Diego        Spain  30000\n",
       "Marco        Italy  29000\n",
       "Gabriela  Portugal  12000"
      ]
     },
     "metadata": {},
     "output_type": "display_data"
    }
   ],
   "source": [
    "# 1.2\n",
    "salaries_raw = pd.read_excel(\"import/salaries.xlsx\", sheet_name=\"salaries\") # Read file\n",
    "salaries_raw = salaries_raw.iloc[:, 1:] # Remove first column (which is void)\n",
    "salaries_raw.columns = salaries_raw.loc[0] # Set columns\n",
    "salaries_raw = salaries_raw.iloc[7:, :] # Remove first 7 rows (which are void)\n",
    "salaries_raw = salaries_raw.set_index(salaries_raw[\"Name\"]).drop(columns=\"Name\") # Replace index\n",
    "salaries = salaries_raw.copy() # Make copy\n",
    "\n",
    "# === ANSWER ===\n",
    "print(salaries.shape)\n",
    "display(salaries.head())"
   ]
  },
  {
   "cell_type": "markdown",
   "metadata": {},
   "source": [
    "**1.3** (1P) Which Name (index) is not appearing in the people but in the salaries dataset? "
   ]
  },
  {
   "cell_type": "code",
   "execution_count": 5,
   "metadata": {},
   "outputs": [
    {
     "name": "stdout",
     "output_type": "stream",
     "text": [
      "\u001b[91mGabriela\u001b[0m does not exist in people but exists in salaries\n"
     ]
    }
   ],
   "source": [
    "#1.3\n",
    "for mu in salaries.index: \n",
    "    if mu not in people.index: # Loops in salaries, searches for missing in people\n",
    "        print(f'\\033[91m{mu}\\033[0m', \"does not exist in people but exists in salaries\") # Prints answer with colors"
   ]
  },
  {
   "cell_type": "markdown",
   "metadata": {},
   "source": [
    "**1.4** (1P) Join the data in a way the we don't have this name included after joining in the varaible salaries_people."
   ]
  },
  {
   "cell_type": "code",
   "execution_count": 7,
   "metadata": {},
   "outputs": [
    {
     "name": "stdout",
     "output_type": "stream",
     "text": [
      "OK\n"
     ]
    }
   ],
   "source": [
    "#1.4\n",
    "salaries_people = pd.merge(salaries, people, on=\"Name\", how=\"inner\") # Inner merge to remove elements s.t. x \\not \\in (A \\cap B)\n",
    "salaries_people.head() # display\n",
    "\n",
    "try:\n",
    "    salaries_people.loc[\"Gabriela\"] \n",
    "except:\n",
    "    print(\"OK\")\n",
    "else: # Testing to make sure Gabriela does not exist in our new data\n",
    "    raise Exception(\"Error\")\n"
   ]
  },
  {
   "cell_type": "markdown",
   "metadata": {},
   "source": [
    "**Exercise 2**: Manipulation (2P)"
   ]
  },
  {
   "cell_type": "markdown",
   "metadata": {},
   "source": [
    "**2.1** (1P) Change the dtype of Age to an integer. Confirm the change checking the dtype of the first cell of Age after changing."
   ]
  },
  {
   "cell_type": "code",
   "execution_count": 8,
   "metadata": {},
   "outputs": [
    {
     "data": {
      "text/plain": [
       "dtype('int32')"
      ]
     },
     "execution_count": 8,
     "metadata": {},
     "output_type": "execute_result"
    }
   ],
   "source": [
    "#2.1\n",
    "salaries_people = salaries_people.astype({\"Age\": int})\n",
    "salaries_people.iloc[0].Age.dtype # Verification"
   ]
  },
  {
   "cell_type": "markdown",
   "metadata": {},
   "source": [
    "**2.2** (1P) Replace the values from the column Gender with 'Male' if the value is 'M' and 'Female' if the value is 'F'.\n",
    "<br> Confirm by checking the unique values within this column after replacing."
   ]
  },
  {
   "cell_type": "code",
   "execution_count": 9,
   "metadata": {},
   "outputs": [
    {
     "data": {
      "text/plain": [
       "array(['M', 'F'], dtype=object)"
      ]
     },
     "execution_count": 9,
     "metadata": {},
     "output_type": "execute_result"
    }
   ],
   "source": [
    "#2.2\n",
    "salaries_people.rename(\n",
    "    mapper={\"Male\": \"M\", \"Female\": \"F\"},\n",
    "    axis=1,\n",
    "    inplace=True\n",
    ")\n",
    "\n",
    "salaries_people.Gender.unique() # Verification"
   ]
  },
  {
   "cell_type": "markdown",
   "metadata": {},
   "source": [
    "**Exercise 3**: Exploration (5P)"
   ]
  },
  {
   "cell_type": "markdown",
   "metadata": {},
   "source": [
    "**3.1** (1P) What are the total value counts for the Gender? "
   ]
  },
  {
   "cell_type": "code",
   "execution_count": 10,
   "metadata": {},
   "outputs": [
    {
     "name": "stdout",
     "output_type": "stream",
     "text": [
      "21\n"
     ]
    }
   ],
   "source": [
    "#3.1\n",
    "sigma = sum(salaries_people.Gender.value_counts())\n",
    "print(sigma) # Total value counts for the gender"
   ]
  },
  {
   "cell_type": "markdown",
   "metadata": {},
   "source": [
    "**3.2** (1P) Show the percentages of Males and Females."
   ]
  },
  {
   "cell_type": "code",
   "execution_count": 11,
   "metadata": {},
   "outputs": [
    {
     "name": "stdout",
     "output_type": "stream",
     "text": [
      "M: 52.38095238095239%\n",
      "F: 47.61904761904761%\n"
     ]
    }
   ],
   "source": [
    "#3.2\n",
    "x = salaries_people.Gender.value_counts()\n",
    "\n",
    "print(f\"M: {x[\"M\"]/sigma*100}%\\nF: {x[\"F\"]/sigma*100}%\") # Prints answer"
   ]
  },
  {
   "cell_type": "markdown",
   "metadata": {},
   "source": [
    "**3.3** (1P) What are the minimum and maximum values for the salary?"
   ]
  },
  {
   "cell_type": "code",
   "execution_count": 12,
   "metadata": {},
   "outputs": [
    {
     "name": "stdout",
     "output_type": "stream",
     "text": [
      "Min: 18000 | Max: 35000\n"
     ]
    }
   ],
   "source": [
    "#3.3\n",
    "print(\"Min:\",salaries_people.Salary.min(),\"| Max:\", salaries_people.Salary.max()) # Prints answer\n"
   ]
  },
  {
   "cell_type": "markdown",
   "metadata": {},
   "source": [
    "**3.4** (1P) Show the mean and median values of the Salary grouped by the country."
   ]
  },
  {
   "cell_type": "code",
   "execution_count": 24,
   "metadata": {},
   "outputs": [
    {
     "data": {
      "text/html": [
       "<div>\n",
       "<style scoped>\n",
       "    .dataframe tbody tr th:only-of-type {\n",
       "        vertical-align: middle;\n",
       "    }\n",
       "\n",
       "    .dataframe tbody tr th {\n",
       "        vertical-align: top;\n",
       "    }\n",
       "\n",
       "    .dataframe thead th {\n",
       "        text-align: right;\n",
       "    }\n",
       "</style>\n",
       "<table border=\"1\" class=\"dataframe\">\n",
       "  <thead>\n",
       "    <tr style=\"text-align: right;\">\n",
       "      <th></th>\n",
       "      <th>Mean</th>\n",
       "      <th>Median</th>\n",
       "    </tr>\n",
       "    <tr>\n",
       "      <th>Country</th>\n",
       "      <th></th>\n",
       "      <th></th>\n",
       "    </tr>\n",
       "  </thead>\n",
       "  <tbody>\n",
       "    <tr>\n",
       "      <th>France</th>\n",
       "      <td>26750.0</td>\n",
       "      <td>27500.0</td>\n",
       "    </tr>\n",
       "    <tr>\n",
       "      <th>Germany</th>\n",
       "      <td>30750.0</td>\n",
       "      <td>30500.0</td>\n",
       "    </tr>\n",
       "    <tr>\n",
       "      <th>Italy</th>\n",
       "      <td>30200.0</td>\n",
       "      <td>29000.0</td>\n",
       "    </tr>\n",
       "    <tr>\n",
       "      <th>Portugal</th>\n",
       "      <td>21500.0</td>\n",
       "      <td>21000.0</td>\n",
       "    </tr>\n",
       "    <tr>\n",
       "      <th>Spain</th>\n",
       "      <td>27250.0</td>\n",
       "      <td>27500.0</td>\n",
       "    </tr>\n",
       "  </tbody>\n",
       "</table>\n",
       "</div>"
      ],
      "text/plain": [
       "             Mean   Median\n",
       "Country                   \n",
       "France    26750.0  27500.0\n",
       "Germany   30750.0  30500.0\n",
       "Italy     30200.0  29000.0\n",
       "Portugal  21500.0  21000.0\n",
       "Spain     27250.0  27500.0"
      ]
     },
     "execution_count": 24,
     "metadata": {},
     "output_type": "execute_result"
    }
   ],
   "source": [
    "#3.4\n",
    "salaries_people.groupby(by=\"Country\").agg(\n",
    "    Mean = (\"Salary\", \"mean\"),\n",
    "    Median = (\"Salary\", \"median\")\n",
    ") # Returns DF"
   ]
  },
  {
   "cell_type": "markdown",
   "metadata": {},
   "source": [
    "**3.5** (1P) Show the spearman correlation of Age and Salary."
   ]
  },
  {
   "cell_type": "code",
   "execution_count": 15,
   "metadata": {},
   "outputs": [
    {
     "data": {
      "text/html": [
       "<div>\n",
       "<style scoped>\n",
       "    .dataframe tbody tr th:only-of-type {\n",
       "        vertical-align: middle;\n",
       "    }\n",
       "\n",
       "    .dataframe tbody tr th {\n",
       "        vertical-align: top;\n",
       "    }\n",
       "\n",
       "    .dataframe thead th {\n",
       "        text-align: right;\n",
       "    }\n",
       "</style>\n",
       "<table border=\"1\" class=\"dataframe\">\n",
       "  <thead>\n",
       "    <tr style=\"text-align: right;\">\n",
       "      <th></th>\n",
       "      <th>Salary</th>\n",
       "      <th>Age</th>\n",
       "    </tr>\n",
       "  </thead>\n",
       "  <tbody>\n",
       "    <tr>\n",
       "      <th>Salary</th>\n",
       "      <td>1.000000</td>\n",
       "      <td>0.643831</td>\n",
       "    </tr>\n",
       "    <tr>\n",
       "      <th>Age</th>\n",
       "      <td>0.643831</td>\n",
       "      <td>1.000000</td>\n",
       "    </tr>\n",
       "  </tbody>\n",
       "</table>\n",
       "</div>"
      ],
      "text/plain": [
       "          Salary       Age\n",
       "Salary  1.000000  0.643831\n",
       "Age     0.643831  1.000000"
      ]
     },
     "execution_count": 15,
     "metadata": {},
     "output_type": "execute_result"
    }
   ],
   "source": [
    "#3.5\n",
    "salaries_people.Salary = salaries_people.Salary.astype(\"int\")\n",
    "salaries_people.corr(\"spearman\", numeric_only = True) "
   ]
  },
  {
   "cell_type": "markdown",
   "metadata": {},
   "source": [
    "**Exercise 4** Mixture (7 P)"
   ]
  },
  {
   "cell_type": "markdown",
   "metadata": {},
   "source": [
    "**4.1** (1 P) Select the rows where the Name (index) is 'Miguel', 'Joao' or 'Hans."
   ]
  },
  {
   "cell_type": "code",
   "execution_count": 16,
   "metadata": {},
   "outputs": [
    {
     "data": {
      "text/html": [
       "<div>\n",
       "<style scoped>\n",
       "    .dataframe tbody tr th:only-of-type {\n",
       "        vertical-align: middle;\n",
       "    }\n",
       "\n",
       "    .dataframe tbody tr th {\n",
       "        vertical-align: top;\n",
       "    }\n",
       "\n",
       "    .dataframe thead th {\n",
       "        text-align: right;\n",
       "    }\n",
       "</style>\n",
       "<table border=\"1\" class=\"dataframe\">\n",
       "  <thead>\n",
       "    <tr style=\"text-align: right;\">\n",
       "      <th></th>\n",
       "      <th>Country</th>\n",
       "      <th>Salary</th>\n",
       "      <th>Gender</th>\n",
       "      <th>Age</th>\n",
       "    </tr>\n",
       "    <tr>\n",
       "      <th>Name</th>\n",
       "      <th></th>\n",
       "      <th></th>\n",
       "      <th></th>\n",
       "      <th></th>\n",
       "    </tr>\n",
       "  </thead>\n",
       "  <tbody>\n",
       "    <tr>\n",
       "      <th>Miguel</th>\n",
       "      <td>Portugal</td>\n",
       "      <td>20000</td>\n",
       "      <td>M</td>\n",
       "      <td>30</td>\n",
       "    </tr>\n",
       "    <tr>\n",
       "      <th>Joao</th>\n",
       "      <td>Portugal</td>\n",
       "      <td>26000</td>\n",
       "      <td>M</td>\n",
       "      <td>30</td>\n",
       "    </tr>\n",
       "    <tr>\n",
       "      <th>Hans</th>\n",
       "      <td>Germany</td>\n",
       "      <td>32000</td>\n",
       "      <td>M</td>\n",
       "      <td>40</td>\n",
       "    </tr>\n",
       "  </tbody>\n",
       "</table>\n",
       "</div>"
      ],
      "text/plain": [
       "         Country  Salary Gender  Age\n",
       "Name                                \n",
       "Miguel  Portugal   20000      M   30\n",
       "Joao    Portugal   26000      M   30\n",
       "Hans     Germany   32000      M   40"
      ]
     },
     "execution_count": 16,
     "metadata": {},
     "output_type": "execute_result"
    }
   ],
   "source": [
    "#4.1\n",
    "salaries_people.loc[[\"Miguel\", \"Joao\", \"Hans\"]]"
   ]
  },
  {
   "cell_type": "markdown",
   "metadata": {},
   "source": [
    "**4.2** (1 P) Create a copy of salaries_people called salaries_people_c."
   ]
  },
  {
   "cell_type": "code",
   "execution_count": 17,
   "metadata": {},
   "outputs": [],
   "source": [
    "#4.2\n",
    "salaries_people_c = salaries_people.copy() # Copies"
   ]
  },
  {
   "cell_type": "markdown",
   "metadata": {},
   "source": [
    "**4.3** (1 P) Using salaries_people_c, keep only the rows in the dataframe where the Age is >= 30 and the Gender is Male, overwrite salaries_people_c with those values only."
   ]
  },
  {
   "cell_type": "code",
   "execution_count": 18,
   "metadata": {},
   "outputs": [
    {
     "data": {
      "text/html": [
       "<div>\n",
       "<style scoped>\n",
       "    .dataframe tbody tr th:only-of-type {\n",
       "        vertical-align: middle;\n",
       "    }\n",
       "\n",
       "    .dataframe tbody tr th {\n",
       "        vertical-align: top;\n",
       "    }\n",
       "\n",
       "    .dataframe thead th {\n",
       "        text-align: right;\n",
       "    }\n",
       "</style>\n",
       "<table border=\"1\" class=\"dataframe\">\n",
       "  <thead>\n",
       "    <tr style=\"text-align: right;\">\n",
       "      <th></th>\n",
       "      <th>Country</th>\n",
       "      <th>Salary</th>\n",
       "      <th>Gender</th>\n",
       "      <th>Age</th>\n",
       "    </tr>\n",
       "    <tr>\n",
       "      <th>Name</th>\n",
       "      <th></th>\n",
       "      <th></th>\n",
       "      <th></th>\n",
       "      <th></th>\n",
       "    </tr>\n",
       "  </thead>\n",
       "  <tbody>\n",
       "    <tr>\n",
       "      <th>Miguel</th>\n",
       "      <td>Portugal</td>\n",
       "      <td>20000</td>\n",
       "      <td>M</td>\n",
       "      <td>30</td>\n",
       "    </tr>\n",
       "    <tr>\n",
       "      <th>Diego</th>\n",
       "      <td>Spain</td>\n",
       "      <td>30000</td>\n",
       "      <td>M</td>\n",
       "      <td>40</td>\n",
       "    </tr>\n",
       "    <tr>\n",
       "      <th>Marco</th>\n",
       "      <td>Italy</td>\n",
       "      <td>29000</td>\n",
       "      <td>M</td>\n",
       "      <td>60</td>\n",
       "    </tr>\n",
       "    <tr>\n",
       "      <th>Mateo</th>\n",
       "      <td>Spain</td>\n",
       "      <td>23000</td>\n",
       "      <td>M</td>\n",
       "      <td>40</td>\n",
       "    </tr>\n",
       "    <tr>\n",
       "      <th>Julien</th>\n",
       "      <td>France</td>\n",
       "      <td>27000</td>\n",
       "      <td>M</td>\n",
       "      <td>30</td>\n",
       "    </tr>\n",
       "    <tr>\n",
       "      <th>Hans</th>\n",
       "      <td>Germany</td>\n",
       "      <td>32000</td>\n",
       "      <td>M</td>\n",
       "      <td>40</td>\n",
       "    </tr>\n",
       "    <tr>\n",
       "      <th>Joao</th>\n",
       "      <td>Portugal</td>\n",
       "      <td>26000</td>\n",
       "      <td>M</td>\n",
       "      <td>30</td>\n",
       "    </tr>\n",
       "    <tr>\n",
       "      <th>Luca</th>\n",
       "      <td>Italy</td>\n",
       "      <td>34000</td>\n",
       "      <td>M</td>\n",
       "      <td>40</td>\n",
       "    </tr>\n",
       "    <tr>\n",
       "      <th>Klaus</th>\n",
       "      <td>Germany</td>\n",
       "      <td>35000</td>\n",
       "      <td>M</td>\n",
       "      <td>50</td>\n",
       "    </tr>\n",
       "    <tr>\n",
       "      <th>Alessio</th>\n",
       "      <td>Italy</td>\n",
       "      <td>32000</td>\n",
       "      <td>M</td>\n",
       "      <td>40</td>\n",
       "    </tr>\n",
       "  </tbody>\n",
       "</table>\n",
       "</div>"
      ],
      "text/plain": [
       "          Country  Salary Gender  Age\n",
       "Name                                 \n",
       "Miguel   Portugal   20000      M   30\n",
       "Diego       Spain   30000      M   40\n",
       "Marco       Italy   29000      M   60\n",
       "Mateo       Spain   23000      M   40\n",
       "Julien     France   27000      M   30\n",
       "Hans      Germany   32000      M   40\n",
       "Joao     Portugal   26000      M   30\n",
       "Luca        Italy   34000      M   40\n",
       "Klaus     Germany   35000      M   50\n",
       "Alessio     Italy   32000      M   40"
      ]
     },
     "execution_count": 18,
     "metadata": {},
     "output_type": "execute_result"
    }
   ],
   "source": [
    "#4.3\n",
    "salaries_people_c = salaries_people_c.query(\"Age>=30\")\n",
    "salaries_people_c = salaries_people_c.query('Gender==\"M\"') # I could have used & but this works in the same way...\n",
    "salaries_people_c"
   ]
  },
  {
   "cell_type": "markdown",
   "metadata": {},
   "source": [
    "**4.4** (1 P) Create a new column named 'Flag' with the value 1 for each row in salaries_people_c."
   ]
  },
  {
   "cell_type": "code",
   "execution_count": 19,
   "metadata": {},
   "outputs": [
    {
     "data": {
      "text/html": [
       "<div>\n",
       "<style scoped>\n",
       "    .dataframe tbody tr th:only-of-type {\n",
       "        vertical-align: middle;\n",
       "    }\n",
       "\n",
       "    .dataframe tbody tr th {\n",
       "        vertical-align: top;\n",
       "    }\n",
       "\n",
       "    .dataframe thead th {\n",
       "        text-align: right;\n",
       "    }\n",
       "</style>\n",
       "<table border=\"1\" class=\"dataframe\">\n",
       "  <thead>\n",
       "    <tr style=\"text-align: right;\">\n",
       "      <th></th>\n",
       "      <th>Country</th>\n",
       "      <th>Salary</th>\n",
       "      <th>Gender</th>\n",
       "      <th>Age</th>\n",
       "      <th>Flag</th>\n",
       "    </tr>\n",
       "    <tr>\n",
       "      <th>Name</th>\n",
       "      <th></th>\n",
       "      <th></th>\n",
       "      <th></th>\n",
       "      <th></th>\n",
       "      <th></th>\n",
       "    </tr>\n",
       "  </thead>\n",
       "  <tbody>\n",
       "    <tr>\n",
       "      <th>Miguel</th>\n",
       "      <td>Portugal</td>\n",
       "      <td>20000</td>\n",
       "      <td>M</td>\n",
       "      <td>30</td>\n",
       "      <td>1</td>\n",
       "    </tr>\n",
       "    <tr>\n",
       "      <th>Diego</th>\n",
       "      <td>Spain</td>\n",
       "      <td>30000</td>\n",
       "      <td>M</td>\n",
       "      <td>40</td>\n",
       "      <td>1</td>\n",
       "    </tr>\n",
       "    <tr>\n",
       "      <th>Marco</th>\n",
       "      <td>Italy</td>\n",
       "      <td>29000</td>\n",
       "      <td>M</td>\n",
       "      <td>60</td>\n",
       "      <td>1</td>\n",
       "    </tr>\n",
       "    <tr>\n",
       "      <th>Mateo</th>\n",
       "      <td>Spain</td>\n",
       "      <td>23000</td>\n",
       "      <td>M</td>\n",
       "      <td>40</td>\n",
       "      <td>1</td>\n",
       "    </tr>\n",
       "    <tr>\n",
       "      <th>Julien</th>\n",
       "      <td>France</td>\n",
       "      <td>27000</td>\n",
       "      <td>M</td>\n",
       "      <td>30</td>\n",
       "      <td>1</td>\n",
       "    </tr>\n",
       "    <tr>\n",
       "      <th>Hans</th>\n",
       "      <td>Germany</td>\n",
       "      <td>32000</td>\n",
       "      <td>M</td>\n",
       "      <td>40</td>\n",
       "      <td>1</td>\n",
       "    </tr>\n",
       "    <tr>\n",
       "      <th>Joao</th>\n",
       "      <td>Portugal</td>\n",
       "      <td>26000</td>\n",
       "      <td>M</td>\n",
       "      <td>30</td>\n",
       "      <td>1</td>\n",
       "    </tr>\n",
       "    <tr>\n",
       "      <th>Luca</th>\n",
       "      <td>Italy</td>\n",
       "      <td>34000</td>\n",
       "      <td>M</td>\n",
       "      <td>40</td>\n",
       "      <td>1</td>\n",
       "    </tr>\n",
       "    <tr>\n",
       "      <th>Klaus</th>\n",
       "      <td>Germany</td>\n",
       "      <td>35000</td>\n",
       "      <td>M</td>\n",
       "      <td>50</td>\n",
       "      <td>1</td>\n",
       "    </tr>\n",
       "    <tr>\n",
       "      <th>Alessio</th>\n",
       "      <td>Italy</td>\n",
       "      <td>32000</td>\n",
       "      <td>M</td>\n",
       "      <td>40</td>\n",
       "      <td>1</td>\n",
       "    </tr>\n",
       "  </tbody>\n",
       "</table>\n",
       "</div>"
      ],
      "text/plain": [
       "          Country  Salary Gender  Age  Flag\n",
       "Name                                       \n",
       "Miguel   Portugal   20000      M   30     1\n",
       "Diego       Spain   30000      M   40     1\n",
       "Marco       Italy   29000      M   60     1\n",
       "Mateo       Spain   23000      M   40     1\n",
       "Julien     France   27000      M   30     1\n",
       "Hans      Germany   32000      M   40     1\n",
       "Joao     Portugal   26000      M   30     1\n",
       "Luca        Italy   34000      M   40     1\n",
       "Klaus     Germany   35000      M   50     1\n",
       "Alessio     Italy   32000      M   40     1"
      ]
     },
     "execution_count": 19,
     "metadata": {},
     "output_type": "execute_result"
    }
   ],
   "source": [
    "#4.4\n",
    "salaries_people_c[\"Flag\"]=1 # Set flag\n",
    "salaries_people_c"
   ]
  },
  {
   "cell_type": "markdown",
   "metadata": {},
   "source": [
    "**4.5** (1 P) Join salaries_people with salaries_people_c, only using the 'Flag' column from slaries_people_c, in a way that we keep all rows from salaries_people."
   ]
  },
  {
   "cell_type": "code",
   "execution_count": 20,
   "metadata": {},
   "outputs": [
    {
     "data": {
      "text/html": [
       "<div>\n",
       "<style scoped>\n",
       "    .dataframe tbody tr th:only-of-type {\n",
       "        vertical-align: middle;\n",
       "    }\n",
       "\n",
       "    .dataframe tbody tr th {\n",
       "        vertical-align: top;\n",
       "    }\n",
       "\n",
       "    .dataframe thead th {\n",
       "        text-align: right;\n",
       "    }\n",
       "</style>\n",
       "<table border=\"1\" class=\"dataframe\">\n",
       "  <thead>\n",
       "    <tr style=\"text-align: right;\">\n",
       "      <th></th>\n",
       "      <th>Country</th>\n",
       "      <th>Salary</th>\n",
       "      <th>Gender</th>\n",
       "      <th>Age</th>\n",
       "      <th>Flag</th>\n",
       "    </tr>\n",
       "    <tr>\n",
       "      <th>Name</th>\n",
       "      <th></th>\n",
       "      <th></th>\n",
       "      <th></th>\n",
       "      <th></th>\n",
       "      <th></th>\n",
       "    </tr>\n",
       "  </thead>\n",
       "  <tbody>\n",
       "    <tr>\n",
       "      <th>Alessio</th>\n",
       "      <td>Italy</td>\n",
       "      <td>32000</td>\n",
       "      <td>M</td>\n",
       "      <td>40</td>\n",
       "      <td>1.0</td>\n",
       "    </tr>\n",
       "    <tr>\n",
       "      <th>Anna</th>\n",
       "      <td>Germany</td>\n",
       "      <td>29000</td>\n",
       "      <td>F</td>\n",
       "      <td>30</td>\n",
       "      <td>NaN</td>\n",
       "    </tr>\n",
       "    <tr>\n",
       "      <th>Aurora</th>\n",
       "      <td>Italy</td>\n",
       "      <td>29000</td>\n",
       "      <td>F</td>\n",
       "      <td>30</td>\n",
       "      <td>NaN</td>\n",
       "    </tr>\n",
       "    <tr>\n",
       "      <th>Camille</th>\n",
       "      <td>France</td>\n",
       "      <td>28000</td>\n",
       "      <td>F</td>\n",
       "      <td>30</td>\n",
       "      <td>NaN</td>\n",
       "    </tr>\n",
       "    <tr>\n",
       "      <th>Carmen</th>\n",
       "      <td>Spain</td>\n",
       "      <td>25000</td>\n",
       "      <td>F</td>\n",
       "      <td>30</td>\n",
       "      <td>NaN</td>\n",
       "    </tr>\n",
       "    <tr>\n",
       "      <th>Claire</th>\n",
       "      <td>France</td>\n",
       "      <td>29000</td>\n",
       "      <td>F</td>\n",
       "      <td>30</td>\n",
       "      <td>NaN</td>\n",
       "    </tr>\n",
       "    <tr>\n",
       "      <th>Daniela</th>\n",
       "      <td>Portugal</td>\n",
       "      <td>18000</td>\n",
       "      <td>F</td>\n",
       "      <td>20</td>\n",
       "      <td>NaN</td>\n",
       "    </tr>\n",
       "    <tr>\n",
       "      <th>Diego</th>\n",
       "      <td>Spain</td>\n",
       "      <td>30000</td>\n",
       "      <td>M</td>\n",
       "      <td>40</td>\n",
       "      <td>1.0</td>\n",
       "    </tr>\n",
       "    <tr>\n",
       "      <th>Eva</th>\n",
       "      <td>Germany</td>\n",
       "      <td>27000</td>\n",
       "      <td>F</td>\n",
       "      <td>40</td>\n",
       "      <td>NaN</td>\n",
       "    </tr>\n",
       "    <tr>\n",
       "      <th>Hans</th>\n",
       "      <td>Germany</td>\n",
       "      <td>32000</td>\n",
       "      <td>M</td>\n",
       "      <td>40</td>\n",
       "      <td>1.0</td>\n",
       "    </tr>\n",
       "    <tr>\n",
       "      <th>Joao</th>\n",
       "      <td>Portugal</td>\n",
       "      <td>26000</td>\n",
       "      <td>M</td>\n",
       "      <td>30</td>\n",
       "      <td>1.0</td>\n",
       "    </tr>\n",
       "    <tr>\n",
       "      <th>Julien</th>\n",
       "      <td>France</td>\n",
       "      <td>27000</td>\n",
       "      <td>M</td>\n",
       "      <td>30</td>\n",
       "      <td>1.0</td>\n",
       "    </tr>\n",
       "    <tr>\n",
       "      <th>Klaus</th>\n",
       "      <td>Germany</td>\n",
       "      <td>35000</td>\n",
       "      <td>M</td>\n",
       "      <td>50</td>\n",
       "      <td>1.0</td>\n",
       "    </tr>\n",
       "    <tr>\n",
       "      <th>Lea</th>\n",
       "      <td>France</td>\n",
       "      <td>23000</td>\n",
       "      <td>F</td>\n",
       "      <td>20</td>\n",
       "      <td>NaN</td>\n",
       "    </tr>\n",
       "    <tr>\n",
       "      <th>Luca</th>\n",
       "      <td>Italy</td>\n",
       "      <td>34000</td>\n",
       "      <td>M</td>\n",
       "      <td>40</td>\n",
       "      <td>1.0</td>\n",
       "    </tr>\n",
       "    <tr>\n",
       "      <th>Luigi</th>\n",
       "      <td>Italy</td>\n",
       "      <td>27000</td>\n",
       "      <td>M</td>\n",
       "      <td>20</td>\n",
       "      <td>NaN</td>\n",
       "    </tr>\n",
       "    <tr>\n",
       "      <th>Marco</th>\n",
       "      <td>Italy</td>\n",
       "      <td>29000</td>\n",
       "      <td>M</td>\n",
       "      <td>60</td>\n",
       "      <td>1.0</td>\n",
       "    </tr>\n",
       "    <tr>\n",
       "      <th>Maria</th>\n",
       "      <td>Portugal</td>\n",
       "      <td>22000</td>\n",
       "      <td>F</td>\n",
       "      <td>20</td>\n",
       "      <td>NaN</td>\n",
       "    </tr>\n",
       "    <tr>\n",
       "      <th>Mateo</th>\n",
       "      <td>Spain</td>\n",
       "      <td>23000</td>\n",
       "      <td>M</td>\n",
       "      <td>40</td>\n",
       "      <td>1.0</td>\n",
       "    </tr>\n",
       "    <tr>\n",
       "      <th>Miguel</th>\n",
       "      <td>Portugal</td>\n",
       "      <td>20000</td>\n",
       "      <td>M</td>\n",
       "      <td>30</td>\n",
       "      <td>1.0</td>\n",
       "    </tr>\n",
       "    <tr>\n",
       "      <th>Sofia</th>\n",
       "      <td>Spain</td>\n",
       "      <td>31000</td>\n",
       "      <td>F</td>\n",
       "      <td>30</td>\n",
       "      <td>NaN</td>\n",
       "    </tr>\n",
       "  </tbody>\n",
       "</table>\n",
       "</div>"
      ],
      "text/plain": [
       "          Country  Salary Gender  Age  Flag\n",
       "Name                                       \n",
       "Alessio     Italy   32000      M   40   1.0\n",
       "Anna      Germany   29000      F   30   NaN\n",
       "Aurora      Italy   29000      F   30   NaN\n",
       "Camille    France   28000      F   30   NaN\n",
       "Carmen      Spain   25000      F   30   NaN\n",
       "Claire     France   29000      F   30   NaN\n",
       "Daniela  Portugal   18000      F   20   NaN\n",
       "Diego       Spain   30000      M   40   1.0\n",
       "Eva       Germany   27000      F   40   NaN\n",
       "Hans      Germany   32000      M   40   1.0\n",
       "Joao     Portugal   26000      M   30   1.0\n",
       "Julien     France   27000      M   30   1.0\n",
       "Klaus     Germany   35000      M   50   1.0\n",
       "Lea        France   23000      F   20   NaN\n",
       "Luca        Italy   34000      M   40   1.0\n",
       "Luigi       Italy   27000      M   20   NaN\n",
       "Marco       Italy   29000      M   60   1.0\n",
       "Maria    Portugal   22000      F   20   NaN\n",
       "Mateo       Spain   23000      M   40   1.0\n",
       "Miguel   Portugal   20000      M   30   1.0\n",
       "Sofia       Spain   31000      F   30   NaN"
      ]
     },
     "execution_count": 20,
     "metadata": {},
     "output_type": "execute_result"
    }
   ],
   "source": [
    "#4.5\n",
    "\n",
    "salaries_people = salaries_people.join(salaries_people_c[\"Flag\"], on=\"Name\", how=\"outer\") # Joins on copy but only using flag, keeping every element\n",
    "salaries_people"
   ]
  },
  {
   "cell_type": "markdown",
   "metadata": {},
   "source": [
    "**4.6** (1 P) Set the Flag column to 0 if it's missing."
   ]
  },
  {
   "cell_type": "code",
   "execution_count": 21,
   "metadata": {},
   "outputs": [
    {
     "data": {
      "text/html": [
       "<div>\n",
       "<style scoped>\n",
       "    .dataframe tbody tr th:only-of-type {\n",
       "        vertical-align: middle;\n",
       "    }\n",
       "\n",
       "    .dataframe tbody tr th {\n",
       "        vertical-align: top;\n",
       "    }\n",
       "\n",
       "    .dataframe thead th {\n",
       "        text-align: right;\n",
       "    }\n",
       "</style>\n",
       "<table border=\"1\" class=\"dataframe\">\n",
       "  <thead>\n",
       "    <tr style=\"text-align: right;\">\n",
       "      <th></th>\n",
       "      <th>Country</th>\n",
       "      <th>Salary</th>\n",
       "      <th>Gender</th>\n",
       "      <th>Age</th>\n",
       "      <th>Flag</th>\n",
       "    </tr>\n",
       "    <tr>\n",
       "      <th>Name</th>\n",
       "      <th></th>\n",
       "      <th></th>\n",
       "      <th></th>\n",
       "      <th></th>\n",
       "      <th></th>\n",
       "    </tr>\n",
       "  </thead>\n",
       "  <tbody>\n",
       "    <tr>\n",
       "      <th>Alessio</th>\n",
       "      <td>Italy</td>\n",
       "      <td>32000</td>\n",
       "      <td>M</td>\n",
       "      <td>40</td>\n",
       "      <td>1</td>\n",
       "    </tr>\n",
       "    <tr>\n",
       "      <th>Anna</th>\n",
       "      <td>Germany</td>\n",
       "      <td>29000</td>\n",
       "      <td>F</td>\n",
       "      <td>30</td>\n",
       "      <td>0</td>\n",
       "    </tr>\n",
       "    <tr>\n",
       "      <th>Aurora</th>\n",
       "      <td>Italy</td>\n",
       "      <td>29000</td>\n",
       "      <td>F</td>\n",
       "      <td>30</td>\n",
       "      <td>0</td>\n",
       "    </tr>\n",
       "    <tr>\n",
       "      <th>Camille</th>\n",
       "      <td>France</td>\n",
       "      <td>28000</td>\n",
       "      <td>F</td>\n",
       "      <td>30</td>\n",
       "      <td>0</td>\n",
       "    </tr>\n",
       "    <tr>\n",
       "      <th>Carmen</th>\n",
       "      <td>Spain</td>\n",
       "      <td>25000</td>\n",
       "      <td>F</td>\n",
       "      <td>30</td>\n",
       "      <td>0</td>\n",
       "    </tr>\n",
       "    <tr>\n",
       "      <th>Claire</th>\n",
       "      <td>France</td>\n",
       "      <td>29000</td>\n",
       "      <td>F</td>\n",
       "      <td>30</td>\n",
       "      <td>0</td>\n",
       "    </tr>\n",
       "    <tr>\n",
       "      <th>Daniela</th>\n",
       "      <td>Portugal</td>\n",
       "      <td>18000</td>\n",
       "      <td>F</td>\n",
       "      <td>20</td>\n",
       "      <td>0</td>\n",
       "    </tr>\n",
       "    <tr>\n",
       "      <th>Diego</th>\n",
       "      <td>Spain</td>\n",
       "      <td>30000</td>\n",
       "      <td>M</td>\n",
       "      <td>40</td>\n",
       "      <td>1</td>\n",
       "    </tr>\n",
       "    <tr>\n",
       "      <th>Eva</th>\n",
       "      <td>Germany</td>\n",
       "      <td>27000</td>\n",
       "      <td>F</td>\n",
       "      <td>40</td>\n",
       "      <td>0</td>\n",
       "    </tr>\n",
       "    <tr>\n",
       "      <th>Hans</th>\n",
       "      <td>Germany</td>\n",
       "      <td>32000</td>\n",
       "      <td>M</td>\n",
       "      <td>40</td>\n",
       "      <td>1</td>\n",
       "    </tr>\n",
       "    <tr>\n",
       "      <th>Joao</th>\n",
       "      <td>Portugal</td>\n",
       "      <td>26000</td>\n",
       "      <td>M</td>\n",
       "      <td>30</td>\n",
       "      <td>1</td>\n",
       "    </tr>\n",
       "    <tr>\n",
       "      <th>Julien</th>\n",
       "      <td>France</td>\n",
       "      <td>27000</td>\n",
       "      <td>M</td>\n",
       "      <td>30</td>\n",
       "      <td>1</td>\n",
       "    </tr>\n",
       "    <tr>\n",
       "      <th>Klaus</th>\n",
       "      <td>Germany</td>\n",
       "      <td>35000</td>\n",
       "      <td>M</td>\n",
       "      <td>50</td>\n",
       "      <td>1</td>\n",
       "    </tr>\n",
       "    <tr>\n",
       "      <th>Lea</th>\n",
       "      <td>France</td>\n",
       "      <td>23000</td>\n",
       "      <td>F</td>\n",
       "      <td>20</td>\n",
       "      <td>0</td>\n",
       "    </tr>\n",
       "    <tr>\n",
       "      <th>Luca</th>\n",
       "      <td>Italy</td>\n",
       "      <td>34000</td>\n",
       "      <td>M</td>\n",
       "      <td>40</td>\n",
       "      <td>1</td>\n",
       "    </tr>\n",
       "    <tr>\n",
       "      <th>Luigi</th>\n",
       "      <td>Italy</td>\n",
       "      <td>27000</td>\n",
       "      <td>M</td>\n",
       "      <td>20</td>\n",
       "      <td>0</td>\n",
       "    </tr>\n",
       "    <tr>\n",
       "      <th>Marco</th>\n",
       "      <td>Italy</td>\n",
       "      <td>29000</td>\n",
       "      <td>M</td>\n",
       "      <td>60</td>\n",
       "      <td>1</td>\n",
       "    </tr>\n",
       "    <tr>\n",
       "      <th>Maria</th>\n",
       "      <td>Portugal</td>\n",
       "      <td>22000</td>\n",
       "      <td>F</td>\n",
       "      <td>20</td>\n",
       "      <td>0</td>\n",
       "    </tr>\n",
       "    <tr>\n",
       "      <th>Mateo</th>\n",
       "      <td>Spain</td>\n",
       "      <td>23000</td>\n",
       "      <td>M</td>\n",
       "      <td>40</td>\n",
       "      <td>1</td>\n",
       "    </tr>\n",
       "    <tr>\n",
       "      <th>Miguel</th>\n",
       "      <td>Portugal</td>\n",
       "      <td>20000</td>\n",
       "      <td>M</td>\n",
       "      <td>30</td>\n",
       "      <td>1</td>\n",
       "    </tr>\n",
       "    <tr>\n",
       "      <th>Sofia</th>\n",
       "      <td>Spain</td>\n",
       "      <td>31000</td>\n",
       "      <td>F</td>\n",
       "      <td>30</td>\n",
       "      <td>0</td>\n",
       "    </tr>\n",
       "  </tbody>\n",
       "</table>\n",
       "</div>"
      ],
      "text/plain": [
       "          Country  Salary Gender  Age  Flag\n",
       "Name                                       \n",
       "Alessio     Italy   32000      M   40     1\n",
       "Anna      Germany   29000      F   30     0\n",
       "Aurora      Italy   29000      F   30     0\n",
       "Camille    France   28000      F   30     0\n",
       "Carmen      Spain   25000      F   30     0\n",
       "Claire     France   29000      F   30     0\n",
       "Daniela  Portugal   18000      F   20     0\n",
       "Diego       Spain   30000      M   40     1\n",
       "Eva       Germany   27000      F   40     0\n",
       "Hans      Germany   32000      M   40     1\n",
       "Joao     Portugal   26000      M   30     1\n",
       "Julien     France   27000      M   30     1\n",
       "Klaus     Germany   35000      M   50     1\n",
       "Lea        France   23000      F   20     0\n",
       "Luca        Italy   34000      M   40     1\n",
       "Luigi       Italy   27000      M   20     0\n",
       "Marco       Italy   29000      M   60     1\n",
       "Maria    Portugal   22000      F   20     0\n",
       "Mateo       Spain   23000      M   40     1\n",
       "Miguel   Portugal   20000      M   30     1\n",
       "Sofia       Spain   31000      F   30     0"
      ]
     },
     "execution_count": 21,
     "metadata": {},
     "output_type": "execute_result"
    }
   ],
   "source": [
    "# 4.6\n",
    "salaries_people.Flag = salaries_people.Flag.fillna(0)\n",
    "salaries_people = salaries_people.astype({\"Flag\": int})\n",
    "salaries_people # Fills"
   ]
  },
  {
   "cell_type": "markdown",
   "metadata": {},
   "source": [
    "**4.7** (1 P) Create a Pivot Table with index = 'Flag', columns = 'Age', values = 'salary and aggfunc='mean' and save it in piv."
   ]
  },
  {
   "cell_type": "code",
   "execution_count": 22,
   "metadata": {},
   "outputs": [
    {
     "data": {
      "text/html": [
       "<div>\n",
       "<style scoped>\n",
       "    .dataframe tbody tr th:only-of-type {\n",
       "        vertical-align: middle;\n",
       "    }\n",
       "\n",
       "    .dataframe tbody tr th {\n",
       "        vertical-align: top;\n",
       "    }\n",
       "\n",
       "    .dataframe thead th {\n",
       "        text-align: right;\n",
       "    }\n",
       "</style>\n",
       "<table border=\"1\" class=\"dataframe\">\n",
       "  <thead>\n",
       "    <tr style=\"text-align: right;\">\n",
       "      <th>Age</th>\n",
       "      <th>20</th>\n",
       "      <th>30</th>\n",
       "      <th>40</th>\n",
       "      <th>50</th>\n",
       "      <th>60</th>\n",
       "    </tr>\n",
       "    <tr>\n",
       "      <th>Flag</th>\n",
       "      <th></th>\n",
       "      <th></th>\n",
       "      <th></th>\n",
       "      <th></th>\n",
       "      <th></th>\n",
       "    </tr>\n",
       "  </thead>\n",
       "  <tbody>\n",
       "    <tr>\n",
       "      <th>0</th>\n",
       "      <td>22500.0</td>\n",
       "      <td>28500.000000</td>\n",
       "      <td>27000.0</td>\n",
       "      <td>NaN</td>\n",
       "      <td>NaN</td>\n",
       "    </tr>\n",
       "    <tr>\n",
       "      <th>1</th>\n",
       "      <td>NaN</td>\n",
       "      <td>24333.333333</td>\n",
       "      <td>30200.0</td>\n",
       "      <td>35000.0</td>\n",
       "      <td>29000.0</td>\n",
       "    </tr>\n",
       "  </tbody>\n",
       "</table>\n",
       "</div>"
      ],
      "text/plain": [
       "Age        20            30       40       50       60\n",
       "Flag                                                  \n",
       "0     22500.0  28500.000000  27000.0      NaN      NaN\n",
       "1         NaN  24333.333333  30200.0  35000.0  29000.0"
      ]
     },
     "execution_count": 22,
     "metadata": {},
     "output_type": "execute_result"
    }
   ],
   "source": [
    "#4.7\n",
    "piv = pd.pivot_table(\n",
    "    data=salaries_people,\n",
    "    index=\"Flag\",\n",
    "    columns=\"Age\",\n",
    "    values=\"Salary\",\n",
    "    aggfunc=\"mean\"\n",
    ") # Makes pivot\n",
    "piv"
   ]
  },
  {
   "cell_type": "markdown",
   "metadata": {},
   "source": [
    "**Exercise 5** Export and Submission(1 P)"
   ]
  },
  {
   "cell_type": "markdown",
   "metadata": {},
   "source": [
    "**5.1** (1P) Write a for loop that saves the pivot table 4 times in the export folder, <br> each time using a different separator out of this list [',', ';', '-', '%'].\n",
    "\n",
    "Hint: <br>\n",
    "sep = '-' <br>\n",
    "piv.to_csv(f'export/{sep}piv.csv',sep=sep) <br>\n",
    "will lead to a file named '-piv.csv' using the '-' as a separator and put it in the export folder.\n"
   ]
  },
  {
   "cell_type": "code",
   "execution_count": 25,
   "metadata": {},
   "outputs": [],
   "source": [
    "#5.1\n",
    "seps = [',' , ';', '-', '%']\n",
    "for my_sep in seps:\n",
    "    piv.to_csv(f\"export/{my_sep}piv.csv\", sep=my_sep)"
   ]
  },
  {
   "cell_type": "markdown",
   "metadata": {},
   "source": [
    "**5.2** (0 P as endresult if you don't) Submission <br>\n",
    "Save this notebook as `Studentnumber_PDS_L04.ipynb`. Then create a zip file containing the jupyter notebook, and the accompanying folders with the data you imported and exported. Submit on Moodle."
   ]
  },
  {
   "cell_type": "markdown",
   "metadata": {},
   "source": [
    "$$\n",
    "L_\\mathbb C^p(T)\n",
    "$$"
   ]
  }
 ],
 "metadata": {
  "kernelspec": {
   "display_name": "Python 3 (ipykernel)",
   "language": "python",
   "name": "python3"
  },
  "language_info": {
   "codemirror_mode": {
    "name": "ipython",
    "version": 3
   },
   "file_extension": ".py",
   "mimetype": "text/x-python",
   "name": "python",
   "nbconvert_exporter": "python",
   "pygments_lexer": "ipython3",
   "version": "3.12.4"
  }
 },
 "nbformat": 4,
 "nbformat_minor": 4
}
