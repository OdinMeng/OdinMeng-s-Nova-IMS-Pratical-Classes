{
 "cells": [
  {
   "cell_type": "markdown",
   "id": "07e9fd4e-435d-4bb0-ab1b-94cbb4a8840e",
   "metadata": {},
   "source": [
    "# Programming for Data Science Summary\n",
    "## Chapter 04 - DataFrame Characteristics and Manipulation\n",
    "The goal of this notebook is to store some sort of \"cheatsheet\" for chapter 04 of Programming for Data Science course."
   ]
  },
  {
   "cell_type": "code",
   "execution_count": 1,
   "id": "9683a750-a580-4435-bf54-c121de7864c5",
   "metadata": {},
   "outputs": [
    {
     "name": "stdout",
     "output_type": "stream",
     "text": [
      "> Pandas Version: 2.2.2\n"
     ]
    }
   ],
   "source": [
    "import pandas as pd\n",
    "import numpy as np\n",
    "print(\"> Pandas Version:\",pd.__version__)\n",
    "df = pd.read_csv(\"data.csv\")"
   ]
  },
  {
   "cell_type": "markdown",
   "id": "a941221b-9077-4ef5-9c4c-61e27a999225",
   "metadata": {},
   "source": [
    "### Data Attributes"
   ]
  },
  {
   "cell_type": "code",
   "execution_count": 2,
   "id": "bf3b2365-2109-4a19-9800-a1eb6324ff06",
   "metadata": {},
   "outputs": [],
   "source": [
    "# Data Attributes\n",
    "df.columns # Returns all the columns. In particular, it will display the columns\n",
    "df.shape # Returns the shape of the DataFrame\n",
    "df.dtypes # Returns the data types of the columns\n",
    "df.index # Returns the rows label\n",
    "\n",
    "display()"
   ]
  },
  {
   "cell_type": "markdown",
   "id": "4125bd8d-3dff-4fd0-aa45-65c5140c284e",
   "metadata": {},
   "source": [
    "### Basic Inspection"
   ]
  },
  {
   "cell_type": "code",
   "execution_count": 14,
   "id": "fa19e427-dd04-4424-8a4f-5f4ba3b91469",
   "metadata": {},
   "outputs": [
    {
     "name": "stdout",
     "output_type": "stream",
     "text": [
      "<class 'pandas.core.frame.DataFrame'>\n",
      "RangeIndex: 100000 entries, 0 to 99999\n",
      "Data columns (total 9 columns):\n",
      " #   Column         Non-Null Count   Dtype \n",
      "---  ------         --------------   ----- \n",
      " 0   Index          100000 non-null  int64 \n",
      " 1   User Id        100000 non-null  object\n",
      " 2   First Name     100000 non-null  object\n",
      " 3   Last Name      100000 non-null  object\n",
      " 4   Sex            100000 non-null  object\n",
      " 5   Email          100000 non-null  object\n",
      " 6   Phone          100000 non-null  object\n",
      " 7   Date of birth  100000 non-null  object\n",
      " 8   Job Title      100000 non-null  object\n",
      "dtypes: int64(1), object(8)\n",
      "memory usage: 6.9+ MB\n"
     ]
    }
   ],
   "source": [
    "# Basic Inspection\n",
    "df.head(n=5) # Returns first n rows\n",
    "df.tail(k:=5) # Returns last k rows\n",
    "df.info(buf=None, verbose=None) # Prints  basic information (or outputs to a specified stream)\n",
    "df.sort_values(\n",
    "    by=\"Phone\",\n",
    "    ascending=True\n",
    ") # Returns sorted DataFrame by the specified criterion\n",
    "df.T # Returns transposed DataFrame\n",
    "\n",
    "display()"
   ]
  },
  {
   "cell_type": "markdown",
   "id": "6ae9761b-30cc-4fa1-bc36-940d683982b4",
   "metadata": {},
   "source": [
    "### Statistical Inspection"
   ]
  },
  {
   "cell_type": "code",
   "execution_count": 51,
   "id": "854d6227-7bcd-4794-8b1d-9ad6ad65175d",
   "metadata": {},
   "outputs": [],
   "source": [
    "# Statistical Inspection\n",
    "df.describe(include=np.number) # Returns DataFrame, detailing statistics of the columns with a certain datatpe (numerical or objects)\n",
    "df.isna() # Returns a mask DataFrame where True iff value is missing\n",
    "\n",
    "# Aggregators\n",
    "df_s = df.iloc[:100, :1]\n",
    "df_s.mean()\n",
    "df_s.median()\n",
    "df_s.mode()\n",
    "df_s.min()\n",
    "df_s.max()\n",
    "df_s.quantile(.5)\n",
    "df_s.var()\n",
    "df_s.std()\n",
    "df_s.corr(\"spearman\", numeric_only=True)\n",
    "df_s.value_counts()\n",
    "df_s.kurt()\n",
    "df_s.skew()\n",
    "\n",
    "df[[\"Index\"]].agg([\"mean\", \"kurt\"]) # Generalized version of df.describe with aggregators\n",
    "\n",
    "display()"
   ]
  },
  {
   "cell_type": "markdown",
   "id": "464e3e92-bc9e-4e35-b91c-668a07b2f0b0",
   "metadata": {},
   "source": [
    "### Grouping"
   ]
  },
  {
   "cell_type": "code",
   "execution_count": 55,
   "id": "a8d32ced-d0b3-4157-968f-4454bbde8f85",
   "metadata": {},
   "outputs": [],
   "source": [
    "# Grouping\n",
    "df.groupby(\"First Name\")[\"Index\"].agg(\"sum\") # General syntax: df.groupby(key)[column].agg()\n",
    "# Returns a DataFrame with grouped and aggregated data \n",
    "# Note: if I want multiple aggregators for each column I pass a dictionary, like {col1 : [\"agg1\", \"agg2\"], col2: [\"agg3\", \"agg4\"]}\n",
    "\n",
    "display()"
   ]
  },
  {
   "cell_type": "markdown",
   "id": "0435604a-715d-4098-a422-830141e477be",
   "metadata": {},
   "source": [
    "### Crosstables and PivotTables"
   ]
  },
  {
   "cell_type": "code",
   "execution_count": 49,
   "id": "afe16bff-ee19-47fd-805e-1c0b4abc48b9",
   "metadata": {},
   "outputs": [],
   "source": [
    "# Crosstables\n",
    "pd.crosstab(\n",
    "    index = df[\"Job Title\"],\n",
    "    columns = df[\"Sex\"]\n",
    ") # Returns a Crosstable where each item is frequency(<x,y>) in X x Y\n",
    "\n",
    "# Pivot Tables\n",
    "df.pivot_table(\n",
    "    index = df[\"Job Title\"],\n",
    "    columns = df[\"Sex\"],\n",
    "    values = \"Index\",\n",
    "    aggfunc = \"std\"\n",
    ") # Returns a Pivot Table where each item the value where it is considered and aggregated\n",
    "\n",
    "display()"
   ]
  },
  {
   "cell_type": "markdown",
   "id": "7c33637a-d95d-412d-903d-206c0eb01662",
   "metadata": {},
   "source": [
    "### Advanced Subset Grabbing"
   ]
  },
  {
   "cell_type": "code",
   "execution_count": 80,
   "id": "54e6aea7-ea6e-486b-a1c9-9234d8226f81",
   "metadata": {},
   "outputs": [],
   "source": [
    "# Advanced Subset Grabbing\n",
    "df[[\"Index\"]].isin([1]) # Boolean DataFrame\n",
    "df[\"Index\"].between(1,5) # Note: CANNOT do double brackets\n",
    "df.filter(axis=1, like=\"Name\") # Returns table which follows a certain pattern\n",
    "\n",
    "display()"
   ]
  },
  {
   "cell_type": "code",
   "execution_count": null,
   "id": "d9f457ce-9dc8-4e08-b378-bff686585e31",
   "metadata": {},
   "outputs": [],
   "source": []
  }
 ],
 "metadata": {
  "kernelspec": {
   "display_name": "Python 3 (ipykernel)",
   "language": "python",
   "name": "python3"
  },
  "language_info": {
   "codemirror_mode": {
    "name": "ipython",
    "version": 3
   },
   "file_extension": ".py",
   "mimetype": "text/x-python",
   "name": "python",
   "nbconvert_exporter": "python",
   "pygments_lexer": "ipython3",
   "version": "3.12.4"
  }
 },
 "nbformat": 4,
 "nbformat_minor": 5
}
