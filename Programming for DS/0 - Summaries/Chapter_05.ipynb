{
 "cells": [
  {
   "cell_type": "markdown",
   "id": "ba53234d-8dc8-456d-8f22-d05cebf7b196",
   "metadata": {},
   "source": [
    "# Programming for Data Science Summary\n",
    "## Chapter 05 - Data Wrangling with Pandas\n"
   ]
  },
  {
   "cell_type": "code",
   "execution_count": 2,
   "id": "fb82121b-af32-4d17-acc8-db3cf6cc94fd",
   "metadata": {},
   "outputs": [
    {
     "name": "stdout",
     "output_type": "stream",
     "text": [
      "> Pandas Version: 2.2.2\n"
     ]
    }
   ],
   "source": [
    "import pandas as pd\n",
    "import numpy as np\n",
    "print(\"> Pandas Version:\",pd.__version__)\n",
    "\n",
    "df_wide = pd.read_excel('./countries.xlsx')\n",
    "\n",
    "df = df_wide.copy()\n",
    "\n",
    "netflix = pd.read_csv(\"netflix_dataset.csv\")\n",
    "df_explosive = df4 = pd.DataFrame(netflix[netflix.Country=='Canada'].groupby('Subscription Type')['Monthly Revenue'].apply(list))"
   ]
  },
  {
   "cell_type": "markdown",
   "id": "c36aa915-e12b-4273-95e5-4e90b88f8193",
   "metadata": {},
   "source": [
    "### Transformation from long to wide (and viceversa)"
   ]
  },
  {
   "cell_type": "markdown",
   "id": "a1bd97fa-5825-429c-9b7c-fd59797cc1eb",
   "metadata": {},
   "source": [
    "**GOAL.** To see ways to perform the transformation ${df}_\\text{long} \\leftrightarrow {df}_\\text{wide}$"
   ]
  },
  {
   "cell_type": "markdown",
   "id": "e35b2834-7917-4c5b-97ee-074204ca704f",
   "metadata": {},
   "source": [
    "| Wide format | Long format |\n",
    "| ----- | ----- |\n",
    "| Columns per attribute | Column for subject, attribute and values |\n",
    "| Rows per subject | Rows per subject-attribute |\n",
    "| No repeated subjects but possible missing values | Repeated subjects but no missing values |\n",
    "| <img src=\"https://preview.redd.it/reshaping-table-w-tens-of-millions-of-rows-from-long-to-wide-v0-qlpweqqts66a1.png?width=1334&format=png&auto=webp&s=9d7ccfef49690095f13afa0fb45cebbccc091cd1\" width=400> | <img src=\"https://preview.redd.it/reshaping-table-w-tens-of-millions-of-rows-from-long-to-wide-v0-ijzw95ios66a1.png?width=1316&format=png&auto=webp&s=8aa3be9405c66da96e896a7fe6863564a673ebe2\" width=450> |"
   ]
  },
  {
   "cell_type": "code",
   "execution_count": 24,
   "id": "935b1894-b873-4bea-b81c-aeac9455ad1d",
   "metadata": {},
   "outputs": [],
   "source": [
    "# Standard functions\n",
    "pd.wide_to_long(\n",
    "    df_wide, # Data\n",
    "    i = \"country\", # Fixed column\n",
    "    stubnames=[\"pop\"], # Define a stubname for our secondary index\n",
    "    j=\"year\" # Define suffix for the stubname\n",
    ") # Selects a fixed column to set as index, and searches for other columns to set as a \"secondary index\" following a pattern.\n",
    "#   The rest of columns are left intact.\n",
    "\n",
    "display()"
   ]
  },
  {
   "cell_type": "code",
   "execution_count": 19,
   "id": "eb9572e0-85a9-497b-be57-ae69c1527e20",
   "metadata": {},
   "outputs": [],
   "source": [
    "# Melting and unmelting\n",
    "df_melted = pd.melt(\n",
    "    df_wide, # Data target\n",
    "    id_vars = ['country'], # Fixed column\n",
    "    value_vars=['pop1980','pop2000','pop2010','pop2022','pop2023','pop2030','pop2050'], # Columns to melt\n",
    "    var_name = \"Country\", # Name of the fixed column\n",
    ") # Melts our data into a long DataFrame, by admitting a fixed column as our \"index\" and \"melting\" the rest as \"values\"\n",
    "\n",
    "x = pd.pivot(\n",
    "    df_melted, # Typically should be a melted DF in order to use this method in this way\n",
    "    index = 'country', # Index column\n",
    "    columns = 'Country' # Value coumn\n",
    ") # Reverts a melted DataFrame by expanding the melted values\n",
    "\n",
    "display()"
   ]
  },
  {
   "cell_type": "code",
   "execution_count": 4,
   "id": "1e0eb022-d181-45c4-9764-911eef0ae780",
   "metadata": {},
   "outputs": [],
   "source": [
    "# Stacking and Unstacking\n",
    "df_wide.stack(level=-1) # Stacks the value_vars into one single column, beginning from the defined level.\n",
    "\n",
    "df_stacked = df_wide.stack() # Get a stacked Dataframe\n",
    "df_stacked.unstack(level=-1) # Unstack dataframe, beginning from a defined level.\n",
    "\n",
    "display()"
   ]
  },
  {
   "cell_type": "code",
   "execution_count": 5,
   "id": "ffe6d45a-ceab-4aa6-a18e-7d751638f520",
   "metadata": {},
   "outputs": [],
   "source": [
    "# Exploding\n",
    "df_explosive.explode('Monthly Revenue') # Explodes the array inputs into a long format by repeating the rows\n",
    "\n",
    "display()"
   ]
  },
  {
   "cell_type": "markdown",
   "id": "4be67ea9-7206-4d92-91a9-f66efa887dc9",
   "metadata": {},
   "source": [
    "### Beautifying DataFrames\n",
    "Make DataFrames simpler to visualize (instead of using other visualization tools) to gain insights"
   ]
  },
  {
   "cell_type": "code",
   "execution_count": 6,
   "id": "ab032bc4-bcc7-49a7-996d-7a0797337c42",
   "metadata": {},
   "outputs": [],
   "source": [
    "# Map Applier\n",
    "\n",
    "def mapper(value):\n",
    "    color = '#FFFF00' # Some color in HEX code to be determined depending on the conditions\n",
    "    return f'color: {color}' # Apply color CSS\n",
    "\n",
    "df.style.map(mapper) # Given a mapper, maps the text-data into a certain color, following the mapper logic.\n",
    " \n",
    "display()"
   ]
  },
  {
   "cell_type": "code",
   "execution_count": 7,
   "id": "4015178c-bd31-4a24-93e1-45182605c026",
   "metadata": {},
   "outputs": [],
   "source": [
    "# Highlighter\n",
    "df_num = df.select_dtypes(exclude='O')\n",
    "\n",
    "df_num.style.highlight_max(color = 'lightgreen') # Highlight maximum for every column\n",
    "df_num.style.highlight_min(color = 'red') # Same but with minimum\n",
    "df_num.style.highlight_null(color = 'black') # Same but with NaN values\n",
    "df_num.style.highlight_between(left=1, right=5, color = 'blue') # Same but with an interval\n",
    "\n",
    "# OSS: To select only certain columns to do this operation on, you can specify the optional argument subset=[...]\n",
    "\n",
    "display()"
   ]
  },
  {
   "cell_type": "code",
   "execution_count": 8,
   "id": "5022c7a4-bb71-47a5-893d-4cec37853951",
   "metadata": {},
   "outputs": [],
   "source": [
    "# Bar\n",
    "df_num.style.bar(\n",
    "    align = \"mean\", # Specify the criterion that the bar follows\n",
    "    color = ['#FF00FF', '#0000FF'] # Select colours\n",
    ") # Decorates every datapoint with a bar\n",
    "\n",
    "display()"
   ]
  }
 ],
 "metadata": {
  "kernelspec": {
   "display_name": "Python 3 (ipykernel)",
   "language": "python",
   "name": "python3"
  },
  "language_info": {
   "codemirror_mode": {
    "name": "ipython",
    "version": 3
   },
   "file_extension": ".py",
   "mimetype": "text/x-python",
   "name": "python",
   "nbconvert_exporter": "python",
   "pygments_lexer": "ipython3",
   "version": "3.12.4"
  }
 },
 "nbformat": 4,
 "nbformat_minor": 5
}
