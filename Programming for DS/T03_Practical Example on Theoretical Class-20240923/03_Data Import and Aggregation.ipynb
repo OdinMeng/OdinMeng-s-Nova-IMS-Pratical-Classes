{
 "cells": [
  {
   "cell_type": "markdown",
   "id": "15f6430c",
   "metadata": {},
   "source": [
    "<img src=\"Images\\Intro2.png\" width=800/>\n",
    "\n",
    "#### <font color='#F1C716'>TABLE OF CONTENTS</font>\n",
    "\n",
    "[1. Import Data](#Topic1)<br>\n",
    "[2. Combine Data](#Topic2)<br>\n",
    "[3. Export Data](#Topic3)<br>\n"
   ]
  },
  {
   "cell_type": "code",
   "execution_count": null,
   "id": "af338a5d",
   "metadata": {},
   "outputs": [],
   "source": [
    "import pandas as pd"
   ]
  },
  {
   "cell_type": "markdown",
   "id": "38af158c",
   "metadata": {},
   "source": [
    "In this example, we are going to import data from zomato. The company provided us with three files:\n",
    "- a csv file named as `basic_info.csv`, where basic information about the restaurant can be found, namely:\n",
    "\n",
    "| Variable | Description |\n",
    "|:--------:|:--------:|\n",
    "|  ID   |   Unique id of every restaurant|\n",
    "|  name   |  Name of the restaurant   |\n",
    "|  location   |  Location of the restaurant   |\n",
    "|  rest_type   |  Micro characterization of the restaurant   |\n",
    "|  type   |  Macro characterization of the restaurant   |\n",
    "\n",
    "- an excel file named as `addit_info.xlsx`, where additional information is provided:\n",
    "\n",
    "| Variable | Description |\n",
    "|:--------:|:--------:|\n",
    "|  ID   |   Unique id of every restaurant|\n",
    "|  approx_cost   |  The average cost for two people   |\n",
    "|  online_order   |  Answer to the question: 'Has online order?'   |\n",
    "|  book_table   |  Answer to the question: 'Has table booking?'   |\n",
    "\n",
    "- a json file named as `rating.json`, where rating information is added:\n",
    "\n",
    "| Variable | Description |\n",
    "|:--------:|:--------:|\n",
    "|  ID   |   Unique id of every restaurant|\n",
    "|  rating   |  Average rating out of 5   |\n",
    "|  votes   |  Number of ratings casted by people   |"
   ]
  },
  {
   "cell_type": "markdown",
   "id": "170b2ed7",
   "metadata": {},
   "source": [
    "The goal today is to import all the data, combine them and save it to a csv file."
   ]
  },
  {
   "cell_type": "markdown",
   "id": "ba228870",
   "metadata": {},
   "source": [
    "<a id=\"Topic1\"></a>\n",
    "\n",
    "<div class=\"alert alert-block alert-success\">\n",
    "    \n",
    "# 1. Import Data\n",
    "    \n",
    "</div>"
   ]
  },
  {
   "cell_type": "markdown",
   "id": "1e82e38a",
   "metadata": {},
   "source": [
    "<div class=\"alert alert-block alert-info\">\n",
    "\n",
    "## 1.1. Import CSV Files\n",
    "\n",
    "</div>"
   ]
  },
  {
   "cell_type": "markdown",
   "id": "7d06ea75",
   "metadata": {},
   "source": [
    "__`Step 01`__ Import the file `basic_info.csv` using the pandas function `read_csv()` and save it as `basic_info`."
   ]
  },
  {
   "cell_type": "code",
   "execution_count": null,
   "id": "7fa23b35",
   "metadata": {
    "scrolled": true
   },
   "outputs": [],
   "source": [
    "basic_info = pd.read_csv(r'Data\\basic_info.csv')\n",
    "basic_info"
   ]
  },
  {
   "cell_type": "markdown",
   "id": "1031e400",
   "metadata": {},
   "source": [
    "__What is happening?__ <br>\n",
    "While usually csv files are separated with commas (','), and this is the default import, sometimes we can have csv files delimited with other characters, such as tabs ('\\t'), semi-colon (';'), vertical bars ('|'), among others.\n",
    "\n",
    "__`Step 02`__ This time, import the file `basic_info.csv` using the pandas function `read_csv()` and save it as `basic`, but define the delimeter as '\\t', with `sep = '\\t'`."
   ]
  },
  {
   "cell_type": "code",
   "execution_count": null,
   "id": "717d7995",
   "metadata": {
    "scrolled": true
   },
   "outputs": [],
   "source": [
    "basic = pd.read_csv(r'Data\\basic_info.csv', sep = '\\t')\n",
    "basic"
   ]
  },
  {
   "cell_type": "markdown",
   "id": "f680df0f",
   "metadata": {},
   "source": [
    "<div class=\"alert alert-block alert-info\">\n",
    "\n",
    "## 1.2. Import Excel Files\n",
    "\n",
    "</div>"
   ]
  },
  {
   "cell_type": "markdown",
   "id": "17dfe93a",
   "metadata": {},
   "source": [
    "__`Step 03`__ Import the file `additional_info.excel` using the pandas function `read_excel()` and save it as `add`."
   ]
  },
  {
   "cell_type": "code",
   "execution_count": null,
   "id": "e36a79a6",
   "metadata": {
    "scrolled": true
   },
   "outputs": [],
   "source": [
    "add = pd.read_excel(r'Data\\additional_info.xlsx')\n",
    "add"
   ]
  },
  {
   "cell_type": "markdown",
   "id": "1df3fe8f",
   "metadata": {},
   "source": [
    "__What is happening?__ <br>\n",
    "While in the information provided, we should have information about the approximate cost, and the answer to the questions 'Has online order?' and 'Has table booking?', we are just import the approximate cost. <br>\n",
    "\n",
    "__Why?__<br>\n",
    "Do not forget that excel files can have more than one sheet. By default, if you don't specify the sheet, you are going to import just the first one.\n",
    "\n",
    "__`Step 04`__ This time, import the file `additional_info.excel` using the pandas function `read_excel()` and save it as `cost`."
   ]
  },
  {
   "cell_type": "code",
   "execution_count": null,
   "id": "a22e6985",
   "metadata": {},
   "outputs": [],
   "source": [
    "cost = pd.read_excel(r'Data\\additional_info.xlsx')"
   ]
  },
  {
   "cell_type": "markdown",
   "id": "46e98f32",
   "metadata": {},
   "source": [
    "__`Step 05`__ Import now the second sheet on the excel named as `Online`and save it as `online`."
   ]
  },
  {
   "cell_type": "code",
   "execution_count": null,
   "id": "03430c4b",
   "metadata": {
    "scrolled": true
   },
   "outputs": [],
   "source": [
    "online = pd.read_excel(r'Data\\additional_info.xlsx', sheet_name = 'Online')\n",
    "online"
   ]
  },
  {
   "cell_type": "markdown",
   "id": "c12c3227",
   "metadata": {},
   "source": [
    "<div class=\"alert alert-block alert-info\">\n",
    "\n",
    "## 1.3. Import JSON Files\n",
    "\n",
    "</div>"
   ]
  },
  {
   "cell_type": "markdown",
   "id": "4a9dc3a0",
   "metadata": {},
   "source": [
    "__`Step 06`__ Import the json file `rating.json` and save it as `rating`."
   ]
  },
  {
   "cell_type": "code",
   "execution_count": null,
   "id": "3fef237a",
   "metadata": {
    "scrolled": true
   },
   "outputs": [],
   "source": [
    "rating = pd.read_json('rating.json')\n",
    "rating"
   ]
  },
  {
   "cell_type": "markdown",
   "id": "54277e2b",
   "metadata": {},
   "source": [
    "__What is happening?__ <br>\n",
    "Json files can be stored in many ways, and Pandas allows to read json files with different formats. You can define the right format using the parameter `orient`. Here are some possible formats that you can upload automatically with Pandas:\n",
    "\n",
    "| Orient | Description |\n",
    "|:--------:|:--------:|\n",
    "|  split   |dictionary like {index -> [index], columns -> [columns], data -> [values]}|\n",
    "|  records   |list like [{column -> value}, ... , {column -> value}]|\n",
    "|  index   |dictionary like {index -> {column -> value}}|\n",
    "|  table   |dictionary like {‘schema’: {schema}, ‘data’: {data}}|\n"
   ]
  },
  {
   "cell_type": "markdown",
   "id": "7458863e",
   "metadata": {},
   "source": [
    "__`Step 07`__ Import again the json file `rating.json` and save it as `rating`, but this time define `orient = table`."
   ]
  },
  {
   "cell_type": "code",
   "execution_count": null,
   "id": "9af352a6",
   "metadata": {
    "scrolled": true
   },
   "outputs": [],
   "source": [
    "rating = pd.read_json(r'Data\\rating.json', orient = 'table')\n",
    "rating"
   ]
  },
  {
   "cell_type": "markdown",
   "id": "bcb92abb",
   "metadata": {},
   "source": [
    "<a id=\"Topic2\"></a>\n",
    "\n",
    "<div class=\"alert alert-block alert-success\">\n",
    "    \n",
    "# 2. Combine Data\n",
    "    \n",
    "</div>\n",
    "\n",
    "Now that we have imported all our data, it is time to combine them in a way to get just one single DataFrame."
   ]
  },
  {
   "cell_type": "markdown",
   "id": "2314186f",
   "metadata": {},
   "source": [
    "<div class=\"alert alert-block alert-info\">\n",
    "\n",
    "## 2.1. Join\n",
    "\n",
    "</div>"
   ]
  },
  {
   "cell_type": "markdown",
   "id": "e114531c",
   "metadata": {},
   "source": [
    "We can use the join method to combine DataFrames based on their indexes."
   ]
  },
  {
   "cell_type": "markdown",
   "id": "2f101b6e",
   "metadata": {},
   "source": [
    "__`Step 08`__ Join the DataFrame `basic`with `cost` and save in a new dataframe called `df`."
   ]
  },
  {
   "cell_type": "code",
   "execution_count": null,
   "id": "71266bb3",
   "metadata": {},
   "outputs": [],
   "source": [
    "df = basic.join(cost, lsuffix='_df1', rsuffix='_df2')"
   ]
  },
  {
   "cell_type": "code",
   "execution_count": null,
   "id": "e90e2501",
   "metadata": {
    "scrolled": true
   },
   "outputs": [],
   "source": [
    "df"
   ]
  },
  {
   "cell_type": "markdown",
   "id": "faf09935",
   "metadata": {},
   "source": [
    "<div class=\"alert alert-block alert-info\">\n",
    "\n",
    "## 2.2. Merge\n",
    "\n",
    "</div>"
   ]
  },
  {
   "cell_type": "markdown",
   "id": "efa5827e",
   "metadata": {},
   "source": [
    "__`Step 09`__ Merge the DataFrame `df`with `online` and save in a new dataframe called `df2`."
   ]
  },
  {
   "cell_type": "code",
   "execution_count": null,
   "id": "efdde111",
   "metadata": {
    "scrolled": true
   },
   "outputs": [],
   "source": [
    "df"
   ]
  },
  {
   "cell_type": "code",
   "execution_count": null,
   "id": "15f8fdab",
   "metadata": {
    "scrolled": true
   },
   "outputs": [],
   "source": [
    "df2 = df.merge(online, left_on = 'ID_df1', right_on='ID', how = 'inner')\n",
    "df2"
   ]
  },
  {
   "cell_type": "markdown",
   "id": "7680eafe",
   "metadata": {},
   "source": [
    "<div class=\"alert alert-block alert-info\">\n",
    "\n",
    "## 2.3. Concatenate\n",
    "\n",
    "</div>"
   ]
  },
  {
   "cell_type": "markdown",
   "id": "3d0e9b1d",
   "metadata": {},
   "source": [
    "__`Step 10`__ Concatenate the DataFrame \"rating\" to our df2 and name it as `final`."
   ]
  },
  {
   "cell_type": "code",
   "execution_count": null,
   "id": "4cf4eee8",
   "metadata": {
    "scrolled": true
   },
   "outputs": [],
   "source": [
    "final = pd.concat((df2, rating), axis = 1)\n",
    "final"
   ]
  },
  {
   "cell_type": "markdown",
   "id": "8651b396",
   "metadata": {},
   "source": [
    "Due to our agreggations, it seems that we have several columns with similar contents, namely the \"IDs\". Before going further, let's drop those unneded columns like we saw in the previous week.\n",
    "\n",
    "__`Step 11`__ Let's check first the name of our columns."
   ]
  },
  {
   "cell_type": "code",
   "execution_count": null,
   "id": "92772212",
   "metadata": {},
   "outputs": [],
   "source": [
    "final.columns"
   ]
  },
  {
   "cell_type": "markdown",
   "id": "18ae0f4f",
   "metadata": {},
   "source": [
    "__`Step 12`__ Remove all the columns related to ID, except the first column, `ID_df1`."
   ]
  },
  {
   "cell_type": "code",
   "execution_count": null,
   "id": "5e0502a1",
   "metadata": {},
   "outputs": [],
   "source": [
    "final.drop(['ID_df2','ID'], axis = 1, inplace = True)\n",
    "final.columns"
   ]
  },
  {
   "cell_type": "markdown",
   "id": "4b6db2d7",
   "metadata": {},
   "source": [
    "__`Step 13`__ Define the column `ID_df1` as the index of our DataFrame."
   ]
  },
  {
   "cell_type": "code",
   "execution_count": null,
   "id": "387866bc",
   "metadata": {},
   "outputs": [],
   "source": [
    "final.set_index('ID_df1', inplace = True)"
   ]
  },
  {
   "cell_type": "markdown",
   "id": "0a1f7a0f",
   "metadata": {},
   "source": [
    "<div class=\"alert alert-block alert-info\">\n",
    "\n",
    "## 2.4. Append\n",
    "\n",
    "</div>"
   ]
  },
  {
   "cell_type": "code",
   "execution_count": null,
   "id": "7f55a903",
   "metadata": {},
   "outputs": [],
   "source": [
    "final.head(1)"
   ]
  },
  {
   "cell_type": "markdown",
   "id": "b0f36093",
   "metadata": {},
   "source": [
    "__`Step 14`__ We have a new restaurant to upload in our list! Append it to your `final` DataFrame."
   ]
  },
  {
   "cell_type": "code",
   "execution_count": null,
   "id": "9c175559",
   "metadata": {},
   "outputs": [],
   "source": [
    "new = {\n",
    "  'name': ['O Bitoque'],\n",
    "  'location': ['Banashankari'],\n",
    "  'rest_type': ['Casual Dining'],\n",
    "  'type': ['Buffet'],\n",
    "  'approx_cost': [900],\n",
    "  'online_order': ['Yes'],\n",
    "  'book_table': ['Yes'],\n",
    "  'rating': [4.7],\n",
    "  'votes': [12] \n",
    "}"
   ]
  },
  {
   "cell_type": "code",
   "execution_count": null,
   "id": "7f38e599",
   "metadata": {},
   "outputs": [],
   "source": [
    "new = pd.DataFrame(new)\n",
    "new"
   ]
  },
  {
   "cell_type": "code",
   "execution_count": null,
   "id": "3b0456d4",
   "metadata": {
    "scrolled": true
   },
   "outputs": [],
   "source": [
    "#final = final.append(new, ignore_index = True) # older versions\n",
    "final = pd.concat((final, new), ignore_index=True)\n",
    "final"
   ]
  },
  {
   "cell_type": "markdown",
   "id": "a735ff3d",
   "metadata": {},
   "source": [
    "<a id=\"Topic3\"></a>\n",
    "\n",
    "<div class=\"alert alert-block alert-success\">\n",
    "    \n",
    "# 3. Export Data\n",
    "    \n",
    "</div>"
   ]
  },
  {
   "cell_type": "markdown",
   "id": "35966d3f",
   "metadata": {},
   "source": [
    "__`Step 15`__ Export the final dataframe to a csv file named as `final_zomato.csv`."
   ]
  },
  {
   "cell_type": "code",
   "execution_count": null,
   "id": "ca9e59d0",
   "metadata": {},
   "outputs": [],
   "source": [
    "final.to_csv('final_zomato.csv')"
   ]
  }
 ],
 "metadata": {
  "kernelspec": {
   "display_name": "Python 3 (ipykernel)",
   "language": "python",
   "name": "python3"
  },
  "language_info": {
   "codemirror_mode": {
    "name": "ipython",
    "version": 3
   },
   "file_extension": ".py",
   "mimetype": "text/x-python",
   "name": "python",
   "nbconvert_exporter": "python",
   "pygments_lexer": "ipython3",
   "version": "3.11.7"
  }
 },
 "nbformat": 4,
 "nbformat_minor": 5
}
