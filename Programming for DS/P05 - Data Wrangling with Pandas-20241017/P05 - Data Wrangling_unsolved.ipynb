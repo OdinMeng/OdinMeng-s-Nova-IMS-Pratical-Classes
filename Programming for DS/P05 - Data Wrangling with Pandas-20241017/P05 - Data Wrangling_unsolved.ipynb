{
 "cells": [
  {
   "cell_type": "markdown",
   "id": "f3ad4357",
   "metadata": {},
   "source": [
    "<b><font size=\"5\">Data Wrangling with Pandas. </font></b>\n",
    "<br><br>\n",
    "This notebook is an introduction to Pandas library. Feel free to complement your knowledge with online documentation:<br>\n",
    "https://pandas.pydata.org/pandas-docs/stable/user_guide/index.html"
   ]
  },
  {
   "cell_type": "markdown",
   "id": "50b8a081",
   "metadata": {},
   "source": [
    "### <font color='#BFD72F'>Table of Contents </font> <a class=\"anchor\" id='toc'></a> \n",
    "\n",
    "- [1. Wide VS Long](#P1) \n",
    "- [2. Transpose](#P2) \n",
    "- [3. Wide to Long](#P3)\n",
    "    - [Melt](#P3.1)\n",
    "    - [Wide to long](#P3.2)\n",
    "    - [Stack](#P3.3)\n",
    "- [4. Long to Wide](#P4)\n",
    "    - [Pivot](#P4.1)\n",
    "    - [Pivot table](#P4.2)\n",
    "    - [Unstack](#P4.3)\n",
    "- [5. Transform list columns](#P5)  \n",
    "- [6. Try it out](#P6)"
   ]
  },
  {
   "cell_type": "markdown",
   "id": "247efff4",
   "metadata": {},
   "source": [
    "### <font color='#BFD72F'>1. Wide VS Long </font> <a class=\"anchor\" id=\"P1\"></a>\n",
    "  [Back to TOC](#toc)"
   ]
  },
  {
   "cell_type": "markdown",
   "id": "372db42d",
   "metadata": {},
   "source": [
    "| Wide format | Long format |\n",
    "| ----- | ----- |\n",
    "| Columns per attribute | Column for subject, attribute and values |\n",
    "| Rows per subject | Rows per subject-attribute |\n",
    "| No repeated subjects but possible missing values | Repeated subjects but no missing values |\n",
    "| <img src=\"https://preview.redd.it/reshaping-table-w-tens-of-millions-of-rows-from-long-to-wide-v0-qlpweqqts66a1.png?width=1334&format=png&auto=webp&s=9d7ccfef49690095f13afa0fb45cebbccc091cd1\" width=400> | <img src=\"https://preview.redd.it/reshaping-table-w-tens-of-millions-of-rows-from-long-to-wide-v0-ijzw95ios66a1.png?width=1316&format=png&auto=webp&s=8aa3be9405c66da96e896a7fe6863564a673ebe2\" width=450> |"
   ]
  },
  {
   "cell_type": "markdown",
   "id": "087073c7",
   "metadata": {},
   "source": [
    "### <font color='#BFD72F'>2. Transpose </font> <a class=\"anchor\" id=\"P2\"></a>\n",
    "  [Back to TOC](#toc)"
   ]
  },
  {
   "cell_type": "code",
   "execution_count": 3,
   "id": "9d189b4b",
   "metadata": {},
   "outputs": [],
   "source": [
    "# Import libraries and define the alias\n",
    "import pandas as pd\n",
    "import numpy as np"
   ]
  },
  {
   "cell_type": "code",
   "execution_count": 1,
   "id": "e83af0c8",
   "metadata": {},
   "outputs": [
    {
     "name": "stdout",
     "output_type": "stream",
     "text": [
      "Name: pandas\n",
      "Version: 2.2.2\n",
      "Summary: Powerful data structures for data analysis, time series, and statistics\n",
      "Home-page: https://pandas.pydata.org\n",
      "Author: \n",
      "Author-email: The Pandas Development Team <pandas-dev@python.org>\n",
      "License: BSD 3-Clause License\n",
      "\n",
      "Copyright (c) 2008-2011, AQR Capital Management, LLC, Lambda Foundry, Inc. and PyData Development Team\n",
      "All rights reserved.\n",
      "\n",
      "Copyright (c) 2011-2023, Open source contributors.\n",
      "\n",
      "Redistribution and use in source and binary forms, with or without\n",
      "modification, are permitted provided that the following conditions are met:\n",
      "\n",
      "* Redistributions of source code must retain the above copyright notice, this\n",
      "  list of conditions and the following disclaimer.\n",
      "\n",
      "* Redistributions in binary form must reproduce the above copyright notice,\n",
      "  this list of conditions and the following disclaimer in the documentation\n",
      "  and/or other materials provided with the distribution.\n",
      "\n",
      "* Neither the name of the copyright holder nor the names of its\n",
      "  contributors may be used to endorse or promote products derived from\n",
      "  this software without specific prior written permission.\n",
      "\n",
      "THIS SOFTWARE IS PROVIDED BY THE COPYRIGHT HOLDERS AND CONTRIBUTORS \"AS IS\"\n",
      "AND ANY EXPRESS OR IMPLIED WARRANTIES, INCLUDING, BUT NOT LIMITED TO, THE\n",
      "IMPLIED WARRANTIES OF MERCHANTABILITY AND FITNESS FOR A PARTICULAR PURPOSE ARE\n",
      "DISCLAIMED. IN NO EVENT SHALL THE COPYRIGHT HOLDER OR CONTRIBUTORS BE LIABLE\n",
      "FOR ANY DIRECT, INDIRECT, INCIDENTAL, SPECIAL, EXEMPLARY, OR CONSEQUENTIAL\n",
      "DAMAGES (INCLUDING, BUT NOT LIMITED TO, PROCUREMENT OF SUBSTITUTE GOODS OR\n",
      "SERVICES; LOSS OF USE, DATA, OR PROFITS; OR BUSINESS INTERRUPTION) HOWEVER\n",
      "CAUSED AND ON ANY THEORY OF LIABILITY, WHETHER IN CONTRACT, STRICT LIABILITY,\n",
      "OR TORT (INCLUDING NEGLIGENCE OR OTHERWISE) ARISING IN ANY WAY OUT OF THE USE\n",
      "OF THIS SOFTWARE, EVEN IF ADVISED OF THE POSSIBILITY OF SUCH DAMAGE.\n",
      "Location: /opt/anaconda3/envs/PDS_env/lib/python3.12/site-packages\n",
      "Requires: numpy, python-dateutil, pytz, tzdata\n",
      "Required-by: geopandas, mapclassify, seaborn\n"
     ]
    }
   ],
   "source": [
    "# Confirm that you have Pandas updated\n",
    "!pip show pandas"
   ]
  },
  {
   "cell_type": "code",
   "execution_count": 4,
   "id": "76871842",
   "metadata": {},
   "outputs": [
    {
     "data": {
      "text/html": [
       "<div>\n",
       "<style scoped>\n",
       "    .dataframe tbody tr th:only-of-type {\n",
       "        vertical-align: middle;\n",
       "    }\n",
       "\n",
       "    .dataframe tbody tr th {\n",
       "        vertical-align: top;\n",
       "    }\n",
       "\n",
       "    .dataframe thead th {\n",
       "        text-align: right;\n",
       "    }\n",
       "</style>\n",
       "<table border=\"1\" class=\"dataframe\">\n",
       "  <thead>\n",
       "    <tr style=\"text-align: right;\">\n",
       "      <th></th>\n",
       "      <th>place</th>\n",
       "      <th>pop1980</th>\n",
       "      <th>pop2000</th>\n",
       "      <th>pop2010</th>\n",
       "      <th>pop2022</th>\n",
       "      <th>pop2023</th>\n",
       "      <th>pop2030</th>\n",
       "      <th>pop2050</th>\n",
       "      <th>country</th>\n",
       "      <th>area</th>\n",
       "      <th>landAreaKm</th>\n",
       "      <th>cca2</th>\n",
       "      <th>cca3</th>\n",
       "      <th>netChange</th>\n",
       "      <th>growthRate</th>\n",
       "      <th>worldPercentage</th>\n",
       "      <th>density</th>\n",
       "      <th>densityMi</th>\n",
       "      <th>rank</th>\n",
       "    </tr>\n",
       "  </thead>\n",
       "  <tbody>\n",
       "    <tr>\n",
       "      <th>0</th>\n",
       "      <td>356</td>\n",
       "      <td>696828385.0</td>\n",
       "      <td>1.059634e+09</td>\n",
       "      <td>1240613620</td>\n",
       "      <td>1.417173e+09</td>\n",
       "      <td>1.428628e+09</td>\n",
       "      <td>1.514994e+09</td>\n",
       "      <td>1.670491e+09</td>\n",
       "      <td>India</td>\n",
       "      <td>3287590.0</td>\n",
       "      <td>2973190.0</td>\n",
       "      <td>IN</td>\n",
       "      <td>IND</td>\n",
       "      <td>0.4184</td>\n",
       "      <td>0.0081</td>\n",
       "      <td>0.1785</td>\n",
       "      <td>480.5033</td>\n",
       "      <td>1244.5036</td>\n",
       "      <td>1</td>\n",
       "    </tr>\n",
       "    <tr>\n",
       "      <th>1</th>\n",
       "      <td>156</td>\n",
       "      <td>982372466.0</td>\n",
       "      <td>1.264099e+09</td>\n",
       "      <td>1348191368</td>\n",
       "      <td>1.425887e+09</td>\n",
       "      <td>1.425671e+09</td>\n",
       "      <td>1.415606e+09</td>\n",
       "      <td>1.312636e+09</td>\n",
       "      <td>China</td>\n",
       "      <td>9706961.0</td>\n",
       "      <td>9424702.9</td>\n",
       "      <td>CN</td>\n",
       "      <td>CHN</td>\n",
       "      <td>-0.0113</td>\n",
       "      <td>-0.0002</td>\n",
       "      <td>0.1781</td>\n",
       "      <td>151.2696</td>\n",
       "      <td>391.7884</td>\n",
       "      <td>2</td>\n",
       "    </tr>\n",
       "    <tr>\n",
       "      <th>2</th>\n",
       "      <td>840</td>\n",
       "      <td>223140018.0</td>\n",
       "      <td>2.823986e+08</td>\n",
       "      <td>311182845</td>\n",
       "      <td>3.382899e+08</td>\n",
       "      <td>3.399966e+08</td>\n",
       "      <td>3.521623e+08</td>\n",
       "      <td>3.753920e+08</td>\n",
       "      <td>United States</td>\n",
       "      <td>9372610.0</td>\n",
       "      <td>9147420.0</td>\n",
       "      <td>US</td>\n",
       "      <td>USA</td>\n",
       "      <td>0.0581</td>\n",
       "      <td>0.0050</td>\n",
       "      <td>0.0425</td>\n",
       "      <td>37.1686</td>\n",
       "      <td>96.2666</td>\n",
       "      <td>3</td>\n",
       "    </tr>\n",
       "    <tr>\n",
       "      <th>3</th>\n",
       "      <td>360</td>\n",
       "      <td>148177096.0</td>\n",
       "      <td>2.140724e+08</td>\n",
       "      <td>244016173</td>\n",
       "      <td>2.755013e+08</td>\n",
       "      <td>2.775341e+08</td>\n",
       "      <td>2.921501e+08</td>\n",
       "      <td>3.172252e+08</td>\n",
       "      <td>Indonesia</td>\n",
       "      <td>1904569.0</td>\n",
       "      <td>1877519.0</td>\n",
       "      <td>ID</td>\n",
       "      <td>IDN</td>\n",
       "      <td>0.0727</td>\n",
       "      <td>0.0074</td>\n",
       "      <td>0.0347</td>\n",
       "      <td>147.8196</td>\n",
       "      <td>382.8528</td>\n",
       "      <td>4</td>\n",
       "    </tr>\n",
       "    <tr>\n",
       "      <th>4</th>\n",
       "      <td>586</td>\n",
       "      <td>80624057.0</td>\n",
       "      <td>1.543699e+08</td>\n",
       "      <td>194454498</td>\n",
       "      <td>2.358249e+08</td>\n",
       "      <td>2.404857e+08</td>\n",
       "      <td>2.740298e+08</td>\n",
       "      <td>3.678085e+08</td>\n",
       "      <td>Pakistan</td>\n",
       "      <td>881912.0</td>\n",
       "      <td>770880.0</td>\n",
       "      <td>PK</td>\n",
       "      <td>PAK</td>\n",
       "      <td>0.1495</td>\n",
       "      <td>0.0198</td>\n",
       "      <td>0.0300</td>\n",
       "      <td>311.9625</td>\n",
       "      <td>807.9829</td>\n",
       "      <td>5</td>\n",
       "    </tr>\n",
       "  </tbody>\n",
       "</table>\n",
       "</div>"
      ],
      "text/plain": [
       "   place      pop1980       pop2000     pop2010       pop2022       pop2023  \\\n",
       "0    356  696828385.0  1.059634e+09  1240613620  1.417173e+09  1.428628e+09   \n",
       "1    156  982372466.0  1.264099e+09  1348191368  1.425887e+09  1.425671e+09   \n",
       "2    840  223140018.0  2.823986e+08   311182845  3.382899e+08  3.399966e+08   \n",
       "3    360  148177096.0  2.140724e+08   244016173  2.755013e+08  2.775341e+08   \n",
       "4    586   80624057.0  1.543699e+08   194454498  2.358249e+08  2.404857e+08   \n",
       "\n",
       "        pop2030       pop2050        country       area  landAreaKm cca2 cca3  \\\n",
       "0  1.514994e+09  1.670491e+09          India  3287590.0   2973190.0   IN  IND   \n",
       "1  1.415606e+09  1.312636e+09          China  9706961.0   9424702.9   CN  CHN   \n",
       "2  3.521623e+08  3.753920e+08  United States  9372610.0   9147420.0   US  USA   \n",
       "3  2.921501e+08  3.172252e+08      Indonesia  1904569.0   1877519.0   ID  IDN   \n",
       "4  2.740298e+08  3.678085e+08       Pakistan   881912.0    770880.0   PK  PAK   \n",
       "\n",
       "   netChange  growthRate  worldPercentage   density  densityMi  rank  \n",
       "0     0.4184      0.0081           0.1785  480.5033  1244.5036     1  \n",
       "1    -0.0113     -0.0002           0.1781  151.2696   391.7884     2  \n",
       "2     0.0581      0.0050           0.0425   37.1686    96.2666     3  \n",
       "3     0.0727      0.0074           0.0347  147.8196   382.8528     4  \n",
       "4     0.1495      0.0198           0.0300  311.9625   807.9829     5  "
      ]
     },
     "execution_count": 4,
     "metadata": {},
     "output_type": "execute_result"
    }
   ],
   "source": [
    "# Import datasets\n",
    "netflix = pd.read_csv('datasets_tp/netflix_dataset.csv')\n",
    "countries = pd.read_excel('datasets_tp/countries.xlsx') \n",
    "weather = pd.read_csv('datasets_tp/austin_weather.csv')\n",
    "countries.head()"
   ]
  },
  {
   "cell_type": "markdown",
   "id": "3ce36ec7",
   "metadata": {},
   "source": [
    "#### Transpose\n",
    "\n",
    "- Transpose index and columns.\n",
    "\n",
    "https://pandas.pydata.org/docs/reference/api/pandas.DataFrame.transpose.html <br>\n",
    "*DataFrame.transpose(args, copy=False)*\n",
    "<br><br>[Back to TOC](#toc)"
   ]
  },
  {
   "cell_type": "code",
   "execution_count": null,
   "id": "bb2cd93b",
   "metadata": {},
   "outputs": [],
   "source": [
    "# Prepare the dataset to try the transpose method\n",
    "df = countries.iloc[:20, 1:9].set_index('country')\n",
    "df"
   ]
  },
  {
   "cell_type": "code",
   "execution_count": null,
   "id": "1ad77ca9",
   "metadata": {},
   "outputs": [],
   "source": [
    "# Reshape the DataFrame switching index with columns...\n",
    " #code here"
   ]
  },
  {
   "cell_type": "code",
   "execution_count": null,
   "id": "034c188e",
   "metadata": {},
   "outputs": [],
   "source": [
    "# ...can also use with the acronym 'T'...\n",
    "df.T"
   ]
  },
  {
   "cell_type": "code",
   "execution_count": null,
   "id": "7ed288b6",
   "metadata": {},
   "outputs": [],
   "source": [
    "# As with other methods, can also cascade it\n",
    "df.T.T"
   ]
  },
  {
   "cell_type": "markdown",
   "id": "1b1de507",
   "metadata": {},
   "source": [
    "### <font color='#BFD72F'>3. Wide to Long </font> <a class=\"anchor\" id=\"P3\"></a>\n",
    "  [Back to TOC](#toc)"
   ]
  },
  {
   "cell_type": "markdown",
   "id": "d4166853",
   "metadata": {},
   "source": [
    "#### Melt <a class=\"anchor\" id=\"P3.1\"></a>\n",
    "\n",
    "- Reshape the DataFrame into a format where one or more columns are variables (id_vars) while all other columns are measured values (value_vars).\n",
    "Note: for each variable (defined in id_vars) we will get a row for each column and value (defined in value_vars).\n",
    "\n",
    "https://pandas.pydata.org/docs/reference/api/pandas.melt.html <br>\n",
    "*pandas.melt(frame, id_vars=None, value_vars=None, var_name=None, value_name='value', col_level=None, ignore_index=True)*"
   ]
  },
  {
   "cell_type": "code",
   "execution_count": null,
   "id": "c04616f8",
   "metadata": {},
   "outputs": [],
   "source": [
    "# Transforming countries from wide to long using population values...\n",
    "df0 = pd.melt(countries, id_vars=['country'], \n",
    "              value_vars=['pop1980','pop2000','pop2010','pop2022','pop2023','pop2030','pop2050'])\n",
    "df0"
   ]
  },
  {
   "cell_type": "code",
   "execution_count": null,
   "id": "f1b9ee56",
   "metadata": {},
   "outputs": [],
   "source": [
    "# As each country has unique information (besides the name) those could be considered in id_vars\n",
    "df1 = pd.melt(countries, id_vars=['country','area','density'], \n",
    "              value_vars=['pop1980','pop2000','pop2010','pop2022','pop2023','pop2030','pop2050'])\n",
    "df1"
   ]
  },
  {
   "cell_type": "code",
   "execution_count": null,
   "id": "fc66af35",
   "metadata": {},
   "outputs": [],
   "source": [
    "# Can also define the new columns name\n",
    " #code here"
   ]
  },
  {
   "cell_type": "markdown",
   "id": "70c35e7f",
   "metadata": {},
   "source": [
    "#### Wide to long <a class=\"anchor\" id=\"P3.2\"></a>\n",
    "\n",
    "- This function expects to find columns with format 'ColSuffix', where 'Col' is the stubnames and 'Suffix' is the j . <br>\n",
    "Note: The suffix argument is set (by deafult) to capture numeric suffixes, and the sep argument is '' (empty space).\n",
    "\n",
    "https://pandas.pydata.org/docs/reference/api/pandas.wide_to_long.html <br>\n",
    "*pandas.wide_to_long(df, stubnames, i, j, sep='', suffix='\\\\d+')*\n",
    "<br><br>[Back to TOC](#toc)"
   ]
  },
  {
   "cell_type": "code",
   "execution_count": null,
   "id": "9d15218e",
   "metadata": {},
   "outputs": [],
   "source": [
    "# Lets preview the data\n",
    "countries.iloc[:, 1:9]"
   ]
  },
  {
   "cell_type": "code",
   "execution_count": null,
   "id": "6257cb84",
   "metadata": {},
   "outputs": [],
   "source": [
    "# Reshape countries to obtain just the population for each country and year\n",
    " #code here"
   ]
  },
  {
   "cell_type": "code",
   "execution_count": null,
   "id": "6d4154e6",
   "metadata": {},
   "outputs": [],
   "source": [
    "# If we use all DataFrame columns the variables that aren't called by the function are left intact...\n",
    "pd.wide_to_long(countries, i='country', stubnames=['pop'], j='year')"
   ]
  },
  {
   "cell_type": "code",
   "execution_count": null,
   "id": "e5afddbc",
   "metadata": {},
   "outputs": [],
   "source": [
    "# ..but some can also move to 'i' variables\n",
    "pd.wide_to_long(countries, i=['country','rank'], stubnames=['pop'], j='year')"
   ]
  },
  {
   "cell_type": "code",
   "execution_count": null,
   "id": "6f9469c1",
   "metadata": {},
   "outputs": [],
   "source": [
    "# As with any argument, you can change the suffix...\n",
    "weather.head()"
   ]
  },
  {
   "cell_type": "code",
   "execution_count": null,
   "id": "513f8cc2",
   "metadata": {},
   "outputs": [],
   "source": [
    "# ...after 'Temp' and 'DewPoint' we want to get the 'HighF', 'AvgF' and LowF' (regex \\w+ to get the suffix word)\n",
    "df2 = pd.wide_to_long(weather.iloc[:10,:7], i='Date', stubnames=['Temp','DewPoint'], j='measure', suffix=r'\\w+')\n",
    "df2"
   ]
  },
  {
   "cell_type": "code",
   "execution_count": null,
   "id": "22eb0167",
   "metadata": {},
   "outputs": [],
   "source": [
    "# This function (pd.wide_to_long) always outputs a MultiIndex (i,j)\n",
    "df2.index"
   ]
  },
  {
   "cell_type": "markdown",
   "id": "476fc4f7",
   "metadata": {},
   "source": [
    "#### Stack <a class=\"anchor\" id=\"P3.3\"></a>\n",
    "\n",
    "- Stack the prescribed level(s) from columns to index.\n",
    "\n",
    "https://pandas.pydata.org/docs/reference/api/pandas.DataFrame.stack.html <br>\n",
    "*DataFrame.stack(level=-1, dropna=_NoDefault.no_default, sort=_NoDefault.no_default, future_stack=False)*\n",
    "<br><br>[Back to TOC](#toc)"
   ]
  },
  {
   "cell_type": "code",
   "execution_count": null,
   "id": "2f4926bc",
   "metadata": {},
   "outputs": [],
   "source": [
    "# Stack 'df' DataFrame (single index)\n",
    " #code here"
   ]
  },
  {
   "cell_type": "code",
   "execution_count": null,
   "id": "03d426ab",
   "metadata": {},
   "outputs": [],
   "source": [
    "# Considering a MultiIndex DataFrame...\n",
    "df3 = netflix.groupby(['Country', 'Subscription Type'])[['Monthly Revenue','Age']].agg(['min', 'mean', 'max'])\n",
    "df3.columns.names=['variable','measure']\n",
    "df3"
   ]
  },
  {
   "cell_type": "code",
   "execution_count": null,
   "id": "0e73bdc0",
   "metadata": {},
   "outputs": [],
   "source": [
    "# Note that we have MultiIndex in rows and columns\n",
    "print(df3.columns)\n",
    "print(df3.index)"
   ]
  },
  {
   "cell_type": "code",
   "execution_count": null,
   "id": "5a70bd5e",
   "metadata": {},
   "outputs": [],
   "source": [
    "# ...we can stack it with default arguments (level=-1, which will use the last column MultiIndex 'measure')...\n",
    "df3_stacked = df3.stack()\n",
    "df3_stacked"
   ]
  },
  {
   "cell_type": "code",
   "execution_count": null,
   "id": "70a010fd",
   "metadata": {},
   "outputs": [],
   "source": [
    "# ...but if we want to stack by the first column MultiIndex ('variable')\n",
    "df3.stack(level=0) # In this case is equal to level=-2"
   ]
  },
  {
   "cell_type": "code",
   "execution_count": null,
   "id": "e55243ff",
   "metadata": {},
   "outputs": [],
   "source": [
    "# As our column index have names...\n",
    "df3.columns.names"
   ]
  },
  {
   "cell_type": "code",
   "execution_count": null,
   "id": "0f05899f",
   "metadata": {},
   "outputs": [],
   "source": [
    "# ...we can use it to define the level argument (instead of positive/negative indexing)\n",
    "df3.stack(level='variable') # same output as df3.stack(level=0)"
   ]
  },
  {
   "cell_type": "markdown",
   "id": "3fec9a21",
   "metadata": {},
   "source": [
    "### <font color='#BFD72F'>4. Long to Wide </font> <a class=\"anchor\" id=\"P4\"></a>\n",
    "  [Back to TOC](#toc)"
   ]
  },
  {
   "cell_type": "markdown",
   "id": "ffef165f",
   "metadata": {},
   "source": [
    "#### Pivot <a class=\"anchor\" id=\"P4.1\"></a>\n",
    "\n",
    "- Reshape data based on column values.\n",
    "\n",
    "https://pandas.pydata.org/docs/reference/api/pandas.pivot.html <br>\n",
    "*pandas.pivot(data, columns, index=_NoDefault.no_default, values=_NoDefault.no_default)*"
   ]
  },
  {
   "cell_type": "code",
   "execution_count": null,
   "id": "51daf19e",
   "metadata": {},
   "outputs": [],
   "source": [
    "# Reverting the 'melted' DataFrames with pivot...\n",
    "df0"
   ]
  },
  {
   "cell_type": "code",
   "execution_count": null,
   "id": "a07611d8",
   "metadata": {},
   "outputs": [],
   "source": [
    "# ...we have, at least, to define the index and columns...\n",
    " #code here"
   ]
  },
  {
   "cell_type": "code",
   "execution_count": null,
   "id": "7a21610b",
   "metadata": {},
   "outputs": [],
   "source": [
    "#...but if the dataset has more columns than the one with value (area and density), we get many duplicates! So...\n",
    "display(df1)"
   ]
  },
  {
   "cell_type": "code",
   "execution_count": null,
   "id": "ce0b799e",
   "metadata": {},
   "outputs": [],
   "source": [
    "pd.pivot(df1, index='country', columns='variable')\n"
   ]
  },
  {
   "cell_type": "code",
   "execution_count": null,
   "id": "b477f285",
   "metadata": {},
   "outputs": [],
   "source": [
    "# ...we should define the argument values\n",
    "pd.pivot(df1, index='country', columns='variable', values='value')  # What about the other (lost) columns?..."
   ]
  },
  {
   "cell_type": "code",
   "execution_count": null,
   "id": "51f5cd2b",
   "metadata": {},
   "outputs": [],
   "source": [
    "# ...we can keep it in index, and then reset it to only keep 'country'\n",
    "pd.pivot(df1, index=['country','area','density'], columns='variable', values='value').reset_index(level=[1,2])"
   ]
  },
  {
   "cell_type": "markdown",
   "id": "16ae226f",
   "metadata": {},
   "source": [
    "#### Pivot table <a class=\"anchor\" id=\"P4.2\"></a>\n",
    "\n",
    "- Create a pivot table with aggregation of numeric data.\n",
    "\n",
    "https://pandas.pydata.org/docs/reference/api/pandas.pivot_table.html <br>\n",
    "*pandas.pivot_table(data, values=None, index=None, columns=None, aggfunc='mean', fill_value=None, margins=False, dropna=True, margins_name='All', observed=False, sort=True)*\n",
    "<br><br>[Back to TOC](#toc)"
   ]
  },
  {
   "cell_type": "code",
   "execution_count": null,
   "id": "5b474d2d",
   "metadata": {},
   "outputs": [],
   "source": [
    "display(weather)"
   ]
  },
  {
   "cell_type": "code",
   "execution_count": null,
   "id": "ff6eb5a8",
   "metadata": {},
   "outputs": [],
   "source": [
    "# Pivot weather DataFrame to get the average 'TempAvgF' by year (index) and month (column)\n",
    "pd.pivot_table(weather, index='Year', columns='Month', values='TempAvgF', aggfunc='mean')"
   ]
  },
  {
   "cell_type": "code",
   "execution_count": null,
   "id": "c77128be",
   "metadata": {},
   "outputs": [],
   "source": [
    "# Same example with extra arguments\n",
    "pd.pivot_table(weather, index='Year', columns='Month', values='TempAvgF', aggfunc='mean',\n",
    "               fill_value='UNK', margins=True, margins_name='Global Avg')"
   ]
  },
  {
   "cell_type": "code",
   "execution_count": null,
   "id": "b06919ad",
   "metadata": {},
   "outputs": [],
   "source": [
    "# Can also consider several values and aggregation functions\n",
    "pd.pivot_table(weather, index='Year', columns='Month', values=['TempLowF','TempAvgF','TempHighF'], \n",
    "               aggfunc={'TempLowF':'min', 'TempAvgF':'mean', 'TempHighF':'max'}).round(2)"
   ]
  },
  {
   "cell_type": "code",
   "execution_count": null,
   "id": "c3bf537d",
   "metadata": {},
   "outputs": [],
   "source": [
    "# Athough the focus is to transform from long to wide, in order to see the full output can consider to transpose it...\n",
    "pd.pivot_table(weather, index='Year', columns='Month', values=['TempLowF','TempAvgF','TempHighF'], \n",
    "               aggfunc={'TempLowF':'min', 'TempAvgF':'mean', 'TempHighF':'max'}).round(2).T"
   ]
  },
  {
   "cell_type": "code",
   "execution_count": null,
   "id": "49506f6f",
   "metadata": {},
   "outputs": [],
   "source": [
    "# ...or even use a different set of index and columns\n",
    "pd.pivot_table(weather, index=['Year','Month'], values=['TempLowF','TempAvgF','TempHighF'], \n",
    "               aggfunc={'TempLowF':'min', 'TempAvgF':'mean', 'TempHighF':'max'}).round(2)"
   ]
  },
  {
   "cell_type": "markdown",
   "id": "8b479dc7",
   "metadata": {},
   "source": [
    "#### Unstack <a class=\"anchor\" id=\"P4.3\"></a>\n",
    "\n",
    "- Revert the stacking, reshaping from index to columns.\n",
    "\n",
    "https://pandas.pydata.org/docs/reference/api/pandas.DataFrame.unstack.html <br>\n",
    "*DataFrame.unstack(level=-1, fill_value=None, sort=True)*\n",
    "<br><br>[Back to TOC](#toc)"
   ]
  },
  {
   "cell_type": "code",
   "execution_count": null,
   "id": "51d16a9d",
   "metadata": {},
   "outputs": [],
   "source": [
    "display(df3_stacked)"
   ]
  },
  {
   "cell_type": "code",
   "execution_count": null,
   "id": "59cca8de",
   "metadata": {},
   "outputs": [],
   "source": [
    "# Revert df3_stacked DataFrame\n",
    "df3_stacked.unstack() # In this case is equal to level=2"
   ]
  },
  {
   "cell_type": "code",
   "execution_count": null,
   "id": "406194fd",
   "metadata": {},
   "outputs": [],
   "source": [
    "# As in .stack() the level can be defined, this time to be applied to DataFrame (row) MultiIndex...\n",
    "df3_stacked.unstack(level=1) # In this case is applicable on Subscription Type"
   ]
  },
  {
   "cell_type": "code",
   "execution_count": null,
   "id": "3fa16aca",
   "metadata": {},
   "outputs": [],
   "source": [
    "# ...also possible using the name (try with 'country' which is equal to level=0)\n",
    " #code here"
   ]
  },
  {
   "cell_type": "markdown",
   "id": "3fb95e06",
   "metadata": {},
   "source": [
    "### <font color='#BFD72F'>5. Transform list columns </font> <a class=\"anchor\" id=\"P5\"></a>\n",
    "  [Back to TOC](#toc)"
   ]
  },
  {
   "cell_type": "markdown",
   "id": "421fc037",
   "metadata": {},
   "source": [
    "#### Explode\n",
    "\n",
    "- Transform each element of a list-like to a row.\n",
    "\n",
    "https://pandas.pydata.org/docs/reference/api/pandas.DataFrame.explode.html <br>\n",
    "*Series.explode(ignore_index=False)*"
   ]
  },
  {
   "cell_type": "code",
   "execution_count": null,
   "id": "9926dccb",
   "metadata": {},
   "outputs": [],
   "source": [
    "netflix.head()"
   ]
  },
  {
   "cell_type": "code",
   "execution_count": null,
   "id": "0455efcf",
   "metadata": {},
   "outputs": [],
   "source": [
    "# Considering a DataFrame with a column which has a list by row...\n",
    "df4 = pd.DataFrame(netflix[netflix.Country=='Canada'].groupby('Subscription Type')['Monthly Revenue'].apply(list))\n",
    "df4"
   ]
  },
  {
   "cell_type": "code",
   "execution_count": null,
   "id": "ac280cfc",
   "metadata": {},
   "outputs": [],
   "source": [
    "# ...can use explode() get a value by row\n",
    " #code here"
   ]
  },
  {
   "cell_type": "code",
   "execution_count": null,
   "id": "1c060290",
   "metadata": {},
   "outputs": [],
   "source": [
    "# Beware that previous values are sorted by Subscription and can't be directly applied to the original (unsorted) DataFrame...\n",
    "netflix.loc[netflix.Country=='Canada','Monthly Revenue']=df4.explode('Monthly Revenue').values # rewrite the 'Monthly Revenue'\n",
    "netflix[netflix.Country=='Canada'].head()\n",
    "# ... the first two rows get revenue=10, which is related to basic subscription, instead of revenue=15 of premium!"
   ]
  },
  {
   "cell_type": "markdown",
   "id": "655bcf22",
   "metadata": {},
   "source": [
    "### <font color='#BFD72F'>6. Try it out </font> <a class=\"anchor\" id=\"P6\"></a>\n",
    "  [Back to TOC](#toc)"
   ]
  },
  {
   "cell_type": "code",
   "execution_count": null,
   "id": "e8da2dcb",
   "metadata": {},
   "outputs": [],
   "source": [
    "# Melt the weather DataFrame to get each SeaLevelPressure by date. This should only be applied to January and February!\n",
    "# Label the variable column as \"SeaLevelPressure\"\n"
   ]
  },
  {
   "cell_type": "code",
   "execution_count": null,
   "id": "7f3fcd12",
   "metadata": {},
   "outputs": [],
   "source": [
    "# Revert the previous melted DataFrame using .pivot()\n"
   ]
  },
  {
   "cell_type": "markdown",
   "id": "2ca73f27",
   "metadata": {},
   "source": [
    "#### That's all for today and feel free to complement your knowledge with online documentation.\n",
    "*https://pandas.pydata.org/pandas-docs/stable/user_guide/index.html*"
   ]
  }
 ],
 "metadata": {
  "kernelspec": {
   "display_name": "Python 3 (ipykernel)",
   "language": "python",
   "name": "python3"
  },
  "language_info": {
   "codemirror_mode": {
    "name": "ipython",
    "version": 3
   },
   "file_extension": ".py",
   "mimetype": "text/x-python",
   "name": "python",
   "nbconvert_exporter": "python",
   "pygments_lexer": "ipython3",
   "version": "3.12.4"
  }
 },
 "nbformat": 4,
 "nbformat_minor": 5
}
