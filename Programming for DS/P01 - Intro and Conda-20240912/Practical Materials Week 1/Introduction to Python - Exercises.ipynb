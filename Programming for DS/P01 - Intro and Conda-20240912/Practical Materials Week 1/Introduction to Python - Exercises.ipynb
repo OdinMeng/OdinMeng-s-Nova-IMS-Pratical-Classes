{
 "cells": [
  {
   "cell_type": "markdown",
   "metadata": {},
   "source": [
    "<b><font size=\"6\">Introduction to Python - Exercises</font><a class=\"anchor\"><a id='toc'></a></b><br>\n"
   ]
  },
  {
   "cell_type": "markdown",
   "metadata": {},
   "source": [
    "# <font size = \"5\"><font color='#BFD72F'>Python - Exercises</font><a class=\"anchor\" id=\"python\"></a>\n",
    " [Back to TOC](#toc)<br>"
   ]
  },
  {
   "cell_type": "markdown",
   "metadata": {},
   "source": [
    " **Exercise 0:** Write a Python program to display the first and third colors from the following list. <br><br>\n",
    "color_list = [\"Red\",\"Green\",\"White\" ,\"Black\"]"
   ]
  },
  {
   "cell_type": "code",
   "execution_count": 45,
   "metadata": {},
   "outputs": [
    {
     "name": "stdout",
     "output_type": "stream",
     "text": [
      "Red, White\n"
     ]
    }
   ],
   "source": [
    "color_list = [\"Red\",\"Green\",\"White\" ,\"Black\"]\n",
    "\n",
    "print(f\"{color_list[0]}, {color_list[3-1]}\")"
   ]
  },
  {
   "cell_type": "markdown",
   "metadata": {},
   "source": [
    " **Exercise 1:** Write a Python program to convert temperatures to and from celsius, fahrenheit. <br><br>\n",
    "[ Formula : C = (F - 32) x 5/9  &emsp;(where C = temperature in celsius and F = temperature in fahrenheit) ]\n",
    "<br><br>\n",
    "<code>Expected Output:</code><br>\n",
    "60°C is 140 in Fahrenheit <br>\n",
    "45°F is 7 in Celsius <br>"
   ]
  },
  {
   "cell_type": "code",
   "execution_count": 25,
   "metadata": {},
   "outputs": [],
   "source": [
    "def F_to_C(x):\n",
    "    return (x-32)*(5/9)"
   ]
  },
  {
   "cell_type": "code",
   "execution_count": 26,
   "metadata": {},
   "outputs": [],
   "source": [
    "def C_to_F(x):\n",
    "    return (9/5)*x + 32"
   ]
  },
  {
   "cell_type": "code",
   "execution_count": 27,
   "metadata": {},
   "outputs": [
    {
     "data": {
      "text/plain": [
       "140.0"
      ]
     },
     "execution_count": 27,
     "metadata": {},
     "output_type": "execute_result"
    }
   ],
   "source": [
    "C_to_F(60)"
   ]
  },
  {
   "cell_type": "code",
   "execution_count": 28,
   "metadata": {},
   "outputs": [
    {
     "data": {
      "text/plain": [
       "7.222222222222222"
      ]
     },
     "execution_count": 28,
     "metadata": {},
     "output_type": "execute_result"
    }
   ],
   "source": [
    "F_to_C(45)"
   ]
  },
  {
   "cell_type": "markdown",
   "metadata": {},
   "source": [
    "**Exercise 2:** Calculate the mean of the following list: <br>\n",
    "<br>\n",
    "mylist = [10,20,30,40,100]\n",
    "<br>\n",
    "<br>\n",
    "<code>Expected Output:</code><br>\n",
    "mean = 40 "
   ]
  },
  {
   "cell_type": "code",
   "execution_count": 15,
   "metadata": {},
   "outputs": [],
   "source": [
    "def mean(mylist):\n",
    "    s = 0                   #  }\n",
    "    for element in mylist:  #  }  \n",
    "        s += element        #  } => sum(list)\n",
    "    return s / len(mylist)"
   ]
  },
  {
   "cell_type": "code",
   "execution_count": 14,
   "metadata": {},
   "outputs": [
    {
     "data": {
      "text/plain": [
       "40.0"
      ]
     },
     "execution_count": 14,
     "metadata": {},
     "output_type": "execute_result"
    }
   ],
   "source": [
    "mylist = [10,20,30,40,100]\n",
    "mean(mylist)"
   ]
  },
  {
   "cell_type": "markdown",
   "metadata": {},
   "source": [
    "**Exercise 3:** Write a Python program to calculate a cat's age in cat's years.<br>\n",
    "Note: For the first two years, a cat year is equal to 12.5 human years. After that, each cat year equals 6 human years.\n",
    "<br><br>\n",
    "<code>Expected Output:</code>\n",
    "<br>\n",
    "Input a cat's age in human years: 6                                    \n",
    "The cat's age in cat's years is 49"
   ]
  },
  {
   "cell_type": "code",
   "execution_count": 12,
   "metadata": {},
   "outputs": [
    {
     "data": {
      "text/plain": [
       "49.0"
      ]
     },
     "execution_count": 12,
     "metadata": {},
     "output_type": "execute_result"
    }
   ],
   "source": [
    "def calculate_years(age):\n",
    "    return min(2, age)*12.5 + max(0, age-2)*6\n",
    "\n",
    "calculate_years(6)"
   ]
  },
  {
   "cell_type": "markdown",
   "metadata": {},
   "source": [
    "**Exercise 4:** Write a Python program that prints all the numbers from 0 to 6 except 3 and 5."
   ]
  },
  {
   "cell_type": "code",
   "execution_count": 32,
   "metadata": {},
   "outputs": [
    {
     "name": "stdout",
     "output_type": "stream",
     "text": [
      "0\n",
      "1\n",
      "2\n",
      "4\n",
      "6\n"
     ]
    }
   ],
   "source": [
    "c_n = [3,5]\n",
    "\n",
    "for k in [i for i in range(0, 7) if i not in c_n]:\n",
    "    print(k)"
   ]
  },
  {
   "cell_type": "markdown",
   "metadata": {},
   "source": [
    "**Exercise 5:** Write a Python program which goes through all the numbers from 1 to 41. During this iterations, print \"multiple of 4\" for the multiples of four instead of the number and for the multiples of seven print \"multiple of 7\". For numbers which are multiples of both four and seven print \"multiple both\".\n",
    "<br>\n",
    "<code>Expected Output:</code><br>\n",
    "1<br>\n",
    "2<br>\n",
    "3<br>\n",
    "multiple of 4<br>\n",
    "5<br>\n",
    "6<br>\n",
    "multiple of 7<br>\n",
    "multiple of 4<br>\n",
    "..."
   ]
  },
  {
   "cell_type": "code",
   "execution_count": 20,
   "metadata": {},
   "outputs": [
    {
     "name": "stdout",
     "output_type": "stream",
     "text": [
      "1\n",
      "2\n",
      "3\n",
      "multiple of four\n",
      "5\n",
      "6\n",
      "multiple of seven\n",
      "multiple of four\n",
      "9\n",
      "10\n",
      "11\n",
      "multiple of four\n",
      "13\n",
      "multiple of seven\n",
      "15\n",
      "multiple of four\n",
      "17\n",
      "18\n",
      "19\n",
      "multiple of four\n",
      "multiple of seven\n",
      "22\n",
      "23\n",
      "multiple of four\n",
      "25\n",
      "26\n",
      "27\n",
      "multiple both\n",
      "29\n",
      "30\n",
      "31\n",
      "multiple of four\n",
      "33\n",
      "34\n",
      "multiple of seven\n",
      "multiple of four\n",
      "37\n",
      "38\n",
      "39\n",
      "multiple of four\n",
      "41\n"
     ]
    }
   ],
   "source": [
    "for i in range(1, 42):\n",
    "    cA = (i % 4 == 0)\n",
    "    cB = (i % 7 == 0)\n",
    "    \n",
    "    if cA and cB:\n",
    "        print(\"multiple both\")\n",
    "    elif cA:\n",
    "        print(\"multiple of four\")\n",
    "    elif cB:\n",
    "        print(\"multiple of seven\")\n",
    "    else:\n",
    "        print(i)"
   ]
  },
  {
   "cell_type": "markdown",
   "metadata": {},
   "source": [
    "**Exercise 6:** Print multiplication table from 1 to 10.\n",
    "<br>\n"
   ]
  },
  {
   "cell_type": "code",
   "execution_count": 25,
   "metadata": {},
   "outputs": [
    {
     "name": "stdout",
     "output_type": "stream",
     "text": [
      "| 1 | 2 | 3 | 4 | 5 | 6 | 7 | 8 | 9 | 10 | \n",
      "| 2 | 4 | 6 | 8 | 10 | 12 | 14 | 16 | 18 | 20 | \n",
      "| 3 | 6 | 9 | 12 | 15 | 18 | 21 | 24 | 27 | 30 | \n",
      "| 4 | 8 | 12 | 16 | 20 | 24 | 28 | 32 | 36 | 40 | \n",
      "| 5 | 10 | 15 | 20 | 25 | 30 | 35 | 40 | 45 | 50 | \n",
      "| 6 | 12 | 18 | 24 | 30 | 36 | 42 | 48 | 54 | 60 | \n",
      "| 7 | 14 | 21 | 28 | 35 | 42 | 49 | 56 | 63 | 70 | \n",
      "| 8 | 16 | 24 | 32 | 40 | 48 | 56 | 64 | 72 | 80 | \n",
      "| 9 | 18 | 27 | 36 | 45 | 54 | 63 | 72 | 81 | 90 | \n",
      "| 10 | 20 | 30 | 40 | 50 | 60 | 70 | 80 | 90 | 100 | \n"
     ]
    }
   ],
   "source": [
    "for i in range(1, 11):\n",
    "    print(\"\", end=\"| \")\n",
    "    for j in range(1, 11):\n",
    "        print(i*j, end=\" | \")\n",
    "    print()"
   ]
  },
  {
   "cell_type": "markdown",
   "metadata": {},
   "source": [
    "# <font size = \"5\"><font color='#BFD72F'>Numpy - Exercises</font><a class=\"anchor\" id=\"numpy\"></a>\n",
    " [Back to TOC](#toc)<br>"
   ]
  },
  {
   "cell_type": "code",
   "execution_count": 30,
   "metadata": {},
   "outputs": [],
   "source": [
    "import numpy as np"
   ]
  },
  {
   "cell_type": "markdown",
   "metadata": {},
   "source": [
    "**Exercise 7:  Create a vector with values ranging from 15 to 31 and reverse it.** \n"
   ]
  },
  {
   "cell_type": "code",
   "execution_count": 57,
   "metadata": {},
   "outputs": [
    {
     "data": {
      "text/plain": [
       "array([31, 30, 29, 28, 27, 26, 25, 24, 23, 22, 21, 20, 19, 18, 17, 16, 15])"
      ]
     },
     "execution_count": 57,
     "metadata": {},
     "output_type": "execute_result"
    }
   ],
   "source": [
    "np.arange(15,32)[::-1] #or\n",
    "np.flip(np.arange(15,32))"
   ]
  },
  {
   "cell_type": "markdown",
   "metadata": {},
   "source": [
    " **Exercise 8: Create the following matrix:**\n",
    "\n",
    "[1,2,3]\\\n",
    "[4,5,6]\\\n",
    "[3,2,1]\\\n",
    "[6,5,4]\n",
    "\n",
    "**and add a random constant vector to each row.** \n",
    "\n",
    "<br>"
   ]
  },
  {
   "cell_type": "code",
   "execution_count": 62,
   "metadata": {},
   "outputs": [
    {
     "data": {
      "text/plain": [
       "array([[1.5488135 , 2.71518937, 3.60276338],\n",
       "       [4.5488135 , 5.71518937, 6.60276338],\n",
       "       [3.5488135 , 2.71518937, 1.60276338],\n",
       "       [6.5488135 , 5.71518937, 4.60276338]])"
      ]
     },
     "execution_count": 62,
     "metadata": {},
     "output_type": "execute_result"
    }
   ],
   "source": [
    "M = np.array([\n",
    "    [1,2,3],\n",
    "    [4,5,6],\n",
    "    [3,2,1],\n",
    "    [6,5,4]\n",
    "])\n",
    "np.random.seed(0) # Replicability purposes\n",
    "\n",
    "rnd_vec2 = np.random.random(3)\n",
    "(M+rnd_vec2)"
   ]
  },
  {
   "cell_type": "code",
   "execution_count": null,
   "metadata": {},
   "outputs": [],
   "source": []
  }
 ],
 "metadata": {
  "kernelspec": {
   "display_name": "Python 3 (ipykernel)",
   "language": "python",
   "name": "python3"
  },
  "language_info": {
   "codemirror_mode": {
    "name": "ipython",
    "version": 3
   },
   "file_extension": ".py",
   "mimetype": "text/x-python",
   "name": "python",
   "nbconvert_exporter": "python",
   "pygments_lexer": "ipython3",
   "version": "3.11.5"
  }
 },
 "nbformat": 4,
 "nbformat_minor": 2
}
