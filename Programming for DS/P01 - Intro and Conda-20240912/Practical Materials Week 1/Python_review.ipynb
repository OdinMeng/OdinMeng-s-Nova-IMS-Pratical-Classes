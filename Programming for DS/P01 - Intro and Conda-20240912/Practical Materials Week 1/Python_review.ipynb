{
 "cells": [
  {
   "cell_type": "markdown",
   "id": "1cb6ad38",
   "metadata": {},
   "source": [
    "<b><font size=\"5\">Python Review</font></b>\n",
    "<br><br>\n",
    "\n",
    "This notebook is devoted towards reviewing the essential Python programming concepts and language mechanics. We will start by covering the basics of Python and, afterward, transition into Python's built-in data structures and files.\n",
    "\n",
    "\n",
    "<b><font font color='#BFD72F' size=\"5\">Why Python?</font></b>\n",
    "<br><br>\n",
    "\n",
    "Python is an <b>open-source</b>, <b>general-purpose</b> high-level programming language. Python’s popularity stems from its power and its ability to execute a variety of complex computations while while retaining simple and readable syntax. All relevant documentation is freely available using the link: https://www.python.org/doc/\n",
    "\n",
    "### <font color='#BFD72F'>Table of Contents </font> <a class=\"anchor\" id='toc'></a> \n",
    "\n",
    "- [1. Python Review](#1) \n",
    "    - [Variables](#1_1)\n",
    "    - [Mathematical Operators](#1_2)\n",
    "    - [Data Types](#1_3)\n",
    "    - [Simple String Methods](#1_4)\n",
    "- [2. Collection Data Types](#2)\n",
    "    - [Lists](#2_1)\n",
    "    - [Tuples](#2_2)\n",
    "    - [Dictionaries](#2_3)\n",
    "    - [Simple String Methods](#2_4)\n",
    "- [3. Control Flow](#3)\n",
    "    - [Conditions](#3_1)\n",
    "    - [For Loops](#3_2)\n",
    "    - [While Loops](#3_3)\n",
    "- [4. Functions](#4)\n",
    "    - [MultiIndex / Hierarquical Index](#4_1)\n",
    "    - [Variables](#4_2)\n",
    "    - [Recursion](#4_3)\n",
    "- [5. Bonus Content](#5)\n",
    "    - [Linear Search Algorithm](#5_1)\n",
    "    - [Binary Search Algorithm](#5_2)\n",
    "\n",
    "\n",
    "\n",
    "### <font color='#BFD72F'>Python Review </font> <a class=\"anchor\" id=\"1\"></a>\n",
    "  [Back to TOC](#toc)\n",
    "\n",
    "### Variables <a class=\"anchor\" id=\"1_1\"></a>\n",
    "\n",
    "Assigning a variable in Python creates a reference to the *objects* that are at the right of the equal sign. For the basics on variable assignment, consider the exercises presented below: \n",
    "\n",
    "<b>1. Create a variable with name \"x\" and a value of 10. Then, tell Jupyter to show you the value of \"x\".</b> "
   ]
  },
  {
   "cell_type": "code",
   "execution_count": null,
   "id": "2aa9c240",
   "metadata": {},
   "outputs": [],
   "source": [
    "x = 10\n",
    "print(x)"
   ]
  },
  {
   "cell_type": "markdown",
   "id": "96c8170d",
   "metadata": {},
   "source": [
    "Python allows multiple statements to be placed in a single line.\n",
    "\n",
    "<b>2. Create four new variables: a,b,c, and d, that are equal to 10, 20, 30, and 40, respectively. Then, tell Jupyter to show the value of b and d on the same cell</b>"
   ]
  },
  {
   "cell_type": "code",
   "execution_count": 5,
   "id": "18637449",
   "metadata": {},
   "outputs": [
    {
     "name": "stdout",
     "output_type": "stream",
     "text": [
      "b: 20 || d: 40\n"
     ]
    }
   ],
   "source": [
    "a = 10\n",
    "b = 20\n",
    "c = 30\n",
    "d = 40\n",
    "\n",
    "print(f\"b: {b} || d: {d}\")\n",
    "#CODE HERE"
   ]
  },
  {
   "cell_type": "markdown",
   "id": "463216ad",
   "metadata": {},
   "source": [
    "### Mathematical Operators <a class=\"anchor\" id=\"1_2\"></a>\n",
    "\n",
    "Python includes operators to perform the most basic Arithmetic operations:\n",
    "\n",
    "a. The plus operator '<b>+</b>' adds the two values on either side of the operator;\\\n",
    "b. The minus operator '<b>-</b>' subtracts the right hand operand from the left hand operand;\\\n",
    "c. The multiplication operator '<b>*</b>' multiplies values on either side of the operator;\\\n",
    "d. The exponent operator '<b>**</b>' performs the exponential (power) calculation on operators;\\\n",
    "e. The division operator '<b>/</b>' divides left hand operand by right hand operand;\\\n",
    "f. The modulus operator '<b>%</b>' divides left hand operand by right hand operand and returns remainder;\\\n",
    "g. The floor operator '<b>//</b>' division of operands where the result is the quotient in which the digits after the decimal point are removed. If one operand is negative, the result is floored, i.e., rounded away from zero (towards negative infinity);\n",
    "\n",
    "\n",
    "<b>3. Run the cell below to confirm the differences between different operators</b>"
   ]
  },
  {
   "cell_type": "code",
   "execution_count": 6,
   "id": "c3642052",
   "metadata": {},
   "outputs": [
    {
     "name": "stdout",
     "output_type": "stream",
     "text": [
      "4+5 = 9\n",
      "4-5 = -1\n",
      "4x4 = 16\n",
      "2^4 = 16\n",
      "65÷7 = 9.285714285714286\n",
      "modulus 65÷7 = 2\n",
      "floor 65÷7 = 9\n",
      "floor -65÷7 = -10\n"
     ]
    }
   ],
   "source": [
    "print('4+5 =',4 + 5) #plus \n",
    "print('4-5 =', 4 - 5) #minus\n",
    "print('4x4 =',4 * 4) #multiplication\n",
    "print('2^4 =',2 ** 4) #the exponent\n",
    "\n",
    "#Operators related with division\n",
    "print('65÷7 =',65 / 7) #division\n",
    "print('modulus 65÷7 =',65 % 7) #modulus\n",
    "print('floor 65÷7 =',65 // 7) #floor\n",
    "print('floor -65÷7 =', -65 // 7) #floor with negative numbers"
   ]
  },
  {
   "cell_type": "markdown",
   "id": "5c21a17d",
   "metadata": {},
   "source": [
    "### Python Data Types <a class=\"anchor\" id=\"1_3\"></a>\n",
    "\n",
    "Unlike other programming languages, Python does not require the declaration of a data type upon a variable's initial assignment. Based on the inserted values, the Python interpreter automatically decides which is the most approppriate data type.\n",
    "\n",
    "<b>4. Run the cells below to confirm differences between vanilla Python data types:</b>\n",
    "\n",
    "<br>4.1. Numeric data types<br>"
   ]
  },
  {
   "cell_type": "code",
   "execution_count": 10,
   "id": "babba3ca",
   "metadata": {
    "scrolled": true
   },
   "outputs": [
    {
     "name": "stdout",
     "output_type": "stream",
     "text": [
      "<class 'int'>\n",
      "<class 'float'>\n",
      "<class 'complex'>\n",
      "<class 'float'>\n"
     ]
    }
   ],
   "source": [
    "x = 3    # int\n",
    "y = 5.3  # float\n",
    "z = 1j   # complex\n",
    "print(type(x))\n",
    "print(type(y))\n",
    "print(type(z))\n",
    "\n",
    "# Oss.\n",
    "x_k = 3. # a float!!!!\n",
    "\n",
    "print(type(x_k))"
   ]
  },
  {
   "cell_type": "markdown",
   "id": "ea3eec6c",
   "metadata": {},
   "source": [
    "4.2. Strings and boolean data types"
   ]
  },
  {
   "cell_type": "code",
   "execution_count": 12,
   "id": "bcd9c809",
   "metadata": {},
   "outputs": [
    {
     "name": "stdout",
     "output_type": "stream",
     "text": [
      "<class 'str'>\n",
      "<class 'bool'>\n"
     ]
    }
   ],
   "source": [
    "string_1 = 'Hello world!\\'' #string; can be delimited with \" or ' (usually better with \")\n",
    "bool_1 = True #Boolean\n",
    "print(type(string_1))\n",
    "print(type(bool_1))"
   ]
  },
  {
   "cell_type": "markdown",
   "id": "04d1fa50",
   "metadata": {},
   "source": [
    "### Simple String Methods <a class=\"anchor\" id=\"1_4\"></a>\n",
    "\n",
    "The sum operation (+) isn't limited to numeric objects: it can be used, in some way, on most kinds of objects.\n",
    "\n",
    "One example of this is strings: you can <i>add</i> one string to the end of another.\n",
    "\n",
    "<b>5. Run the cell below to confirm that you can add one string to the end of another</b>"
   ]
  },
  {
   "cell_type": "code",
   "execution_count": null,
   "id": "0e6c6159",
   "metadata": {},
   "outputs": [],
   "source": [
    "string_2 = ' Good morning!'\n",
    "print(string_1 + string_2)"
   ]
  },
  {
   "cell_type": "markdown",
   "id": "542d00e3",
   "metadata": {},
   "source": [
    "You can also turn other objects into strings\n",
    "\n",
    "<b>6. Use `str()` to transform a numeric variable into a string, then show the transformation's data type</b>"
   ]
  },
  {
   "cell_type": "code",
   "execution_count": 15,
   "id": "126561a2",
   "metadata": {},
   "outputs": [
    {
     "name": "stdout",
     "output_type": "stream",
     "text": [
      "<class 'str'> 10\n"
     ]
    }
   ],
   "source": [
    "#CODE HERE\n",
    "xi = str(10)\n",
    "print(type(xi), xi)"
   ]
  },
  {
   "cell_type": "markdown",
   "id": "21c834d2",
   "metadata": {},
   "source": [
    "Thanks to the last two features, it's possible to make and manipulate strings based on any kind of results"
   ]
  },
  {
   "cell_type": "markdown",
   "id": "bc5073ee",
   "metadata": {},
   "source": [
    "### <font color='#BFD72F'>Collection data types </font> <a class=\"anchor\" id=\"2\"></a>\n",
    "  [Back to TOC](#toc)\n",
    "\n",
    "Python has several built-in types that are useful for storing and manipulating data: list, tuple, dict. Here is the official Python documentation on these types (as well as others): https://docs.python.org/3/ibrary/stdtypes.html.\n",
    "\n",
    "### Lists <a class=\"anchor\" id=\"2_1\"></a>\n",
    "\n",
    "Lists are mutable arrays that, in Python, are inside square brackets [], with the contents being separated by commas. Lists can contain multiple different objects such as integers, strings, and other lists as well. The address of each element within a list is called an <b>index</b>. An index is used to access and refer to items within a list. \n",
    "\n",
    "<b>1. Create a list called countries contaning \"Portugal\", \"Spain\", \"France\" and \"Belgium\"</b>"
   ]
  },
  {
   "cell_type": "code",
   "execution_count": 27,
   "id": "71888ca7",
   "metadata": {},
   "outputs": [],
   "source": [
    "countries = [\"Portugal\", \"Spain\", \"France\", \"Belgium\"]"
   ]
  },
  {
   "cell_type": "markdown",
   "id": "395d4a5f",
   "metadata": {},
   "source": [
    "<b>2. Use positive and negative indexing to identify each element in the list</b>"
   ]
  },
  {
   "cell_type": "code",
   "execution_count": 17,
   "id": "c408a172",
   "metadata": {},
   "outputs": [
    {
     "name": "stdout",
     "output_type": "stream",
     "text": [
      "Positive indexing: Portugal | Negative indexing: Portugal\n",
      "Positive indexing: Spain | Negative indexing: Spain\n",
      "Positive indexing: France | Negative indexing: France\n",
      "Positive indexing: Belgium | Negative indexing: Belgium\n"
     ]
    }
   ],
   "source": [
    "print('Positive indexing:', countries[0], '| Negative indexing:', countries[-4]) #Portugal\n",
    "print('Positive indexing:', countries[1], '| Negative indexing:', countries[-3]) #Spain\n",
    "print('Positive indexing:', countries[2], '| Negative indexing:', countries[-2]) #France\n",
    "print('Positive indexing:', countries[3], '| Negative indexing:', countries[-1]) #Belgium"
   ]
  },
  {
   "cell_type": "markdown",
   "id": "5301f918",
   "metadata": {},
   "source": [
    "List slicing is a useful way to access a slice of elements in a list.\n",
    "\n",
    "<b>3. Slice the list countries, only keeping Portugal and Spain</b>"
   ]
  },
  {
   "cell_type": "code",
   "execution_count": 18,
   "id": "93dff670",
   "metadata": {},
   "outputs": [
    {
     "data": {
      "text/plain": [
       "['Portugal', 'Spain']"
      ]
     },
     "execution_count": 18,
     "metadata": {},
     "output_type": "execute_result"
    }
   ],
   "source": [
    "countries[:2] #ending index is excluded from selection"
   ]
  },
  {
   "cell_type": "markdown",
   "id": "e08c4be0",
   "metadata": {},
   "source": [
    "<b>4. Slice the list countries, only keeping France and Belgium</b>"
   ]
  },
  {
   "cell_type": "code",
   "execution_count": 19,
   "id": "e4aa1e1b",
   "metadata": {},
   "outputs": [
    {
     "data": {
      "text/plain": [
       "['France', 'Belgium']"
      ]
     },
     "execution_count": 19,
     "metadata": {},
     "output_type": "execute_result"
    }
   ],
   "source": [
    "countries[2:] #starting index is included in selection"
   ]
  },
  {
   "cell_type": "markdown",
   "id": "ed9eb4f3",
   "metadata": {},
   "source": [
    "**Heuristical Rule.** Slicing is selecting the interval $[x, y)$\n",
    "\n",
    "<b>5. Slice the list countries, only keeping Spain and France</b>"
   ]
  },
  {
   "cell_type": "code",
   "execution_count": 20,
   "id": "8e3f341e",
   "metadata": {},
   "outputs": [
    {
     "data": {
      "text/plain": [
       "['Spain', 'France']"
      ]
     },
     "execution_count": 20,
     "metadata": {},
     "output_type": "execute_result"
    }
   ],
   "source": [
    "#CODE HERE\n",
    "countries[1:3]"
   ]
  },
  {
   "cell_type": "markdown",
   "id": "bd133d11",
   "metadata": {},
   "source": [
    "<b>6. Take a slice that contains all elements of countries</b>"
   ]
  },
  {
   "cell_type": "code",
   "execution_count": 22,
   "id": "69e07caf",
   "metadata": {},
   "outputs": [
    {
     "data": {
      "text/plain": [
       "['Portugal', 'Spain', 'France', 'Belgium']"
      ]
     },
     "execution_count": 22,
     "metadata": {},
     "output_type": "execute_result"
    }
   ],
   "source": [
    "#CODE HERE\n",
    "countries[:]"
   ]
  },
  {
   "cell_type": "markdown",
   "id": "bcc231e2",
   "metadata": {},
   "source": [
    "#### List methods\n",
    "\n",
    "A Python method is like a Python function, but it must be called on an object. Lists have their own methods, whose most popular methods include .sort() and .append() \n",
    "\n",
    "By default, the sort method sorts the list elements by ascending order.\n",
    "The append method adds new elements to the end of the list.\n",
    "\n",
    "<b>7. Use the append method to add 2 new countries to the list: \"Italy and \"Germany\". Sort all countries in descending order afterwards.</b>"
   ]
  },
  {
   "cell_type": "code",
   "execution_count": 28,
   "id": "e89fa759",
   "metadata": {},
   "outputs": [
    {
     "data": {
      "text/plain": [
       "['Spain', 'Portugal', 'Italy', 'Germany', 'France', 'Belgium']"
      ]
     },
     "execution_count": 28,
     "metadata": {},
     "output_type": "execute_result"
    }
   ],
   "source": [
    "#start by adding the new coutries\n",
    "countries.append(\"Italy\")\n",
    "countries.append(\"Germany\")\n",
    "\n",
    "#then use the sort method with reverse = True to sort in descending order \n",
    "countries.sort(reverse = True)\n",
    "\n",
    "#vizualize the list countries to check whether the changes occured\n",
    "countries"
   ]
  },
  {
   "cell_type": "markdown",
   "id": "a28ce432",
   "metadata": {},
   "source": [
    "Lists are mutable, which, among other things, also means that we can edit the contents at a specific location.\n",
    "\n",
    "<b>8. Edit the first element of list countries to \"United Kindgom\"</b>"
   ]
  },
  {
   "cell_type": "code",
   "execution_count": 29,
   "id": "e5807002",
   "metadata": {},
   "outputs": [
    {
     "data": {
      "text/plain": [
       "['United Kingdom', 'Portugal', 'Italy', 'Germany', 'France', 'Belgium']"
      ]
     },
     "execution_count": 29,
     "metadata": {},
     "output_type": "execute_result"
    }
   ],
   "source": [
    "countries[0] = \"United Kingdom\" #first position is position 0\n",
    "\n",
    "#print to confirm change\n",
    "countries"
   ]
  },
  {
   "cell_type": "markdown",
   "id": "12df875d",
   "metadata": {},
   "source": [
    "Lists are a very particular kind of object. Let's say you're creating a new variable (n), and to it you assign another variable (n = l), with a list (l) as a value.\n",
    "\n",
    "For most other objects, this new variable has the same value as the old variable once had. For lists, <i>the same list</i> will be accessible by calling either variable.\n",
    "\n",
    "To prevent this, you can save a copy of your list (a slice containing all of your list's elements) in your new variable.\n",
    "\n",
    "<b>9. Run the cells below to see what happens to the countries_same and the countries_copy lists when you edit the list countries</b>"
   ]
  },
  {
   "cell_type": "code",
   "execution_count": 31,
   "id": "3c5fbe7e",
   "metadata": {
    "scrolled": true
   },
   "outputs": [
    {
     "name": "stdout",
     "output_type": "stream",
     "text": [
      "countries : ['United Kingdom', 'Ireland', 'Italy', 'Germany', 'France', 'Belgium']\n",
      "countries_same : ['United Kingdom', 'Ireland', 'Italy', 'Germany', 'France', 'Belgium']\n",
      "countries_copy : ['United Kingdom', 'Ireland', 'Italy', 'Germany', 'France', 'Belgium']\n"
     ]
    }
   ],
   "source": [
    "countries_same = countries\n",
    "countries_copy = countries[:] # In this way, when we modify countries or countries_same, the copy WILL NOT be affected!\n",
    "\n",
    "countries[1] = \"Ireland\" #second position\n",
    "\n",
    "#print to confirm change\n",
    "print(\"countries :\",countries)\n",
    "print(\"countries_same :\",countries_same)\n",
    "print(\"countries_copy :\",countries_copy)"
   ]
  },
  {
   "cell_type": "markdown",
   "id": "24b7eb5b",
   "metadata": {},
   "source": [
    "### Tuples <a class=\"anchor\" id=\"2_2\"></a>\n",
    "\n",
    "A tuple is a fixed-length, immutable sequence of Python objects. Python tuples are enclosed between parentheses (). Tuples are semantically similar to lists and can be used interchangeably in many functions. However, <b>tuples are immutable objects, whereas lists are not</b>.\n",
    "\n",
    "<b>10. Create a new tuple called europe containing \"Portugal\", \"Spain\", \"France\" and \"Belgium\"</b>"
   ]
  },
  {
   "cell_type": "code",
   "execution_count": 32,
   "id": "a87b2220",
   "metadata": {},
   "outputs": [],
   "source": [
    "europe = (\"Portugal\", \"Spain\", \"France\", \"Belgium\")"
   ]
  },
  {
   "cell_type": "markdown",
   "id": "ed925a21",
   "metadata": {},
   "source": [
    "The syntax for slicing, accessing elements and getting the tuple length are the same as lists what we observed when using lists."
   ]
  },
  {
   "cell_type": "code",
   "execution_count": 33,
   "id": "d07ce667",
   "metadata": {},
   "outputs": [
    {
     "name": "stdout",
     "output_type": "stream",
     "text": [
      "Portugal\n",
      "4\n"
     ]
    }
   ],
   "source": [
    "print(europe[0])\n",
    "print(len(europe))"
   ]
  },
  {
   "cell_type": "markdown",
   "id": "2ab3d1e2",
   "metadata": {},
   "source": [
    "However, unlike lists, tuples do not support item re-assignment"
   ]
  },
  {
   "cell_type": "code",
   "execution_count": 34,
   "id": "2389aecc",
   "metadata": {},
   "outputs": [
    {
     "ename": "TypeError",
     "evalue": "'tuple' object does not support item assignment",
     "output_type": "error",
     "traceback": [
      "\u001b[1;31m---------------------------------------------------------------------------\u001b[0m",
      "\u001b[1;31mTypeError\u001b[0m                                 Traceback (most recent call last)",
      "Cell \u001b[1;32mIn[34], line 2\u001b[0m\n\u001b[0;32m      1\u001b[0m \u001b[38;5;66;03m#this cell will lead to an error, and the error is not caused by the UK no longer being in the European Union\u001b[39;00m\n\u001b[1;32m----> 2\u001b[0m europe[\u001b[38;5;241m-\u001b[39m\u001b[38;5;241m1\u001b[39m] \u001b[38;5;241m=\u001b[39m \u001b[38;5;124m\"\u001b[39m\u001b[38;5;124mUnited Kingdom\u001b[39m\u001b[38;5;124m\"\u001b[39m\n",
      "\u001b[1;31mTypeError\u001b[0m: 'tuple' object does not support item assignment"
     ]
    }
   ],
   "source": [
    "#this cell will lead to an error, and the error is not caused by the UK no longer being in the European Union\n",
    "europe[-1] = \"United Kingdom\""
   ]
  },
  {
   "cell_type": "markdown",
   "id": "be924067",
   "metadata": {},
   "source": [
    "### Dictionaries <a class=\"anchor\" id=\"2_3\"></a>\n",
    "\n",
    "Dictionaries are hash maps. They are created using two curly braces containing keys and values separated by a colon.\\\n",
    "Keys can be thought of as the numerical indexes of a list as they are used to access the values. For that reason, there can only be one single value for each key. However, multiple keys can hold the same value.\\\n",
    "Keys can only be strings, numbers, or tuples, but values can be any data type.\n",
    "\n",
    "<img src='lists vs dicts.png' width=\"600\" height=\"600\">\n",
    "\n",
    "<b>11. Run the cell below to create a dict called country_dict using \"Portugal\", \"Spain\", \"France\" and \"Belgium\" as keys and their respective capital cities as values.\\\n",
    "Use dict methods to identify a list of keys and a list of values. Then obtain the value associated with key \"Portugal\"</b>"
   ]
  },
  {
   "cell_type": "code",
   "execution_count": 36,
   "id": "fcdc0d8e",
   "metadata": {},
   "outputs": [
    {
     "name": "stdout",
     "output_type": "stream",
     "text": [
      "dict_keys(['Portugal', 'Spain', 'France', 'Belgium'])\n",
      "dict_values(['Lisbon', 'Madrid', 'Paris', 'Bruxelles'])\n",
      "Lisbon\n"
     ]
    }
   ],
   "source": [
    "#creating the country dict\n",
    "country_dict = {\n",
    "    \"Portugal\": \"Lisbon\", \n",
    "    \"Spain\": \"Madrid\", \n",
    "    \"France\": \"Paris\", \n",
    "    \"Belgium\": \"Bruxelles\"\n",
    "}\n",
    "\n",
    "print(country_dict.keys()) #Keys\n",
    "print(country_dict.values()) #values\n",
    "print(country_dict['Portugal']) #obtaining the value of key Portugal"
   ]
  },
  {
   "cell_type": "markdown",
   "id": "c0cb8916",
   "metadata": {},
   "source": [
    "We can add new *key-value* pairs to the dictionary by assigning values to a new key.\\\n",
    "Likewise, we can edit the values assigned to a key.\n",
    "\n",
    "<b>12. Add \"Italy\" to country_dict as a key and \"Rooome\" as a value. Then, update the value assigned to \"Italy\" with the proper name of the city \"Rome\" </b>"
   ]
  },
  {
   "cell_type": "code",
   "execution_count": 37,
   "id": "06365f55",
   "metadata": {},
   "outputs": [
    {
     "name": "stdout",
     "output_type": "stream",
     "text": [
      "Before edit: {'Portugal': 'Lisbon', 'Spain': 'Madrid', 'France': 'Paris', 'Belgium': 'Bruxelles', 'Italy': 'Rooome'}\n",
      "After edit: {'Portugal': 'Lisbon', 'Spain': 'Madrid', 'France': 'Paris', 'Belgium': 'Bruxelles', 'Italy': 'Rome'}\n"
     ]
    }
   ],
   "source": [
    "country_dict['Italy'] = \"Rooome\" #first assignment of value to country\n",
    "print(\"Before edit:\", country_dict)\n",
    "\n",
    "country_dict['Italy'] = \"Rome\" #update of value in country\n",
    "print(\"After edit:\", country_dict)"
   ]
  },
  {
   "cell_type": "markdown",
   "id": "c2505f29",
   "metadata": {},
   "source": [
    "### <font color='#BFD72F'>Control Flow </font> <a class=\"anchor\" id=\"3\"></a>\n",
    "  [Back to TOC](#toc)\n",
    "\n",
    "Python has several built-in keywords for conditional logic, loops, and other standard control flow concepts found in other programming languages. In this section, our main focus will be on:\n",
    "1. conditions laid out using the <b>if</b> statement \n",
    "2. the <b>for</b> loop\n",
    "3. the <b>while</b> loop \n",
    "\n",
    "For more information on Python control flow, read the docs: https://docs.python.org/3/tutorial/controlflow.html\n",
    "\n",
    "### Conditions <a class=\"anchor\" id=\"3_1\"></a>\n",
    "\n",
    "Python's <b>if</b> statement verifies whether a condition is <b>True</b> or <b>False</b>. If <b>True</b>, Python executes the code in the following indented block. If the statement is <b>False</b> the program will ignore the task.\n",
    "\n",
    "Let's create a simple statement that says:\n",
    "\"If a is greater than b, assign 2 to a and 4 to b\"\n",
    "\n",
    "Take a look at these two if statements (we will learn about building out if statements soon).\n",
    "\n",
    "**Version 1 (Other Languages)**\n",
    "\n",
    "    if (a>b){\n",
    "        a = 2;\n",
    "        b = 4;\n",
    "    }\n",
    "                        \n",
    "**Version 2 (Python)**   \n",
    "\n",
    "    if a>b:\n",
    "        a = 2\n",
    "        b = 4\n",
    "\n",
    "When in the presence of multiple conditional branches, <b>if</b> is complemented by the <b>elif</b> (else if) and the <b>else statements</b>.\n",
    "\n",
    "\n",
    "<b>1. Use conditional statements to portray the following situation in Python code:</b>\\\n",
    "An individual wants to watch a violent movie (18+) movie that is featured in the cinema.\\\n",
    "If that individual is of legal age, he will be allowed in.\\\n",
    "If not of legal but older than 16 years old, the individual will settle with the 16+ movie available.\\\n",
    "Otherwise, the individual will go back home and watch Netflix."
   ]
  },
  {
   "cell_type": "code",
   "execution_count": 38,
   "id": "a6c54e89",
   "metadata": {},
   "outputs": [
    {
     "name": "stdout",
     "output_type": "stream",
     "text": [
      "I will go home and watch Netflix\n"
     ]
    }
   ],
   "source": [
    "age = 15 #set a value for the age variable\n",
    "\n",
    "if age >= 18: #First condition\n",
    "    print(\"I will watch the 18+ movie\")\n",
    "elif age >= 16: #second condition, stated using else if\n",
    "    print(\"I will watch the 16+ movie\")\n",
    "else: #all other cases\n",
    "    print(\"I will go home and watch Netflix\")"
   ]
  },
  {
   "cell_type": "markdown",
   "id": "360e2930",
   "metadata": {},
   "source": [
    "Python verifies conditions sequentially. If more than one condition is <b>True</b>, Python will execute the first and not verify the following conditions.\n",
    "\n",
    "<b>2. Use conditions to verify whether a man who receives 900 €/month receives below 1000€/month. Then, create a second self-evident condition that naturally follows from the first (e.g. check whether the 900€ salary is also below a 1500€ monthly salary).</b> In addition, create an else statement.\n",
    "\n",
    "Note that only the code referring to the first true condition is executed."
   ]
  },
  {
   "cell_type": "code",
   "execution_count": 44,
   "id": "870a0eaa",
   "metadata": {},
   "outputs": [
    {
     "name": "stdout",
     "output_type": "stream",
     "text": [
      "bingo1\n"
     ]
    }
   ],
   "source": [
    "salary = 900 #assigning salary\n",
    "\n",
    "if salary < 1000:\n",
    "    print(\"bingo1\")\n",
    "elif salary < 1500:\n",
    "    print(\"bingo2\")\n",
    "else:\n",
    "    print(\"bongo\")"
   ]
  },
  {
   "cell_type": "markdown",
   "id": "fb89ce61",
   "metadata": {},
   "source": [
    "### For Loops <a class=\"anchor\" id=\"3_2\"></a>\n",
    "\n",
    "For loops iterate over a collection or an iterater. The particularity of the <b>for</b> loop is that it allow us to easily transverses sequentially each item in a collection data structure such as a list, tuple, set etc.\n",
    "\n",
    "<b>3. Create a for loop that prints numbers 0 through 4</b>"
   ]
  },
  {
   "cell_type": "code",
   "execution_count": 45,
   "id": "98925355",
   "metadata": {},
   "outputs": [
    {
     "name": "stdout",
     "output_type": "stream",
     "text": [
      "0\n",
      "1\n",
      "2\n",
      "3\n",
      "4\n"
     ]
    }
   ],
   "source": [
    "# Basic for loop\n",
    "for i in range(5):\n",
    "    print(i)"
   ]
  },
  {
   "cell_type": "markdown",
   "id": "aa36b3e4",
   "metadata": {},
   "source": [
    "<b>4. Print all elements in the list countries using a for loop</b>"
   ]
  },
  {
   "cell_type": "code",
   "execution_count": 46,
   "id": "27f23477",
   "metadata": {},
   "outputs": [
    {
     "name": "stdout",
     "output_type": "stream",
     "text": [
      "United Kingdom\n",
      "Ireland\n",
      "Italy\n",
      "Germany\n",
      "France\n",
      "Belgium\n"
     ]
    }
   ],
   "source": [
    "for country in countries: #iterating within a list\n",
    "    print(country)"
   ]
  },
  {
   "cell_type": "markdown",
   "id": "b245258b",
   "metadata": {},
   "source": [
    "<b>5. Iterate through the country_dict to print the different keys</b>"
   ]
  },
  {
   "cell_type": "code",
   "execution_count": 49,
   "id": "a2600fbb",
   "metadata": {},
   "outputs": [
    {
     "name": "stdout",
     "output_type": "stream",
     "text": [
      "country: Portugal -> capital: Lisbon\n",
      "country: Spain -> capital: Madrid\n",
      "country: France -> capital: Paris\n",
      "country: Belgium -> capital: Bruxelles\n",
      "country: Italy -> capital: Rome\n"
     ]
    }
   ],
   "source": [
    "for country in country_dict:\n",
    "    print(f\"country: {country} -> capital: {country_dict[country]}\")"
   ]
  },
  {
   "cell_type": "markdown",
   "id": "65861e66",
   "metadata": {},
   "source": [
    "\n",
    "A useful application toward for loops is element-wise pairing with a dictionary.\n",
    "\n",
    "<b>6. Create a list called <i>capitals</i> with the capital city for each country in the list *countries* - \"London\", \"Lisbon\", \"Italy\", \"Berlin\", \"Paris\", and \"Brussels\". This cell will then create a new dictionary, where eack key is a country and the corresponding value is the country's capital</b> "
   ]
  },
  {
   "cell_type": "code",
   "execution_count": 52,
   "id": "4615ccd5",
   "metadata": {},
   "outputs": [
    {
     "name": "stdout",
     "output_type": "stream",
     "text": [
      "{'United Kingdom': 'London', 'Ireland': 'Lisbon', 'Italy': 'Italy', 'Germany': 'Berlin', 'France': 'Paris', 'Belgium': 'Brussels'}\n"
     ]
    }
   ],
   "source": [
    "#first, create a list with the capital cities for each of countries in the list countries\n",
    "capitals = ['London', 'Lisbon', 'Italy', 'Berlin', 'Paris', 'Brussels']\n",
    "\n",
    "new_country_dict = {} #creates a new empty dict\n",
    "for key, value in zip(countries, capitals):\n",
    "    new_country_dict[key] = value\n",
    "    \n",
    "print(new_country_dict)"
   ]
  },
  {
   "cell_type": "markdown",
   "id": "d4592104",
   "metadata": {},
   "source": [
    "### While Loops <a class=\"anchor\" id=\"3_3\"></a>\n",
    "\n",
    "With the <b>while</b> loop we can execute a sequence of statements as long as a condition is <b>True</b>.\n",
    "\n",
    "<b>7. Create a while loop that prints numbers 0 through 4</b>"
   ]
  },
  {
   "cell_type": "code",
   "execution_count": 53,
   "id": "eee29064",
   "metadata": {},
   "outputs": [
    {
     "name": "stdout",
     "output_type": "stream",
     "text": [
      "0\n",
      "1\n",
      "2\n",
      "3\n",
      "4\n"
     ]
    }
   ],
   "source": [
    "num = 0\n",
    "\n",
    "while num < 5:\n",
    "    print(num)\n",
    "    num += 1"
   ]
  },
  {
   "cell_type": "markdown",
   "id": "6faabb69",
   "metadata": {},
   "source": [
    "<b>8. Print all elements in the list countries using a while loop</b>"
   ]
  },
  {
   "cell_type": "code",
   "execution_count": 54,
   "id": "b2d5e101",
   "metadata": {},
   "outputs": [
    {
     "name": "stdout",
     "output_type": "stream",
     "text": [
      "United Kingdom\n",
      "Ireland\n",
      "Italy\n",
      "Germany\n",
      "France\n",
      "Belgium\n"
     ]
    }
   ],
   "source": [
    "i=0\n",
    "while 1:\n",
    "    try:\n",
    "        print(countries[i])\n",
    "        i+=1\n",
    "    except:\n",
    "        break"
   ]
  },
  {
   "cell_type": "markdown",
   "id": "3317eede",
   "metadata": {},
   "source": [
    "While loops are suited to situations where you will only iterate based on whether a condition is true or not.\n",
    "\n",
    "<b>9. Run the next cell to iterate through the country list to print the names of the countries until the total amount of characters in the country names is higher than 25</b> "
   ]
  },
  {
   "cell_type": "code",
   "execution_count": 55,
   "id": "6d3205e2",
   "metadata": {},
   "outputs": [
    {
     "name": "stdout",
     "output_type": "stream",
     "text": [
      "United Kingdom\n",
      "Ireland\n",
      "Italy\n"
     ]
    }
   ],
   "source": [
    "letters = 0\n",
    "indexx = 0\n",
    "\n",
    "while letters < 26:\n",
    "    country = countries[indexx]\n",
    "    print(country)\n",
    "    indexx += 1\n",
    "    letters += len(country)"
   ]
  },
  {
   "cell_type": "markdown",
   "id": "33eea82e",
   "metadata": {},
   "source": [
    "### <font color='#BFD72F'>Functions </font> <a class=\"anchor\" id=\"4\"></a>\n",
    "  [Back to TOC](#toc)\n",
    "\n",
    "\n",
    "For longer programs it's often necessary to perform a specific task multiple times. For this purpose, <i>functions</i> are used.\n",
    "\n",
    "In a function, a task or group of tasks are defined, and when the function is called, the task(s) is/are executed.\n",
    "\n",
    "An important aspect of functions is the <i>return</i> instruction. With it, the function produces one or more outputs after being called, and these outputs can be saved in variables.\n",
    "\n",
    "### Basic Functions <a class=\"anchor\" id=\"4_1\"></a>\n",
    "\n",
    "<b>1. Create a function that prints \"Hello world!\"</b> "
   ]
  },
  {
   "cell_type": "code",
   "execution_count": 56,
   "id": "0db41714",
   "metadata": {},
   "outputs": [
    {
     "name": "stdout",
     "output_type": "stream",
     "text": [
      "Hello world!\n"
     ]
    }
   ],
   "source": [
    "def hello_print():\n",
    "    print('Hello world!')\n",
    "\n",
    "hello_print()"
   ]
  },
  {
   "cell_type": "markdown",
   "id": "7228b5a7",
   "metadata": {},
   "source": [
    "<b>2. Create a function that returns the string \"Hello world!\"</b> "
   ]
  },
  {
   "cell_type": "code",
   "execution_count": 57,
   "id": "557d5515",
   "metadata": {},
   "outputs": [
    {
     "name": "stdout",
     "output_type": "stream",
     "text": [
      "Hello world!\n"
     ]
    }
   ],
   "source": [
    "def hello_return():\n",
    "    return 'Hello world!'\n",
    "\n",
    "print(hello_return())"
   ]
  },
  {
   "cell_type": "markdown",
   "id": "b01c63dd",
   "metadata": {},
   "source": [
    "**2.1** Store the results of functions `hello_print` and `hello_return` in different variables. Then, call the variables. Do they return the same results?"
   ]
  },
  {
   "cell_type": "code",
   "execution_count": 61,
   "id": "069b5460",
   "metadata": {},
   "outputs": [
    {
     "name": "stdout",
     "output_type": "stream",
     "text": [
      "Hello world!\n"
     ]
    },
    {
     "data": {
      "text/plain": [
       "(None, 'Hello world!')"
      ]
     },
     "execution_count": 61,
     "metadata": {},
     "output_type": "execute_result"
    }
   ],
   "source": [
    "x = hello_print()\n",
    "y = hello_return()\n",
    "\n",
    "\n",
    "x,y"
   ]
  },
  {
   "cell_type": "markdown",
   "id": "c3f41007",
   "metadata": {},
   "source": [
    "### Variables <a class=\"anchor\" id=\"4_2\"></a>\n",
    "\n",
    "\n",
    "Often, inputs are passed into functions. This is a vital aspect of functions, as it enables the use and transformation of variables in several ways. \\\n",
    "However, you need to call the function with the approproate amount of variables.\n",
    "\n",
    "<b>3. Create a function that prints any input</b> "
   ]
  },
  {
   "cell_type": "code",
   "execution_count": 89,
   "id": "9d908e00",
   "metadata": {},
   "outputs": [
    {
     "name": "stdout",
     "output_type": "stream",
     "text": [
      "Something\n",
      "<__main__.G object at 0x0000020D87F0F650>\n"
     ]
    }
   ],
   "source": [
    "def printer(something: str): # type security is not a strength here....\n",
    "    print(something)\n",
    "\n",
    "printer('Something')\n",
    "\n",
    "class G:\n",
    "    def __init__(self):\n",
    "        return\n",
    "\n",
    "g_int = G()\n",
    "    \n",
    "printer(g_int)\n"
   ]
  },
  {
   "cell_type": "markdown",
   "id": "fa457484",
   "metadata": {},
   "source": [
    "<b>4. Create a function that returns the sum of two items. Then, use it to get the sum of 3 and 4, and save the result to a variable</b> "
   ]
  },
  {
   "cell_type": "code",
   "execution_count": 63,
   "id": "17b3b22c",
   "metadata": {},
   "outputs": [
    {
     "name": "stdout",
     "output_type": "stream",
     "text": [
      "7\n"
     ]
    }
   ],
   "source": [
    "def sum(x,y):\n",
    "    return x+y\n",
    "\n",
    "the_sum = sum(3,4)\n",
    "print(the_sum)"
   ]
  },
  {
   "cell_type": "markdown",
   "id": "4de76e42",
   "metadata": {},
   "source": [
    "<b>5. Create a function that prints an input, followed by the string \", but cooler\"</b> "
   ]
  },
  {
   "cell_type": "code",
   "execution_count": 90,
   "id": "9df988fa",
   "metadata": {},
   "outputs": [
    {
     "name": "stdout",
     "output_type": "stream",
     "text": [
      "Something, but cooler\n"
     ]
    }
   ],
   "source": [
    "def cooler_printer(something):\n",
    "    print(str(something) + ', but cooler')\n",
    "\n",
    "cooler_printer('Something')"
   ]
  },
  {
   "cell_type": "markdown",
   "id": "c0923b00",
   "metadata": {},
   "source": [
    "Parameters can have default values. Therefore, when they're called, if a parameter doesn't receive a corresponding output, a default value can be used instead. \\\n",
    "You can do this by writing an input as such: <i>def function(input = something)</i>\n",
    "\n",
    "<b>6. Create a function that prints an input if an input is passed to it, and prints \"No input\" otherwise.</b> "
   ]
  },
  {
   "cell_type": "code",
   "execution_count": 92,
   "id": "33efb17e",
   "metadata": {},
   "outputs": [
    {
     "name": "stdout",
     "output_type": "stream",
     "text": [
      "Something\n",
      "No input\n"
     ]
    }
   ],
   "source": [
    "def default_printer(something=\"No input\"):\n",
    "    print(something)\n",
    "\n",
    "default_printer('Something')\n",
    "default_printer()"
   ]
  },
  {
   "cell_type": "markdown",
   "id": "6cb9344d",
   "metadata": {},
   "source": [
    "<b>7. Create a function that prints every item of an iterable object (a string, a list, a tuple, and so on)</b> "
   ]
  },
  {
   "cell_type": "code",
   "execution_count": 93,
   "id": "63896d45",
   "metadata": {},
   "outputs": [
    {
     "name": "stdout",
     "output_type": "stream",
     "text": [
      "5\n",
      "4\n",
      "3\n",
      "2\n",
      "1\n"
     ]
    }
   ],
   "source": [
    "def iterable_printer(iterable):\n",
    "    for item in iterable:\n",
    "        print(item)\n",
    "\n",
    "iterable_printer([5,4,3,2,1])"
   ]
  },
  {
   "cell_type": "markdown",
   "id": "cbe8dc8b",
   "metadata": {},
   "source": [
    "### Recursion <a class=\"anchor\" id=\"4_3\"></a>\n",
    "\n",
    "As shown in the last exercise, you can have an iterative loop in a function. But sometimes it's more convenient to create a <i>recursive</i> function.\\\n",
    " In a recursive function, a possible return value is calling the function itself. Therefore, the function is called continuously until a stopping condition, defined within the function itself, is reached. \n",
    "\n",
    "<b>8. Create a function that prints every item of an iterable object using recursion</b> "
   ]
  },
  {
   "cell_type": "code",
   "execution_count": 99,
   "id": "0d87600e",
   "metadata": {},
   "outputs": [
    {
     "name": "stdout",
     "output_type": "stream",
     "text": [
      "5\n",
      "4\n",
      "3\n",
      "2\n",
      "1\n"
     ]
    }
   ],
   "source": [
    "def recursive_printer(recursive):\n",
    "    if recursive == []:\n",
    "        return\n",
    "    \n",
    "    else:\n",
    "        print(recursive[0])\n",
    "        recursive_printer(recursive[1:])\n",
    "\n",
    "recursive_printer([5,4,3,2,1])"
   ]
  },
  {
   "cell_type": "markdown",
   "id": "e5f5ad9b",
   "metadata": {},
   "source": [
    "### <font color='#BFD72F'>Bonus Content: Search Algorithms From Scratch </font> <a class=\"anchor\" id=\"5\"></a>\n",
    "  [Back to TOC](#toc)\n",
    "\n",
    "\n",
    "### Linear Search <a class=\"anchor\" id=\"5_1\"></a>\n",
    "\n",
    "Linear search is a search algorithm used to find whether a value is part of e.g. a list. It starts at one end of the array and  iterates through every value until it either finds the intended value or the array ends.\\\n",
    "Using the concepts discussed throughout this notebook, create a function that implements linear search on a list."
   ]
  },
  {
   "cell_type": "code",
   "execution_count": 103,
   "id": "ad587679",
   "metadata": {},
   "outputs": [],
   "source": [
    "def linear_search(t, L):\n",
    "    for l in L:\n",
    "        if l == t:\n",
    "            return 1\n",
    "        \n",
    "    return 0"
   ]
  },
  {
   "cell_type": "markdown",
   "id": "b25cb1d5",
   "metadata": {},
   "source": [
    "Verify whether the function can find values in the list below:"
   ]
  },
  {
   "cell_type": "code",
   "execution_count": 104,
   "id": "1e1437b4",
   "metadata": {
    "scrolled": true
   },
   "outputs": [
    {
     "name": "stdout",
     "output_type": "stream",
     "text": [
      "1\n",
      "1\n",
      "0\n"
     ]
    }
   ],
   "source": [
    "search_list = [3,5,6,7,8,343,232,121,323,546,546464,74,454,432,232,45346,778,5,9,66]\n",
    "\n",
    "print(linear_search(9,search_list))\n",
    "print(linear_search(66,search_list))\n",
    "print(linear_search(65,search_list))"
   ]
  },
  {
   "cell_type": "markdown",
   "id": "ee49cc98",
   "metadata": {},
   "source": [
    "Although it is a simple concept, linear search is very inneficient because it requires the algorithm to look from the start to the end of the list.\\\n",
    "The time it takes is not a problem if the list is 10 items long, but it may become problematic with longer lists, especially if the search result is present at the end of the list.\n",
    "\n",
    "Time complexity: $O(n)$"
   ]
  },
  {
   "cell_type": "code",
   "execution_count": 108,
   "id": "1b68d9a8",
   "metadata": {},
   "outputs": [
    {
     "name": "stdout",
     "output_type": "stream",
     "text": [
      "399 µs ± 11.6 µs per loop (mean ± std. dev. of 7 runs, 1,000 loops each)\n"
     ]
    }
   ],
   "source": [
    "%%timeit\n",
    "linear_search(10000, list(range(10001))) #sample run in list with 10000 elements"
   ]
  },
  {
   "cell_type": "markdown",
   "id": "373e3260",
   "metadata": {},
   "source": [
    "### Binary Search <a class=\"anchor\" id=\"5_2\"></a>\n",
    "\n",
    "Binary search fulfills the same role as linear search, but it follows an alternative route. It requires a sorted list.\\\n",
    "The first step is looking at the median value.\\\n",
    "Then, it decides whether the item we are looking for is smaller (and consequently before) or greater than (and consequently after) the current median value.\\\n",
    "After making the decision, binary search discards the half that serves no future purpose and repeats the process until it finds the value of interest.\\\n",
    "Using the concepts discussed throughout this notebook, create a function that implements binary search on a list."
   ]
  },
  {
   "cell_type": "code",
   "execution_count": 109,
   "id": "0ba34c58",
   "metadata": {},
   "outputs": [],
   "source": [
    "def binary_search(item,my_list):\n",
    "    '''Sample implementation of binary search'''\n",
    "    found = False\n",
    "    first = 0\n",
    "    last = len(my_list)-1\n",
    "    \n",
    "    while first <= last and found == False:\n",
    "        midpoint = (first+last)//2\n",
    "        if my_list[midpoint] == item:\n",
    "            found = True\n",
    "            #print('found it', midpoint, my_list[midpoint])\n",
    "        else:\n",
    "        #if the item is larger than midpoint, we can make it so that the new first is now the midpoint   \n",
    "            if my_list[midpoint] < item:\n",
    "                \n",
    "                first = midpoint + 1\n",
    "                #print('Found it', midpoint, my_list[midpoint])\n",
    "            else:\n",
    "       # if the item is lower, now we only have to look in the first half, which means that last is now the midpoint          \n",
    "                last = midpoint - 1\n",
    "                #print('FOUND IT', midpoint, my_list[midpoint])\n",
    "    \n",
    "    return found\n",
    "\n",
    "binary_search?"
   ]
  },
  {
   "cell_type": "code",
   "execution_count": 106,
   "id": "b199fdc8",
   "metadata": {},
   "outputs": [
    {
     "name": "stdout",
     "output_type": "stream",
     "text": [
      "True\n",
      "True\n",
      "False\n"
     ]
    }
   ],
   "source": [
    "search_list.sort() #binary search works best with sorted lists\n",
    "\n",
    "#tests\n",
    "print(binary_search(9,search_list))\n",
    "print(binary_search(66,search_list))\n",
    "print(binary_search(65,search_list))"
   ]
  },
  {
   "cell_type": "markdown",
   "id": "96aa9049",
   "metadata": {},
   "source": [
    "Note that binary search is much faster than linear search. Time complexity: $O(\\log(n))$"
   ]
  },
  {
   "cell_type": "code",
   "execution_count": 107,
   "id": "43071c61",
   "metadata": {},
   "outputs": [
    {
     "name": "stdout",
     "output_type": "stream",
     "text": [
      "157 µs ± 3.04 µs per loop (mean ± std. dev. of 7 runs, 10,000 loops each)\n"
     ]
    }
   ],
   "source": [
    "%%timeit\n",
    "binary_search(10000, list(range(10001))) #sample run in list with 10000 elements"
   ]
  },
  {
   "cell_type": "markdown",
   "id": "71180695",
   "metadata": {},
   "source": [
    "## End"
   ]
  }
 ],
 "metadata": {
  "kernelspec": {
   "display_name": "Python 3 (ipykernel)",
   "language": "python",
   "name": "python3"
  },
  "language_info": {
   "codemirror_mode": {
    "name": "ipython",
    "version": 3
   },
   "file_extension": ".py",
   "mimetype": "text/x-python",
   "name": "python",
   "nbconvert_exporter": "python",
   "pygments_lexer": "ipython3",
   "version": "3.11.5"
  },
  "vscode": {
   "interpreter": {
    "hash": "fe7e48d77119a5ba7a7b050ada3b9a518b47e3513256f2007e0ba3e3513bf1fd"
   }
  }
 },
 "nbformat": 4,
 "nbformat_minor": 5
}
